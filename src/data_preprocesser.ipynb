{
 "cells": [
  {
   "cell_type": "code",
   "execution_count": 2,
   "id": "851e0fa6-04e0-4dcc-8558-7fa24f3385e9",
   "metadata": {},
   "outputs": [
    {
     "name": "stdout",
     "output_type": "stream",
     "text": [
      "✅ 설치 완료!\n"
     ]
    }
   ],
   "source": [
    "import cv2\n",
    "import mediapipe as mp\n",
    "import numpy as np\n",
    "import pandas as pd\n",
    "from tqdm import tqdm\n",
    "\n",
    "print(\"✅ 설치 완료!\")"
   ]
  },
  {
   "cell_type": "code",
   "execution_count": 3,
   "id": "146a5026-0451-4874-8252-6ebd789594bf",
   "metadata": {},
   "outputs": [],
   "source": [
    "import os\n",
    "from pathlib import Path"
   ]
  },
  {
   "cell_type": "code",
   "execution_count": 6,
   "id": "6b71dd79-6e66-4522-89c3-b1f1a4507f5e",
   "metadata": {},
   "outputs": [],
   "source": [
    "# 프로젝트 구조 기준 경로 설정\n",
    "BASE_DIR = Path.cwd().parent # src/data_preprocesser/에서 한 단계 위\n",
    "RAW_DIR = BASE_DIR / \"data\" / \"raw\" / \"LE2i\"\n",
    "PROCESSED_DIR = BASE_DIR / \"data\" / \"processed\"\n",
    "\n",
    "# processed 하위 폴더 생성\n",
    "(PROCESSED_DIR / \"keypoints\").mkdir(parents=True, exist_ok=True)\n",
    "(PROCESSED_DIR / \"videos\").mkdir(parents=True, exist_ok=True)"
   ]
  },
  {
   "cell_type": "code",
   "execution_count": 5,
   "id": "7ae513ae-3034-425b-b0c6-8533993f93dd",
   "metadata": {},
   "outputs": [],
   "source": [
    "# MediaPipe pose 모델 초기화\n",
    "mp_pose = mp.solutions.pose\n",
    "pose = mp_pose.Pose(static_image_mode=False,\n",
    "                    model_complexity=1,\n",
    "                    enable_segmentation=False,\n",
    "                    min_detection_confidence=0.5,\n",
    "                    min_tracking_confidence=0.5)\n",
    "\n",
    "draw = mp.solutions.drawing_utils"
   ]
  },
  {
   "cell_type": "code",
   "execution_count": 6,
   "id": "b5156df3-c446-4f10-b167-971a1b9d2040",
   "metadata": {},
   "outputs": [],
   "source": [
    "def read_annotation(annotation_path):\n",
    "    \"\"\"LE2i 어노테이션 파일에서 낙상 시작/종료 프레임 읽기\"\"\"\n",
    "    with open(annotation_path, 'r') as f:\n",
    "        lines = f.readlines()\n",
    "\n",
    "    start_frame = int(lines[0].strip())\n",
    "    end_frame = int(lines[1].strip())\n",
    "\n",
    "    if start_frame == 0 and end_frame == 0:\n",
    "        return None  # 낙상 없음\n",
    "    return (start_frame, end_frame)"
   ]
  },
  {
   "cell_type": "code",
   "execution_count": 12,
   "id": "7207a329-60df-4785-ac28-bcd94716f64a",
   "metadata": {},
   "outputs": [],
   "source": [
    "def process_video(video_path, annotation_path, save_keypoints_path, save_video_path=None):\n",
    "    cap = cv2.VideoCapture(str(video_path))\n",
    "    keypoints_all = []\n",
    "\n",
    "    # 어노테이션 읽기\n",
    "    fall_range = read_annotation(annotation_path)\n",
    "    \n",
    "    # 비디오 저장 설정\n",
    "    out = None\n",
    "    if save_video_path:\n",
    "        fourcc = cv2.VideoWriter_fourcc(*'XVID')\n",
    "        fps = cap.get(cv2.CAP_PROP_FPS)\n",
    "        w, h = int(cap.get(3)), int(cap.get(4))\n",
    "        out = cv2.VideoWriter(str(save_video_path), fourcc, fps, (w, h))\n",
    "\n",
    "    frame_idx = 0\n",
    "    while True:\n",
    "        ret, frame = cap.read()\n",
    "        if not ret:\n",
    "            break\n",
    "        \n",
    "        # RGB 변환 (MediaPipe는 RGB 입력)\n",
    "        rgb_frame = cv2.cvtColor(frame, cv2.COLOR_BGR2RGB)\n",
    "        results = pose.process(rgb_frame)\n",
    "        \n",
    "        if results.pose_landmarks:\n",
    "            frame_keypoints = [[lm.x, lm.y, lm.z, lm.visibility] for lm in results.pose_landmarks.landmark]\n",
    "        else:\n",
    "            frame_keypoints = [[0, 0, 0, 0]] * 33  # 사람 감지 안됨\n",
    "\n",
    "        # 낙상 라벨 추가 (0: 정상, 1: 낙상)\n",
    "        if fall_range:\n",
    "            label = 1 if fall_range[0] <= frame_idx <= fall_range[1] else 0\n",
    "        else:\n",
    "            label = 0\n",
    "\n",
    "        keypoints_all.append({\"frame\": frame_idx, \"label\": label, \"keypoints\": frame_keypoints})\n",
    "\n",
    "        # 영상에 표시\n",
    "        if out:\n",
    "            if results.pose_landmarks:\n",
    "                draw.draw_landmarks(frame, results.pose_landmarks, mp_pose.POSE_CONNECTIONS)\n",
    "            if label == 1:\n",
    "                cv2.putText(frame, \"FALL\", (50, 50), cv2.FONT_HERSHEY_SIMPLEX, 1.2, (0, 0, 255), 3)\n",
    "            out.write(frame)\n",
    "        \n",
    "        frame_idx += 1\n",
    "\n",
    "    cap.release()\n",
    "    if out:\n",
    "        out.release()\n",
    "    \n",
    "    # keypoints json 저장\n",
    "    with open(save_keypoints_path, 'w') as f:\n",
    "        json.dump(keypoints_all, f)\n",
    "    \n",
    "    print(f\"Processed {video_path.name}, frames: {frame_idx}\")\n"
   ]
  },
  {
   "cell_type": "code",
   "execution_count": 25,
   "id": "8258da5d-06f0-4ac9-b4fc-e84d9bd1ab96",
   "metadata": {
    "scrolled": true
   },
   "outputs": [
    {
     "name": "stdout",
     "output_type": "stream",
     "text": [
      "⚠️ Skipped (already exists): C:\\Users\\un747\\capstone1_AI\\data\\processed\\keypoints\\Coffee_room_01_video (1).json\n",
      "⚠️ Skipped (already exists): C:\\Users\\un747\\capstone1_AI\\data\\processed\\keypoints\\Coffee_room_01_video (10).json\n",
      "⚠️ Skipped (already exists): C:\\Users\\un747\\capstone1_AI\\data\\processed\\keypoints\\Coffee_room_01_video (11).json\n",
      "⚠️ Skipped (already exists): C:\\Users\\un747\\capstone1_AI\\data\\processed\\keypoints\\Coffee_room_01_video (12).json\n",
      "⚠️ Skipped (already exists): C:\\Users\\un747\\capstone1_AI\\data\\processed\\keypoints\\Coffee_room_01_video (13).json\n",
      "⚠️ Skipped (already exists): C:\\Users\\un747\\capstone1_AI\\data\\processed\\keypoints\\Coffee_room_01_video (14).json\n",
      "⚠️ Skipped (already exists): C:\\Users\\un747\\capstone1_AI\\data\\processed\\keypoints\\Coffee_room_01_video (15).json\n",
      "⚠️ Skipped (already exists): C:\\Users\\un747\\capstone1_AI\\data\\processed\\keypoints\\Coffee_room_01_video (16).json\n",
      "⚠️ Skipped (already exists): C:\\Users\\un747\\capstone1_AI\\data\\processed\\keypoints\\Coffee_room_01_video (17).json\n",
      "⚠️ Skipped (already exists): C:\\Users\\un747\\capstone1_AI\\data\\processed\\keypoints\\Coffee_room_01_video (18).json\n",
      "⚠️ Skipped (already exists): C:\\Users\\un747\\capstone1_AI\\data\\processed\\keypoints\\Coffee_room_01_video (19).json\n",
      "⚠️ Skipped (already exists): C:\\Users\\un747\\capstone1_AI\\data\\processed\\keypoints\\Coffee_room_01_video (2).json\n",
      "⚠️ Skipped (already exists): C:\\Users\\un747\\capstone1_AI\\data\\processed\\keypoints\\Coffee_room_01_video (20).json\n",
      "⚠️ Skipped (already exists): C:\\Users\\un747\\capstone1_AI\\data\\processed\\keypoints\\Coffee_room_01_video (21).json\n",
      "⚠️ Skipped (already exists): C:\\Users\\un747\\capstone1_AI\\data\\processed\\keypoints\\Coffee_room_01_video (22).json\n",
      "⚠️ Skipped (already exists): C:\\Users\\un747\\capstone1_AI\\data\\processed\\keypoints\\Coffee_room_01_video (23).json\n",
      "⚠️ Skipped (already exists): C:\\Users\\un747\\capstone1_AI\\data\\processed\\keypoints\\Coffee_room_01_video (24).json\n",
      "⚠️ Skipped (already exists): C:\\Users\\un747\\capstone1_AI\\data\\processed\\keypoints\\Coffee_room_01_video (25).json\n",
      "⚠️ Skipped (already exists): C:\\Users\\un747\\capstone1_AI\\data\\processed\\keypoints\\Coffee_room_01_video (27).json\n",
      "⚠️ Skipped (already exists): C:\\Users\\un747\\capstone1_AI\\data\\processed\\keypoints\\Coffee_room_01_video (28).json\n",
      "⚠️ Skipped (already exists): C:\\Users\\un747\\capstone1_AI\\data\\processed\\keypoints\\Coffee_room_01_video (29).json\n",
      "⚠️ Skipped (already exists): C:\\Users\\un747\\capstone1_AI\\data\\processed\\keypoints\\Coffee_room_01_video (3).json\n",
      "⚠️ Skipped (already exists): C:\\Users\\un747\\capstone1_AI\\data\\processed\\keypoints\\Coffee_room_01_video (30).json\n",
      "⚠️ Skipped (already exists): C:\\Users\\un747\\capstone1_AI\\data\\processed\\keypoints\\Coffee_room_01_video (31).json\n",
      "⚠️ Skipped (already exists): C:\\Users\\un747\\capstone1_AI\\data\\processed\\keypoints\\Coffee_room_01_video (32).json\n",
      "⚠️ Skipped (already exists): C:\\Users\\un747\\capstone1_AI\\data\\processed\\keypoints\\Coffee_room_01_video (33).json\n",
      "⚠️ Skipped (already exists): C:\\Users\\un747\\capstone1_AI\\data\\processed\\keypoints\\Coffee_room_01_video (34).json\n",
      "⚠️ Skipped (already exists): C:\\Users\\un747\\capstone1_AI\\data\\processed\\keypoints\\Coffee_room_01_video (35).json\n",
      "⚠️ Skipped (already exists): C:\\Users\\un747\\capstone1_AI\\data\\processed\\keypoints\\Coffee_room_01_video (36).json\n",
      "⚠️ Skipped (already exists): C:\\Users\\un747\\capstone1_AI\\data\\processed\\keypoints\\Coffee_room_01_video (37).json\n",
      "⚠️ Skipped (already exists): C:\\Users\\un747\\capstone1_AI\\data\\processed\\keypoints\\Coffee_room_01_video (38).json\n",
      "⚠️ Skipped (already exists): C:\\Users\\un747\\capstone1_AI\\data\\processed\\keypoints\\Coffee_room_01_video (39).json\n",
      "⚠️ Skipped (already exists): C:\\Users\\un747\\capstone1_AI\\data\\processed\\keypoints\\Coffee_room_01_video (4).json\n",
      "⚠️ Skipped (already exists): C:\\Users\\un747\\capstone1_AI\\data\\processed\\keypoints\\Coffee_room_01_video (40).json\n",
      "⚠️ Skipped (already exists): C:\\Users\\un747\\capstone1_AI\\data\\processed\\keypoints\\Coffee_room_01_video (41).json\n",
      "⚠️ Skipped (already exists): C:\\Users\\un747\\capstone1_AI\\data\\processed\\keypoints\\Coffee_room_01_video (42).json\n",
      "⚠️ Skipped (already exists): C:\\Users\\un747\\capstone1_AI\\data\\processed\\keypoints\\Coffee_room_01_video (43).json\n",
      "⚠️ Skipped (already exists): C:\\Users\\un747\\capstone1_AI\\data\\processed\\keypoints\\Coffee_room_01_video (44).json\n",
      "⚠️ Skipped (already exists): C:\\Users\\un747\\capstone1_AI\\data\\processed\\keypoints\\Coffee_room_01_video (45).json\n",
      "⚠️ Skipped (already exists): C:\\Users\\un747\\capstone1_AI\\data\\processed\\keypoints\\Coffee_room_01_video (46).json\n",
      "⚠️ Skipped (already exists): C:\\Users\\un747\\capstone1_AI\\data\\processed\\keypoints\\Coffee_room_01_video (47).json\n",
      "⚠️ Skipped (already exists): C:\\Users\\un747\\capstone1_AI\\data\\processed\\keypoints\\Coffee_room_01_video (48).json\n",
      "⚠️ Skipped (already exists): C:\\Users\\un747\\capstone1_AI\\data\\processed\\keypoints\\Coffee_room_01_video (5).json\n",
      "⚠️ Skipped (already exists): C:\\Users\\un747\\capstone1_AI\\data\\processed\\keypoints\\Coffee_room_01_video (6).json\n",
      "⚠️ Skipped (already exists): C:\\Users\\un747\\capstone1_AI\\data\\processed\\keypoints\\Coffee_room_01_video (7).json\n",
      "⚠️ Skipped (already exists): C:\\Users\\un747\\capstone1_AI\\data\\processed\\keypoints\\Coffee_room_01_video (8).json\n",
      "⚠️ Skipped (already exists): C:\\Users\\un747\\capstone1_AI\\data\\processed\\keypoints\\Coffee_room_01_video (9).json\n",
      "⚠️ Skipped (already exists): C:\\Users\\un747\\capstone1_AI\\data\\processed\\keypoints\\Coffee_room_02_video (49).json\n",
      "⚠️ No annotation for video (50).avi, skipped\n",
      "⚠️ Skipped (already exists): C:\\Users\\un747\\capstone1_AI\\data\\processed\\keypoints\\Coffee_room_02_video (51).json\n",
      "⚠️ No annotation for video (52).avi, skipped\n",
      "Processed video (53).avi, frames: 383\n",
      "Processed video (54).avi, frames: 251\n",
      "Processed video (55).avi, frames: 323\n",
      "Processed video (56).avi, frames: 431\n",
      "Processed video (57).avi, frames: 563\n",
      "Processed video (58).avi, frames: 311\n",
      "Processed video (59).avi, frames: 251\n",
      "Processed video (60).avi, frames: 275\n",
      "Processed video (61).avi, frames: 1314\n",
      "Processed video (62).avi, frames: 282\n",
      "Processed video (63).avi, frames: 596\n",
      "Processed video (64).avi, frames: 212\n",
      "Processed video (65).avi, frames: 711\n",
      "Processed video (66).avi, frames: 298\n",
      "Processed video (67).avi, frames: 347\n",
      "Processed video (68).avi, frames: 1607\n",
      "Processed video (69).avi, frames: 1283\n",
      "Processed video (70).avi, frames: 839\n",
      "⚠️ Skipped (already exists): C:\\Users\\un747\\capstone1_AI\\data\\processed\\keypoints\\Home_01_video (1).json\n",
      "⚠️ Skipped (already exists): C:\\Users\\un747\\capstone1_AI\\data\\processed\\keypoints\\Home_01_video (10).json\n",
      "⚠️ Skipped (already exists): C:\\Users\\un747\\capstone1_AI\\data\\processed\\keypoints\\Home_01_video (11).json\n",
      "⚠️ Skipped (already exists): C:\\Users\\un747\\capstone1_AI\\data\\processed\\keypoints\\Home_01_video (12).json\n",
      "⚠️ Skipped (already exists): C:\\Users\\un747\\capstone1_AI\\data\\processed\\keypoints\\Home_01_video (13).json\n",
      "⚠️ Skipped (already exists): C:\\Users\\un747\\capstone1_AI\\data\\processed\\keypoints\\Home_01_video (14).json\n",
      "⚠️ Skipped (already exists): C:\\Users\\un747\\capstone1_AI\\data\\processed\\keypoints\\Home_01_video (15).json\n",
      "⚠️ Skipped (already exists): C:\\Users\\un747\\capstone1_AI\\data\\processed\\keypoints\\Home_01_video (16).json\n",
      "⚠️ Skipped (already exists): C:\\Users\\un747\\capstone1_AI\\data\\processed\\keypoints\\Home_01_video (17).json\n",
      "⚠️ Skipped (already exists): C:\\Users\\un747\\capstone1_AI\\data\\processed\\keypoints\\Home_01_video (18).json\n",
      "⚠️ Skipped (already exists): C:\\Users\\un747\\capstone1_AI\\data\\processed\\keypoints\\Home_01_video (19).json\n",
      "⚠️ Skipped (already exists): C:\\Users\\un747\\capstone1_AI\\data\\processed\\keypoints\\Home_01_video (2).json\n",
      "⚠️ Skipped (already exists): C:\\Users\\un747\\capstone1_AI\\data\\processed\\keypoints\\Home_01_video (20).json\n",
      "⚠️ Skipped (already exists): C:\\Users\\un747\\capstone1_AI\\data\\processed\\keypoints\\Home_01_video (21).json\n",
      "⚠️ Skipped (already exists): C:\\Users\\un747\\capstone1_AI\\data\\processed\\keypoints\\Home_01_video (22).json\n",
      "⚠️ Skipped (already exists): C:\\Users\\un747\\capstone1_AI\\data\\processed\\keypoints\\Home_01_video (23).json\n",
      "⚠️ Skipped (already exists): C:\\Users\\un747\\capstone1_AI\\data\\processed\\keypoints\\Home_01_video (24).json\n",
      "⚠️ Skipped (already exists): C:\\Users\\un747\\capstone1_AI\\data\\processed\\keypoints\\Home_01_video (25).json\n",
      "⚠️ Skipped (already exists): C:\\Users\\un747\\capstone1_AI\\data\\processed\\keypoints\\Home_01_video (26).json\n",
      "⚠️ Skipped (already exists): C:\\Users\\un747\\capstone1_AI\\data\\processed\\keypoints\\Home_01_video (27).json\n",
      "⚠️ Skipped (already exists): C:\\Users\\un747\\capstone1_AI\\data\\processed\\keypoints\\Home_01_video (28).json\n",
      "⚠️ Skipped (already exists): C:\\Users\\un747\\capstone1_AI\\data\\processed\\keypoints\\Home_01_video (29).json\n",
      "⚠️ Skipped (already exists): C:\\Users\\un747\\capstone1_AI\\data\\processed\\keypoints\\Home_01_video (3).json\n",
      "⚠️ Skipped (already exists): C:\\Users\\un747\\capstone1_AI\\data\\processed\\keypoints\\Home_01_video (30).json\n",
      "⚠️ Skipped (already exists): C:\\Users\\un747\\capstone1_AI\\data\\processed\\keypoints\\Home_01_video (4).json\n",
      "⚠️ Skipped (already exists): C:\\Users\\un747\\capstone1_AI\\data\\processed\\keypoints\\Home_01_video (5).json\n",
      "⚠️ Skipped (already exists): C:\\Users\\un747\\capstone1_AI\\data\\processed\\keypoints\\Home_01_video (6).json\n",
      "⚠️ Skipped (already exists): C:\\Users\\un747\\capstone1_AI\\data\\processed\\keypoints\\Home_01_video (7).json\n",
      "⚠️ Skipped (already exists): C:\\Users\\un747\\capstone1_AI\\data\\processed\\keypoints\\Home_01_video (8).json\n",
      "⚠️ Skipped (already exists): C:\\Users\\un747\\capstone1_AI\\data\\processed\\keypoints\\Home_01_video (9).json\n",
      "⚠️ Skipped (already exists): C:\\Users\\un747\\capstone1_AI\\data\\processed\\keypoints\\Home_02_video (31).json\n",
      "⚠️ Skipped (already exists): C:\\Users\\un747\\capstone1_AI\\data\\processed\\keypoints\\Home_02_video (32).json\n",
      "⚠️ Skipped (already exists): C:\\Users\\un747\\capstone1_AI\\data\\processed\\keypoints\\Home_02_video (33).json\n",
      "⚠️ Skipped (already exists): C:\\Users\\un747\\capstone1_AI\\data\\processed\\keypoints\\Home_02_video (34).json\n",
      "⚠️ Skipped (already exists): C:\\Users\\un747\\capstone1_AI\\data\\processed\\keypoints\\Home_02_video (35).json\n",
      "⚠️ Skipped (already exists): C:\\Users\\un747\\capstone1_AI\\data\\processed\\keypoints\\Home_02_video (36).json\n",
      "⚠️ Skipped (already exists): C:\\Users\\un747\\capstone1_AI\\data\\processed\\keypoints\\Home_02_video (37).json\n",
      "⚠️ Skipped (already exists): C:\\Users\\un747\\capstone1_AI\\data\\processed\\keypoints\\Home_02_video (38).json\n",
      "⚠️ Skipped (already exists): C:\\Users\\un747\\capstone1_AI\\data\\processed\\keypoints\\Home_02_video (39).json\n",
      "⚠️ Skipped (already exists): C:\\Users\\un747\\capstone1_AI\\data\\processed\\keypoints\\Home_02_video (40).json\n",
      "⚠️ Skipped (already exists): C:\\Users\\un747\\capstone1_AI\\data\\processed\\keypoints\\Home_02_video (41).json\n",
      "⚠️ Skipped (already exists): C:\\Users\\un747\\capstone1_AI\\data\\processed\\keypoints\\Home_02_video (42).json\n",
      "⚠️ Skipped (already exists): C:\\Users\\un747\\capstone1_AI\\data\\processed\\keypoints\\Home_02_video (43).json\n",
      "⚠️ Skipped (already exists): C:\\Users\\un747\\capstone1_AI\\data\\processed\\keypoints\\Home_02_video (44).json\n",
      "⚠️ Skipped (already exists): C:\\Users\\un747\\capstone1_AI\\data\\processed\\keypoints\\Home_02_video (45).json\n",
      "⚠️ Skipped (already exists): C:\\Users\\un747\\capstone1_AI\\data\\processed\\keypoints\\Home_02_video (46).json\n",
      "⚠️ Skipped (already exists): C:\\Users\\un747\\capstone1_AI\\data\\processed\\keypoints\\Home_02_video (47).json\n",
      "⚠️ Skipped (already exists): C:\\Users\\un747\\capstone1_AI\\data\\processed\\keypoints\\Home_02_video (48).json\n",
      "⚠️ Skipped (already exists): C:\\Users\\un747\\capstone1_AI\\data\\processed\\keypoints\\Home_02_video (49).json\n",
      "⚠️ Skipped (already exists): C:\\Users\\un747\\capstone1_AI\\data\\processed\\keypoints\\Home_02_video (50).json\n",
      "⚠️ Skipped (already exists): C:\\Users\\un747\\capstone1_AI\\data\\processed\\keypoints\\Home_02_video (51).json\n",
      "⚠️ Skipped (already exists): C:\\Users\\un747\\capstone1_AI\\data\\processed\\keypoints\\Home_02_video (52).json\n",
      "⚠️ Skipped (already exists): C:\\Users\\un747\\capstone1_AI\\data\\processed\\keypoints\\Home_02_video (53).json\n",
      "⚠️ Skipped (already exists): C:\\Users\\un747\\capstone1_AI\\data\\processed\\keypoints\\Home_02_video (54).json\n",
      "⚠️ Skipped (already exists): C:\\Users\\un747\\capstone1_AI\\data\\processed\\keypoints\\Home_02_video (55).json\n",
      "⚠️ Skipped (already exists): C:\\Users\\un747\\capstone1_AI\\data\\processed\\keypoints\\Home_02_video (56).json\n",
      "⚠️ Skipped (already exists): C:\\Users\\un747\\capstone1_AI\\data\\processed\\keypoints\\Home_02_video (57).json\n",
      "⚠️ Skipped (already exists): C:\\Users\\un747\\capstone1_AI\\data\\processed\\keypoints\\Home_02_video (58).json\n",
      "⚠️ Skipped (already exists): C:\\Users\\un747\\capstone1_AI\\data\\processed\\keypoints\\Home_02_video (59).json\n",
      "⚠️ Skipped (already exists): C:\\Users\\un747\\capstone1_AI\\data\\processed\\keypoints\\Home_02_video (60).json\n"
     ]
    }
   ],
   "source": [
    "# 모든 폴더 반복\n",
    "for scene_folder in RAW_DIR.iterdir():\n",
    "    if not scene_folder.is_dir():\n",
    "        continue\n",
    "\n",
    "    videos_folder = scene_folder / \"Videos\"\n",
    "    ann_folder = scene_folder / \"Annotation_files\"\n",
    "\n",
    "    for video_file in videos_folder.glob(\"*.avi\"):\n",
    "        base_name = video_file.stem\n",
    "        ann_file = ann_folder / f\"{base_name}.txt\"\n",
    "        if not ann_file.exists():\n",
    "            print(f\"⚠️ No annotation for {video_file.name}, skipped\")\n",
    "            continue\n",
    "\n",
    "        save_name = f\"{scene_folder.name}_{base_name}\"\n",
    "        keypoints_path = PROCESSED_DIR / \"keypoints\" / f\"{save_name}.json\"\n",
    "        video_out_path = PROCESSED_DIR / \"videos\" / f\"{save_name}.avi\"\n",
    "\n",
    "        if os.path.exists(keypoints_path):\n",
    "            print(f\"⚠️ Skipped (already exists): {keypoints_path}\")\n",
    "            continue\n",
    "        \n",
    "        process_video(video_file, ann_file, keypoints_path, video_out_path)"
   ]
  },
  {
   "cell_type": "code",
   "execution_count": 32,
   "id": "0a8fd41f-f350-4631-85db-a33ae9eb07cc",
   "metadata": {},
   "outputs": [],
   "source": [
    "def read_label_from_txt(txt_path):\n",
    "    \"\"\"txt 파일에서 낙상 라벨(0 또는 1) 추출\"\"\"\n",
    "    with open(txt_path, 'r') as f:\n",
    "        first_line = f.readline().strip()\n",
    "    label = int(first_line.split()[0])\n",
    "    return label\n",
    "\n",
    "def process_caucafall_subject(subject_path, save_dir):\n",
    "    \"\"\"Subject 내 모든 scenario 폴더 처리\"\"\"\n",
    "    for scenario_dir in subject_path.iterdir():\n",
    "\n",
    "        img_files = sorted([p for p in scenario_dir.glob(\"*.png\")])\n",
    "        if not img_files:\n",
    "            print(f\"⚠️ No image files found in {scenario_dir}\")\n",
    "            return\n",
    "\n",
    "        keypoints_all = []\n",
    "        frame_idx = 0\n",
    "        print(f\"Processing {scenario_dir} ...\")\n",
    "\n",
    "        for img_path in tqdm(sorted(scenario_dir.glob(\"*.png\"))):\n",
    "            txt_path = img_path.with_suffix('.txt')\n",
    "            if not txt_path.exists():\n",
    "                continue\n",
    "\n",
    "            label = read_label_from_txt(txt_path)\n",
    "            frame = cv2.imread(str(img_path))\n",
    "            if frame is None:\n",
    "                continue\n",
    "\n",
    "            # RGB 변환 후 MediaPipe 처리\n",
    "            rgb_frame = cv2.cvtColor(frame, cv2.COLOR_BGR2RGB)\n",
    "            results = pose.process(rgb_frame)\n",
    "\n",
    "            if results.pose_landmarks:\n",
    "                frame_keypoints = [\n",
    "                    [lm.x, lm.y, lm.z, lm.visibility]\n",
    "                    for lm in results.pose_landmarks.landmark\n",
    "                ]\n",
    "            else:\n",
    "                frame_keypoints = [[0, 0, 0, 0]] * 33  # 감지 실패 시 0으로 채움\n",
    "\n",
    "            keypoints_all.append({\n",
    "                \"frame\": frame_idx,\n",
    "                \"label\": label,\n",
    "                \"keypoints\": frame_keypoints\n",
    "            })\n",
    "            frame_idx += 1\n",
    "\n",
    "        # 저장 경로 설정 (예: Subject1_scenario1.json)\n",
    "        save_path = save_dir / f\"{subject_path.name}_{scenario_dir.name}.json\"\n",
    "        with open(save_path, 'w') as f:\n",
    "            json.dump(keypoints_all, f)\n",
    "        print(f\"Saved: {save_path}\")\n",
    "\n",
    "def process_caucafall_dataset(raw_dir, save_dir):\n",
    "    \"\"\"CAUCAFall 전체 데이터셋 처리\"\"\"\n",
    "    for subject_dir in sorted(raw_dir.iterdir()):\n",
    "        if subject_dir.is_dir():\n",
    "            process_caucafall_subject(subject_dir, save_dir)"
   ]
  },
  {
   "cell_type": "code",
   "execution_count": 36,
   "id": "9cd725a2-c257-4295-afe8-af9c7e84b994",
   "metadata": {
    "scrolled": true
   },
   "outputs": [
    {
     "name": "stdout",
     "output_type": "stream",
     "text": [
      "Processing C:\\Users\\un747\\capstone1_AI\\data\\raw\\CAUCAFall\\Subject.1\\Fall backwards ...\n"
     ]
    },
    {
     "name": "stderr",
     "output_type": "stream",
     "text": [
      "C:\\Users\\un747\\anaconda3\\envs\\fall\\lib\\site-packages\\google\\protobuf\\symbol_database.py:55: UserWarning: SymbolDatabase.GetPrototype() is deprecated. Please use message_factory.GetMessageClass() instead. SymbolDatabase.GetPrototype() will be removed soon.\n",
      "  warnings.warn('SymbolDatabase.GetPrototype() is deprecated. Please '\n",
      "100%|████████████████████████████████████████████████████████████████████████████████| 126/126 [00:16<00:00,  7.84it/s]\n"
     ]
    },
    {
     "name": "stdout",
     "output_type": "stream",
     "text": [
      "Saved: C:\\Users\\un747\\capstone1_AI\\data\\processed\\keypoints\\Subject.1_Fall backwards.json\n",
      "Processing C:\\Users\\un747\\capstone1_AI\\data\\raw\\CAUCAFall\\Subject.1\\Fall forward ...\n"
     ]
    },
    {
     "name": "stderr",
     "output_type": "stream",
     "text": [
      "100%|████████████████████████████████████████████████████████████████████████████████| 191/191 [00:30<00:00,  6.30it/s]\n"
     ]
    },
    {
     "name": "stdout",
     "output_type": "stream",
     "text": [
      "Saved: C:\\Users\\un747\\capstone1_AI\\data\\processed\\keypoints\\Subject.1_Fall forward.json\n",
      "Processing C:\\Users\\un747\\capstone1_AI\\data\\raw\\CAUCAFall\\Subject.1\\Fall left ...\n"
     ]
    },
    {
     "name": "stderr",
     "output_type": "stream",
     "text": [
      "100%|██████████████████████████████████████████████████████████████████████████████████| 87/87 [00:12<00:00,  6.80it/s]\n"
     ]
    },
    {
     "name": "stdout",
     "output_type": "stream",
     "text": [
      "Saved: C:\\Users\\un747\\capstone1_AI\\data\\processed\\keypoints\\Subject.1_Fall left.json\n",
      "Processing C:\\Users\\un747\\capstone1_AI\\data\\raw\\CAUCAFall\\Subject.1\\Fall right ...\n"
     ]
    },
    {
     "name": "stderr",
     "output_type": "stream",
     "text": [
      "100%|████████████████████████████████████████████████████████████████████████████████| 115/115 [00:16<00:00,  6.89it/s]\n"
     ]
    },
    {
     "name": "stdout",
     "output_type": "stream",
     "text": [
      "Saved: C:\\Users\\un747\\capstone1_AI\\data\\processed\\keypoints\\Subject.1_Fall right.json\n",
      "Processing C:\\Users\\un747\\capstone1_AI\\data\\raw\\CAUCAFall\\Subject.1\\Fall sitting ...\n"
     ]
    },
    {
     "name": "stderr",
     "output_type": "stream",
     "text": [
      "100%|████████████████████████████████████████████████████████████████████████████████| 183/183 [00:27<00:00,  6.67it/s]\n"
     ]
    },
    {
     "name": "stdout",
     "output_type": "stream",
     "text": [
      "Saved: C:\\Users\\un747\\capstone1_AI\\data\\processed\\keypoints\\Subject.1_Fall sitting.json\n",
      "Processing C:\\Users\\un747\\capstone1_AI\\data\\raw\\CAUCAFall\\Subject.1\\Hop ...\n"
     ]
    },
    {
     "name": "stderr",
     "output_type": "stream",
     "text": [
      "100%|████████████████████████████████████████████████████████████████████████████████| 183/183 [00:27<00:00,  6.62it/s]\n"
     ]
    },
    {
     "name": "stdout",
     "output_type": "stream",
     "text": [
      "Saved: C:\\Users\\un747\\capstone1_AI\\data\\processed\\keypoints\\Subject.1_Hop.json\n",
      "Processing C:\\Users\\un747\\capstone1_AI\\data\\raw\\CAUCAFall\\Subject.1\\Kneel ...\n"
     ]
    },
    {
     "name": "stderr",
     "output_type": "stream",
     "text": [
      "100%|████████████████████████████████████████████████████████████████████████████████| 220/220 [00:31<00:00,  7.06it/s]\n"
     ]
    },
    {
     "name": "stdout",
     "output_type": "stream",
     "text": [
      "Saved: C:\\Users\\un747\\capstone1_AI\\data\\processed\\keypoints\\Subject.1_Kneel.json\n",
      "Processing C:\\Users\\un747\\capstone1_AI\\data\\raw\\CAUCAFall\\Subject.1\\Pick up object ...\n"
     ]
    },
    {
     "name": "stderr",
     "output_type": "stream",
     "text": [
      "100%|████████████████████████████████████████████████████████████████████████████████| 118/118 [00:16<00:00,  7.01it/s]\n"
     ]
    },
    {
     "name": "stdout",
     "output_type": "stream",
     "text": [
      "Saved: C:\\Users\\un747\\capstone1_AI\\data\\processed\\keypoints\\Subject.1_Pick up object.json\n",
      "Processing C:\\Users\\un747\\capstone1_AI\\data\\raw\\CAUCAFall\\Subject.1\\Sit down ...\n"
     ]
    },
    {
     "name": "stderr",
     "output_type": "stream",
     "text": [
      "100%|████████████████████████████████████████████████████████████████████████████████| 188/188 [00:26<00:00,  7.21it/s]\n"
     ]
    },
    {
     "name": "stdout",
     "output_type": "stream",
     "text": [
      "Saved: C:\\Users\\un747\\capstone1_AI\\data\\processed\\keypoints\\Subject.1_Sit down.json\n",
      "Processing C:\\Users\\un747\\capstone1_AI\\data\\raw\\CAUCAFall\\Subject.1\\Walk ...\n"
     ]
    },
    {
     "name": "stderr",
     "output_type": "stream",
     "text": [
      "100%|████████████████████████████████████████████████████████████████████████████████| 243/243 [00:36<00:00,  6.66it/s]\n"
     ]
    },
    {
     "name": "stdout",
     "output_type": "stream",
     "text": [
      "Saved: C:\\Users\\un747\\capstone1_AI\\data\\processed\\keypoints\\Subject.1_Walk.json\n",
      "Processing C:\\Users\\un747\\capstone1_AI\\data\\raw\\CAUCAFall\\Subject.10\\Fall backwards ...\n"
     ]
    },
    {
     "name": "stderr",
     "output_type": "stream",
     "text": [
      "100%|████████████████████████████████████████████████████████████████████████████████| 275/275 [00:41<00:00,  6.69it/s]\n"
     ]
    },
    {
     "name": "stdout",
     "output_type": "stream",
     "text": [
      "Saved: C:\\Users\\un747\\capstone1_AI\\data\\processed\\keypoints\\Subject.10_Fall backwards.json\n",
      "Processing C:\\Users\\un747\\capstone1_AI\\data\\raw\\CAUCAFall\\Subject.10\\Fall forward ...\n"
     ]
    },
    {
     "name": "stderr",
     "output_type": "stream",
     "text": [
      "100%|████████████████████████████████████████████████████████████████████████████████| 244/244 [00:37<00:00,  6.59it/s]\n"
     ]
    },
    {
     "name": "stdout",
     "output_type": "stream",
     "text": [
      "Saved: C:\\Users\\un747\\capstone1_AI\\data\\processed\\keypoints\\Subject.10_Fall forward.json\n",
      "Processing C:\\Users\\un747\\capstone1_AI\\data\\raw\\CAUCAFall\\Subject.10\\Fall left ...\n"
     ]
    },
    {
     "name": "stderr",
     "output_type": "stream",
     "text": [
      "100%|████████████████████████████████████████████████████████████████████████████████| 213/213 [00:31<00:00,  6.82it/s]\n"
     ]
    },
    {
     "name": "stdout",
     "output_type": "stream",
     "text": [
      "Saved: C:\\Users\\un747\\capstone1_AI\\data\\processed\\keypoints\\Subject.10_Fall left.json\n",
      "Processing C:\\Users\\un747\\capstone1_AI\\data\\raw\\CAUCAFall\\Subject.10\\Fall right ...\n"
     ]
    },
    {
     "name": "stderr",
     "output_type": "stream",
     "text": [
      "100%|████████████████████████████████████████████████████████████████████████████████| 203/203 [00:30<00:00,  6.76it/s]\n"
     ]
    },
    {
     "name": "stdout",
     "output_type": "stream",
     "text": [
      "Saved: C:\\Users\\un747\\capstone1_AI\\data\\processed\\keypoints\\Subject.10_Fall right.json\n",
      "Processing C:\\Users\\un747\\capstone1_AI\\data\\raw\\CAUCAFall\\Subject.10\\Fall sitting ...\n"
     ]
    },
    {
     "name": "stderr",
     "output_type": "stream",
     "text": [
      "100%|████████████████████████████████████████████████████████████████████████████████| 289/289 [00:45<00:00,  6.41it/s]\n"
     ]
    },
    {
     "name": "stdout",
     "output_type": "stream",
     "text": [
      "Saved: C:\\Users\\un747\\capstone1_AI\\data\\processed\\keypoints\\Subject.10_Fall sitting.json\n",
      "Processing C:\\Users\\un747\\capstone1_AI\\data\\raw\\CAUCAFall\\Subject.10\\Hop ...\n"
     ]
    },
    {
     "name": "stderr",
     "output_type": "stream",
     "text": [
      "100%|████████████████████████████████████████████████████████████████████████████████| 249/249 [00:36<00:00,  6.74it/s]\n"
     ]
    },
    {
     "name": "stdout",
     "output_type": "stream",
     "text": [
      "Saved: C:\\Users\\un747\\capstone1_AI\\data\\processed\\keypoints\\Subject.10_Hop.json\n",
      "Processing C:\\Users\\un747\\capstone1_AI\\data\\raw\\CAUCAFall\\Subject.10\\Kneel ...\n"
     ]
    },
    {
     "name": "stderr",
     "output_type": "stream",
     "text": [
      "100%|████████████████████████████████████████████████████████████████████████████████| 262/262 [00:41<00:00,  6.29it/s]\n"
     ]
    },
    {
     "name": "stdout",
     "output_type": "stream",
     "text": [
      "Saved: C:\\Users\\un747\\capstone1_AI\\data\\processed\\keypoints\\Subject.10_Kneel.json\n",
      "Processing C:\\Users\\un747\\capstone1_AI\\data\\raw\\CAUCAFall\\Subject.10\\Pick up object ...\n"
     ]
    },
    {
     "name": "stderr",
     "output_type": "stream",
     "text": [
      "100%|████████████████████████████████████████████████████████████████████████████████| 293/293 [00:43<00:00,  6.76it/s]\n"
     ]
    },
    {
     "name": "stdout",
     "output_type": "stream",
     "text": [
      "Saved: C:\\Users\\un747\\capstone1_AI\\data\\processed\\keypoints\\Subject.10_Pick up object.json\n",
      "Processing C:\\Users\\un747\\capstone1_AI\\data\\raw\\CAUCAFall\\Subject.10\\Sit down ...\n"
     ]
    },
    {
     "name": "stderr",
     "output_type": "stream",
     "text": [
      "100%|████████████████████████████████████████████████████████████████████████████████| 235/235 [00:34<00:00,  6.83it/s]\n"
     ]
    },
    {
     "name": "stdout",
     "output_type": "stream",
     "text": [
      "Saved: C:\\Users\\un747\\capstone1_AI\\data\\processed\\keypoints\\Subject.10_Sit down.json\n",
      "Processing C:\\Users\\un747\\capstone1_AI\\data\\raw\\CAUCAFall\\Subject.10\\Walk ...\n"
     ]
    },
    {
     "name": "stderr",
     "output_type": "stream",
     "text": [
      "100%|████████████████████████████████████████████████████████████████████████████████| 225/225 [00:32<00:00,  7.01it/s]\n"
     ]
    },
    {
     "name": "stdout",
     "output_type": "stream",
     "text": [
      "Saved: C:\\Users\\un747\\capstone1_AI\\data\\processed\\keypoints\\Subject.10_Walk.json\n",
      "Processing C:\\Users\\un747\\capstone1_AI\\data\\raw\\CAUCAFall\\Subject.2\\Fall backwards ...\n"
     ]
    },
    {
     "name": "stderr",
     "output_type": "stream",
     "text": [
      "100%|████████████████████████████████████████████████████████████████████████████████| 121/121 [00:17<00:00,  6.78it/s]\n"
     ]
    },
    {
     "name": "stdout",
     "output_type": "stream",
     "text": [
      "Saved: C:\\Users\\un747\\capstone1_AI\\data\\processed\\keypoints\\Subject.2_Fall backwards.json\n",
      "Processing C:\\Users\\un747\\capstone1_AI\\data\\raw\\CAUCAFall\\Subject.2\\Fall forward ...\n"
     ]
    },
    {
     "name": "stderr",
     "output_type": "stream",
     "text": [
      "100%|████████████████████████████████████████████████████████████████████████████████| 107/107 [00:15<00:00,  6.90it/s]\n"
     ]
    },
    {
     "name": "stdout",
     "output_type": "stream",
     "text": [
      "Saved: C:\\Users\\un747\\capstone1_AI\\data\\processed\\keypoints\\Subject.2_Fall forward.json\n",
      "Processing C:\\Users\\un747\\capstone1_AI\\data\\raw\\CAUCAFall\\Subject.2\\Fall left ...\n"
     ]
    },
    {
     "name": "stderr",
     "output_type": "stream",
     "text": [
      "100%|████████████████████████████████████████████████████████████████████████████████| 110/110 [00:16<00:00,  6.73it/s]\n"
     ]
    },
    {
     "name": "stdout",
     "output_type": "stream",
     "text": [
      "Saved: C:\\Users\\un747\\capstone1_AI\\data\\processed\\keypoints\\Subject.2_Fall left.json\n",
      "Processing C:\\Users\\un747\\capstone1_AI\\data\\raw\\CAUCAFall\\Subject.2\\Fall right ...\n"
     ]
    },
    {
     "name": "stderr",
     "output_type": "stream",
     "text": [
      "100%|████████████████████████████████████████████████████████████████████████████████| 147/147 [00:21<00:00,  6.91it/s]\n"
     ]
    },
    {
     "name": "stdout",
     "output_type": "stream",
     "text": [
      "Saved: C:\\Users\\un747\\capstone1_AI\\data\\processed\\keypoints\\Subject.2_Fall right.json\n",
      "Processing C:\\Users\\un747\\capstone1_AI\\data\\raw\\CAUCAFall\\Subject.2\\Fall sitting ...\n"
     ]
    },
    {
     "name": "stderr",
     "output_type": "stream",
     "text": [
      "100%|████████████████████████████████████████████████████████████████████████████████| 158/158 [00:23<00:00,  6.68it/s]\n"
     ]
    },
    {
     "name": "stdout",
     "output_type": "stream",
     "text": [
      "Saved: C:\\Users\\un747\\capstone1_AI\\data\\processed\\keypoints\\Subject.2_Fall sitting.json\n",
      "Processing C:\\Users\\un747\\capstone1_AI\\data\\raw\\CAUCAFall\\Subject.2\\Hop ...\n"
     ]
    },
    {
     "name": "stderr",
     "output_type": "stream",
     "text": [
      "100%|████████████████████████████████████████████████████████████████████████████████| 172/172 [00:24<00:00,  7.03it/s]\n"
     ]
    },
    {
     "name": "stdout",
     "output_type": "stream",
     "text": [
      "Saved: C:\\Users\\un747\\capstone1_AI\\data\\processed\\keypoints\\Subject.2_Hop.json\n",
      "Processing C:\\Users\\un747\\capstone1_AI\\data\\raw\\CAUCAFall\\Subject.2\\Kneel ...\n"
     ]
    },
    {
     "name": "stderr",
     "output_type": "stream",
     "text": [
      "100%|████████████████████████████████████████████████████████████████████████████████| 131/131 [00:19<00:00,  6.71it/s]\n"
     ]
    },
    {
     "name": "stdout",
     "output_type": "stream",
     "text": [
      "Saved: C:\\Users\\un747\\capstone1_AI\\data\\processed\\keypoints\\Subject.2_Kneel.json\n",
      "Processing C:\\Users\\un747\\capstone1_AI\\data\\raw\\CAUCAFall\\Subject.2\\Pick up object ...\n"
     ]
    },
    {
     "name": "stderr",
     "output_type": "stream",
     "text": [
      "100%|████████████████████████████████████████████████████████████████████████████████| 167/167 [00:26<00:00,  6.36it/s]\n"
     ]
    },
    {
     "name": "stdout",
     "output_type": "stream",
     "text": [
      "Saved: C:\\Users\\un747\\capstone1_AI\\data\\processed\\keypoints\\Subject.2_Pick up object.json\n",
      "Processing C:\\Users\\un747\\capstone1_AI\\data\\raw\\CAUCAFall\\Subject.2\\Sit down ...\n"
     ]
    },
    {
     "name": "stderr",
     "output_type": "stream",
     "text": [
      "100%|████████████████████████████████████████████████████████████████████████████████| 113/113 [00:17<00:00,  6.46it/s]\n"
     ]
    },
    {
     "name": "stdout",
     "output_type": "stream",
     "text": [
      "Saved: C:\\Users\\un747\\capstone1_AI\\data\\processed\\keypoints\\Subject.2_Sit down.json\n",
      "Processing C:\\Users\\un747\\capstone1_AI\\data\\raw\\CAUCAFall\\Subject.2\\Walk ...\n"
     ]
    },
    {
     "name": "stderr",
     "output_type": "stream",
     "text": [
      "100%|████████████████████████████████████████████████████████████████████████████████| 245/245 [00:39<00:00,  6.14it/s]\n"
     ]
    },
    {
     "name": "stdout",
     "output_type": "stream",
     "text": [
      "Saved: C:\\Users\\un747\\capstone1_AI\\data\\processed\\keypoints\\Subject.2_Walk.json\n",
      "Processing C:\\Users\\un747\\capstone1_AI\\data\\raw\\CAUCAFall\\Subject.3\\Fall backwards ...\n"
     ]
    },
    {
     "name": "stderr",
     "output_type": "stream",
     "text": [
      "100%|████████████████████████████████████████████████████████████████████████████████| 167/167 [00:25<00:00,  6.58it/s]\n"
     ]
    },
    {
     "name": "stdout",
     "output_type": "stream",
     "text": [
      "Saved: C:\\Users\\un747\\capstone1_AI\\data\\processed\\keypoints\\Subject.3_Fall backwards.json\n",
      "Processing C:\\Users\\un747\\capstone1_AI\\data\\raw\\CAUCAFall\\Subject.3\\Fall forward ...\n"
     ]
    },
    {
     "name": "stderr",
     "output_type": "stream",
     "text": [
      "100%|████████████████████████████████████████████████████████████████████████████████| 154/154 [00:26<00:00,  5.70it/s]\n"
     ]
    },
    {
     "name": "stdout",
     "output_type": "stream",
     "text": [
      "Saved: C:\\Users\\un747\\capstone1_AI\\data\\processed\\keypoints\\Subject.3_Fall forward.json\n",
      "Processing C:\\Users\\un747\\capstone1_AI\\data\\raw\\CAUCAFall\\Subject.3\\Fall left ...\n"
     ]
    },
    {
     "name": "stderr",
     "output_type": "stream",
     "text": [
      "100%|████████████████████████████████████████████████████████████████████████████████| 172/172 [00:29<00:00,  5.92it/s]\n"
     ]
    },
    {
     "name": "stdout",
     "output_type": "stream",
     "text": [
      "Saved: C:\\Users\\un747\\capstone1_AI\\data\\processed\\keypoints\\Subject.3_Fall left.json\n",
      "Processing C:\\Users\\un747\\capstone1_AI\\data\\raw\\CAUCAFall\\Subject.3\\Fall right ...\n"
     ]
    },
    {
     "name": "stderr",
     "output_type": "stream",
     "text": [
      "100%|████████████████████████████████████████████████████████████████████████████████| 221/221 [00:33<00:00,  6.62it/s]\n"
     ]
    },
    {
     "name": "stdout",
     "output_type": "stream",
     "text": [
      "Saved: C:\\Users\\un747\\capstone1_AI\\data\\processed\\keypoints\\Subject.3_Fall right.json\n",
      "Processing C:\\Users\\un747\\capstone1_AI\\data\\raw\\CAUCAFall\\Subject.3\\Fall sitting ...\n"
     ]
    },
    {
     "name": "stderr",
     "output_type": "stream",
     "text": [
      "100%|████████████████████████████████████████████████████████████████████████████████| 203/203 [00:30<00:00,  6.63it/s]\n"
     ]
    },
    {
     "name": "stdout",
     "output_type": "stream",
     "text": [
      "Saved: C:\\Users\\un747\\capstone1_AI\\data\\processed\\keypoints\\Subject.3_Fall sitting.json\n",
      "Processing C:\\Users\\un747\\capstone1_AI\\data\\raw\\CAUCAFall\\Subject.3\\Hop ...\n"
     ]
    },
    {
     "name": "stderr",
     "output_type": "stream",
     "text": [
      "100%|████████████████████████████████████████████████████████████████████████████████| 163/163 [00:24<00:00,  6.69it/s]\n"
     ]
    },
    {
     "name": "stdout",
     "output_type": "stream",
     "text": [
      "Saved: C:\\Users\\un747\\capstone1_AI\\data\\processed\\keypoints\\Subject.3_Hop.json\n",
      "Processing C:\\Users\\un747\\capstone1_AI\\data\\raw\\CAUCAFall\\Subject.3\\Kneel ...\n"
     ]
    },
    {
     "name": "stderr",
     "output_type": "stream",
     "text": [
      "100%|████████████████████████████████████████████████████████████████████████████████| 214/214 [00:34<00:00,  6.25it/s]\n"
     ]
    },
    {
     "name": "stdout",
     "output_type": "stream",
     "text": [
      "Saved: C:\\Users\\un747\\capstone1_AI\\data\\processed\\keypoints\\Subject.3_Kneel.json\n",
      "Processing C:\\Users\\un747\\capstone1_AI\\data\\raw\\CAUCAFall\\Subject.3\\Pick up object ...\n"
     ]
    },
    {
     "name": "stderr",
     "output_type": "stream",
     "text": [
      "100%|████████████████████████████████████████████████████████████████████████████████| 187/187 [00:33<00:00,  5.52it/s]\n"
     ]
    },
    {
     "name": "stdout",
     "output_type": "stream",
     "text": [
      "Saved: C:\\Users\\un747\\capstone1_AI\\data\\processed\\keypoints\\Subject.3_Pick up object.json\n",
      "Processing C:\\Users\\un747\\capstone1_AI\\data\\raw\\CAUCAFall\\Subject.3\\Sit down ...\n"
     ]
    },
    {
     "name": "stderr",
     "output_type": "stream",
     "text": [
      "100%|████████████████████████████████████████████████████████████████████████████████| 262/262 [00:39<00:00,  6.65it/s]\n"
     ]
    },
    {
     "name": "stdout",
     "output_type": "stream",
     "text": [
      "Saved: C:\\Users\\un747\\capstone1_AI\\data\\processed\\keypoints\\Subject.3_Sit down.json\n",
      "Processing C:\\Users\\un747\\capstone1_AI\\data\\raw\\CAUCAFall\\Subject.3\\Walk ...\n"
     ]
    },
    {
     "name": "stderr",
     "output_type": "stream",
     "text": [
      "100%|████████████████████████████████████████████████████████████████████████████████| 177/177 [00:28<00:00,  6.29it/s]\n"
     ]
    },
    {
     "name": "stdout",
     "output_type": "stream",
     "text": [
      "Saved: C:\\Users\\un747\\capstone1_AI\\data\\processed\\keypoints\\Subject.3_Walk.json\n",
      "Processing C:\\Users\\un747\\capstone1_AI\\data\\raw\\CAUCAFall\\Subject.4\\Fall backwards ...\n"
     ]
    },
    {
     "name": "stderr",
     "output_type": "stream",
     "text": [
      "100%|████████████████████████████████████████████████████████████████████████████████| 193/193 [00:30<00:00,  6.43it/s]\n"
     ]
    },
    {
     "name": "stdout",
     "output_type": "stream",
     "text": [
      "Saved: C:\\Users\\un747\\capstone1_AI\\data\\processed\\keypoints\\Subject.4_Fall backwards.json\n",
      "Processing C:\\Users\\un747\\capstone1_AI\\data\\raw\\CAUCAFall\\Subject.4\\Fall forward ...\n"
     ]
    },
    {
     "name": "stderr",
     "output_type": "stream",
     "text": [
      "100%|████████████████████████████████████████████████████████████████████████████████| 169/169 [00:25<00:00,  6.53it/s]\n"
     ]
    },
    {
     "name": "stdout",
     "output_type": "stream",
     "text": [
      "Saved: C:\\Users\\un747\\capstone1_AI\\data\\processed\\keypoints\\Subject.4_Fall forward.json\n",
      "Processing C:\\Users\\un747\\capstone1_AI\\data\\raw\\CAUCAFall\\Subject.4\\Fall left ...\n"
     ]
    },
    {
     "name": "stderr",
     "output_type": "stream",
     "text": [
      "100%|████████████████████████████████████████████████████████████████████████████████| 163/163 [00:24<00:00,  6.63it/s]\n"
     ]
    },
    {
     "name": "stdout",
     "output_type": "stream",
     "text": [
      "Saved: C:\\Users\\un747\\capstone1_AI\\data\\processed\\keypoints\\Subject.4_Fall left.json\n",
      "Processing C:\\Users\\un747\\capstone1_AI\\data\\raw\\CAUCAFall\\Subject.4\\Fall right ...\n"
     ]
    },
    {
     "name": "stderr",
     "output_type": "stream",
     "text": [
      "100%|████████████████████████████████████████████████████████████████████████████████| 151/151 [00:22<00:00,  6.66it/s]\n"
     ]
    },
    {
     "name": "stdout",
     "output_type": "stream",
     "text": [
      "Saved: C:\\Users\\un747\\capstone1_AI\\data\\processed\\keypoints\\Subject.4_Fall right.json\n",
      "Processing C:\\Users\\un747\\capstone1_AI\\data\\raw\\CAUCAFall\\Subject.4\\Fall sitting ...\n"
     ]
    },
    {
     "name": "stderr",
     "output_type": "stream",
     "text": [
      "100%|████████████████████████████████████████████████████████████████████████████████| 199/199 [00:30<00:00,  6.56it/s]\n"
     ]
    },
    {
     "name": "stdout",
     "output_type": "stream",
     "text": [
      "Saved: C:\\Users\\un747\\capstone1_AI\\data\\processed\\keypoints\\Subject.4_Fall sitting.json\n",
      "Processing C:\\Users\\un747\\capstone1_AI\\data\\raw\\CAUCAFall\\Subject.4\\Hop ...\n"
     ]
    },
    {
     "name": "stderr",
     "output_type": "stream",
     "text": [
      "100%|████████████████████████████████████████████████████████████████████████████████| 145/145 [00:22<00:00,  6.46it/s]\n"
     ]
    },
    {
     "name": "stdout",
     "output_type": "stream",
     "text": [
      "Saved: C:\\Users\\un747\\capstone1_AI\\data\\processed\\keypoints\\Subject.4_Hop.json\n",
      "Processing C:\\Users\\un747\\capstone1_AI\\data\\raw\\CAUCAFall\\Subject.4\\Kneel ...\n"
     ]
    },
    {
     "name": "stderr",
     "output_type": "stream",
     "text": [
      "100%|████████████████████████████████████████████████████████████████████████████████| 223/223 [00:33<00:00,  6.56it/s]\n"
     ]
    },
    {
     "name": "stdout",
     "output_type": "stream",
     "text": [
      "Saved: C:\\Users\\un747\\capstone1_AI\\data\\processed\\keypoints\\Subject.4_Kneel.json\n",
      "Processing C:\\Users\\un747\\capstone1_AI\\data\\raw\\CAUCAFall\\Subject.4\\Pick up object ...\n"
     ]
    },
    {
     "name": "stderr",
     "output_type": "stream",
     "text": [
      "100%|████████████████████████████████████████████████████████████████████████████████| 180/180 [00:26<00:00,  6.69it/s]\n"
     ]
    },
    {
     "name": "stdout",
     "output_type": "stream",
     "text": [
      "Saved: C:\\Users\\un747\\capstone1_AI\\data\\processed\\keypoints\\Subject.4_Pick up object.json\n",
      "Processing C:\\Users\\un747\\capstone1_AI\\data\\raw\\CAUCAFall\\Subject.4\\Sit down ...\n"
     ]
    },
    {
     "name": "stderr",
     "output_type": "stream",
     "text": [
      "100%|████████████████████████████████████████████████████████████████████████████████| 200/200 [00:31<00:00,  6.42it/s]\n"
     ]
    },
    {
     "name": "stdout",
     "output_type": "stream",
     "text": [
      "Saved: C:\\Users\\un747\\capstone1_AI\\data\\processed\\keypoints\\Subject.4_Sit down.json\n",
      "Processing C:\\Users\\un747\\capstone1_AI\\data\\raw\\CAUCAFall\\Subject.4\\Walk ...\n"
     ]
    },
    {
     "name": "stderr",
     "output_type": "stream",
     "text": [
      "100%|████████████████████████████████████████████████████████████████████████████████| 241/241 [00:37<00:00,  6.37it/s]\n"
     ]
    },
    {
     "name": "stdout",
     "output_type": "stream",
     "text": [
      "Saved: C:\\Users\\un747\\capstone1_AI\\data\\processed\\keypoints\\Subject.4_Walk.json\n",
      "Processing C:\\Users\\un747\\capstone1_AI\\data\\raw\\CAUCAFall\\Subject.5\\Fall backwards ...\n"
     ]
    },
    {
     "name": "stderr",
     "output_type": "stream",
     "text": [
      "100%|████████████████████████████████████████████████████████████████████████████████| 215/215 [00:32<00:00,  6.53it/s]\n"
     ]
    },
    {
     "name": "stdout",
     "output_type": "stream",
     "text": [
      "Saved: C:\\Users\\un747\\capstone1_AI\\data\\processed\\keypoints\\Subject.5_Fall backwards.json\n",
      "Processing C:\\Users\\un747\\capstone1_AI\\data\\raw\\CAUCAFall\\Subject.5\\Fall forward ...\n"
     ]
    },
    {
     "name": "stderr",
     "output_type": "stream",
     "text": [
      "100%|████████████████████████████████████████████████████████████████████████████████| 201/201 [00:30<00:00,  6.64it/s]\n"
     ]
    },
    {
     "name": "stdout",
     "output_type": "stream",
     "text": [
      "Saved: C:\\Users\\un747\\capstone1_AI\\data\\processed\\keypoints\\Subject.5_Fall forward.json\n",
      "Processing C:\\Users\\un747\\capstone1_AI\\data\\raw\\CAUCAFall\\Subject.5\\Fall left ...\n"
     ]
    },
    {
     "name": "stderr",
     "output_type": "stream",
     "text": [
      "100%|████████████████████████████████████████████████████████████████████████████████| 248/248 [00:34<00:00,  7.15it/s]\n"
     ]
    },
    {
     "name": "stdout",
     "output_type": "stream",
     "text": [
      "Saved: C:\\Users\\un747\\capstone1_AI\\data\\processed\\keypoints\\Subject.5_Fall left.json\n",
      "Processing C:\\Users\\un747\\capstone1_AI\\data\\raw\\CAUCAFall\\Subject.5\\Fall right ...\n"
     ]
    },
    {
     "name": "stderr",
     "output_type": "stream",
     "text": [
      "100%|████████████████████████████████████████████████████████████████████████████████| 220/220 [00:30<00:00,  7.16it/s]\n"
     ]
    },
    {
     "name": "stdout",
     "output_type": "stream",
     "text": [
      "Saved: C:\\Users\\un747\\capstone1_AI\\data\\processed\\keypoints\\Subject.5_Fall right.json\n",
      "Processing C:\\Users\\un747\\capstone1_AI\\data\\raw\\CAUCAFall\\Subject.5\\Fall sitting ...\n"
     ]
    },
    {
     "name": "stderr",
     "output_type": "stream",
     "text": [
      "100%|████████████████████████████████████████████████████████████████████████████████| 230/230 [00:30<00:00,  7.46it/s]\n"
     ]
    },
    {
     "name": "stdout",
     "output_type": "stream",
     "text": [
      "Saved: C:\\Users\\un747\\capstone1_AI\\data\\processed\\keypoints\\Subject.5_Fall sitting.json\n",
      "Processing C:\\Users\\un747\\capstone1_AI\\data\\raw\\CAUCAFall\\Subject.5\\Hop ...\n"
     ]
    },
    {
     "name": "stderr",
     "output_type": "stream",
     "text": [
      "100%|████████████████████████████████████████████████████████████████████████████████| 123/123 [00:17<00:00,  7.05it/s]\n"
     ]
    },
    {
     "name": "stdout",
     "output_type": "stream",
     "text": [
      "Saved: C:\\Users\\un747\\capstone1_AI\\data\\processed\\keypoints\\Subject.5_Hop.json\n",
      "Processing C:\\Users\\un747\\capstone1_AI\\data\\raw\\CAUCAFall\\Subject.5\\Kneel ...\n"
     ]
    },
    {
     "name": "stderr",
     "output_type": "stream",
     "text": [
      "100%|████████████████████████████████████████████████████████████████████████████████| 210/210 [00:26<00:00,  7.87it/s]\n"
     ]
    },
    {
     "name": "stdout",
     "output_type": "stream",
     "text": [
      "Saved: C:\\Users\\un747\\capstone1_AI\\data\\processed\\keypoints\\Subject.5_Kneel.json\n",
      "Processing C:\\Users\\un747\\capstone1_AI\\data\\raw\\CAUCAFall\\Subject.5\\Pick up object ...\n"
     ]
    },
    {
     "name": "stderr",
     "output_type": "stream",
     "text": [
      "100%|████████████████████████████████████████████████████████████████████████████████| 272/272 [00:38<00:00,  7.03it/s]\n"
     ]
    },
    {
     "name": "stdout",
     "output_type": "stream",
     "text": [
      "Saved: C:\\Users\\un747\\capstone1_AI\\data\\processed\\keypoints\\Subject.5_Pick up object.json\n",
      "Processing C:\\Users\\un747\\capstone1_AI\\data\\raw\\CAUCAFall\\Subject.5\\Sit down ...\n"
     ]
    },
    {
     "name": "stderr",
     "output_type": "stream",
     "text": [
      "100%|████████████████████████████████████████████████████████████████████████████████| 261/261 [00:36<00:00,  7.13it/s]\n"
     ]
    },
    {
     "name": "stdout",
     "output_type": "stream",
     "text": [
      "Saved: C:\\Users\\un747\\capstone1_AI\\data\\processed\\keypoints\\Subject.5_Sit down.json\n",
      "Processing C:\\Users\\un747\\capstone1_AI\\data\\raw\\CAUCAFall\\Subject.5\\Walk ...\n"
     ]
    },
    {
     "name": "stderr",
     "output_type": "stream",
     "text": [
      "100%|████████████████████████████████████████████████████████████████████████████████| 227/227 [00:31<00:00,  7.22it/s]\n"
     ]
    },
    {
     "name": "stdout",
     "output_type": "stream",
     "text": [
      "Saved: C:\\Users\\un747\\capstone1_AI\\data\\processed\\keypoints\\Subject.5_Walk.json\n",
      "Processing C:\\Users\\un747\\capstone1_AI\\data\\raw\\CAUCAFall\\Subject.6\\Fall backwards ...\n"
     ]
    },
    {
     "name": "stderr",
     "output_type": "stream",
     "text": [
      "100%|████████████████████████████████████████████████████████████████████████████████| 257/257 [00:36<00:00,  7.00it/s]\n"
     ]
    },
    {
     "name": "stdout",
     "output_type": "stream",
     "text": [
      "Saved: C:\\Users\\un747\\capstone1_AI\\data\\processed\\keypoints\\Subject.6_Fall backwards.json\n",
      "Processing C:\\Users\\un747\\capstone1_AI\\data\\raw\\CAUCAFall\\Subject.6\\Fall forward ...\n"
     ]
    },
    {
     "name": "stderr",
     "output_type": "stream",
     "text": [
      "100%|████████████████████████████████████████████████████████████████████████████████| 203/203 [00:28<00:00,  7.08it/s]\n"
     ]
    },
    {
     "name": "stdout",
     "output_type": "stream",
     "text": [
      "Saved: C:\\Users\\un747\\capstone1_AI\\data\\processed\\keypoints\\Subject.6_Fall forward.json\n",
      "Processing C:\\Users\\un747\\capstone1_AI\\data\\raw\\CAUCAFall\\Subject.6\\Fall left ...\n"
     ]
    },
    {
     "name": "stderr",
     "output_type": "stream",
     "text": [
      "100%|████████████████████████████████████████████████████████████████████████████████| 230/230 [00:31<00:00,  7.22it/s]\n"
     ]
    },
    {
     "name": "stdout",
     "output_type": "stream",
     "text": [
      "Saved: C:\\Users\\un747\\capstone1_AI\\data\\processed\\keypoints\\Subject.6_Fall left.json\n",
      "Processing C:\\Users\\un747\\capstone1_AI\\data\\raw\\CAUCAFall\\Subject.6\\Fall right ...\n"
     ]
    },
    {
     "name": "stderr",
     "output_type": "stream",
     "text": [
      "100%|████████████████████████████████████████████████████████████████████████████████| 230/230 [00:32<00:00,  7.08it/s]\n"
     ]
    },
    {
     "name": "stdout",
     "output_type": "stream",
     "text": [
      "Saved: C:\\Users\\un747\\capstone1_AI\\data\\processed\\keypoints\\Subject.6_Fall right.json\n",
      "Processing C:\\Users\\un747\\capstone1_AI\\data\\raw\\CAUCAFall\\Subject.6\\Fall sitting ...\n"
     ]
    },
    {
     "name": "stderr",
     "output_type": "stream",
     "text": [
      "100%|████████████████████████████████████████████████████████████████████████████████| 249/249 [00:35<00:00,  6.97it/s]\n"
     ]
    },
    {
     "name": "stdout",
     "output_type": "stream",
     "text": [
      "Saved: C:\\Users\\un747\\capstone1_AI\\data\\processed\\keypoints\\Subject.6_Fall sitting.json\n",
      "Processing C:\\Users\\un747\\capstone1_AI\\data\\raw\\CAUCAFall\\Subject.6\\Hop ...\n"
     ]
    },
    {
     "name": "stderr",
     "output_type": "stream",
     "text": [
      "100%|████████████████████████████████████████████████████████████████████████████████| 163/163 [00:24<00:00,  6.70it/s]\n"
     ]
    },
    {
     "name": "stdout",
     "output_type": "stream",
     "text": [
      "Saved: C:\\Users\\un747\\capstone1_AI\\data\\processed\\keypoints\\Subject.6_Hop.json\n",
      "Processing C:\\Users\\un747\\capstone1_AI\\data\\raw\\CAUCAFall\\Subject.6\\Kneel ...\n"
     ]
    },
    {
     "name": "stderr",
     "output_type": "stream",
     "text": [
      "100%|████████████████████████████████████████████████████████████████████████████████| 190/190 [00:29<00:00,  6.45it/s]\n"
     ]
    },
    {
     "name": "stdout",
     "output_type": "stream",
     "text": [
      "Saved: C:\\Users\\un747\\capstone1_AI\\data\\processed\\keypoints\\Subject.6_Kneel.json\n",
      "Processing C:\\Users\\un747\\capstone1_AI\\data\\raw\\CAUCAFall\\Subject.6\\Pick up object ...\n"
     ]
    },
    {
     "name": "stderr",
     "output_type": "stream",
     "text": [
      "100%|████████████████████████████████████████████████████████████████████████████████| 203/203 [00:29<00:00,  6.91it/s]\n"
     ]
    },
    {
     "name": "stdout",
     "output_type": "stream",
     "text": [
      "Saved: C:\\Users\\un747\\capstone1_AI\\data\\processed\\keypoints\\Subject.6_Pick up object.json\n",
      "Processing C:\\Users\\un747\\capstone1_AI\\data\\raw\\CAUCAFall\\Subject.6\\Sit down ...\n"
     ]
    },
    {
     "name": "stderr",
     "output_type": "stream",
     "text": [
      "100%|████████████████████████████████████████████████████████████████████████████████| 190/190 [00:29<00:00,  6.52it/s]\n"
     ]
    },
    {
     "name": "stdout",
     "output_type": "stream",
     "text": [
      "Saved: C:\\Users\\un747\\capstone1_AI\\data\\processed\\keypoints\\Subject.6_Sit down.json\n",
      "Processing C:\\Users\\un747\\capstone1_AI\\data\\raw\\CAUCAFall\\Subject.6\\Walk ...\n"
     ]
    },
    {
     "name": "stderr",
     "output_type": "stream",
     "text": [
      "100%|████████████████████████████████████████████████████████████████████████████████| 267/267 [00:40<00:00,  6.62it/s]\n"
     ]
    },
    {
     "name": "stdout",
     "output_type": "stream",
     "text": [
      "Saved: C:\\Users\\un747\\capstone1_AI\\data\\processed\\keypoints\\Subject.6_Walk.json\n",
      "Processing C:\\Users\\un747\\capstone1_AI\\data\\raw\\CAUCAFall\\Subject.7\\Fall backwards ...\n"
     ]
    },
    {
     "name": "stderr",
     "output_type": "stream",
     "text": [
      "100%|████████████████████████████████████████████████████████████████████████████████| 253/253 [00:39<00:00,  6.45it/s]\n"
     ]
    },
    {
     "name": "stdout",
     "output_type": "stream",
     "text": [
      "Saved: C:\\Users\\un747\\capstone1_AI\\data\\processed\\keypoints\\Subject.7_Fall backwards.json\n",
      "Processing C:\\Users\\un747\\capstone1_AI\\data\\raw\\CAUCAFall\\Subject.7\\Fall forward ...\n"
     ]
    },
    {
     "name": "stderr",
     "output_type": "stream",
     "text": [
      "100%|████████████████████████████████████████████████████████████████████████████████| 163/163 [00:24<00:00,  6.67it/s]\n"
     ]
    },
    {
     "name": "stdout",
     "output_type": "stream",
     "text": [
      "Saved: C:\\Users\\un747\\capstone1_AI\\data\\processed\\keypoints\\Subject.7_Fall forward.json\n",
      "Processing C:\\Users\\un747\\capstone1_AI\\data\\raw\\CAUCAFall\\Subject.7\\Fall left ...\n"
     ]
    },
    {
     "name": "stderr",
     "output_type": "stream",
     "text": [
      "100%|████████████████████████████████████████████████████████████████████████████████| 213/213 [00:33<00:00,  6.43it/s]\n"
     ]
    },
    {
     "name": "stdout",
     "output_type": "stream",
     "text": [
      "Saved: C:\\Users\\un747\\capstone1_AI\\data\\processed\\keypoints\\Subject.7_Fall left.json\n",
      "Processing C:\\Users\\un747\\capstone1_AI\\data\\raw\\CAUCAFall\\Subject.7\\Fall right ...\n"
     ]
    },
    {
     "name": "stderr",
     "output_type": "stream",
     "text": [
      "100%|████████████████████████████████████████████████████████████████████████████████| 167/167 [00:25<00:00,  6.66it/s]\n"
     ]
    },
    {
     "name": "stdout",
     "output_type": "stream",
     "text": [
      "Saved: C:\\Users\\un747\\capstone1_AI\\data\\processed\\keypoints\\Subject.7_Fall right.json\n",
      "Processing C:\\Users\\un747\\capstone1_AI\\data\\raw\\CAUCAFall\\Subject.7\\Fall sitting ...\n"
     ]
    },
    {
     "name": "stderr",
     "output_type": "stream",
     "text": [
      "100%|████████████████████████████████████████████████████████████████████████████████| 208/208 [00:31<00:00,  6.55it/s]\n"
     ]
    },
    {
     "name": "stdout",
     "output_type": "stream",
     "text": [
      "Saved: C:\\Users\\un747\\capstone1_AI\\data\\processed\\keypoints\\Subject.7_Fall sitting.json\n",
      "Processing C:\\Users\\un747\\capstone1_AI\\data\\raw\\CAUCAFall\\Subject.7\\Hop ...\n"
     ]
    },
    {
     "name": "stderr",
     "output_type": "stream",
     "text": [
      "100%|████████████████████████████████████████████████████████████████████████████████| 199/199 [00:30<00:00,  6.58it/s]\n"
     ]
    },
    {
     "name": "stdout",
     "output_type": "stream",
     "text": [
      "Saved: C:\\Users\\un747\\capstone1_AI\\data\\processed\\keypoints\\Subject.7_Hop.json\n",
      "Processing C:\\Users\\un747\\capstone1_AI\\data\\raw\\CAUCAFall\\Subject.7\\Kneel ...\n"
     ]
    },
    {
     "name": "stderr",
     "output_type": "stream",
     "text": [
      "100%|████████████████████████████████████████████████████████████████████████████████| 203/203 [00:31<00:00,  6.49it/s]\n"
     ]
    },
    {
     "name": "stdout",
     "output_type": "stream",
     "text": [
      "Saved: C:\\Users\\un747\\capstone1_AI\\data\\processed\\keypoints\\Subject.7_Kneel.json\n",
      "Processing C:\\Users\\un747\\capstone1_AI\\data\\raw\\CAUCAFall\\Subject.7\\Pick up object ...\n"
     ]
    },
    {
     "name": "stderr",
     "output_type": "stream",
     "text": [
      "100%|████████████████████████████████████████████████████████████████████████████████| 154/154 [00:22<00:00,  6.79it/s]\n"
     ]
    },
    {
     "name": "stdout",
     "output_type": "stream",
     "text": [
      "Saved: C:\\Users\\un747\\capstone1_AI\\data\\processed\\keypoints\\Subject.7_Pick up object.json\n",
      "Processing C:\\Users\\un747\\capstone1_AI\\data\\raw\\CAUCAFall\\Subject.7\\Sit down ...\n"
     ]
    },
    {
     "name": "stderr",
     "output_type": "stream",
     "text": [
      "100%|████████████████████████████████████████████████████████████████████████████████| 194/194 [00:29<00:00,  6.53it/s]\n"
     ]
    },
    {
     "name": "stdout",
     "output_type": "stream",
     "text": [
      "Saved: C:\\Users\\un747\\capstone1_AI\\data\\processed\\keypoints\\Subject.7_Sit down.json\n",
      "Processing C:\\Users\\un747\\capstone1_AI\\data\\raw\\CAUCAFall\\Subject.7\\Walk ...\n"
     ]
    },
    {
     "name": "stderr",
     "output_type": "stream",
     "text": [
      "100%|████████████████████████████████████████████████████████████████████████████████| 194/194 [00:28<00:00,  6.74it/s]\n"
     ]
    },
    {
     "name": "stdout",
     "output_type": "stream",
     "text": [
      "Saved: C:\\Users\\un747\\capstone1_AI\\data\\processed\\keypoints\\Subject.7_Walk.json\n",
      "Processing C:\\Users\\un747\\capstone1_AI\\data\\raw\\CAUCAFall\\Subject.8\\Fall backwards ...\n"
     ]
    },
    {
     "name": "stderr",
     "output_type": "stream",
     "text": [
      "100%|████████████████████████████████████████████████████████████████████████████████| 213/213 [00:31<00:00,  6.81it/s]\n"
     ]
    },
    {
     "name": "stdout",
     "output_type": "stream",
     "text": [
      "Saved: C:\\Users\\un747\\capstone1_AI\\data\\processed\\keypoints\\Subject.8_Fall backwards.json\n",
      "Processing C:\\Users\\un747\\capstone1_AI\\data\\raw\\CAUCAFall\\Subject.8\\Fall forward ...\n"
     ]
    },
    {
     "name": "stderr",
     "output_type": "stream",
     "text": [
      "100%|████████████████████████████████████████████████████████████████████████████████| 123/123 [00:15<00:00,  7.70it/s]\n"
     ]
    },
    {
     "name": "stdout",
     "output_type": "stream",
     "text": [
      "Saved: C:\\Users\\un747\\capstone1_AI\\data\\processed\\keypoints\\Subject.8_Fall forward.json\n",
      "Processing C:\\Users\\un747\\capstone1_AI\\data\\raw\\CAUCAFall\\Subject.8\\Fall left ...\n"
     ]
    },
    {
     "name": "stderr",
     "output_type": "stream",
     "text": [
      "100%|████████████████████████████████████████████████████████████████████████████████| 203/203 [00:29<00:00,  6.84it/s]\n"
     ]
    },
    {
     "name": "stdout",
     "output_type": "stream",
     "text": [
      "Saved: C:\\Users\\un747\\capstone1_AI\\data\\processed\\keypoints\\Subject.8_Fall left.json\n",
      "Processing C:\\Users\\un747\\capstone1_AI\\data\\raw\\CAUCAFall\\Subject.8\\Fall right ...\n"
     ]
    },
    {
     "name": "stderr",
     "output_type": "stream",
     "text": [
      "100%|████████████████████████████████████████████████████████████████████████████████| 230/230 [00:31<00:00,  7.29it/s]\n"
     ]
    },
    {
     "name": "stdout",
     "output_type": "stream",
     "text": [
      "Saved: C:\\Users\\un747\\capstone1_AI\\data\\processed\\keypoints\\Subject.8_Fall right.json\n",
      "Processing C:\\Users\\un747\\capstone1_AI\\data\\raw\\CAUCAFall\\Subject.8\\Fall sitting ...\n"
     ]
    },
    {
     "name": "stderr",
     "output_type": "stream",
     "text": [
      "100%|████████████████████████████████████████████████████████████████████████████████| 235/235 [00:33<00:00,  6.92it/s]\n"
     ]
    },
    {
     "name": "stdout",
     "output_type": "stream",
     "text": [
      "Saved: C:\\Users\\un747\\capstone1_AI\\data\\processed\\keypoints\\Subject.8_Fall sitting.json\n",
      "Processing C:\\Users\\un747\\capstone1_AI\\data\\raw\\CAUCAFall\\Subject.8\\Hop ...\n"
     ]
    },
    {
     "name": "stderr",
     "output_type": "stream",
     "text": [
      "100%|████████████████████████████████████████████████████████████████████████████████| 167/167 [00:23<00:00,  6.99it/s]\n"
     ]
    },
    {
     "name": "stdout",
     "output_type": "stream",
     "text": [
      "Saved: C:\\Users\\un747\\capstone1_AI\\data\\processed\\keypoints\\Subject.8_Hop.json\n",
      "Processing C:\\Users\\un747\\capstone1_AI\\data\\raw\\CAUCAFall\\Subject.8\\Kneel ...\n"
     ]
    },
    {
     "name": "stderr",
     "output_type": "stream",
     "text": [
      "100%|████████████████████████████████████████████████████████████████████████████████| 257/257 [00:37<00:00,  6.80it/s]\n"
     ]
    },
    {
     "name": "stdout",
     "output_type": "stream",
     "text": [
      "Saved: C:\\Users\\un747\\capstone1_AI\\data\\processed\\keypoints\\Subject.8_Kneel.json\n",
      "Processing C:\\Users\\un747\\capstone1_AI\\data\\raw\\CAUCAFall\\Subject.8\\Pick up object ...\n"
     ]
    },
    {
     "name": "stderr",
     "output_type": "stream",
     "text": [
      "100%|████████████████████████████████████████████████████████████████████████████████| 267/267 [00:39<00:00,  6.83it/s]\n"
     ]
    },
    {
     "name": "stdout",
     "output_type": "stream",
     "text": [
      "Saved: C:\\Users\\un747\\capstone1_AI\\data\\processed\\keypoints\\Subject.8_Pick up object.json\n",
      "Processing C:\\Users\\un747\\capstone1_AI\\data\\raw\\CAUCAFall\\Subject.8\\Sit down ...\n"
     ]
    },
    {
     "name": "stderr",
     "output_type": "stream",
     "text": [
      "100%|████████████████████████████████████████████████████████████████████████████████| 213/213 [00:30<00:00,  7.05it/s]\n"
     ]
    },
    {
     "name": "stdout",
     "output_type": "stream",
     "text": [
      "Saved: C:\\Users\\un747\\capstone1_AI\\data\\processed\\keypoints\\Subject.8_Sit down.json\n",
      "Processing C:\\Users\\un747\\capstone1_AI\\data\\raw\\CAUCAFall\\Subject.8\\Walk ...\n"
     ]
    },
    {
     "name": "stderr",
     "output_type": "stream",
     "text": [
      "100%|████████████████████████████████████████████████████████████████████████████████| 217/217 [00:32<00:00,  6.73it/s]\n"
     ]
    },
    {
     "name": "stdout",
     "output_type": "stream",
     "text": [
      "Saved: C:\\Users\\un747\\capstone1_AI\\data\\processed\\keypoints\\Subject.8_Walk.json\n",
      "Processing C:\\Users\\un747\\capstone1_AI\\data\\raw\\CAUCAFall\\Subject.9\\Fall backwards ...\n"
     ]
    },
    {
     "name": "stderr",
     "output_type": "stream",
     "text": [
      "100%|████████████████████████████████████████████████████████████████████████████████| 253/253 [00:38<00:00,  6.52it/s]\n"
     ]
    },
    {
     "name": "stdout",
     "output_type": "stream",
     "text": [
      "Saved: C:\\Users\\un747\\capstone1_AI\\data\\processed\\keypoints\\Subject.9_Fall backwards.json\n",
      "Processing C:\\Users\\un747\\capstone1_AI\\data\\raw\\CAUCAFall\\Subject.9\\Fall forward ...\n"
     ]
    },
    {
     "name": "stderr",
     "output_type": "stream",
     "text": [
      "100%|████████████████████████████████████████████████████████████████████████████████| 149/149 [00:20<00:00,  7.12it/s]\n"
     ]
    },
    {
     "name": "stdout",
     "output_type": "stream",
     "text": [
      "Saved: C:\\Users\\un747\\capstone1_AI\\data\\processed\\keypoints\\Subject.9_Fall forward.json\n",
      "Processing C:\\Users\\un747\\capstone1_AI\\data\\raw\\CAUCAFall\\Subject.9\\Fall left ...\n"
     ]
    },
    {
     "name": "stderr",
     "output_type": "stream",
     "text": [
      "100%|████████████████████████████████████████████████████████████████████████████████| 208/208 [00:35<00:00,  5.91it/s]\n"
     ]
    },
    {
     "name": "stdout",
     "output_type": "stream",
     "text": [
      "Saved: C:\\Users\\un747\\capstone1_AI\\data\\processed\\keypoints\\Subject.9_Fall left.json\n",
      "Processing C:\\Users\\un747\\capstone1_AI\\data\\raw\\CAUCAFall\\Subject.9\\Fall right ...\n"
     ]
    },
    {
     "name": "stderr",
     "output_type": "stream",
     "text": [
      "100%|████████████████████████████████████████████████████████████████████████████████| 190/190 [00:28<00:00,  6.65it/s]\n"
     ]
    },
    {
     "name": "stdout",
     "output_type": "stream",
     "text": [
      "Saved: C:\\Users\\un747\\capstone1_AI\\data\\processed\\keypoints\\Subject.9_Fall right.json\n",
      "Processing C:\\Users\\un747\\capstone1_AI\\data\\raw\\CAUCAFall\\Subject.9\\Fall sitting ...\n"
     ]
    },
    {
     "name": "stderr",
     "output_type": "stream",
     "text": [
      "100%|████████████████████████████████████████████████████████████████████████████████| 217/217 [00:33<00:00,  6.51it/s]\n"
     ]
    },
    {
     "name": "stdout",
     "output_type": "stream",
     "text": [
      "Saved: C:\\Users\\un747\\capstone1_AI\\data\\processed\\keypoints\\Subject.9_Fall sitting.json\n",
      "Processing C:\\Users\\un747\\capstone1_AI\\data\\raw\\CAUCAFall\\Subject.9\\Hop ...\n"
     ]
    },
    {
     "name": "stderr",
     "output_type": "stream",
     "text": [
      "100%|████████████████████████████████████████████████████████████████████████████████| 213/213 [00:32<00:00,  6.54it/s]\n"
     ]
    },
    {
     "name": "stdout",
     "output_type": "stream",
     "text": [
      "Saved: C:\\Users\\un747\\capstone1_AI\\data\\processed\\keypoints\\Subject.9_Hop.json\n",
      "Processing C:\\Users\\un747\\capstone1_AI\\data\\raw\\CAUCAFall\\Subject.9\\Kneel ...\n"
     ]
    },
    {
     "name": "stderr",
     "output_type": "stream",
     "text": [
      "100%|████████████████████████████████████████████████████████████████████████████████| 217/217 [00:32<00:00,  6.60it/s]\n"
     ]
    },
    {
     "name": "stdout",
     "output_type": "stream",
     "text": [
      "Saved: C:\\Users\\un747\\capstone1_AI\\data\\processed\\keypoints\\Subject.9_Kneel.json\n",
      "Processing C:\\Users\\un747\\capstone1_AI\\data\\raw\\CAUCAFall\\Subject.9\\Pick up object ...\n"
     ]
    },
    {
     "name": "stderr",
     "output_type": "stream",
     "text": [
      "100%|████████████████████████████████████████████████████████████████████████████████| 221/221 [00:33<00:00,  6.59it/s]\n"
     ]
    },
    {
     "name": "stdout",
     "output_type": "stream",
     "text": [
      "Saved: C:\\Users\\un747\\capstone1_AI\\data\\processed\\keypoints\\Subject.9_Pick up object.json\n",
      "Processing C:\\Users\\un747\\capstone1_AI\\data\\raw\\CAUCAFall\\Subject.9\\Sit down ...\n"
     ]
    },
    {
     "name": "stderr",
     "output_type": "stream",
     "text": [
      "100%|████████████████████████████████████████████████████████████████████████████████| 239/239 [00:36<00:00,  6.54it/s]\n"
     ]
    },
    {
     "name": "stdout",
     "output_type": "stream",
     "text": [
      "Saved: C:\\Users\\un747\\capstone1_AI\\data\\processed\\keypoints\\Subject.9_Sit down.json\n",
      "Processing C:\\Users\\un747\\capstone1_AI\\data\\raw\\CAUCAFall\\Subject.9\\Walk ...\n"
     ]
    },
    {
     "name": "stderr",
     "output_type": "stream",
     "text": [
      "100%|████████████████████████████████████████████████████████████████████████████████| 235/235 [00:35<00:00,  6.67it/s]\n"
     ]
    },
    {
     "name": "stdout",
     "output_type": "stream",
     "text": [
      "Saved: C:\\Users\\un747\\capstone1_AI\\data\\processed\\keypoints\\Subject.9_Walk.json\n"
     ]
    }
   ],
   "source": [
    "# MediaPipe pose 모델 초기화\n",
    "mp_pose = mp.solutions.pose\n",
    "pose = mp_pose.Pose(static_image_mode=False,\n",
    "                    model_complexity=1,\n",
    "                    enable_segmentation=False,\n",
    "                    min_detection_confidence=0.5,\n",
    "                    min_tracking_confidence=0.5)\n",
    "\n",
    "draw = mp.solutions.drawing_utils\n",
    "\n",
    "RAW_DIR = BASE_DIR / \"data\" / \"raw\" / \"CAUCAFall\"\n",
    "process_caucafall_dataset(RAW_DIR, PROCESSED_DIR / \"keypoints\")\n",
    "\n",
    "pose.close()"
   ]
  },
  {
   "cell_type": "code",
   "execution_count": 42,
   "id": "dc560ff4-9a0f-4c26-abe9-574a443e5c10",
   "metadata": {},
   "outputs": [],
   "source": [
    "import json\n",
    "from pathlib import Path\n",
    "\n",
    "def unify_fall_labels(processed_dir, pre_fall_frames=20, post_fall_frames=10):\n",
    "    \"\"\"\n",
    "    processed_dir 내부의 모든 JSON 파일을 순회하면서\n",
    "    - 낙상(label=1)이 있는 경우, 낙상 시작 전 pre_fall_frames, 이후 post_fall_frames을 포함하도록 수정\n",
    "    - 낙상(label=1)이 없는 파일은 그대로 둠\n",
    "    \"\"\"\n",
    "    processed_dir = Path(processed_dir)\n",
    "    json_files = list(processed_dir.rglob(\"*.json\"))\n",
    "\n",
    "    modified_count = 0\n",
    "\n",
    "    for json_path in json_files:\n",
    "        with open(json_path, 'r') as f:\n",
    "            data = json.load(f)\n",
    "\n",
    "        labels = [frame[\"label\"] for frame in data]\n",
    "        \n",
    "        if sum(labels) == 0:\n",
    "            # 낙상 없는 파일은 건드리지 않음\n",
    "            continue\n",
    "        \n",
    "        # 낙상이 시작되는 첫 프레임과 마지막 프레임 찾기\n",
    "        fall_indices = [i for i, l in enumerate(labels) if l == 1]\n",
    "        fall_start = fall_indices[0]\n",
    "        fall_end = fall_indices[-1]\n",
    "\n",
    "        # 통일된 범위: 시작 이전 pre_fall_frames, 끝 이후 post_fall_frames\n",
    "        start = max(fall_start - pre_fall_frames, 0)\n",
    "        end = min(fall_start + post_fall_frames, len(labels) - 1)\n",
    "\n",
    "        # 라벨 수정\n",
    "        for i in range(start, end + 1):\n",
    "            data[i][\"label\"] = 1\n",
    "\n",
    "        for i in range(end + 1, len(labels)):\n",
    "            data[i][\"label\"] = 0\n",
    "\n",
    "        # 덮어쓰기 저장\n",
    "        with open(json_path, 'w') as f:\n",
    "            json.dump(data, f, indent=2)\n",
    "\n",
    "        modified_count += 1\n",
    "        print(f\"✅ Updated: {json_path.name} (frames {start}~{end} marked as fall)\")\n",
    "\n",
    "    print(f\"\\n총 {modified_count}개의 낙상 파일 수정 완료 ✅\")"
   ]
  },
  {
   "cell_type": "code",
   "execution_count": 46,
   "id": "3716c562-c6a8-477b-a6f4-4a41b8e607e0",
   "metadata": {
    "scrolled": true
   },
   "outputs": [
    {
     "name": "stdout",
     "output_type": "stream",
     "text": [
      "✅ Updated: Subject.10_Fall backwards.json (frames 58~88 marked as fall)\n",
      "✅ Updated: Subject.10_Fall forward.json (frames 33~63 marked as fall)\n",
      "✅ Updated: Subject.10_Fall left.json (frames 30~60 marked as fall)\n",
      "✅ Updated: Subject.10_Fall right.json (frames 54~84 marked as fall)\n",
      "✅ Updated: Subject.10_Fall sitting.json (frames 56~86 marked as fall)\n",
      "✅ Updated: Subject.1_Fall backwards.json (frames 38~68 marked as fall)\n",
      "✅ Updated: Subject.1_Fall forward.json (frames 111~141 marked as fall)\n",
      "✅ Updated: Subject.1_Fall left.json (frames 24~54 marked as fall)\n",
      "✅ Updated: Subject.1_Fall right.json (frames 36~66 marked as fall)\n",
      "✅ Updated: Subject.1_Fall sitting.json (frames 78~108 marked as fall)\n",
      "✅ Updated: Subject.2_Fall backwards.json (frames 43~73 marked as fall)\n",
      "✅ Updated: Subject.2_Fall forward.json (frames 4~34 marked as fall)\n",
      "✅ Updated: Subject.2_Fall left.json (frames 12~42 marked as fall)\n",
      "✅ Updated: Subject.2_Fall right.json (frames 13~43 marked as fall)\n",
      "✅ Updated: Subject.2_Fall sitting.json (frames 61~91 marked as fall)\n",
      "✅ Updated: Subject.3_Fall backwards.json (frames 47~77 marked as fall)\n",
      "✅ Updated: Subject.3_Fall forward.json (frames 64~94 marked as fall)\n",
      "✅ Updated: Subject.3_Fall left.json (frames 82~112 marked as fall)\n",
      "✅ Updated: Subject.3_Fall right.json (frames 33~63 marked as fall)\n",
      "✅ Updated: Subject.3_Fall sitting.json (frames 31~61 marked as fall)\n",
      "✅ Updated: Subject.4_Fall backwards.json (frames 50~80 marked as fall)\n",
      "✅ Updated: Subject.4_Fall forward.json (frames 5~35 marked as fall)\n",
      "✅ Updated: Subject.4_Fall left.json (frames 41~71 marked as fall)\n",
      "✅ Updated: Subject.4_Fall right.json (frames 27~57 marked as fall)\n",
      "✅ Updated: Subject.4_Fall sitting.json (frames 41~71 marked as fall)\n",
      "✅ Updated: Subject.5_Fall backwards.json (frames 28~58 marked as fall)\n",
      "✅ Updated: Subject.5_Fall forward.json (frames 38~68 marked as fall)\n",
      "✅ Updated: Subject.5_Fall left.json (frames 56~86 marked as fall)\n",
      "✅ Updated: Subject.5_Fall right.json (frames 55~85 marked as fall)\n",
      "✅ Updated: Subject.5_Fall sitting.json (frames 49~79 marked as fall)\n",
      "✅ Updated: Subject.6_Fall backwards.json (frames 71~101 marked as fall)\n",
      "✅ Updated: Subject.6_Fall forward.json (frames 63~93 marked as fall)\n",
      "✅ Updated: Subject.6_Fall left.json (frames 31~61 marked as fall)\n",
      "✅ Updated: Subject.6_Fall right.json (frames 61~91 marked as fall)\n",
      "✅ Updated: Subject.6_Fall sitting.json (frames 87~117 marked as fall)\n",
      "✅ Updated: Subject.7_Fall backwards.json (frames 72~102 marked as fall)\n",
      "✅ Updated: Subject.7_Fall forward.json (frames 23~53 marked as fall)\n",
      "✅ Updated: Subject.7_Fall left.json (frames 53~83 marked as fall)\n",
      "✅ Updated: Subject.7_Fall right.json (frames 26~56 marked as fall)\n",
      "✅ Updated: Subject.7_Fall sitting.json (frames 27~57 marked as fall)\n",
      "✅ Updated: Subject.8_Fall backwards.json (frames 44~74 marked as fall)\n",
      "✅ Updated: Subject.8_Fall forward.json (frames 20~50 marked as fall)\n",
      "✅ Updated: Subject.8_Fall left.json (frames 37~67 marked as fall)\n",
      "✅ Updated: Subject.8_Fall right.json (frames 39~69 marked as fall)\n",
      "✅ Updated: Subject.8_Fall sitting.json (frames 60~90 marked as fall)\n",
      "✅ Updated: Subject.9_Fall backwards.json (frames 45~75 marked as fall)\n",
      "✅ Updated: Subject.9_Fall forward.json (frames 36~66 marked as fall)\n",
      "✅ Updated: Subject.9_Fall left.json (frames 35~65 marked as fall)\n",
      "✅ Updated: Subject.9_Fall right.json (frames 37~67 marked as fall)\n",
      "✅ Updated: Subject.9_Fall sitting.json (frames 69~99 marked as fall)\n",
      "\n",
      "총 50개의 낙상 파일 수정 완료 ✅\n"
     ]
    }
   ],
   "source": [
    "# 사용 예시\n",
    "\n",
    "unify_fall_labels(BASE_DIR / \"data\" / \"processed\" / \"keypoints\" / \"CAUCAFall_js\", pre_fall_frames=20, post_fall_frames=10)"
   ]
  },
  {
   "cell_type": "code",
   "execution_count": 20,
   "id": "b9e44a9d-bba5-488f-9633-b88dfdeaad26",
   "metadata": {},
   "outputs": [
    {
     "name": "stdout",
     "output_type": "stream",
     "text": [
      "✅ npz 파일 저장 완료: C:\\Users\\un747\\capstone1_AI\\data\\processed\\npz\\fall_dataset.npz\n",
      "총 샘플 수: 603 (낙상: 146, 비낙상: 457)\n",
      "X shape: (603, 80, 132) | Y shape: (603,)\n"
     ]
    }
   ],
   "source": [
    "import json\n",
    "import numpy as np\n",
    "from pathlib import Path\n",
    "\n",
    "# 경로 설정\n",
    "BASE_DIR = Path.cwd().parent   # src의 상위 폴더\n",
    "DATA_DIR = BASE_DIR / \"data\" / \"processed\" / \"keypoints\"  # JSON 폴더\n",
    "SAVE_DIR = BASE_DIR / \"data\" / \"processed\" / \"npz\"        # npz 저장 폴더\n",
    "\n",
    "SAVE_DIR.mkdir(parents=True, exist_ok=True)\n",
    "\n",
    "FALL_WINDOW_BEFORE = 40\n",
    "FALL_WINDOW_AFTER = 40\n",
    "NORMAL_WINDOW = 80\n",
    "NORMAL_STRIDE = 40\n",
    "# =================\n",
    "\n",
    "FALL_LEN = FALL_WINDOW_BEFORE + FALL_WINDOW_AFTER\n",
    "NORMAL_LEN = NORMAL_WINDOW\n",
    "# ======================\n",
    "\n",
    "X, Y = [], []\n",
    "\n",
    "\n",
    "def pad_or_trim(sequence, target_len):\n",
    "    \"\"\"시퀀스를 target_len에 맞게 패딩 또는 자르기\"\"\"\n",
    "    seq_len = len(sequence)\n",
    "    feature_dim = sequence.shape[1]\n",
    "\n",
    "    if seq_len == target_len:\n",
    "        return sequence\n",
    "    elif seq_len > target_len:\n",
    "        return sequence[:target_len]\n",
    "    else:\n",
    "        pad_len = target_len - seq_len\n",
    "        pad = np.zeros((pad_len, feature_dim), dtype=np.float32)\n",
    "        return np.vstack([sequence, pad])\n",
    "\n",
    "\n",
    "def extract_clip(frames, start_idx, end_idx):\n",
    "    \"\"\"frames[start_idx:end_idx]의 관절 keypoints 추출\"\"\"\n",
    "    clip = []\n",
    "    for f in frames[start_idx:end_idx]:\n",
    "        key = f[\"keypoints\"]\n",
    "        flat = [v for kp in key for v in kp]  # 33 joints × 4 = 132D\n",
    "        clip.append(flat)\n",
    "    return np.array(clip, dtype=np.float32)\n",
    "\n",
    "\n",
    "def process_json(json_path):\n",
    "    \"\"\"하나의 json 파일에서 낙상/비낙상 구간 클립 추출\"\"\"\n",
    "    with open(json_path, \"r\") as f:\n",
    "        data = json.load(f)\n",
    "\n",
    "    labels = [frame[\"label\"] for frame in data]\n",
    "    has_fall = 1 in labels\n",
    "\n",
    "    # ---------- 낙상 ----------\n",
    "    if has_fall:\n",
    "        fall_start = labels.index(1)\n",
    "        start_idx = max(0, fall_start - FALL_WINDOW_BEFORE)\n",
    "        end_idx = min(len(data), fall_start + FALL_WINDOW_AFTER)\n",
    "        clip = extract_clip(data, start_idx, end_idx)\n",
    "        clip = pad_or_trim(clip, FALL_LEN)\n",
    "        X.append(clip)\n",
    "        Y.append(1)\n",
    "\n",
    "    # ---------- 비낙상 ----------\n",
    "    else:\n",
    "        total_frames = len(data)\n",
    "        for start in range(0, total_frames - NORMAL_WINDOW + 1, NORMAL_STRIDE):\n",
    "            end = start + NORMAL_WINDOW\n",
    "            clip = extract_clip(data, start, end)\n",
    "            clip = pad_or_trim(clip, NORMAL_LEN)\n",
    "            X.append(clip)\n",
    "            Y.append(0)\n",
    "\n",
    "\n",
    "# ==============================\n",
    "# 모든 json 처리\n",
    "# ==============================\n",
    "for json_file in sorted(DATA_DIR.glob(\"*.json\")):\n",
    "    process_json(json_file)\n",
    "\n",
    "# numpy 배열로 변환 (이제 shape 일정)\n",
    "X = np.array(X, dtype=np.float32)\n",
    "Y = np.array(Y, dtype=np.int32)\n",
    "\n",
    "np.savez_compressed(SAVE_DIR / \"fall_dataset.npz\", X=X, Y=Y)\n",
    "\n",
    "print(f\"✅ npz 파일 저장 완료: {SAVE_DIR / 'fall_dataset.npz'}\")\n",
    "print(f\"총 샘플 수: {len(X)} (낙상: {sum(Y)}, 비낙상: {len(Y)-sum(Y)})\")\n",
    "print(f\"X shape: {X.shape} | Y shape: {Y.shape}\")"
   ]
  },
  {
   "cell_type": "code",
   "execution_count": null,
   "id": "246efa95-f2eb-4061-90c4-b5bc255dd1e0",
   "metadata": {},
   "outputs": [],
   "source": []
  }
 ],
 "metadata": {
  "kernelspec": {
   "display_name": "Python (fall)",
   "language": "python",
   "name": "fall"
  },
  "language_info": {
   "codemirror_mode": {
    "name": "ipython",
    "version": 3
   },
   "file_extension": ".py",
   "mimetype": "text/x-python",
   "name": "python",
   "nbconvert_exporter": "python",
   "pygments_lexer": "ipython3",
   "version": "3.10.18"
  }
 },
 "nbformat": 4,
 "nbformat_minor": 5
}
