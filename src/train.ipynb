{
 "cells": [
  {
   "cell_type": "code",
   "execution_count": 4,
   "id": "c45a7d13-73dd-4a23-883c-e53e90f01f70",
   "metadata": {},
   "outputs": [
    {
     "name": "stdout",
     "output_type": "stream",
     "text": [
      "['X', 'Y']\n"
     ]
    }
   ],
   "source": [
    "import numpy as np\n",
    "\n",
    "# npz 파일 불러오기\n",
    "data = np.load(\"../data/processed/npz/fall_dataset.npz\")\n",
    "\n",
    "# 포함된 배열 이름(키) 확인\n",
    "print(data.files)"
   ]
  },
  {
   "cell_type": "code",
   "execution_count": 6,
   "id": "92e7e56e-9c94-4928-bd4f-e0ed57cc5070",
   "metadata": {},
   "outputs": [
    {
     "name": "stdout",
     "output_type": "stream",
     "text": [
      "X: shape=(603, 80, 132), dtype=float32\n",
      "Y: shape=(603,), dtype=int32\n"
     ]
    }
   ],
   "source": [
    "for key in data.files:\n",
    "    print(f\"{key}: shape={data[key].shape}, dtype={data[key].dtype}\")"
   ]
  },
  {
   "cell_type": "code",
   "execution_count": 8,
   "id": "9bcf01fe-9d13-499d-a1db-2aab4b1bb8ab",
   "metadata": {},
   "outputs": [
    {
     "name": "stdout",
     "output_type": "stream",
     "text": [
      "\n",
      "===== 🔹 X =====\n",
      "데이터 타입: <class 'numpy.ndarray'>\n",
      "배열 길이: 603\n",
      "각 샘플 shape: (80, 132)\n",
      "\n",
      "▶ 데이터 예시:\n",
      "[[[ 0.          0.          0.         ...  0.          0.\n",
      "    0.        ]\n",
      "  [ 0.          0.          0.         ...  0.          0.\n",
      "    0.        ]\n",
      "  [ 0.          0.          0.         ...  0.          0.\n",
      "    0.        ]\n",
      "  ...\n",
      "  [ 0.27293772  0.6265868   0.08700023 ...  0.83788586 -0.00574968\n",
      "    0.7727751 ]\n",
      "  [ 0.27303737  0.6265299   0.09210216 ...  0.8377004  -0.01325505\n",
      "    0.76665986]\n",
      "  [ 0.2730993   0.62594956  0.09104376 ...  0.8372298   0.01354664\n",
      "    0.75752795]]\n",
      "\n",
      " [[ 0.31872207  0.23558328 -0.42529473 ...  0.69121736  0.16975142\n",
      "    0.94010687]\n",
      "  [ 0.32702133  0.24053772 -0.40278172 ...  0.6913808   0.18703678\n",
      "    0.93140626]\n",
      "  [ 0.33841783  0.23897314 -0.39329156 ...  0.7007806   0.17574376\n",
      "    0.92353743]\n",
      "  ...\n",
      "  [ 0.6550083   0.6550693  -0.0456286  ...  0.8437597  -0.4253331\n",
      "    0.9848828 ]\n",
      "  [ 0.6565796   0.6547311  -0.01307719 ...  0.84413743 -0.42496118\n",
      "    0.98613954]\n",
      "  [ 0.656896    0.65450513 -0.00481452 ...  0.8453887  -0.4254198\n",
      "    0.9872209 ]]]\n",
      "\n",
      "===== 🔹 Y =====\n",
      "데이터 타입: <class 'numpy.ndarray'>\n",
      "배열 길이: 603\n",
      "각 샘플 shape: ()\n",
      "\n",
      "▶ 데이터 예시:\n",
      "[1 1]\n"
     ]
    }
   ],
   "source": [
    "for key in data.files:\n",
    "    value = data[key]\n",
    "    print(f\"\\n===== 🔹 {key} =====\")\n",
    "    print(f\"데이터 타입: {type(value)}\")\n",
    "    print(f\"배열 길이: {len(value)}\")\n",
    "\n",
    "    # value가 넘파이 배열이면 shape 확인\n",
    "    if isinstance(value, np.ndarray):\n",
    "        if hasattr(value[0], 'shape'):\n",
    "            print(f\"각 샘플 shape: {value[0].shape}\")\n",
    "        else:\n",
    "            print(\"단일 값 혹은 리스트 형태\")\n",
    "\n",
    "    # 실제 내용 일부 출력\n",
    "    print(\"\\n▶ 데이터 예시:\")\n",
    "    if isinstance(value, np.ndarray):\n",
    "        print(value[:2])  # 앞의 2개만 출력 (너무 길면 잘림)\n",
    "    else:\n",
    "        print(value)"
   ]
  },
  {
   "cell_type": "code",
   "execution_count": 10,
   "id": "34d4b63a-003c-4ff8-b85c-c8427ec46b9a",
   "metadata": {},
   "outputs": [
    {
     "name": "stdout",
     "output_type": "stream",
     "text": [
      "Device: cpu\n"
     ]
    }
   ],
   "source": [
    "# 셀 1: imports + seed + 경로\n",
    "import os, random\n",
    "from pathlib import Path\n",
    "import numpy as np\n",
    "import torch\n",
    "import torch.nn as nn\n",
    "from torch.utils.data import Dataset, DataLoader\n",
    "from sklearn.model_selection import train_test_split\n",
    "from sklearn.preprocessing import StandardScaler\n",
    "from sklearn.metrics import accuracy_score, precision_recall_fscore_support, confusion_matrix\n",
    "from tqdm.notebook import tqdm\n",
    "\n",
    "# 재현성\n",
    "def set_seed(seed=42):\n",
    "    random.seed(seed)\n",
    "    np.random.seed(seed)\n",
    "    torch.manual_seed(seed)\n",
    "    if torch.cuda.is_available():\n",
    "        torch.cuda.manual_seed_all(seed)\n",
    "\n",
    "set_seed(42)\n",
    "\n",
    "# 데이터 경로 (환경에 맞게 수정)\n",
    "BASE_DIR = Path.cwd().parent   # 예: src에서 실행하면 프로젝트 루트\n",
    "NPZ_PATH = BASE_DIR / \"data\" / \"processed\" / \"npz\" / \"fall_dataset.npz\"\n",
    "\n",
    "# 디바이스\n",
    "device = torch.device(\"cuda\" if torch.cuda.is_available() else \"cpu\")\n",
    "print(\"Device:\", device)"
   ]
  },
  {
   "cell_type": "code",
   "execution_count": 12,
   "id": "5e117888-0e1c-4798-bd83-2a63dcabd29f",
   "metadata": {},
   "outputs": [
    {
     "name": "stdout",
     "output_type": "stream",
     "text": [
      "keys: ['X', 'Y']\n",
      "X dtype, shape: float32 (603, 80, 132)\n",
      "Y dtype, shape: int32 (603,)\n",
      "positive (fall) count: 146 negative count: 457\n"
     ]
    }
   ],
   "source": [
    "# 셀 2: npz 로드 및 확인\n",
    "data = np.load(NPZ_PATH)\n",
    "print(\"keys:\", data.files)   # 보통 ['X','Y']\n",
    "\n",
    "X = data['X']   # (N, T, D)\n",
    "Y = data['Y']   # (N,)\n",
    "\n",
    "print(\"X dtype, shape:\", X.dtype, X.shape)\n",
    "print(\"Y dtype, shape:\", Y.dtype, Y.shape)\n",
    "print(\"positive (fall) count:\", int(Y.sum()), \"negative count:\", len(Y)-int(Y.sum()))"
   ]
  },
  {
   "cell_type": "code",
   "execution_count": 14,
   "id": "2aea9289-a14b-406b-ba63-bc654a436651",
   "metadata": {},
   "outputs": [
    {
     "name": "stdout",
     "output_type": "stream",
     "text": [
      "train: (481, 80, 132) (481,)\n",
      "val:   (61, 80, 132) (61,)\n",
      "test:  (61, 80, 132) (61,)\n"
     ]
    }
   ],
   "source": [
    "# 셀 3: split (샘플 단위 stratify)\n",
    "test_ratio = 0.1\n",
    "val_ratio = 0.1\n",
    "\n",
    "# stratify로 클래스 비율 유지\n",
    "X_trainval, X_test, y_trainval, y_test = train_test_split(\n",
    "    X, Y, test_size=test_ratio, random_state=42, stratify=Y\n",
    ")\n",
    "\n",
    "val_relative = val_ratio / (1 - test_ratio)\n",
    "X_train, X_val, y_train, y_val = train_test_split(\n",
    "    X_trainval, y_trainval, test_size=val_relative, random_state=42, stratify=y_trainval\n",
    ")\n",
    "\n",
    "print(\"train:\", X_train.shape, y_train.shape)\n",
    "print(\"val:  \", X_val.shape, y_val.shape)\n",
    "print(\"test: \", X_test.shape, y_test.shape)"
   ]
  },
  {
   "cell_type": "code",
   "execution_count": 16,
   "id": "99be9001-da1a-47dd-b3c8-1b7b9a5603df",
   "metadata": {},
   "outputs": [
    {
     "name": "stdout",
     "output_type": "stream",
     "text": [
      "Scaler saved.\n"
     ]
    }
   ],
   "source": [
    "# 셀 4: scaler fit on train only -> transform all\n",
    "Ntr, T, D = X_train.shape\n",
    "scaler = StandardScaler()\n",
    "scaler.fit(X_train.reshape(-1, D))  # (Ntr*T, D)\n",
    "\n",
    "def apply_scaler(X_arr, scaler):\n",
    "    N, T, D = X_arr.shape\n",
    "    X2 = X_arr.reshape(-1, D)\n",
    "    X2 = scaler.transform(X2)\n",
    "    return X2.reshape(N, T, D)\n",
    "\n",
    "X_train = apply_scaler(X_train, scaler)\n",
    "X_val   = apply_scaler(X_val, scaler)\n",
    "X_test  = apply_scaler(X_test, scaler)\n",
    "\n",
    "# scaler 저장 (추론 시 필요)\n",
    "import joblib\n",
    "joblib.dump(scaler, BASE_DIR / \"src\" / \"scaler.save\")\n",
    "print(\"Scaler saved.\")"
   ]
  },
  {
   "cell_type": "code",
   "execution_count": 18,
   "id": "b9ed24c1-010e-4486-9dfb-a7d85230feec",
   "metadata": {},
   "outputs": [],
   "source": [
    "# 셀 5: Dataset & DataLoader\n",
    "class FallDataset(Dataset):\n",
    "    def __init__(self, X_np, y_np):\n",
    "        self.X = X_np.astype(np.float32)  # (N,T,D)\n",
    "        self.y = y_np.astype(np.int64)    # (N,)\n",
    "\n",
    "    def __len__(self):\n",
    "        return len(self.X)\n",
    "\n",
    "    def __getitem__(self, idx):\n",
    "        x = self.X[idx]      # (T, D)\n",
    "        y = self.y[idx]\n",
    "        return torch.from_numpy(x), torch.tensor(y, dtype=torch.long)\n",
    "\n",
    "batch_size = 32\n",
    "train_loader = DataLoader(FallDataset(X_train, y_train), batch_size=batch_size, shuffle=True, num_workers=0, pin_memory=False)\n",
    "val_loader   = DataLoader(FallDataset(X_val, y_val), batch_size=batch_size, shuffle=False, num_workers=0, pin_memory=False)\n",
    "test_loader  = DataLoader(FallDataset(X_test, y_test), batch_size=batch_size, shuffle=False, num_workers=0, pin_memory=False)"
   ]
  },
  {
   "cell_type": "code",
   "execution_count": 20,
   "id": "f710f2da-7d7c-4a72-a6ca-62ae34b774d4",
   "metadata": {},
   "outputs": [
    {
     "name": "stdout",
     "output_type": "stream",
     "text": [
      "FallLSTM(\n",
      "  (lstm): LSTM(132, 128, num_layers=2, batch_first=True, dropout=0.3)\n",
      "  (fc): Sequential(\n",
      "    (0): Linear(in_features=128, out_features=64, bias=True)\n",
      "    (1): ReLU()\n",
      "    (2): Dropout(p=0.3, inplace=False)\n",
      "    (3): Linear(in_features=64, out_features=2, bias=True)\n",
      "  )\n",
      ")\n"
     ]
    }
   ],
   "source": [
    "# 셀 6: LSTM 모델\n",
    "class FallLSTM(nn.Module):\n",
    "    def __init__(self, input_size, hidden_size=128, num_layers=2, dropout=0.3, num_classes=2):\n",
    "        super().__init__()\n",
    "        self.lstm = nn.LSTM(input_size, hidden_size, num_layers,\n",
    "                            batch_first=True, dropout=dropout, bidirectional=False)\n",
    "        self.fc = nn.Sequential(\n",
    "            nn.Linear(hidden_size, 64),\n",
    "            nn.ReLU(),\n",
    "            nn.Dropout(0.3),\n",
    "            nn.Linear(64, num_classes)\n",
    "        )\n",
    "\n",
    "    def forward(self, x):\n",
    "        # x: (B, T, D)\n",
    "        out, (h_n, c_n) = self.lstm(x)  # out: (B, T, hidden_size)\n",
    "        last = out[:, -1, :]            # 마지막 타임스텝 feature (B, hidden)\n",
    "        logits = self.fc(last)          # (B, num_classes)\n",
    "        return logits\n",
    "\n",
    "input_size = X_train.shape[2]\n",
    "model = FallLSTM(input_size=input_size).to(device)\n",
    "print(model)"
   ]
  },
  {
   "cell_type": "code",
   "execution_count": 22,
   "id": "aa9f81f5-3427-4ac1-8f7d-6ee70a45c907",
   "metadata": {},
   "outputs": [
    {
     "name": "stdout",
     "output_type": "stream",
     "text": [
      "train class counts: {0: 365, 1: 116}\n",
      "class weights: [0.65890414 2.0732758 ]\n"
     ]
    }
   ],
   "source": [
    "# 셀 7: loss / optimizer / scheduler\n",
    "# 클래스 불균형 보정\n",
    "unique, counts = np.unique(y_train, return_counts=True)\n",
    "print(\"train class counts:\", dict(zip(unique, counts)))\n",
    "n = len(y_train)\n",
    "w0 = n / (2 * counts[0]) if counts[0] > 0 else 1.0\n",
    "w1 = n / (2 * counts[1]) if len(counts)>1 and counts[1]>0 else 1.0\n",
    "weights = torch.tensor([w0, w1], dtype=torch.float32).to(device)\n",
    "print(\"class weights:\", weights.cpu().numpy())\n",
    "\n",
    "criterion = nn.CrossEntropyLoss(weight=weights)\n",
    "optimizer = torch.optim.Adam(model.parameters(), lr=1e-3)\n",
    "scheduler = torch.optim.lr_scheduler.ReduceLROnPlateau(optimizer, mode='max', factor=0.5, patience=3)"
   ]
  },
  {
   "cell_type": "code",
   "execution_count": 24,
   "id": "cb73e4c9-d471-4f2e-9d1b-ade3c5917797",
   "metadata": {},
   "outputs": [],
   "source": [
    "# 셀 8: train/eval helpers\n",
    "from sklearn.metrics import precision_recall_fscore_support, accuracy_score\n",
    "\n",
    "def train_one_epoch(model, loader, criterion, optimizer, device):\n",
    "    model.train()\n",
    "    losses = []\n",
    "    preds_all, labels_all = [], []\n",
    "    for Xb, yb in tqdm(loader, desc=\"Train\", leave=False):\n",
    "        Xb = Xb.to(device); yb = yb.to(device)\n",
    "        optimizer.zero_grad()\n",
    "        logits = model(Xb)\n",
    "        loss = criterion(logits, yb)\n",
    "        loss.backward()\n",
    "        torch.nn.utils.clip_grad_norm_(model.parameters(), 5.0)\n",
    "        optimizer.step()\n",
    "\n",
    "        losses.append(loss.item())\n",
    "        preds = torch.argmax(logits.detach(), dim=1).cpu().numpy()\n",
    "        preds_all.extend(preds); labels_all.extend(yb.cpu().numpy())\n",
    "\n",
    "    avg_loss = float(np.mean(losses))\n",
    "    acc = accuracy_score(labels_all, preds_all)\n",
    "    prec, rec, f1, _ = precision_recall_fscore_support(labels_all, preds_all, average='binary', zero_division=0)\n",
    "    return avg_loss, acc, prec, rec, f1\n",
    "\n",
    "def eval_one_epoch(model, loader, criterion, device):\n",
    "    model.eval()\n",
    "    losses = []\n",
    "    preds_all, labels_all = [], []\n",
    "    with torch.no_grad():\n",
    "        for Xb, yb in tqdm(loader, desc=\"Eval\", leave=False):\n",
    "            Xb = Xb.to(device); yb = yb.to(device)\n",
    "            logits = model(Xb)\n",
    "            loss = criterion(logits, yb)\n",
    "            losses.append(loss.item())\n",
    "\n",
    "            preds = torch.argmax(logits, dim=1).cpu().numpy()\n",
    "            preds_all.extend(preds); labels_all.extend(yb.cpu().numpy())\n",
    "\n",
    "    avg_loss = float(np.mean(losses))\n",
    "    acc = accuracy_score(labels_all, preds_all)\n",
    "    prec, rec, f1, _ = precision_recall_fscore_support(labels_all, preds_all, average='binary', zero_division=0)\n",
    "    cm = confusion_matrix(labels_all, preds_all)\n",
    "    return avg_loss, acc, prec, rec, f1, cm"
   ]
  },
  {
   "cell_type": "code",
   "execution_count": 26,
   "id": "1549bc56-65a2-4f2e-bce9-69766e6725ae",
   "metadata": {
    "scrolled": true
   },
   "outputs": [
    {
     "name": "stdout",
     "output_type": "stream",
     "text": [
      "\n",
      "=== Epoch 1/30 ===\n"
     ]
    },
    {
     "data": {
      "application/vnd.jupyter.widget-view+json": {
       "model_id": "1ec0c9071d8a4db8bd711f8c08be2d79",
       "version_major": 2,
       "version_minor": 0
      },
      "text/plain": [
       "Train:   0%|          | 0/16 [00:00<?, ?it/s]"
      ]
     },
     "metadata": {},
     "output_type": "display_data"
    },
    {
     "name": "stdout",
     "output_type": "stream",
     "text": [
      "Train: loss=0.5373 acc=0.807 prec=0.567 rec=0.836 f1=0.676\n"
     ]
    },
    {
     "data": {
      "application/vnd.jupyter.widget-view+json": {
       "model_id": "4d93d4672c2948bf88bfa158dca85317",
       "version_major": 2,
       "version_minor": 0
      },
      "text/plain": [
       "Eval:   0%|          | 0/2 [00:00<?, ?it/s]"
      ]
     },
     "metadata": {},
     "output_type": "display_data"
    },
    {
     "name": "stdout",
     "output_type": "stream",
     "text": [
      "Val:   loss=0.2834 acc=0.934 prec=0.789 rec=1.000 f1=0.882\n",
      "Confusion matrix:\n",
      " [[42  4]\n",
      " [ 0 15]]\n",
      "Saved best checkpoint: C:\\Users\\un747\\capstone1_AI\\models\\best_fall_model.pth\n",
      "\n",
      "=== Epoch 2/30 ===\n"
     ]
    },
    {
     "data": {
      "application/vnd.jupyter.widget-view+json": {
       "model_id": "20d11d5bdd0f4bdf9edad97af262bb37",
       "version_major": 2,
       "version_minor": 0
      },
      "text/plain": [
       "Train:   0%|          | 0/16 [00:00<?, ?it/s]"
      ]
     },
     "metadata": {},
     "output_type": "display_data"
    },
    {
     "name": "stdout",
     "output_type": "stream",
     "text": [
      "Train: loss=0.2007 acc=0.929 prec=0.781 rec=0.983 f1=0.870\n"
     ]
    },
    {
     "data": {
      "application/vnd.jupyter.widget-view+json": {
       "model_id": "d702fc056ce64731936ec1e7e1bfbca6",
       "version_major": 2,
       "version_minor": 0
      },
      "text/plain": [
       "Eval:   0%|          | 0/2 [00:00<?, ?it/s]"
      ]
     },
     "metadata": {},
     "output_type": "display_data"
    },
    {
     "name": "stdout",
     "output_type": "stream",
     "text": [
      "Val:   loss=0.2025 acc=0.918 prec=0.778 rec=0.933 f1=0.848\n",
      "Confusion matrix:\n",
      " [[42  4]\n",
      " [ 1 14]]\n",
      "\n",
      "=== Epoch 3/30 ===\n"
     ]
    },
    {
     "data": {
      "application/vnd.jupyter.widget-view+json": {
       "model_id": "c2ec7e1fbda546f88f2fcb7bed31f5cb",
       "version_major": 2,
       "version_minor": 0
      },
      "text/plain": [
       "Train:   0%|          | 0/16 [00:00<?, ?it/s]"
      ]
     },
     "metadata": {},
     "output_type": "display_data"
    },
    {
     "name": "stdout",
     "output_type": "stream",
     "text": [
      "Train: loss=0.1100 acc=0.948 prec=0.832 rec=0.983 f1=0.901\n"
     ]
    },
    {
     "data": {
      "application/vnd.jupyter.widget-view+json": {
       "model_id": "5c7e030d08dd40099f8f36ce439a963f",
       "version_major": 2,
       "version_minor": 0
      },
      "text/plain": [
       "Eval:   0%|          | 0/2 [00:00<?, ?it/s]"
      ]
     },
     "metadata": {},
     "output_type": "display_data"
    },
    {
     "name": "stdout",
     "output_type": "stream",
     "text": [
      "Val:   loss=0.1080 acc=0.934 prec=0.789 rec=1.000 f1=0.882\n",
      "Confusion matrix:\n",
      " [[42  4]\n",
      " [ 0 15]]\n",
      "\n",
      "=== Epoch 4/30 ===\n"
     ]
    },
    {
     "data": {
      "application/vnd.jupyter.widget-view+json": {
       "model_id": "ce418775d82b4fdc9aba51ea66d5e720",
       "version_major": 2,
       "version_minor": 0
      },
      "text/plain": [
       "Train:   0%|          | 0/16 [00:00<?, ?it/s]"
      ]
     },
     "metadata": {},
     "output_type": "display_data"
    },
    {
     "name": "stdout",
     "output_type": "stream",
     "text": [
      "Train: loss=0.0765 acc=0.950 prec=0.829 rec=1.000 f1=0.906\n"
     ]
    },
    {
     "data": {
      "application/vnd.jupyter.widget-view+json": {
       "model_id": "6e9e197cec3e44efb4c5e318613548bf",
       "version_major": 2,
       "version_minor": 0
      },
      "text/plain": [
       "Eval:   0%|          | 0/2 [00:00<?, ?it/s]"
      ]
     },
     "metadata": {},
     "output_type": "display_data"
    },
    {
     "name": "stdout",
     "output_type": "stream",
     "text": [
      "Val:   loss=0.0999 acc=0.934 prec=0.789 rec=1.000 f1=0.882\n",
      "Confusion matrix:\n",
      " [[42  4]\n",
      " [ 0 15]]\n",
      "\n",
      "=== Epoch 5/30 ===\n"
     ]
    },
    {
     "data": {
      "application/vnd.jupyter.widget-view+json": {
       "model_id": "a8e9e7d5775b473685b6767dd3bf3088",
       "version_major": 2,
       "version_minor": 0
      },
      "text/plain": [
       "Train:   0%|          | 0/16 [00:00<?, ?it/s]"
      ]
     },
     "metadata": {},
     "output_type": "display_data"
    },
    {
     "name": "stdout",
     "output_type": "stream",
     "text": [
      "Train: loss=0.0675 acc=0.950 prec=0.829 rec=1.000 f1=0.906\n"
     ]
    },
    {
     "data": {
      "application/vnd.jupyter.widget-view+json": {
       "model_id": "5453c2179bc3434fb01d56bd77d448cc",
       "version_major": 2,
       "version_minor": 0
      },
      "text/plain": [
       "Eval:   0%|          | 0/2 [00:00<?, ?it/s]"
      ]
     },
     "metadata": {},
     "output_type": "display_data"
    },
    {
     "name": "stdout",
     "output_type": "stream",
     "text": [
      "Val:   loss=0.1699 acc=0.918 prec=0.778 rec=0.933 f1=0.848\n",
      "Confusion matrix:\n",
      " [[42  4]\n",
      " [ 1 14]]\n",
      "\n",
      "=== Epoch 6/30 ===\n"
     ]
    },
    {
     "data": {
      "application/vnd.jupyter.widget-view+json": {
       "model_id": "602eafeef4a14b07aba72f31c855acf8",
       "version_major": 2,
       "version_minor": 0
      },
      "text/plain": [
       "Train:   0%|          | 0/16 [00:00<?, ?it/s]"
      ]
     },
     "metadata": {},
     "output_type": "display_data"
    },
    {
     "name": "stdout",
     "output_type": "stream",
     "text": [
      "Train: loss=0.0947 acc=0.954 prec=0.851 rec=0.983 f1=0.912\n"
     ]
    },
    {
     "data": {
      "application/vnd.jupyter.widget-view+json": {
       "model_id": "3710647757f748d5bf904e8c3f2ea8ce",
       "version_major": 2,
       "version_minor": 0
      },
      "text/plain": [
       "Eval:   0%|          | 0/2 [00:00<?, ?it/s]"
      ]
     },
     "metadata": {},
     "output_type": "display_data"
    },
    {
     "name": "stdout",
     "output_type": "stream",
     "text": [
      "Val:   loss=0.0881 acc=0.934 prec=0.789 rec=1.000 f1=0.882\n",
      "Confusion matrix:\n",
      " [[42  4]\n",
      " [ 0 15]]\n",
      "\n",
      "=== Epoch 7/30 ===\n"
     ]
    },
    {
     "data": {
      "application/vnd.jupyter.widget-view+json": {
       "model_id": "3b26967c81904f22b95d090d55702608",
       "version_major": 2,
       "version_minor": 0
      },
      "text/plain": [
       "Train:   0%|          | 0/16 [00:00<?, ?it/s]"
      ]
     },
     "metadata": {},
     "output_type": "display_data"
    },
    {
     "name": "stdout",
     "output_type": "stream",
     "text": [
      "Train: loss=0.0358 acc=0.963 prec=0.866 rec=1.000 f1=0.928\n"
     ]
    },
    {
     "data": {
      "application/vnd.jupyter.widget-view+json": {
       "model_id": "c5aa49a20c33441194d0262a38596fe8",
       "version_major": 2,
       "version_minor": 0
      },
      "text/plain": [
       "Eval:   0%|          | 0/2 [00:00<?, ?it/s]"
      ]
     },
     "metadata": {},
     "output_type": "display_data"
    },
    {
     "name": "stdout",
     "output_type": "stream",
     "text": [
      "Val:   loss=0.0702 acc=0.951 prec=0.833 rec=1.000 f1=0.909\n",
      "Confusion matrix:\n",
      " [[43  3]\n",
      " [ 0 15]]\n",
      "Saved best checkpoint: C:\\Users\\un747\\capstone1_AI\\models\\best_fall_model.pth\n",
      "\n",
      "=== Epoch 8/30 ===\n"
     ]
    },
    {
     "data": {
      "application/vnd.jupyter.widget-view+json": {
       "model_id": "e49a26413f0546508b119cb1b56819ce",
       "version_major": 2,
       "version_minor": 0
      },
      "text/plain": [
       "Train:   0%|          | 0/16 [00:00<?, ?it/s]"
      ]
     },
     "metadata": {},
     "output_type": "display_data"
    },
    {
     "name": "stdout",
     "output_type": "stream",
     "text": [
      "Train: loss=0.0346 acc=0.975 prec=0.906 rec=1.000 f1=0.951\n"
     ]
    },
    {
     "data": {
      "application/vnd.jupyter.widget-view+json": {
       "model_id": "4494fe9886614ba89b9b2bdc0b1afec3",
       "version_major": 2,
       "version_minor": 0
      },
      "text/plain": [
       "Eval:   0%|          | 0/2 [00:00<?, ?it/s]"
      ]
     },
     "metadata": {},
     "output_type": "display_data"
    },
    {
     "name": "stdout",
     "output_type": "stream",
     "text": [
      "Val:   loss=0.0761 acc=0.984 prec=0.938 rec=1.000 f1=0.968\n",
      "Confusion matrix:\n",
      " [[45  1]\n",
      " [ 0 15]]\n",
      "Saved best checkpoint: C:\\Users\\un747\\capstone1_AI\\models\\best_fall_model.pth\n",
      "\n",
      "=== Epoch 9/30 ===\n"
     ]
    },
    {
     "data": {
      "application/vnd.jupyter.widget-view+json": {
       "model_id": "41a68ea9274a4db392ff1d894e0bc465",
       "version_major": 2,
       "version_minor": 0
      },
      "text/plain": [
       "Train:   0%|          | 0/16 [00:00<?, ?it/s]"
      ]
     },
     "metadata": {},
     "output_type": "display_data"
    },
    {
     "name": "stdout",
     "output_type": "stream",
     "text": [
      "Train: loss=0.0295 acc=0.981 prec=0.942 rec=0.983 f1=0.962\n"
     ]
    },
    {
     "data": {
      "application/vnd.jupyter.widget-view+json": {
       "model_id": "52f4c3a454664bf586037a332d407bc5",
       "version_major": 2,
       "version_minor": 0
      },
      "text/plain": [
       "Eval:   0%|          | 0/2 [00:00<?, ?it/s]"
      ]
     },
     "metadata": {},
     "output_type": "display_data"
    },
    {
     "name": "stdout",
     "output_type": "stream",
     "text": [
      "Val:   loss=0.1072 acc=0.967 prec=0.882 rec=1.000 f1=0.938\n",
      "Confusion matrix:\n",
      " [[44  2]\n",
      " [ 0 15]]\n",
      "\n",
      "=== Epoch 10/30 ===\n"
     ]
    },
    {
     "data": {
      "application/vnd.jupyter.widget-view+json": {
       "model_id": "d48f0aef663648d7b2699b0e8095b92b",
       "version_major": 2,
       "version_minor": 0
      },
      "text/plain": [
       "Train:   0%|          | 0/16 [00:00<?, ?it/s]"
      ]
     },
     "metadata": {},
     "output_type": "display_data"
    },
    {
     "name": "stdout",
     "output_type": "stream",
     "text": [
      "Train: loss=0.0422 acc=0.981 prec=0.942 rec=0.983 f1=0.962\n"
     ]
    },
    {
     "data": {
      "application/vnd.jupyter.widget-view+json": {
       "model_id": "13b9858a3a37430185f6f5fef310fcd5",
       "version_major": 2,
       "version_minor": 0
      },
      "text/plain": [
       "Eval:   0%|          | 0/2 [00:00<?, ?it/s]"
      ]
     },
     "metadata": {},
     "output_type": "display_data"
    },
    {
     "name": "stdout",
     "output_type": "stream",
     "text": [
      "Val:   loss=0.0737 acc=0.967 prec=1.000 rec=0.867 f1=0.929\n",
      "Confusion matrix:\n",
      " [[46  0]\n",
      " [ 2 13]]\n",
      "\n",
      "=== Epoch 11/30 ===\n"
     ]
    },
    {
     "data": {
      "application/vnd.jupyter.widget-view+json": {
       "model_id": "d4bc09bc85ad4162a66c0642ca9ed80e",
       "version_major": 2,
       "version_minor": 0
      },
      "text/plain": [
       "Train:   0%|          | 0/16 [00:00<?, ?it/s]"
      ]
     },
     "metadata": {},
     "output_type": "display_data"
    },
    {
     "name": "stdout",
     "output_type": "stream",
     "text": [
      "Train: loss=0.0299 acc=0.992 prec=1.000 rec=0.966 f1=0.982\n"
     ]
    },
    {
     "data": {
      "application/vnd.jupyter.widget-view+json": {
       "model_id": "e4bb2ab2a4144407a258502f28714c1d",
       "version_major": 2,
       "version_minor": 0
      },
      "text/plain": [
       "Eval:   0%|          | 0/2 [00:00<?, ?it/s]"
      ]
     },
     "metadata": {},
     "output_type": "display_data"
    },
    {
     "name": "stdout",
     "output_type": "stream",
     "text": [
      "Val:   loss=0.0765 acc=0.967 prec=1.000 rec=0.867 f1=0.929\n",
      "Confusion matrix:\n",
      " [[46  0]\n",
      " [ 2 13]]\n",
      "\n",
      "=== Epoch 12/30 ===\n"
     ]
    },
    {
     "data": {
      "application/vnd.jupyter.widget-view+json": {
       "model_id": "9a1bac35327c44019ef6e7052a0714b5",
       "version_major": 2,
       "version_minor": 0
      },
      "text/plain": [
       "Train:   0%|          | 0/16 [00:00<?, ?it/s]"
      ]
     },
     "metadata": {},
     "output_type": "display_data"
    },
    {
     "name": "stdout",
     "output_type": "stream",
     "text": [
      "Train: loss=0.0282 acc=0.992 prec=1.000 rec=0.966 f1=0.982\n"
     ]
    },
    {
     "data": {
      "application/vnd.jupyter.widget-view+json": {
       "model_id": "4e3db9b0140849a68d12086958ad775b",
       "version_major": 2,
       "version_minor": 0
      },
      "text/plain": [
       "Eval:   0%|          | 0/2 [00:00<?, ?it/s]"
      ]
     },
     "metadata": {},
     "output_type": "display_data"
    },
    {
     "name": "stdout",
     "output_type": "stream",
     "text": [
      "Val:   loss=0.0762 acc=0.967 prec=1.000 rec=0.867 f1=0.929\n",
      "Confusion matrix:\n",
      " [[46  0]\n",
      " [ 2 13]]\n",
      "\n",
      "=== Epoch 13/30 ===\n"
     ]
    },
    {
     "data": {
      "application/vnd.jupyter.widget-view+json": {
       "model_id": "7a99a5535e6a46d8a727c525ba6cf140",
       "version_major": 2,
       "version_minor": 0
      },
      "text/plain": [
       "Train:   0%|          | 0/16 [00:00<?, ?it/s]"
      ]
     },
     "metadata": {},
     "output_type": "display_data"
    },
    {
     "name": "stdout",
     "output_type": "stream",
     "text": [
      "Train: loss=0.0271 acc=0.992 prec=1.000 rec=0.966 f1=0.982\n"
     ]
    },
    {
     "data": {
      "application/vnd.jupyter.widget-view+json": {
       "model_id": "7e995b8690c242a38f7a09ba6d72fa12",
       "version_major": 2,
       "version_minor": 0
      },
      "text/plain": [
       "Eval:   0%|          | 0/2 [00:00<?, ?it/s]"
      ]
     },
     "metadata": {},
     "output_type": "display_data"
    },
    {
     "name": "stdout",
     "output_type": "stream",
     "text": [
      "Val:   loss=0.0761 acc=0.967 prec=1.000 rec=0.867 f1=0.929\n",
      "Confusion matrix:\n",
      " [[46  0]\n",
      " [ 2 13]]\n",
      "\n",
      "=== Epoch 14/30 ===\n"
     ]
    },
    {
     "data": {
      "application/vnd.jupyter.widget-view+json": {
       "model_id": "1558d7b0a6324a508b9c87c90f4e58db",
       "version_major": 2,
       "version_minor": 0
      },
      "text/plain": [
       "Train:   0%|          | 0/16 [00:00<?, ?it/s]"
      ]
     },
     "metadata": {},
     "output_type": "display_data"
    },
    {
     "name": "stdout",
     "output_type": "stream",
     "text": [
      "Train: loss=0.0286 acc=0.992 prec=1.000 rec=0.966 f1=0.982\n"
     ]
    },
    {
     "data": {
      "application/vnd.jupyter.widget-view+json": {
       "model_id": "c4f52bc5dd0c491a94054f4ae588ff37",
       "version_major": 2,
       "version_minor": 0
      },
      "text/plain": [
       "Eval:   0%|          | 0/2 [00:00<?, ?it/s]"
      ]
     },
     "metadata": {},
     "output_type": "display_data"
    },
    {
     "name": "stdout",
     "output_type": "stream",
     "text": [
      "Val:   loss=0.0760 acc=0.967 prec=1.000 rec=0.867 f1=0.929\n",
      "Confusion matrix:\n",
      " [[46  0]\n",
      " [ 2 13]]\n",
      "\n",
      "=== Epoch 15/30 ===\n"
     ]
    },
    {
     "data": {
      "application/vnd.jupyter.widget-view+json": {
       "model_id": "f4a49acca774434a82ce139344136e4d",
       "version_major": 2,
       "version_minor": 0
      },
      "text/plain": [
       "Train:   0%|          | 0/16 [00:00<?, ?it/s]"
      ]
     },
     "metadata": {},
     "output_type": "display_data"
    },
    {
     "name": "stdout",
     "output_type": "stream",
     "text": [
      "Train: loss=0.0278 acc=0.992 prec=1.000 rec=0.966 f1=0.982\n"
     ]
    },
    {
     "data": {
      "application/vnd.jupyter.widget-view+json": {
       "model_id": "34b7024dfc4d4147a7bc27c6f7e0e32d",
       "version_major": 2,
       "version_minor": 0
      },
      "text/plain": [
       "Eval:   0%|          | 0/2 [00:00<?, ?it/s]"
      ]
     },
     "metadata": {},
     "output_type": "display_data"
    },
    {
     "name": "stdout",
     "output_type": "stream",
     "text": [
      "Val:   loss=0.0764 acc=0.967 prec=1.000 rec=0.867 f1=0.929\n",
      "Confusion matrix:\n",
      " [[46  0]\n",
      " [ 2 13]]\n",
      "\n",
      "=== Epoch 16/30 ===\n"
     ]
    },
    {
     "data": {
      "application/vnd.jupyter.widget-view+json": {
       "model_id": "55759b43abd34999af2aec5128ab6733",
       "version_major": 2,
       "version_minor": 0
      },
      "text/plain": [
       "Train:   0%|          | 0/16 [00:00<?, ?it/s]"
      ]
     },
     "metadata": {},
     "output_type": "display_data"
    },
    {
     "name": "stdout",
     "output_type": "stream",
     "text": [
      "Train: loss=0.0268 acc=0.992 prec=1.000 rec=0.966 f1=0.982\n"
     ]
    },
    {
     "data": {
      "application/vnd.jupyter.widget-view+json": {
       "model_id": "9fb91f75d0fd46ebaedbd433246fc778",
       "version_major": 2,
       "version_minor": 0
      },
      "text/plain": [
       "Eval:   0%|          | 0/2 [00:00<?, ?it/s]"
      ]
     },
     "metadata": {},
     "output_type": "display_data"
    },
    {
     "name": "stdout",
     "output_type": "stream",
     "text": [
      "Val:   loss=0.0774 acc=0.967 prec=1.000 rec=0.867 f1=0.929\n",
      "Confusion matrix:\n",
      " [[46  0]\n",
      " [ 2 13]]\n",
      "\n",
      "=== Epoch 17/30 ===\n"
     ]
    },
    {
     "data": {
      "application/vnd.jupyter.widget-view+json": {
       "model_id": "78ec8f3ee393403baba16b20dda14e52",
       "version_major": 2,
       "version_minor": 0
      },
      "text/plain": [
       "Train:   0%|          | 0/16 [00:00<?, ?it/s]"
      ]
     },
     "metadata": {},
     "output_type": "display_data"
    },
    {
     "name": "stdout",
     "output_type": "stream",
     "text": [
      "Train: loss=0.0272 acc=0.992 prec=1.000 rec=0.966 f1=0.982\n"
     ]
    },
    {
     "data": {
      "application/vnd.jupyter.widget-view+json": {
       "model_id": "ea7b90cee3974929ac2f9bc6511d9e54",
       "version_major": 2,
       "version_minor": 0
      },
      "text/plain": [
       "Eval:   0%|          | 0/2 [00:00<?, ?it/s]"
      ]
     },
     "metadata": {},
     "output_type": "display_data"
    },
    {
     "name": "stdout",
     "output_type": "stream",
     "text": [
      "Val:   loss=0.0779 acc=0.967 prec=1.000 rec=0.867 f1=0.929\n",
      "Confusion matrix:\n",
      " [[46  0]\n",
      " [ 2 13]]\n",
      "\n",
      "=== Epoch 18/30 ===\n"
     ]
    },
    {
     "data": {
      "application/vnd.jupyter.widget-view+json": {
       "model_id": "4e6610b0b52f49f8aa75f353211a22da",
       "version_major": 2,
       "version_minor": 0
      },
      "text/plain": [
       "Train:   0%|          | 0/16 [00:00<?, ?it/s]"
      ]
     },
     "metadata": {},
     "output_type": "display_data"
    },
    {
     "name": "stdout",
     "output_type": "stream",
     "text": [
      "Train: loss=0.0272 acc=0.992 prec=1.000 rec=0.966 f1=0.982\n"
     ]
    },
    {
     "data": {
      "application/vnd.jupyter.widget-view+json": {
       "model_id": "3b634e82de9f41a08e161cf9577e90b2",
       "version_major": 2,
       "version_minor": 0
      },
      "text/plain": [
       "Eval:   0%|          | 0/2 [00:00<?, ?it/s]"
      ]
     },
     "metadata": {},
     "output_type": "display_data"
    },
    {
     "name": "stdout",
     "output_type": "stream",
     "text": [
      "Val:   loss=0.0784 acc=0.967 prec=1.000 rec=0.867 f1=0.929\n",
      "Confusion matrix:\n",
      " [[46  0]\n",
      " [ 2 13]]\n",
      "\n",
      "=== Epoch 19/30 ===\n"
     ]
    },
    {
     "data": {
      "application/vnd.jupyter.widget-view+json": {
       "model_id": "aea253b8e843437da40d85471dd4c0b4",
       "version_major": 2,
       "version_minor": 0
      },
      "text/plain": [
       "Train:   0%|          | 0/16 [00:00<?, ?it/s]"
      ]
     },
     "metadata": {},
     "output_type": "display_data"
    },
    {
     "name": "stdout",
     "output_type": "stream",
     "text": [
      "Train: loss=0.0275 acc=0.992 prec=1.000 rec=0.966 f1=0.982\n"
     ]
    },
    {
     "data": {
      "application/vnd.jupyter.widget-view+json": {
       "model_id": "de40d7b215d9400eb23d895c4875fd86",
       "version_major": 2,
       "version_minor": 0
      },
      "text/plain": [
       "Eval:   0%|          | 0/2 [00:00<?, ?it/s]"
      ]
     },
     "metadata": {},
     "output_type": "display_data"
    },
    {
     "name": "stdout",
     "output_type": "stream",
     "text": [
      "Val:   loss=0.0799 acc=0.967 prec=1.000 rec=0.867 f1=0.929\n",
      "Confusion matrix:\n",
      " [[46  0]\n",
      " [ 2 13]]\n",
      "\n",
      "=== Epoch 20/30 ===\n"
     ]
    },
    {
     "data": {
      "application/vnd.jupyter.widget-view+json": {
       "model_id": "66f4326da603458d8d59cd34fcd9f5a7",
       "version_major": 2,
       "version_minor": 0
      },
      "text/plain": [
       "Train:   0%|          | 0/16 [00:00<?, ?it/s]"
      ]
     },
     "metadata": {},
     "output_type": "display_data"
    },
    {
     "name": "stdout",
     "output_type": "stream",
     "text": [
      "Train: loss=0.0262 acc=0.992 prec=1.000 rec=0.966 f1=0.982\n"
     ]
    },
    {
     "data": {
      "application/vnd.jupyter.widget-view+json": {
       "model_id": "ee0222ff7b524a96a8b9e4c8cb2d4185",
       "version_major": 2,
       "version_minor": 0
      },
      "text/plain": [
       "Eval:   0%|          | 0/2 [00:00<?, ?it/s]"
      ]
     },
     "metadata": {},
     "output_type": "display_data"
    },
    {
     "name": "stdout",
     "output_type": "stream",
     "text": [
      "Val:   loss=0.0822 acc=0.967 prec=1.000 rec=0.867 f1=0.929\n",
      "Confusion matrix:\n",
      " [[46  0]\n",
      " [ 2 13]]\n",
      "\n",
      "=== Epoch 21/30 ===\n"
     ]
    },
    {
     "data": {
      "application/vnd.jupyter.widget-view+json": {
       "model_id": "f7fa51642f3f4978a05afd9573247922",
       "version_major": 2,
       "version_minor": 0
      },
      "text/plain": [
       "Train:   0%|          | 0/16 [00:00<?, ?it/s]"
      ]
     },
     "metadata": {},
     "output_type": "display_data"
    },
    {
     "name": "stdout",
     "output_type": "stream",
     "text": [
      "Train: loss=0.0252 acc=0.992 prec=1.000 rec=0.966 f1=0.982\n"
     ]
    },
    {
     "data": {
      "application/vnd.jupyter.widget-view+json": {
       "model_id": "43e90eab748a402ebd7143933f0b0ce1",
       "version_major": 2,
       "version_minor": 0
      },
      "text/plain": [
       "Eval:   0%|          | 0/2 [00:00<?, ?it/s]"
      ]
     },
     "metadata": {},
     "output_type": "display_data"
    },
    {
     "name": "stdout",
     "output_type": "stream",
     "text": [
      "Val:   loss=0.0836 acc=0.967 prec=1.000 rec=0.867 f1=0.929\n",
      "Confusion matrix:\n",
      " [[46  0]\n",
      " [ 2 13]]\n",
      "\n",
      "=== Epoch 22/30 ===\n"
     ]
    },
    {
     "data": {
      "application/vnd.jupyter.widget-view+json": {
       "model_id": "bbc1a8893f084663bb21622869ffacbb",
       "version_major": 2,
       "version_minor": 0
      },
      "text/plain": [
       "Train:   0%|          | 0/16 [00:00<?, ?it/s]"
      ]
     },
     "metadata": {},
     "output_type": "display_data"
    },
    {
     "name": "stdout",
     "output_type": "stream",
     "text": [
      "Train: loss=0.0256 acc=0.992 prec=1.000 rec=0.966 f1=0.982\n"
     ]
    },
    {
     "data": {
      "application/vnd.jupyter.widget-view+json": {
       "model_id": "79195dc900274a4abe0591322c1cf98b",
       "version_major": 2,
       "version_minor": 0
      },
      "text/plain": [
       "Eval:   0%|          | 0/2 [00:00<?, ?it/s]"
      ]
     },
     "metadata": {},
     "output_type": "display_data"
    },
    {
     "name": "stdout",
     "output_type": "stream",
     "text": [
      "Val:   loss=0.0860 acc=0.967 prec=1.000 rec=0.867 f1=0.929\n",
      "Confusion matrix:\n",
      " [[46  0]\n",
      " [ 2 13]]\n",
      "\n",
      "=== Epoch 23/30 ===\n"
     ]
    },
    {
     "data": {
      "application/vnd.jupyter.widget-view+json": {
       "model_id": "41ba31272674410fa2c59d007a42af8b",
       "version_major": 2,
       "version_minor": 0
      },
      "text/plain": [
       "Train:   0%|          | 0/16 [00:00<?, ?it/s]"
      ]
     },
     "metadata": {},
     "output_type": "display_data"
    },
    {
     "name": "stdout",
     "output_type": "stream",
     "text": [
      "Train: loss=0.0234 acc=0.992 prec=1.000 rec=0.966 f1=0.982\n"
     ]
    },
    {
     "data": {
      "application/vnd.jupyter.widget-view+json": {
       "model_id": "047c1bc6671548adbc916b3180ab45a8",
       "version_major": 2,
       "version_minor": 0
      },
      "text/plain": [
       "Eval:   0%|          | 0/2 [00:00<?, ?it/s]"
      ]
     },
     "metadata": {},
     "output_type": "display_data"
    },
    {
     "name": "stdout",
     "output_type": "stream",
     "text": [
      "Val:   loss=0.0901 acc=0.967 prec=1.000 rec=0.867 f1=0.929\n",
      "Confusion matrix:\n",
      " [[46  0]\n",
      " [ 2 13]]\n",
      "\n",
      "=== Epoch 24/30 ===\n"
     ]
    },
    {
     "data": {
      "application/vnd.jupyter.widget-view+json": {
       "model_id": "088e82a009d54ecfaae955c2398d0cf2",
       "version_major": 2,
       "version_minor": 0
      },
      "text/plain": [
       "Train:   0%|          | 0/16 [00:00<?, ?it/s]"
      ]
     },
     "metadata": {},
     "output_type": "display_data"
    },
    {
     "name": "stdout",
     "output_type": "stream",
     "text": [
      "Train: loss=0.0242 acc=0.992 prec=1.000 rec=0.966 f1=0.982\n"
     ]
    },
    {
     "data": {
      "application/vnd.jupyter.widget-view+json": {
       "model_id": "9379679f9e844c82859a6ee1972392d6",
       "version_major": 2,
       "version_minor": 0
      },
      "text/plain": [
       "Eval:   0%|          | 0/2 [00:00<?, ?it/s]"
      ]
     },
     "metadata": {},
     "output_type": "display_data"
    },
    {
     "name": "stdout",
     "output_type": "stream",
     "text": [
      "Val:   loss=0.0962 acc=0.967 prec=1.000 rec=0.867 f1=0.929\n",
      "Confusion matrix:\n",
      " [[46  0]\n",
      " [ 2 13]]\n",
      "\n",
      "=== Epoch 25/30 ===\n"
     ]
    },
    {
     "data": {
      "application/vnd.jupyter.widget-view+json": {
       "model_id": "885ea7512b4544bb9a199d991412f3e9",
       "version_major": 2,
       "version_minor": 0
      },
      "text/plain": [
       "Train:   0%|          | 0/16 [00:00<?, ?it/s]"
      ]
     },
     "metadata": {},
     "output_type": "display_data"
    },
    {
     "name": "stdout",
     "output_type": "stream",
     "text": [
      "Train: loss=0.0259 acc=0.992 prec=1.000 rec=0.966 f1=0.982\n"
     ]
    },
    {
     "data": {
      "application/vnd.jupyter.widget-view+json": {
       "model_id": "5bdb00ab64dc49968f2e6764db03a497",
       "version_major": 2,
       "version_minor": 0
      },
      "text/plain": [
       "Eval:   0%|          | 0/2 [00:00<?, ?it/s]"
      ]
     },
     "metadata": {},
     "output_type": "display_data"
    },
    {
     "name": "stdout",
     "output_type": "stream",
     "text": [
      "Val:   loss=0.1003 acc=0.967 prec=1.000 rec=0.867 f1=0.929\n",
      "Confusion matrix:\n",
      " [[46  0]\n",
      " [ 2 13]]\n",
      "\n",
      "=== Epoch 26/30 ===\n"
     ]
    },
    {
     "data": {
      "application/vnd.jupyter.widget-view+json": {
       "model_id": "08140daf53dc428aaa3d0b095bc49e29",
       "version_major": 2,
       "version_minor": 0
      },
      "text/plain": [
       "Train:   0%|          | 0/16 [00:00<?, ?it/s]"
      ]
     },
     "metadata": {},
     "output_type": "display_data"
    },
    {
     "name": "stdout",
     "output_type": "stream",
     "text": [
      "Train: loss=0.0262 acc=0.992 prec=1.000 rec=0.966 f1=0.982\n"
     ]
    },
    {
     "data": {
      "application/vnd.jupyter.widget-view+json": {
       "model_id": "2c5ef3776fc94c9793d533705860f130",
       "version_major": 2,
       "version_minor": 0
      },
      "text/plain": [
       "Eval:   0%|          | 0/2 [00:00<?, ?it/s]"
      ]
     },
     "metadata": {},
     "output_type": "display_data"
    },
    {
     "name": "stdout",
     "output_type": "stream",
     "text": [
      "Val:   loss=0.1029 acc=0.967 prec=1.000 rec=0.867 f1=0.929\n",
      "Confusion matrix:\n",
      " [[46  0]\n",
      " [ 2 13]]\n",
      "\n",
      "=== Epoch 27/30 ===\n"
     ]
    },
    {
     "data": {
      "application/vnd.jupyter.widget-view+json": {
       "model_id": "25a18e6507e8491bbf3af99ec4886685",
       "version_major": 2,
       "version_minor": 0
      },
      "text/plain": [
       "Train:   0%|          | 0/16 [00:00<?, ?it/s]"
      ]
     },
     "metadata": {},
     "output_type": "display_data"
    },
    {
     "name": "stdout",
     "output_type": "stream",
     "text": [
      "Train: loss=0.0235 acc=0.992 prec=1.000 rec=0.966 f1=0.982\n"
     ]
    },
    {
     "data": {
      "application/vnd.jupyter.widget-view+json": {
       "model_id": "e1b727af6ebb4957972719344416b1a8",
       "version_major": 2,
       "version_minor": 0
      },
      "text/plain": [
       "Eval:   0%|          | 0/2 [00:00<?, ?it/s]"
      ]
     },
     "metadata": {},
     "output_type": "display_data"
    },
    {
     "name": "stdout",
     "output_type": "stream",
     "text": [
      "Val:   loss=0.1068 acc=0.967 prec=1.000 rec=0.867 f1=0.929\n",
      "Confusion matrix:\n",
      " [[46  0]\n",
      " [ 2 13]]\n",
      "\n",
      "=== Epoch 28/30 ===\n"
     ]
    },
    {
     "data": {
      "application/vnd.jupyter.widget-view+json": {
       "model_id": "6f288648bb6c44cbbb57a7b1a2c66ceb",
       "version_major": 2,
       "version_minor": 0
      },
      "text/plain": [
       "Train:   0%|          | 0/16 [00:00<?, ?it/s]"
      ]
     },
     "metadata": {},
     "output_type": "display_data"
    },
    {
     "name": "stdout",
     "output_type": "stream",
     "text": [
      "Train: loss=0.0235 acc=0.992 prec=1.000 rec=0.966 f1=0.982\n"
     ]
    },
    {
     "data": {
      "application/vnd.jupyter.widget-view+json": {
       "model_id": "eafbdf21873641dc81824c83fbbabbee",
       "version_major": 2,
       "version_minor": 0
      },
      "text/plain": [
       "Eval:   0%|          | 0/2 [00:00<?, ?it/s]"
      ]
     },
     "metadata": {},
     "output_type": "display_data"
    },
    {
     "name": "stdout",
     "output_type": "stream",
     "text": [
      "Val:   loss=0.1113 acc=0.967 prec=1.000 rec=0.867 f1=0.929\n",
      "Confusion matrix:\n",
      " [[46  0]\n",
      " [ 2 13]]\n",
      "\n",
      "=== Epoch 29/30 ===\n"
     ]
    },
    {
     "data": {
      "application/vnd.jupyter.widget-view+json": {
       "model_id": "251c1629bcf54f28a17250a7d53b034e",
       "version_major": 2,
       "version_minor": 0
      },
      "text/plain": [
       "Train:   0%|          | 0/16 [00:00<?, ?it/s]"
      ]
     },
     "metadata": {},
     "output_type": "display_data"
    },
    {
     "name": "stdout",
     "output_type": "stream",
     "text": [
      "Train: loss=0.0234 acc=0.992 prec=1.000 rec=0.966 f1=0.982\n"
     ]
    },
    {
     "data": {
      "application/vnd.jupyter.widget-view+json": {
       "model_id": "cd9bcefcaebf44e39983d1be5f1c8381",
       "version_major": 2,
       "version_minor": 0
      },
      "text/plain": [
       "Eval:   0%|          | 0/2 [00:00<?, ?it/s]"
      ]
     },
     "metadata": {},
     "output_type": "display_data"
    },
    {
     "name": "stdout",
     "output_type": "stream",
     "text": [
      "Val:   loss=0.1137 acc=0.967 prec=1.000 rec=0.867 f1=0.929\n",
      "Confusion matrix:\n",
      " [[46  0]\n",
      " [ 2 13]]\n",
      "\n",
      "=== Epoch 30/30 ===\n"
     ]
    },
    {
     "data": {
      "application/vnd.jupyter.widget-view+json": {
       "model_id": "bd4f111a4dbb4124af4f90a1c7ecec32",
       "version_major": 2,
       "version_minor": 0
      },
      "text/plain": [
       "Train:   0%|          | 0/16 [00:00<?, ?it/s]"
      ]
     },
     "metadata": {},
     "output_type": "display_data"
    },
    {
     "name": "stdout",
     "output_type": "stream",
     "text": [
      "Train: loss=0.0237 acc=0.992 prec=1.000 rec=0.966 f1=0.982\n"
     ]
    },
    {
     "data": {
      "application/vnd.jupyter.widget-view+json": {
       "model_id": "c2819fa77d2841df8aaeeaf29e0aad30",
       "version_major": 2,
       "version_minor": 0
      },
      "text/plain": [
       "Eval:   0%|          | 0/2 [00:00<?, ?it/s]"
      ]
     },
     "metadata": {},
     "output_type": "display_data"
    },
    {
     "name": "stdout",
     "output_type": "stream",
     "text": [
      "Val:   loss=0.1145 acc=0.967 prec=1.000 rec=0.867 f1=0.929\n",
      "Confusion matrix:\n",
      " [[46  0]\n",
      " [ 2 13]]\n",
      "Training finished. Best val F1: 0.967741935483871\n"
     ]
    },
    {
     "data": {
      "text/plain": [
       "['C:\\\\Users\\\\un747\\\\capstone1_AI\\\\models\\\\history.joblib']"
      ]
     },
     "execution_count": 26,
     "metadata": {},
     "output_type": "execute_result"
    }
   ],
   "source": [
    "# 셀 9: training loop\n",
    "num_epochs = 30\n",
    "best_val_f1 = 0.0\n",
    "ckpt_dir = BASE_DIR / \"models\"\n",
    "ckpt_dir.mkdir(parents=True, exist_ok=True)\n",
    "best_ckpt = ckpt_dir / \"best_fall_model.pth\"\n",
    "\n",
    "history = {\"train_loss\":[], \"val_loss\":[], \"train_f1\":[], \"val_f1\":[]}\n",
    "\n",
    "for epoch in range(1, num_epochs+1):\n",
    "    print(f\"\\n=== Epoch {epoch}/{num_epochs} ===\")\n",
    "    tr_loss, tr_acc, tr_prec, tr_rec, tr_f1 = train_one_epoch(model, train_loader, criterion, optimizer, device)\n",
    "    print(f\"Train: loss={tr_loss:.4f} acc={tr_acc:.3f} prec={tr_prec:.3f} rec={tr_rec:.3f} f1={tr_f1:.3f}\")\n",
    "\n",
    "    val_loss, val_acc, val_prec, val_rec, val_f1, cm = eval_one_epoch(model, val_loader, criterion, device)\n",
    "    print(f\"Val:   loss={val_loss:.4f} acc={val_acc:.3f} prec={val_prec:.3f} rec={val_rec:.3f} f1={val_f1:.3f}\")\n",
    "    print(\"Confusion matrix:\\n\", cm)\n",
    "\n",
    "    history[\"train_loss\"].append(tr_loss); history[\"val_loss\"].append(val_loss)\n",
    "    history[\"train_f1\"].append(tr_f1); history[\"val_f1\"].append(val_f1)\n",
    "\n",
    "    scheduler.step(val_f1)\n",
    "\n",
    "    # best 저장\n",
    "    if val_f1 > best_val_f1:\n",
    "        best_val_f1 = val_f1\n",
    "        torch.save({\n",
    "            \"epoch\": epoch,\n",
    "            \"model_state\": model.state_dict(),\n",
    "            \"optimizer_state\": optimizer.state_dict(),\n",
    "            \"val_f1\": val_f1\n",
    "        }, str(best_ckpt))\n",
    "        print(\"Saved best checkpoint:\", best_ckpt)\n",
    "\n",
    "print(\"Training finished. Best val F1:\", best_val_f1)\n",
    "# history 저장\n",
    "import joblib\n",
    "joblib.dump(history, str(ckpt_dir / \"history.joblib\"))"
   ]
  },
  {
   "cell_type": "code",
   "execution_count": 38,
   "id": "cf0f6d8a-1a59-4287-95de-665d26279be7",
   "metadata": {},
   "outputs": [
    {
     "data": {
      "application/vnd.jupyter.widget-view+json": {
       "model_id": "81ac9813d74240029dc03310596f6c77",
       "version_major": 2,
       "version_minor": 0
      },
      "text/plain": [
       "Eval:   0%|          | 0/2 [00:00<?, ?it/s]"
      ]
     },
     "metadata": {},
     "output_type": "display_data"
    },
    {
     "name": "stdout",
     "output_type": "stream",
     "text": [
      "\n",
      "=== TEST RESULTS ===\n",
      "Loss: 0.0570 Acc: 0.967 Prec: 1.000 Rec: 0.867 F1: 0.929\n",
      "Confusion matrix:\n",
      " [[46  0]\n",
      " [ 2 13]]\n"
     ]
    }
   ],
   "source": [
    "# 셀 10: load best and test\n",
    "ck = torch.load(str(best_ckpt), map_location=device)\n",
    "model.load_state_dict(ck[\"model_state\"])\n",
    "model.to(device)\n",
    "model.eval()\n",
    "\n",
    "test_loss, test_acc, test_prec, test_rec, test_f1, test_cm = eval_one_epoch(model, test_loader, criterion, device)\n",
    "print(\"\\n=== TEST RESULTS ===\")\n",
    "print(f\"Loss: {test_loss:.4f} Acc: {test_acc:.3f} Prec: {test_prec:.3f} Rec: {test_rec:.3f} F1: {test_f1:.3f}\")\n",
    "print(\"Confusion matrix:\\n\", test_cm)"
   ]
  },
  {
   "cell_type": "code",
   "execution_count": 32,
   "id": "bb3817a8-d9f1-424a-9c7e-eace72c1ffe5",
   "metadata": {},
   "outputs": [],
   "source": [
    "# 셀 11: inference helper (한 시퀀스 예측)\n",
    "import joblib\n",
    "\n",
    "scaler_path = BASE_DIR / \"src\" / \"scaler.save\"  # 앞서 저장한 scaler\n",
    "scaler = joblib.load(scaler_path) if scaler_path.exists() else None\n",
    "\n",
    "def preprocess_single_sequence(kps_seq, scaler=None):\n",
    "    \"\"\"\n",
    "    kps_seq: numpy (T, D) raw keypoint flattened per-frame (same format as saved)\n",
    "    returns: (1, T, D) float32\n",
    "    \"\"\"\n",
    "    X = kps_seq.astype(np.float32)\n",
    "    if scaler is not None:\n",
    "        X = scaler.transform(X)  # scaler was fit on (N*T, D)\n",
    "    return X[np.newaxis, ...]\n",
    "\n",
    "def predict_sequence(model, seq_np):\n",
    "    model.eval()\n",
    "    x = torch.from_numpy(seq_np.astype(np.float32)).to(device)\n",
    "    with torch.no_grad():\n",
    "        logits = model(x)\n",
    "        probs = torch.softmax(logits, dim=1).cpu().numpy()[0]\n",
    "        pred = int(np.argmax(probs))\n",
    "    return pred, probs\n",
    "\n",
    "# 사용 예:\n",
    "# sample_seq = X_test[0]           # 이미 preprocessed/scaled\n",
    "# pred, probs = predict_sequence(model, sample_seq[np.newaxis,...])\n",
    "# print(pred, probs)"
   ]
  },
  {
   "cell_type": "code",
   "execution_count": null,
   "id": "d923d5a0-e5ac-4f4a-bbc0-7df0d8b0a1cf",
   "metadata": {},
   "outputs": [],
   "source": []
  }
 ],
 "metadata": {
  "kernelspec": {
   "display_name": "Python [conda env:fall]",
   "language": "python",
   "name": "conda-env-fall-py"
  },
  "language_info": {
   "codemirror_mode": {
    "name": "ipython",
    "version": 3
   },
   "file_extension": ".py",
   "mimetype": "text/x-python",
   "name": "python",
   "nbconvert_exporter": "python",
   "pygments_lexer": "ipython3",
   "version": "3.10.18"
  }
 },
 "nbformat": 4,
 "nbformat_minor": 5
}
