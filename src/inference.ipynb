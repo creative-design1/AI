{
 "cells": [
  {
   "cell_type": "code",
   "execution_count": 48,
   "id": "fe19c768-5254-458a-999c-45ce111eff6a",
   "metadata": {},
   "outputs": [],
   "source": [
    "import cv2\n",
    "import mediapipe as mp\n",
    "import numpy as np\n",
    "import torch\n",
    "import joblib\n",
    "from pathlib import Path"
   ]
  },
  {
   "cell_type": "code",
   "execution_count": 72,
   "id": "a8d8b39f-5733-4f6c-b356-0f067b3d6b20",
   "metadata": {},
   "outputs": [],
   "source": [
    "import warnings\n",
    "warnings.filterwarnings(\"ignore\", category=UserWarning, message=\"SymbolDatabase.GetPrototype\")"
   ]
  },
  {
   "cell_type": "code",
   "execution_count": 28,
   "id": "8cf4862e-3e88-4edd-88d7-f7e315feb423",
   "metadata": {},
   "outputs": [
    {
     "name": "stdout",
     "output_type": "stream",
     "text": [
      "Using device: cpu\n"
     ]
    }
   ],
   "source": [
    "# device 선택 (GPU가 있으면 GPU, 없으면 CPU)\n",
    "device = torch.device(\"cuda\" if torch.cuda.is_available() else \"cpu\")\n",
    "print(\"Using device:\", device)"
   ]
  },
  {
   "cell_type": "code",
   "execution_count": 30,
   "id": "d4b20b3b-17df-4535-86d2-d45b6ee7251d",
   "metadata": {},
   "outputs": [],
   "source": [
    "import torch.nn as nn\n",
    "\n",
    "class FallLSTM(nn.Module):\n",
    "    def __init__(self, input_size, hidden_size=128, num_layers=2, dropout=0.3, num_classes=2):\n",
    "        super().__init__()\n",
    "        self.lstm = nn.LSTM(input_size, hidden_size, num_layers,\n",
    "                            batch_first=True, dropout=dropout, bidirectional=False)\n",
    "        self.fc = nn.Sequential(\n",
    "            nn.Linear(hidden_size, 64),\n",
    "            nn.ReLU(),\n",
    "            nn.Dropout(0.3),\n",
    "            nn.Linear(64, num_classes)\n",
    "        )\n",
    "\n",
    "    def forward(self, x):\n",
    "        # x: (B, T, D)\n",
    "        out, _ = self.lstm(x)       # out: (B, T, hidden)\n",
    "        last = out[:, -1, :]        # 마지막 타임스텝을 사용 (B, hidden)\n",
    "        logits = self.fc(last)      # (B, num_classes)\n",
    "        return logits"
   ]
  },
  {
   "cell_type": "code",
   "execution_count": 32,
   "id": "562438f6-3b08-4a9d-9b2d-a5f88537f5be",
   "metadata": {},
   "outputs": [],
   "source": [
    "BASE_DIR = Path.cwd().parent\n",
    "ckpt_dir = BASE_DIR / \"models\"\n",
    "best_ckpt = ckpt_dir / \"best_fall_model.pth\""
   ]
  },
  {
   "cell_type": "code",
   "execution_count": 34,
   "id": "4db80329-3ebf-4ab4-a636-e80b46340b47",
   "metadata": {},
   "outputs": [
    {
     "data": {
      "text/plain": [
       "FallLSTM(\n",
       "  (lstm): LSTM(132, 128, num_layers=2, batch_first=True, dropout=0.3)\n",
       "  (fc): Sequential(\n",
       "    (0): Linear(in_features=128, out_features=64, bias=True)\n",
       "    (1): ReLU()\n",
       "    (2): Dropout(p=0.3, inplace=False)\n",
       "    (3): Linear(in_features=64, out_features=2, bias=True)\n",
       "  )\n",
       ")"
      ]
     },
     "execution_count": 34,
     "metadata": {},
     "output_type": "execute_result"
    }
   ],
   "source": [
    "ck = torch.load(str(best_ckpt), map_location=device)\n",
    "model = FallLSTM(input_size=132, hidden_size=128, num_layers=2).to(device)\n",
    "model.load_state_dict(ck[\"model_state\"])\n",
    "model.eval()"
   ]
  },
  {
   "cell_type": "code",
   "execution_count": 36,
   "id": "72ce5c0e-53d4-4c6f-8636-4aace03a14b2",
   "metadata": {},
   "outputs": [],
   "source": [
    "scaler_path = BASE_DIR / \"src\" / \"scaler.save\"  # 앞서 저장한 scaler\n",
    "scaler = joblib.load(scaler_path) if scaler_path.exists() else None"
   ]
  },
  {
   "cell_type": "code",
   "execution_count": 38,
   "id": "6da450b6-7572-4065-b0a9-01c32e315738",
   "metadata": {},
   "outputs": [],
   "source": [
    "WINDOW_SIZE = 80"
   ]
  },
  {
   "cell_type": "code",
   "execution_count": 50,
   "id": "f3f2c643-f9ae-432d-afaf-a6cdd42e3928",
   "metadata": {},
   "outputs": [],
   "source": [
    "mp_pose = mp.solutions.pose\n",
    "pose = mp_pose.Pose(static_image_mode=False,\n",
    "                    model_complexity=1,\n",
    "                    enable_segmentation=False,\n",
    "                    min_detection_confidence=0.5,\n",
    "                    min_tracking_confidence=0.5)\n",
    "draw = mp.solutions.drawing_utils"
   ]
  },
  {
   "cell_type": "code",
   "execution_count": 52,
   "id": "0db724d1-93be-465d-8f5c-f396518626b5",
   "metadata": {},
   "outputs": [],
   "source": [
    "def extract_keypoints(frame):\n",
    "    \"\"\"MediaPipe로 33관절 keypoints 추출, flatten 후 반환\"\"\"\n",
    "    rgb = cv2.cvtColor(frame, cv2.COLOR_BGR2RGB)\n",
    "    results = pose.process(rgb)\n",
    "    if results.pose_landmarks:\n",
    "        kp = [[lm.x, lm.y, lm.z, lm.visibility] for lm in results.pose_landmarks.landmark]\n",
    "    else:\n",
    "        kp = [[0,0,0,0]] * 33\n",
    "    flat = np.array([v for joint in kp for v in joint], dtype=np.float32)\n",
    "    if scaler is not None:\n",
    "        flat = scaler.transform(flat.reshape(1,-1)).flatten()\n",
    "    return flat"
   ]
  },
  {
   "cell_type": "code",
   "execution_count": 70,
   "id": "0be11c39-f860-432f-997b-9d3dfa7b0db9",
   "metadata": {},
   "outputs": [],
   "source": [
    "def predict_fall_video(video_path):\n",
    "    cap = cv2.VideoCapture(str(video_path))\n",
    "    seq_buffer = []  # 시퀀스 버퍼\n",
    "    frame_idx = 0\n",
    "    last_label = None\n",
    "    \n",
    "    while True:\n",
    "        ret, frame = cap.read()\n",
    "        if not ret:\n",
    "            break\n",
    "        \n",
    "        # 키포인트 추출\n",
    "        keypoints = extract_keypoints(frame)\n",
    "        seq_buffer.append(keypoints)\n",
    "        \n",
    "        # 시퀀스 길이 맞추기\n",
    "        if len(seq_buffer) == WINDOW_SIZE:\n",
    "            x = np.array(seq_buffer, dtype=np.float32)[np.newaxis, ...]  # (1, T, D)\n",
    "            x_tensor = torch.from_numpy(x).to(device)\n",
    "            \n",
    "            with torch.no_grad():\n",
    "                logits = model(x_tensor)\n",
    "                probs = torch.softmax(logits, dim=1).cpu().numpy()[0]\n",
    "                pred = int(np.argmax(probs))\n",
    "            \n",
    "            label = \"FALL\" if pred==1 else \"NORMAL\"\n",
    "\n",
    "            print(f\"[Frame {frame_idx}] 상태: {label} (확률: {probs[pred]:.2f})\")\n",
    "\n",
    "            #if label != last_label:  # 변화 있을 때만 출력 ← 추가됨\n",
    "            #    print(f\"[Frame {frame_idx}] 상태: {label} (확률: {probs[pred]:.2f})\")\n",
    "            #    last_label = label\n",
    "                 \n",
    "            cv2.putText(frame, f\"{label}\", (50,50), cv2.FONT_HERSHEY_SIMPLEX, 1.2, (0,0,255) if pred==1 else (0,255,0), 3)\n",
    "            \n",
    "            # 슬라이딩 시퀀스: 한 프레임씩 이동\n",
    "            seq_buffer.pop(0)\n",
    "        \n",
    "        # 영상 보여주기\n",
    "        cv2.imshow(\"Fall Detection\", frame)\n",
    "        if cv2.waitKey(1) & 0xFF == ord('q'):\n",
    "            break\n",
    "        \n",
    "        frame_idx += 1\n",
    "        \n",
    "    cap.release()\n",
    "    cv2.destroyAllWindows()"
   ]
  },
  {
   "cell_type": "code",
   "execution_count": 74,
   "id": "1f8257b9-9a5a-47b4-8199-e31ad65a0c1f",
   "metadata": {
    "scrolled": true
   },
   "outputs": [
    {
     "name": "stdout",
     "output_type": "stream",
     "text": [
      "[Frame 79] 상태: NORMAL (확률: 1.00)\n",
      "[Frame 80] 상태: NORMAL (확률: 1.00)\n",
      "[Frame 81] 상태: NORMAL (확률: 1.00)\n",
      "[Frame 82] 상태: NORMAL (확률: 1.00)\n",
      "[Frame 83] 상태: NORMAL (확률: 1.00)\n",
      "[Frame 84] 상태: NORMAL (확률: 1.00)\n",
      "[Frame 85] 상태: NORMAL (확률: 1.00)\n",
      "[Frame 86] 상태: NORMAL (확률: 1.00)\n",
      "[Frame 87] 상태: NORMAL (확률: 1.00)\n",
      "[Frame 88] 상태: NORMAL (확률: 1.00)\n",
      "[Frame 89] 상태: NORMAL (확률: 1.00)\n",
      "[Frame 90] 상태: NORMAL (확률: 1.00)\n",
      "[Frame 91] 상태: NORMAL (확률: 1.00)\n",
      "[Frame 92] 상태: NORMAL (확률: 1.00)\n",
      "[Frame 93] 상태: NORMAL (확률: 1.00)\n",
      "[Frame 94] 상태: NORMAL (확률: 1.00)\n",
      "[Frame 95] 상태: NORMAL (확률: 1.00)\n",
      "[Frame 96] 상태: NORMAL (확률: 1.00)\n",
      "[Frame 97] 상태: NORMAL (확률: 1.00)\n",
      "[Frame 98] 상태: NORMAL (확률: 1.00)\n",
      "[Frame 99] 상태: NORMAL (확률: 1.00)\n",
      "[Frame 100] 상태: NORMAL (확률: 1.00)\n",
      "[Frame 101] 상태: NORMAL (확률: 1.00)\n",
      "[Frame 102] 상태: NORMAL (확률: 1.00)\n",
      "[Frame 103] 상태: NORMAL (확률: 1.00)\n",
      "[Frame 104] 상태: NORMAL (확률: 1.00)\n",
      "[Frame 105] 상태: NORMAL (확률: 1.00)\n",
      "[Frame 106] 상태: NORMAL (확률: 1.00)\n",
      "[Frame 107] 상태: NORMAL (확률: 1.00)\n",
      "[Frame 108] 상태: NORMAL (확률: 1.00)\n",
      "[Frame 109] 상태: NORMAL (확률: 1.00)\n",
      "[Frame 110] 상태: NORMAL (확률: 1.00)\n",
      "[Frame 111] 상태: NORMAL (확률: 1.00)\n",
      "[Frame 112] 상태: NORMAL (확률: 1.00)\n",
      "[Frame 113] 상태: NORMAL (확률: 1.00)\n",
      "[Frame 114] 상태: NORMAL (확률: 1.00)\n",
      "[Frame 115] 상태: NORMAL (확률: 1.00)\n",
      "[Frame 116] 상태: NORMAL (확률: 1.00)\n",
      "[Frame 117] 상태: NORMAL (확률: 1.00)\n",
      "[Frame 118] 상태: NORMAL (확률: 1.00)\n",
      "[Frame 119] 상태: NORMAL (확률: 1.00)\n",
      "[Frame 120] 상태: NORMAL (확률: 1.00)\n",
      "[Frame 121] 상태: NORMAL (확률: 1.00)\n",
      "[Frame 122] 상태: NORMAL (확률: 1.00)\n",
      "[Frame 123] 상태: NORMAL (확률: 1.00)\n",
      "[Frame 124] 상태: NORMAL (확률: 1.00)\n",
      "[Frame 125] 상태: NORMAL (확률: 1.00)\n",
      "[Frame 126] 상태: NORMAL (확률: 1.00)\n",
      "[Frame 127] 상태: NORMAL (확률: 1.00)\n",
      "[Frame 128] 상태: NORMAL (확률: 1.00)\n",
      "[Frame 129] 상태: NORMAL (확률: 1.00)\n",
      "[Frame 130] 상태: NORMAL (확률: 1.00)\n",
      "[Frame 131] 상태: NORMAL (확률: 1.00)\n",
      "[Frame 132] 상태: NORMAL (확률: 1.00)\n",
      "[Frame 133] 상태: NORMAL (확률: 1.00)\n",
      "[Frame 134] 상태: NORMAL (확률: 1.00)\n",
      "[Frame 135] 상태: NORMAL (확률: 1.00)\n",
      "[Frame 136] 상태: NORMAL (확률: 1.00)\n",
      "[Frame 137] 상태: NORMAL (확률: 1.00)\n",
      "[Frame 138] 상태: NORMAL (확률: 1.00)\n",
      "[Frame 139] 상태: NORMAL (확률: 1.00)\n",
      "[Frame 140] 상태: NORMAL (확률: 1.00)\n",
      "[Frame 141] 상태: NORMAL (확률: 1.00)\n",
      "[Frame 142] 상태: NORMAL (확률: 1.00)\n",
      "[Frame 143] 상태: NORMAL (확률: 1.00)\n",
      "[Frame 144] 상태: NORMAL (확률: 1.00)\n",
      "[Frame 145] 상태: NORMAL (확률: 1.00)\n",
      "[Frame 146] 상태: NORMAL (확률: 1.00)\n",
      "[Frame 147] 상태: NORMAL (확률: 1.00)\n",
      "[Frame 148] 상태: NORMAL (확률: 1.00)\n",
      "[Frame 149] 상태: NORMAL (확률: 1.00)\n",
      "[Frame 150] 상태: NORMAL (확률: 1.00)\n",
      "[Frame 151] 상태: NORMAL (확률: 1.00)\n",
      "[Frame 152] 상태: NORMAL (확률: 1.00)\n",
      "[Frame 153] 상태: NORMAL (확률: 1.00)\n",
      "[Frame 154] 상태: NORMAL (확률: 1.00)\n",
      "[Frame 155] 상태: NORMAL (확률: 1.00)\n",
      "[Frame 156] 상태: NORMAL (확률: 1.00)\n",
      "[Frame 157] 상태: NORMAL (확률: 1.00)\n",
      "[Frame 158] 상태: NORMAL (확률: 1.00)\n",
      "[Frame 159] 상태: NORMAL (확률: 1.00)\n",
      "[Frame 160] 상태: NORMAL (확률: 1.00)\n",
      "[Frame 161] 상태: NORMAL (확률: 1.00)\n",
      "[Frame 162] 상태: NORMAL (확률: 0.99)\n",
      "[Frame 163] 상태: NORMAL (확률: 0.99)\n",
      "[Frame 164] 상태: NORMAL (확률: 0.98)\n",
      "[Frame 165] 상태: NORMAL (확률: 0.93)\n",
      "[Frame 166] 상태: NORMAL (확률: 0.58)\n",
      "[Frame 167] 상태: FALL (확률: 0.89)\n",
      "[Frame 168] 상태: FALL (확률: 0.98)\n",
      "[Frame 169] 상태: FALL (확률: 1.00)\n",
      "[Frame 170] 상태: FALL (확률: 1.00)\n",
      "[Frame 171] 상태: FALL (확률: 1.00)\n",
      "[Frame 172] 상태: FALL (확률: 1.00)\n",
      "[Frame 173] 상태: FALL (확률: 1.00)\n",
      "[Frame 174] 상태: FALL (확률: 1.00)\n",
      "[Frame 175] 상태: FALL (확률: 1.00)\n",
      "[Frame 176] 상태: FALL (확률: 1.00)\n",
      "[Frame 177] 상태: FALL (확률: 1.00)\n",
      "[Frame 178] 상태: FALL (확률: 1.00)\n",
      "[Frame 179] 상태: FALL (확률: 1.00)\n",
      "[Frame 180] 상태: FALL (확률: 1.00)\n",
      "[Frame 181] 상태: FALL (확률: 1.00)\n",
      "[Frame 182] 상태: FALL (확률: 1.00)\n",
      "[Frame 183] 상태: FALL (확률: 1.00)\n",
      "[Frame 184] 상태: FALL (확률: 1.00)\n",
      "[Frame 185] 상태: FALL (확률: 1.00)\n",
      "[Frame 186] 상태: FALL (확률: 1.00)\n",
      "[Frame 187] 상태: FALL (확률: 1.00)\n",
      "[Frame 188] 상태: FALL (확률: 1.00)\n",
      "[Frame 189] 상태: FALL (확률: 1.00)\n",
      "[Frame 190] 상태: FALL (확률: 1.00)\n",
      "[Frame 191] 상태: FALL (확률: 1.00)\n",
      "[Frame 192] 상태: FALL (확률: 1.00)\n",
      "[Frame 193] 상태: FALL (확률: 1.00)\n",
      "[Frame 194] 상태: FALL (확률: 1.00)\n",
      "[Frame 195] 상태: FALL (확률: 1.00)\n",
      "[Frame 196] 상태: FALL (확률: 1.00)\n",
      "[Frame 197] 상태: FALL (확률: 1.00)\n",
      "[Frame 198] 상태: FALL (확률: 1.00)\n",
      "[Frame 199] 상태: FALL (확률: 1.00)\n",
      "[Frame 200] 상태: FALL (확률: 1.00)\n",
      "[Frame 201] 상태: FALL (확률: 1.00)\n",
      "[Frame 202] 상태: FALL (확률: 1.00)\n",
      "[Frame 203] 상태: FALL (확률: 1.00)\n",
      "[Frame 204] 상태: FALL (확률: 1.00)\n",
      "[Frame 205] 상태: FALL (확률: 1.00)\n",
      "[Frame 206] 상태: FALL (확률: 1.00)\n",
      "[Frame 207] 상태: FALL (확률: 1.00)\n",
      "[Frame 208] 상태: FALL (확률: 1.00)\n",
      "[Frame 209] 상태: FALL (확률: 1.00)\n",
      "[Frame 210] 상태: FALL (확률: 1.00)\n",
      "[Frame 211] 상태: FALL (확률: 1.00)\n",
      "[Frame 212] 상태: FALL (확률: 1.00)\n",
      "[Frame 213] 상태: FALL (확률: 1.00)\n",
      "[Frame 214] 상태: FALL (확률: 1.00)\n",
      "[Frame 215] 상태: FALL (확률: 1.00)\n",
      "[Frame 216] 상태: FALL (확률: 1.00)\n",
      "[Frame 217] 상태: FALL (확률: 1.00)\n",
      "[Frame 218] 상태: FALL (확률: 1.00)\n",
      "[Frame 219] 상태: FALL (확률: 1.00)\n",
      "[Frame 220] 상태: FALL (확률: 1.00)\n",
      "[Frame 221] 상태: FALL (확률: 1.00)\n",
      "[Frame 222] 상태: FALL (확률: 1.00)\n",
      "[Frame 223] 상태: FALL (확률: 1.00)\n",
      "[Frame 224] 상태: FALL (확률: 1.00)\n",
      "[Frame 225] 상태: FALL (확률: 1.00)\n",
      "[Frame 226] 상태: FALL (확률: 1.00)\n",
      "[Frame 227] 상태: FALL (확률: 1.00)\n",
      "[Frame 228] 상태: FALL (확률: 1.00)\n",
      "[Frame 229] 상태: FALL (확률: 1.00)\n",
      "[Frame 230] 상태: FALL (확률: 1.00)\n",
      "[Frame 231] 상태: FALL (확률: 1.00)\n",
      "[Frame 232] 상태: FALL (확률: 1.00)\n",
      "[Frame 233] 상태: FALL (확률: 1.00)\n",
      "[Frame 234] 상태: FALL (확률: 1.00)\n",
      "[Frame 235] 상태: FALL (확률: 1.00)\n",
      "[Frame 236] 상태: FALL (확률: 1.00)\n",
      "[Frame 237] 상태: FALL (확률: 1.00)\n",
      "[Frame 238] 상태: FALL (확률: 1.00)\n",
      "[Frame 239] 상태: FALL (확률: 1.00)\n",
      "[Frame 240] 상태: FALL (확률: 1.00)\n",
      "[Frame 241] 상태: FALL (확률: 1.00)\n",
      "[Frame 242] 상태: FALL (확률: 1.00)\n",
      "[Frame 243] 상태: FALL (확률: 1.00)\n",
      "[Frame 244] 상태: FALL (확률: 1.00)\n",
      "[Frame 245] 상태: FALL (확률: 1.00)\n",
      "[Frame 246] 상태: FALL (확률: 1.00)\n",
      "[Frame 247] 상태: FALL (확률: 1.00)\n",
      "[Frame 248] 상태: FALL (확률: 1.00)\n",
      "[Frame 249] 상태: FALL (확률: 1.00)\n",
      "[Frame 250] 상태: FALL (확률: 1.00)\n",
      "[Frame 251] 상태: FALL (확률: 1.00)\n",
      "[Frame 252] 상태: FALL (확률: 1.00)\n",
      "[Frame 253] 상태: FALL (확률: 1.00)\n",
      "[Frame 254] 상태: FALL (확률: 1.00)\n",
      "[Frame 255] 상태: FALL (확률: 1.00)\n",
      "[Frame 256] 상태: FALL (확률: 1.00)\n",
      "[Frame 257] 상태: FALL (확률: 1.00)\n",
      "[Frame 258] 상태: FALL (확률: 1.00)\n",
      "[Frame 259] 상태: FALL (확률: 1.00)\n",
      "[Frame 260] 상태: FALL (확률: 1.00)\n",
      "[Frame 261] 상태: FALL (확률: 1.00)\n",
      "[Frame 262] 상태: FALL (확률: 1.00)\n",
      "[Frame 263] 상태: FALL (확률: 1.00)\n"
     ]
    }
   ],
   "source": [
    "# -------------------\n",
    "# 테스트\n",
    "# -------------------\n",
    "VIDEO_PATH = Path(BASE_DIR / \"data\" / \"raw\" / \"LE2i\" / \"Home_01\" / \"Videos\" / \"video (1).avi\")\n",
    "predict_fall_video(VIDEO_PATH)"
   ]
  },
  {
   "cell_type": "code",
   "execution_count": 12,
   "id": "bdce2dd1-0d92-4564-9651-8b6cb7e314b2",
   "metadata": {
    "scrolled": true
   },
   "outputs": [
    {
     "name": "stdout",
     "output_type": "stream",
     "text": [
      "🔹 테스트 데이터 로드 중...\n",
      "\n",
      "==== 🔍 예측 결과 ====\n",
      "실제 라벨: 0  →  예측 라벨: 0\n",
      "클래스 확률: 낙상(1): 0.0016, 비낙상(0): 0.9984\n",
      "======================\n",
      "✅ 정상적인 행동입니다.\n",
      "\n",
      "==== 🔍 예측 결과 ====\n",
      "실제 라벨: 0  →  예측 라벨: 0\n",
      "클래스 확률: 낙상(1): 0.0002, 비낙상(0): 0.9998\n",
      "======================\n",
      "✅ 정상적인 행동입니다.\n",
      "\n",
      "==== 🔍 예측 결과 ====\n",
      "실제 라벨: 1  →  예측 라벨: 1\n",
      "클래스 확률: 낙상(1): 0.9999, 비낙상(0): 0.0001\n",
      "======================\n",
      "🚨 낙상으로 감지되었습니다!\n",
      "\n",
      "==== 🔍 예측 결과 ====\n",
      "실제 라벨: 1  →  예측 라벨: 1\n",
      "클래스 확률: 낙상(1): 0.9999, 비낙상(0): 0.0001\n",
      "======================\n",
      "🚨 낙상으로 감지되었습니다!\n",
      "\n",
      "==== 🔍 예측 결과 ====\n",
      "실제 라벨: 0  →  예측 라벨: 0\n",
      "클래스 확률: 낙상(1): 0.0002, 비낙상(0): 0.9998\n",
      "======================\n",
      "✅ 정상적인 행동입니다.\n",
      "\n",
      "==== 🔍 예측 결과 ====\n",
      "실제 라벨: 1  →  예측 라벨: 1\n",
      "클래스 확률: 낙상(1): 0.9999, 비낙상(0): 0.0001\n",
      "======================\n",
      "🚨 낙상으로 감지되었습니다!\n",
      "\n",
      "==== 🔍 예측 결과 ====\n",
      "실제 라벨: 0  →  예측 라벨: 0\n",
      "클래스 확률: 낙상(1): 0.0003, 비낙상(0): 0.9997\n",
      "======================\n",
      "✅ 정상적인 행동입니다.\n",
      "\n",
      "==== 🔍 예측 결과 ====\n",
      "실제 라벨: 0  →  예측 라벨: 0\n",
      "클래스 확률: 낙상(1): 0.0005, 비낙상(0): 0.9995\n",
      "======================\n",
      "✅ 정상적인 행동입니다.\n",
      "\n",
      "==== 🔍 예측 결과 ====\n",
      "실제 라벨: 0  →  예측 라벨: 0\n",
      "클래스 확률: 낙상(1): 0.0005, 비낙상(0): 0.9995\n",
      "======================\n",
      "✅ 정상적인 행동입니다.\n",
      "\n",
      "==== 🔍 예측 결과 ====\n",
      "실제 라벨: 0  →  예측 라벨: 0\n",
      "클래스 확률: 낙상(1): 0.0006, 비낙상(0): 0.9994\n",
      "======================\n",
      "✅ 정상적인 행동입니다.\n",
      "\n",
      "==== 🔍 예측 결과 ====\n",
      "실제 라벨: 0  →  예측 라벨: 0\n",
      "클래스 확률: 낙상(1): 0.0003, 비낙상(0): 0.9997\n",
      "======================\n",
      "✅ 정상적인 행동입니다.\n",
      "\n",
      "==== 🔍 예측 결과 ====\n",
      "실제 라벨: 0  →  예측 라벨: 0\n",
      "클래스 확률: 낙상(1): 0.0032, 비낙상(0): 0.9968\n",
      "======================\n",
      "✅ 정상적인 행동입니다.\n",
      "\n",
      "==== 🔍 예측 결과 ====\n",
      "실제 라벨: 0  →  예측 라벨: 0\n",
      "클래스 확률: 낙상(1): 0.0003, 비낙상(0): 0.9997\n",
      "======================\n",
      "✅ 정상적인 행동입니다.\n",
      "\n",
      "==== 🔍 예측 결과 ====\n",
      "실제 라벨: 0  →  예측 라벨: 0\n",
      "클래스 확률: 낙상(1): 0.0002, 비낙상(0): 0.9998\n",
      "======================\n",
      "✅ 정상적인 행동입니다.\n",
      "\n",
      "==== 🔍 예측 결과 ====\n",
      "실제 라벨: 0  →  예측 라벨: 0\n",
      "클래스 확률: 낙상(1): 0.0002, 비낙상(0): 0.9998\n",
      "======================\n",
      "✅ 정상적인 행동입니다.\n",
      "\n",
      "==== 🔍 예측 결과 ====\n",
      "실제 라벨: 0  →  예측 라벨: 0\n",
      "클래스 확률: 낙상(1): 0.0057, 비낙상(0): 0.9943\n",
      "======================\n",
      "✅ 정상적인 행동입니다.\n",
      "\n",
      "==== 🔍 예측 결과 ====\n",
      "실제 라벨: 0  →  예측 라벨: 0\n",
      "클래스 확률: 낙상(1): 0.0007, 비낙상(0): 0.9993\n",
      "======================\n",
      "✅ 정상적인 행동입니다.\n",
      "\n",
      "==== 🔍 예측 결과 ====\n",
      "실제 라벨: 0  →  예측 라벨: 0\n",
      "클래스 확률: 낙상(1): 0.0003, 비낙상(0): 0.9997\n",
      "======================\n",
      "✅ 정상적인 행동입니다.\n",
      "\n",
      "==== 🔍 예측 결과 ====\n",
      "실제 라벨: 0  →  예측 라벨: 0\n",
      "클래스 확률: 낙상(1): 0.0005, 비낙상(0): 0.9995\n",
      "======================\n",
      "✅ 정상적인 행동입니다.\n",
      "\n",
      "==== 🔍 예측 결과 ====\n",
      "실제 라벨: 0  →  예측 라벨: 0\n",
      "클래스 확률: 낙상(1): 0.0002, 비낙상(0): 0.9998\n",
      "======================\n",
      "✅ 정상적인 행동입니다.\n",
      "\n",
      "==== 🔍 예측 결과 ====\n",
      "실제 라벨: 1  →  예측 라벨: 1\n",
      "클래스 확률: 낙상(1): 0.9999, 비낙상(0): 0.0001\n",
      "======================\n",
      "🚨 낙상으로 감지되었습니다!\n",
      "\n",
      "==== 🔍 예측 결과 ====\n",
      "실제 라벨: 0  →  예측 라벨: 0\n",
      "클래스 확률: 낙상(1): 0.0002, 비낙상(0): 0.9998\n",
      "======================\n",
      "✅ 정상적인 행동입니다.\n",
      "\n",
      "==== 🔍 예측 결과 ====\n",
      "실제 라벨: 0  →  예측 라벨: 0\n",
      "클래스 확률: 낙상(1): 0.0010, 비낙상(0): 0.9990\n",
      "======================\n",
      "✅ 정상적인 행동입니다.\n",
      "\n",
      "==== 🔍 예측 결과 ====\n",
      "실제 라벨: 1  →  예측 라벨: 1\n",
      "클래스 확률: 낙상(1): 0.9999, 비낙상(0): 0.0001\n",
      "======================\n",
      "🚨 낙상으로 감지되었습니다!\n",
      "\n",
      "==== 🔍 예측 결과 ====\n",
      "실제 라벨: 0  →  예측 라벨: 0\n",
      "클래스 확률: 낙상(1): 0.0003, 비낙상(0): 0.9997\n",
      "======================\n",
      "✅ 정상적인 행동입니다.\n",
      "\n",
      "==== 🔍 예측 결과 ====\n",
      "실제 라벨: 1  →  예측 라벨: 1\n",
      "클래스 확률: 낙상(1): 0.9998, 비낙상(0): 0.0002\n",
      "======================\n",
      "🚨 낙상으로 감지되었습니다!\n",
      "\n",
      "==== 🔍 예측 결과 ====\n",
      "실제 라벨: 0  →  예측 라벨: 0\n",
      "클래스 확률: 낙상(1): 0.0002, 비낙상(0): 0.9998\n",
      "======================\n",
      "✅ 정상적인 행동입니다.\n",
      "\n",
      "==== 🔍 예측 결과 ====\n",
      "실제 라벨: 0  →  예측 라벨: 0\n",
      "클래스 확률: 낙상(1): 0.0004, 비낙상(0): 0.9996\n",
      "======================\n",
      "✅ 정상적인 행동입니다.\n",
      "\n",
      "==== 🔍 예측 결과 ====\n",
      "실제 라벨: 0  →  예측 라벨: 0\n",
      "클래스 확률: 낙상(1): 0.0006, 비낙상(0): 0.9994\n",
      "======================\n",
      "✅ 정상적인 행동입니다.\n",
      "\n",
      "==== 🔍 예측 결과 ====\n",
      "실제 라벨: 0  →  예측 라벨: 0\n",
      "클래스 확률: 낙상(1): 0.0002, 비낙상(0): 0.9998\n",
      "======================\n",
      "✅ 정상적인 행동입니다.\n",
      "\n",
      "==== 🔍 예측 결과 ====\n",
      "실제 라벨: 0  →  예측 라벨: 0\n",
      "클래스 확률: 낙상(1): 0.0009, 비낙상(0): 0.9991\n",
      "======================\n",
      "✅ 정상적인 행동입니다.\n",
      "\n",
      "==== 🔍 예측 결과 ====\n",
      "실제 라벨: 0  →  예측 라벨: 0\n",
      "클래스 확률: 낙상(1): 0.0002, 비낙상(0): 0.9998\n",
      "======================\n",
      "✅ 정상적인 행동입니다.\n",
      "\n",
      "==== 🔍 예측 결과 ====\n",
      "실제 라벨: 0  →  예측 라벨: 0\n",
      "클래스 확률: 낙상(1): 0.0002, 비낙상(0): 0.9998\n",
      "======================\n",
      "✅ 정상적인 행동입니다.\n",
      "\n",
      "==== 🔍 예측 결과 ====\n",
      "실제 라벨: 0  →  예측 라벨: 0\n",
      "클래스 확률: 낙상(1): 0.0003, 비낙상(0): 0.9997\n",
      "======================\n",
      "✅ 정상적인 행동입니다.\n",
      "\n",
      "==== 🔍 예측 결과 ====\n",
      "실제 라벨: 0  →  예측 라벨: 0\n",
      "클래스 확률: 낙상(1): 0.0004, 비낙상(0): 0.9996\n",
      "======================\n",
      "✅ 정상적인 행동입니다.\n",
      "\n",
      "==== 🔍 예측 결과 ====\n",
      "실제 라벨: 0  →  예측 라벨: 0\n",
      "클래스 확률: 낙상(1): 0.0002, 비낙상(0): 0.9998\n",
      "======================\n",
      "✅ 정상적인 행동입니다.\n",
      "\n",
      "==== 🔍 예측 결과 ====\n",
      "실제 라벨: 1  →  예측 라벨: 1\n",
      "클래스 확률: 낙상(1): 0.9999, 비낙상(0): 0.0001\n",
      "======================\n",
      "🚨 낙상으로 감지되었습니다!\n",
      "\n",
      "==== 🔍 예측 결과 ====\n",
      "실제 라벨: 1  →  예측 라벨: 1\n",
      "클래스 확률: 낙상(1): 0.9998, 비낙상(0): 0.0002\n",
      "======================\n",
      "🚨 낙상으로 감지되었습니다!\n",
      "\n",
      "==== 🔍 예측 결과 ====\n",
      "실제 라벨: 0  →  예측 라벨: 0\n",
      "클래스 확률: 낙상(1): 0.0002, 비낙상(0): 0.9998\n",
      "======================\n",
      "✅ 정상적인 행동입니다.\n",
      "\n",
      "==== 🔍 예측 결과 ====\n",
      "실제 라벨: 0  →  예측 라벨: 0\n",
      "클래스 확률: 낙상(1): 0.0002, 비낙상(0): 0.9998\n",
      "======================\n",
      "✅ 정상적인 행동입니다.\n",
      "\n",
      "==== 🔍 예측 결과 ====\n",
      "실제 라벨: 0  →  예측 라벨: 0\n",
      "클래스 확률: 낙상(1): 0.0002, 비낙상(0): 0.9998\n",
      "======================\n",
      "✅ 정상적인 행동입니다.\n",
      "\n",
      "==== 🔍 예측 결과 ====\n",
      "실제 라벨: 0  →  예측 라벨: 0\n",
      "클래스 확률: 낙상(1): 0.0007, 비낙상(0): 0.9993\n",
      "======================\n",
      "✅ 정상적인 행동입니다.\n",
      "\n",
      "==== 🔍 예측 결과 ====\n",
      "실제 라벨: 0  →  예측 라벨: 0\n",
      "클래스 확률: 낙상(1): 0.0054, 비낙상(0): 0.9946\n",
      "======================\n",
      "✅ 정상적인 행동입니다.\n",
      "\n",
      "==== 🔍 예측 결과 ====\n",
      "실제 라벨: 0  →  예측 라벨: 0\n",
      "클래스 확률: 낙상(1): 0.0002, 비낙상(0): 0.9998\n",
      "======================\n",
      "✅ 정상적인 행동입니다.\n",
      "\n",
      "==== 🔍 예측 결과 ====\n",
      "실제 라벨: 0  →  예측 라벨: 0\n",
      "클래스 확률: 낙상(1): 0.0004, 비낙상(0): 0.9996\n",
      "======================\n",
      "✅ 정상적인 행동입니다.\n",
      "\n",
      "==== 🔍 예측 결과 ====\n",
      "실제 라벨: 0  →  예측 라벨: 0\n",
      "클래스 확률: 낙상(1): 0.0008, 비낙상(0): 0.9992\n",
      "======================\n",
      "✅ 정상적인 행동입니다.\n",
      "\n",
      "==== 🔍 예측 결과 ====\n",
      "실제 라벨: 1  →  예측 라벨: 1\n",
      "클래스 확률: 낙상(1): 0.9998, 비낙상(0): 0.0002\n",
      "======================\n",
      "🚨 낙상으로 감지되었습니다!\n",
      "\n",
      "==== 🔍 예측 결과 ====\n",
      "실제 라벨: 1  →  예측 라벨: 1\n",
      "클래스 확률: 낙상(1): 0.9999, 비낙상(0): 0.0001\n",
      "======================\n",
      "🚨 낙상으로 감지되었습니다!\n",
      "\n",
      "==== 🔍 예측 결과 ====\n",
      "실제 라벨: 0  →  예측 라벨: 0\n",
      "클래스 확률: 낙상(1): 0.0002, 비낙상(0): 0.9998\n",
      "======================\n",
      "✅ 정상적인 행동입니다.\n",
      "\n",
      "==== 🔍 예측 결과 ====\n",
      "실제 라벨: 0  →  예측 라벨: 0\n",
      "클래스 확률: 낙상(1): 0.0003, 비낙상(0): 0.9997\n",
      "======================\n",
      "✅ 정상적인 행동입니다.\n",
      "\n",
      "==== 🔍 예측 결과 ====\n",
      "실제 라벨: 0  →  예측 라벨: 0\n",
      "클래스 확률: 낙상(1): 0.0006, 비낙상(0): 0.9994\n",
      "======================\n",
      "✅ 정상적인 행동입니다.\n",
      "\n",
      "==== 🔍 예측 결과 ====\n",
      "실제 라벨: 0  →  예측 라벨: 0\n",
      "클래스 확률: 낙상(1): 0.4550, 비낙상(0): 0.5450\n",
      "======================\n",
      "✅ 정상적인 행동입니다.\n",
      "\n",
      "==== 🔍 예측 결과 ====\n",
      "실제 라벨: 0  →  예측 라벨: 0\n",
      "클래스 확률: 낙상(1): 0.0002, 비낙상(0): 0.9998\n",
      "======================\n",
      "✅ 정상적인 행동입니다.\n",
      "\n",
      "==== 🔍 예측 결과 ====\n",
      "실제 라벨: 0  →  예측 라벨: 0\n",
      "클래스 확률: 낙상(1): 0.0006, 비낙상(0): 0.9994\n",
      "======================\n",
      "✅ 정상적인 행동입니다.\n",
      "\n",
      "==== 🔍 예측 결과 ====\n",
      "실제 라벨: 0  →  예측 라벨: 0\n",
      "클래스 확률: 낙상(1): 0.0002, 비낙상(0): 0.9998\n",
      "======================\n",
      "✅ 정상적인 행동입니다.\n",
      "\n",
      "==== 🔍 예측 결과 ====\n",
      "실제 라벨: 0  →  예측 라벨: 0\n",
      "클래스 확률: 낙상(1): 0.0006, 비낙상(0): 0.9994\n",
      "======================\n",
      "✅ 정상적인 행동입니다.\n",
      "\n",
      "==== 🔍 예측 결과 ====\n",
      "실제 라벨: 0  →  예측 라벨: 0\n",
      "클래스 확률: 낙상(1): 0.0003, 비낙상(0): 0.9997\n",
      "======================\n",
      "✅ 정상적인 행동입니다.\n",
      "\n",
      "==== 🔍 예측 결과 ====\n",
      "실제 라벨: 0  →  예측 라벨: 0\n",
      "클래스 확률: 낙상(1): 0.0003, 비낙상(0): 0.9997\n",
      "======================\n",
      "✅ 정상적인 행동입니다.\n",
      "\n",
      "==== 🔍 예측 결과 ====\n",
      "실제 라벨: 1  →  예측 라벨: 1\n",
      "클래스 확률: 낙상(1): 0.9982, 비낙상(0): 0.0018\n",
      "======================\n",
      "🚨 낙상으로 감지되었습니다!\n",
      "\n",
      "==== 🔍 예측 결과 ====\n",
      "실제 라벨: 0  →  예측 라벨: 0\n",
      "클래스 확률: 낙상(1): 0.0006, 비낙상(0): 0.9994\n",
      "======================\n",
      "✅ 정상적인 행동입니다.\n",
      "\n",
      "==== 🔍 예측 결과 ====\n",
      "실제 라벨: 0  →  예측 라벨: 0\n",
      "클래스 확률: 낙상(1): 0.0004, 비낙상(0): 0.9996\n",
      "======================\n",
      "✅ 정상적인 행동입니다.\n",
      "\n",
      "==== 🔍 예측 결과 ====\n",
      "실제 라벨: 1  →  예측 라벨: 1\n",
      "클래스 확률: 낙상(1): 0.9998, 비낙상(0): 0.0002\n",
      "======================\n",
      "🚨 낙상으로 감지되었습니다!\n",
      "\n",
      "==== 🔍 예측 결과 ====\n",
      "실제 라벨: 1  →  예측 라벨: 1\n",
      "클래스 확률: 낙상(1): 0.9998, 비낙상(0): 0.0002\n",
      "======================\n",
      "🚨 낙상으로 감지되었습니다!\n",
      "\n",
      "==== 🔍 예측 결과 ====\n",
      "실제 라벨: 1  →  예측 라벨: 1\n",
      "클래스 확률: 낙상(1): 0.9998, 비낙상(0): 0.0002\n",
      "======================\n",
      "🚨 낙상으로 감지되었습니다!\n",
      "\n",
      "==== 🔍 예측 결과 ====\n",
      "실제 라벨: 0  →  예측 라벨: 0\n",
      "클래스 확률: 낙상(1): 0.0004, 비낙상(0): 0.9996\n",
      "======================\n",
      "✅ 정상적인 행동입니다.\n",
      "\n",
      "==== 🔍 예측 결과 ====\n",
      "실제 라벨: 0  →  예측 라벨: 0\n",
      "클래스 확률: 낙상(1): 0.0002, 비낙상(0): 0.9998\n",
      "======================\n",
      "✅ 정상적인 행동입니다.\n",
      "\n",
      "==== 🔍 예측 결과 ====\n",
      "실제 라벨: 0  →  예측 라벨: 0\n",
      "클래스 확률: 낙상(1): 0.0002, 비낙상(0): 0.9998\n",
      "======================\n",
      "✅ 정상적인 행동입니다.\n",
      "\n",
      "==== 🔍 예측 결과 ====\n",
      "실제 라벨: 0  →  예측 라벨: 0\n",
      "클래스 확률: 낙상(1): 0.0004, 비낙상(0): 0.9996\n",
      "======================\n",
      "✅ 정상적인 행동입니다.\n",
      "\n",
      "==== 🔍 예측 결과 ====\n",
      "실제 라벨: 1  →  예측 라벨: 1\n",
      "클래스 확률: 낙상(1): 0.9991, 비낙상(0): 0.0009\n",
      "======================\n",
      "🚨 낙상으로 감지되었습니다!\n",
      "\n",
      "==== 🔍 예측 결과 ====\n",
      "실제 라벨: 0  →  예측 라벨: 0\n",
      "클래스 확률: 낙상(1): 0.0004, 비낙상(0): 0.9996\n",
      "======================\n",
      "✅ 정상적인 행동입니다.\n",
      "\n",
      "==== 🔍 예측 결과 ====\n",
      "실제 라벨: 0  →  예측 라벨: 0\n",
      "클래스 확률: 낙상(1): 0.0002, 비낙상(0): 0.9998\n",
      "======================\n",
      "✅ 정상적인 행동입니다.\n",
      "\n",
      "==== 🔍 예측 결과 ====\n",
      "실제 라벨: 0  →  예측 라벨: 0\n",
      "클래스 확률: 낙상(1): 0.0003, 비낙상(0): 0.9997\n",
      "======================\n",
      "✅ 정상적인 행동입니다.\n",
      "\n",
      "==== 🔍 예측 결과 ====\n",
      "실제 라벨: 1  →  예측 라벨: 1\n",
      "클래스 확률: 낙상(1): 0.9998, 비낙상(0): 0.0002\n",
      "======================\n",
      "🚨 낙상으로 감지되었습니다!\n",
      "\n",
      "==== 🔍 예측 결과 ====\n",
      "실제 라벨: 0  →  예측 라벨: 0\n",
      "클래스 확률: 낙상(1): 0.0011, 비낙상(0): 0.9989\n",
      "======================\n",
      "✅ 정상적인 행동입니다.\n",
      "\n",
      "==== 🔍 예측 결과 ====\n",
      "실제 라벨: 0  →  예측 라벨: 0\n",
      "클래스 확률: 낙상(1): 0.0004, 비낙상(0): 0.9996\n",
      "======================\n",
      "✅ 정상적인 행동입니다.\n",
      "\n",
      "==== 🔍 예측 결과 ====\n",
      "실제 라벨: 1  →  예측 라벨: 1\n",
      "클래스 확률: 낙상(1): 0.9981, 비낙상(0): 0.0019\n",
      "======================\n",
      "🚨 낙상으로 감지되었습니다!\n",
      "\n",
      "==== 🔍 예측 결과 ====\n",
      "실제 라벨: 0  →  예측 라벨: 0\n",
      "클래스 확률: 낙상(1): 0.0003, 비낙상(0): 0.9997\n",
      "======================\n",
      "✅ 정상적인 행동입니다.\n",
      "\n",
      "==== 🔍 예측 결과 ====\n",
      "실제 라벨: 0  →  예측 라벨: 0\n",
      "클래스 확률: 낙상(1): 0.0002, 비낙상(0): 0.9998\n",
      "======================\n",
      "✅ 정상적인 행동입니다.\n",
      "\n",
      "==== 🔍 예측 결과 ====\n",
      "실제 라벨: 0  →  예측 라벨: 0\n",
      "클래스 확률: 낙상(1): 0.0004, 비낙상(0): 0.9996\n",
      "======================\n",
      "✅ 정상적인 행동입니다.\n",
      "\n",
      "==== 🔍 예측 결과 ====\n",
      "실제 라벨: 0  →  예측 라벨: 0\n",
      "클래스 확률: 낙상(1): 0.4795, 비낙상(0): 0.5205\n",
      "======================\n",
      "✅ 정상적인 행동입니다.\n",
      "\n",
      "==== 🔍 예측 결과 ====\n",
      "실제 라벨: 1  →  예측 라벨: 1\n",
      "클래스 확률: 낙상(1): 0.9999, 비낙상(0): 0.0001\n",
      "======================\n",
      "🚨 낙상으로 감지되었습니다!\n",
      "\n",
      "==== 🔍 예측 결과 ====\n",
      "실제 라벨: 0  →  예측 라벨: 0\n",
      "클래스 확률: 낙상(1): 0.0003, 비낙상(0): 0.9997\n",
      "======================\n",
      "✅ 정상적인 행동입니다.\n",
      "\n",
      "==== 🔍 예측 결과 ====\n",
      "실제 라벨: 0  →  예측 라벨: 0\n",
      "클래스 확률: 낙상(1): 0.0007, 비낙상(0): 0.9993\n",
      "======================\n",
      "✅ 정상적인 행동입니다.\n",
      "\n",
      "==== 🔍 예측 결과 ====\n",
      "실제 라벨: 0  →  예측 라벨: 0\n",
      "클래스 확률: 낙상(1): 0.0004, 비낙상(0): 0.9996\n",
      "======================\n",
      "✅ 정상적인 행동입니다.\n",
      "\n",
      "==== 🔍 예측 결과 ====\n",
      "실제 라벨: 0  →  예측 라벨: 0\n",
      "클래스 확률: 낙상(1): 0.0006, 비낙상(0): 0.9994\n",
      "======================\n",
      "✅ 정상적인 행동입니다.\n",
      "\n",
      "==== 🔍 예측 결과 ====\n",
      "실제 라벨: 0  →  예측 라벨: 0\n",
      "클래스 확률: 낙상(1): 0.0002, 비낙상(0): 0.9998\n",
      "======================\n",
      "✅ 정상적인 행동입니다.\n",
      "\n",
      "==== 🔍 예측 결과 ====\n",
      "실제 라벨: 0  →  예측 라벨: 0\n",
      "클래스 확률: 낙상(1): 0.0002, 비낙상(0): 0.9998\n",
      "======================\n",
      "✅ 정상적인 행동입니다.\n",
      "\n",
      "==== 🔍 예측 결과 ====\n",
      "실제 라벨: 0  →  예측 라벨: 0\n",
      "클래스 확률: 낙상(1): 0.0003, 비낙상(0): 0.9997\n",
      "======================\n",
      "✅ 정상적인 행동입니다.\n",
      "\n",
      "==== 🔍 예측 결과 ====\n",
      "실제 라벨: 0  →  예측 라벨: 0\n",
      "클래스 확률: 낙상(1): 0.0002, 비낙상(0): 0.9998\n",
      "======================\n",
      "✅ 정상적인 행동입니다.\n",
      "\n",
      "==== 🔍 예측 결과 ====\n",
      "실제 라벨: 0  →  예측 라벨: 0\n",
      "클래스 확률: 낙상(1): 0.0004, 비낙상(0): 0.9996\n",
      "======================\n",
      "✅ 정상적인 행동입니다.\n",
      "\n",
      "==== 🔍 예측 결과 ====\n",
      "실제 라벨: 0  →  예측 라벨: 0\n",
      "클래스 확률: 낙상(1): 0.0003, 비낙상(0): 0.9997\n",
      "======================\n",
      "✅ 정상적인 행동입니다.\n",
      "\n",
      "==== 🔍 예측 결과 ====\n",
      "실제 라벨: 1  →  예측 라벨: 1\n",
      "클래스 확률: 낙상(1): 0.9999, 비낙상(0): 0.0001\n",
      "======================\n",
      "🚨 낙상으로 감지되었습니다!\n",
      "\n",
      "==== 🔍 예측 결과 ====\n",
      "실제 라벨: 1  →  예측 라벨: 1\n",
      "클래스 확률: 낙상(1): 0.9996, 비낙상(0): 0.0004\n",
      "======================\n",
      "🚨 낙상으로 감지되었습니다!\n",
      "\n",
      "==== 🔍 예측 결과 ====\n",
      "실제 라벨: 0  →  예측 라벨: 0\n",
      "클래스 확률: 낙상(1): 0.0009, 비낙상(0): 0.9991\n",
      "======================\n",
      "✅ 정상적인 행동입니다.\n",
      "\n",
      "==== 🔍 예측 결과 ====\n",
      "실제 라벨: 1  →  예측 라벨: 1\n",
      "클래스 확률: 낙상(1): 0.9971, 비낙상(0): 0.0029\n",
      "======================\n",
      "🚨 낙상으로 감지되었습니다!\n",
      "\n",
      "==== 🔍 예측 결과 ====\n",
      "실제 라벨: 0  →  예측 라벨: 0\n",
      "클래스 확률: 낙상(1): 0.0003, 비낙상(0): 0.9997\n",
      "======================\n",
      "✅ 정상적인 행동입니다.\n",
      "\n",
      "==== 🔍 예측 결과 ====\n",
      "실제 라벨: 0  →  예측 라벨: 0\n",
      "클래스 확률: 낙상(1): 0.0003, 비낙상(0): 0.9997\n",
      "======================\n",
      "✅ 정상적인 행동입니다.\n",
      "\n",
      "==== 🔍 예측 결과 ====\n",
      "실제 라벨: 0  →  예측 라벨: 0\n",
      "클래스 확률: 낙상(1): 0.0003, 비낙상(0): 0.9997\n",
      "======================\n",
      "✅ 정상적인 행동입니다.\n",
      "\n",
      "==== 🔍 예측 결과 ====\n",
      "실제 라벨: 0  →  예측 라벨: 0\n",
      "클래스 확률: 낙상(1): 0.0004, 비낙상(0): 0.9996\n",
      "======================\n",
      "✅ 정상적인 행동입니다.\n",
      "\n",
      "==== 🔍 예측 결과 ====\n",
      "실제 라벨: 0  →  예측 라벨: 0\n",
      "클래스 확률: 낙상(1): 0.4997, 비낙상(0): 0.5003\n",
      "======================\n",
      "✅ 정상적인 행동입니다.\n"
     ]
    }
   ],
   "source": [
    "DATA_PATH = BASE_DIR / \"data\" / \"processed\" / \"npz\" / \"fall_dataset.npz\"\n",
    "# === npz 데이터 불러오기 ===\n",
    "print(\"🔹 테스트 데이터 로드 중...\")\n",
    "data = np.load(DATA_PATH, allow_pickle=True)\n",
    "X, Y = data[\"X\"], data[\"Y\"]\n",
    "\n",
    "for _ in range(100):\n",
    "    # === 한 샘플만 테스트 (낙상 or 비낙상 랜덤) ===\n",
    "    idx = np.random.randint(0, len(X))\n",
    "    sample = X[idx]\n",
    "    label = Y[idx]\n",
    "    \n",
    "    # === 스케일 적용 ===\n",
    "    # scaler는 (N*T, D)에 대해 fit했으므로, frame별로 변환\n",
    "    sample_scaled = np.array([scaler.transform(frame.reshape(1, -1))[0] for frame in sample])\n",
    "    \n",
    "    # === 텐서 변환 ===\n",
    "    x_tensor = torch.tensor(sample_scaled, dtype=torch.float32).unsqueeze(0).to(device)\n",
    "    \n",
    "    # === 예측 ===\n",
    "    with torch.no_grad():\n",
    "        logits = model(x_tensor)\n",
    "        probs = torch.softmax(logits, dim=1).cpu().numpy()[0]\n",
    "        pred = int(np.argmax(probs))\n",
    "    \n",
    "    print(\"\\n==== 🔍 예측 결과 ====\")\n",
    "    print(f\"실제 라벨: {label}  →  예측 라벨: {pred}\")\n",
    "    print(f\"클래스 확률: 낙상(1): {probs[1]:.4f}, 비낙상(0): {probs[0]:.4f}\")\n",
    "    print(\"======================\")\n",
    "    \n",
    "    if pred == 1:\n",
    "        print(\"🚨 낙상으로 감지되었습니다!\")\n",
    "    else:\n",
    "        print(\"✅ 정상적인 행동입니다.\")"
   ]
  },
  {
   "cell_type": "code",
   "execution_count": 15,
   "id": "164b3f6a-15e4-4c95-8473-cb80d0abda53",
   "metadata": {},
   "outputs": [],
   "source": [
    "import cv2\n",
    "import mediapipe as mp\n",
    "VIDEO_PATH = BASE_DIR / \"data\" / \"raw\" / \"LE2i\" / \"Home_01\" / \"Videos\" / \"video (1).avi\""
   ]
  },
  {
   "cell_type": "code",
   "execution_count": 29,
   "id": "a02b6093-1d7b-47e0-b33f-7f5551822265",
   "metadata": {
    "scrolled": true
   },
   "outputs": [
    {
     "name": "stderr",
     "output_type": "stream",
     "text": [
      "C:\\Users\\un747\\anaconda3\\envs\\fall\\lib\\site-packages\\google\\protobuf\\symbol_database.py:55: UserWarning: SymbolDatabase.GetPrototype() is deprecated. Please use message_factory.GetMessageClass() instead. SymbolDatabase.GetPrototype() will be removed soon.\n",
      "  warnings.warn('SymbolDatabase.GetPrototype() is deprecated. Please '\n"
     ]
    },
    {
     "name": "stdout",
     "output_type": "stream",
     "text": [
      "정상\n",
      "정상\n"
     ]
    },
    {
     "name": "stderr",
     "output_type": "stream",
     "text": [
      "C:\\Users\\un747\\anaconda3\\envs\\fall\\lib\\site-packages\\google\\protobuf\\symbol_database.py:55: UserWarning: SymbolDatabase.GetPrototype() is deprecated. Please use message_factory.GetMessageClass() instead. SymbolDatabase.GetPrototype() will be removed soon.\n",
      "  warnings.warn('SymbolDatabase.GetPrototype() is deprecated. Please '\n",
      "C:\\Users\\un747\\anaconda3\\envs\\fall\\lib\\site-packages\\google\\protobuf\\symbol_database.py:55: UserWarning: SymbolDatabase.GetPrototype() is deprecated. Please use message_factory.GetMessageClass() instead. SymbolDatabase.GetPrototype() will be removed soon.\n",
      "  warnings.warn('SymbolDatabase.GetPrototype() is deprecated. Please '\n"
     ]
    },
    {
     "name": "stdout",
     "output_type": "stream",
     "text": [
      "정상\n",
      "정상\n"
     ]
    },
    {
     "name": "stderr",
     "output_type": "stream",
     "text": [
      "C:\\Users\\un747\\anaconda3\\envs\\fall\\lib\\site-packages\\google\\protobuf\\symbol_database.py:55: UserWarning: SymbolDatabase.GetPrototype() is deprecated. Please use message_factory.GetMessageClass() instead. SymbolDatabase.GetPrototype() will be removed soon.\n",
      "  warnings.warn('SymbolDatabase.GetPrototype() is deprecated. Please '\n",
      "C:\\Users\\un747\\anaconda3\\envs\\fall\\lib\\site-packages\\google\\protobuf\\symbol_database.py:55: UserWarning: SymbolDatabase.GetPrototype() is deprecated. Please use message_factory.GetMessageClass() instead. SymbolDatabase.GetPrototype() will be removed soon.\n",
      "  warnings.warn('SymbolDatabase.GetPrototype() is deprecated. Please '\n"
     ]
    },
    {
     "name": "stdout",
     "output_type": "stream",
     "text": [
      "정상\n",
      "정상\n"
     ]
    },
    {
     "name": "stderr",
     "output_type": "stream",
     "text": [
      "C:\\Users\\un747\\anaconda3\\envs\\fall\\lib\\site-packages\\google\\protobuf\\symbol_database.py:55: UserWarning: SymbolDatabase.GetPrototype() is deprecated. Please use message_factory.GetMessageClass() instead. SymbolDatabase.GetPrototype() will be removed soon.\n",
      "  warnings.warn('SymbolDatabase.GetPrototype() is deprecated. Please '\n",
      "C:\\Users\\un747\\anaconda3\\envs\\fall\\lib\\site-packages\\google\\protobuf\\symbol_database.py:55: UserWarning: SymbolDatabase.GetPrototype() is deprecated. Please use message_factory.GetMessageClass() instead. SymbolDatabase.GetPrototype() will be removed soon.\n",
      "  warnings.warn('SymbolDatabase.GetPrototype() is deprecated. Please '\n"
     ]
    },
    {
     "name": "stdout",
     "output_type": "stream",
     "text": [
      "정상\n",
      "정상\n"
     ]
    },
    {
     "name": "stderr",
     "output_type": "stream",
     "text": [
      "C:\\Users\\un747\\anaconda3\\envs\\fall\\lib\\site-packages\\google\\protobuf\\symbol_database.py:55: UserWarning: SymbolDatabase.GetPrototype() is deprecated. Please use message_factory.GetMessageClass() instead. SymbolDatabase.GetPrototype() will be removed soon.\n",
      "  warnings.warn('SymbolDatabase.GetPrototype() is deprecated. Please '\n",
      "C:\\Users\\un747\\anaconda3\\envs\\fall\\lib\\site-packages\\google\\protobuf\\symbol_database.py:55: UserWarning: SymbolDatabase.GetPrototype() is deprecated. Please use message_factory.GetMessageClass() instead. SymbolDatabase.GetPrototype() will be removed soon.\n",
      "  warnings.warn('SymbolDatabase.GetPrototype() is deprecated. Please '\n"
     ]
    },
    {
     "name": "stdout",
     "output_type": "stream",
     "text": [
      "정상\n",
      "정상\n"
     ]
    },
    {
     "name": "stderr",
     "output_type": "stream",
     "text": [
      "C:\\Users\\un747\\anaconda3\\envs\\fall\\lib\\site-packages\\google\\protobuf\\symbol_database.py:55: UserWarning: SymbolDatabase.GetPrototype() is deprecated. Please use message_factory.GetMessageClass() instead. SymbolDatabase.GetPrototype() will be removed soon.\n",
      "  warnings.warn('SymbolDatabase.GetPrototype() is deprecated. Please '\n",
      "C:\\Users\\un747\\anaconda3\\envs\\fall\\lib\\site-packages\\google\\protobuf\\symbol_database.py:55: UserWarning: SymbolDatabase.GetPrototype() is deprecated. Please use message_factory.GetMessageClass() instead. SymbolDatabase.GetPrototype() will be removed soon.\n",
      "  warnings.warn('SymbolDatabase.GetPrototype() is deprecated. Please '\n"
     ]
    },
    {
     "name": "stdout",
     "output_type": "stream",
     "text": [
      "정상\n",
      "정상\n"
     ]
    },
    {
     "name": "stderr",
     "output_type": "stream",
     "text": [
      "C:\\Users\\un747\\anaconda3\\envs\\fall\\lib\\site-packages\\google\\protobuf\\symbol_database.py:55: UserWarning: SymbolDatabase.GetPrototype() is deprecated. Please use message_factory.GetMessageClass() instead. SymbolDatabase.GetPrototype() will be removed soon.\n",
      "  warnings.warn('SymbolDatabase.GetPrototype() is deprecated. Please '\n",
      "C:\\Users\\un747\\anaconda3\\envs\\fall\\lib\\site-packages\\google\\protobuf\\symbol_database.py:55: UserWarning: SymbolDatabase.GetPrototype() is deprecated. Please use message_factory.GetMessageClass() instead. SymbolDatabase.GetPrototype() will be removed soon.\n",
      "  warnings.warn('SymbolDatabase.GetPrototype() is deprecated. Please '\n"
     ]
    },
    {
     "name": "stdout",
     "output_type": "stream",
     "text": [
      "정상\n",
      "정상\n"
     ]
    },
    {
     "name": "stderr",
     "output_type": "stream",
     "text": [
      "C:\\Users\\un747\\anaconda3\\envs\\fall\\lib\\site-packages\\google\\protobuf\\symbol_database.py:55: UserWarning: SymbolDatabase.GetPrototype() is deprecated. Please use message_factory.GetMessageClass() instead. SymbolDatabase.GetPrototype() will be removed soon.\n",
      "  warnings.warn('SymbolDatabase.GetPrototype() is deprecated. Please '\n",
      "C:\\Users\\un747\\anaconda3\\envs\\fall\\lib\\site-packages\\google\\protobuf\\symbol_database.py:55: UserWarning: SymbolDatabase.GetPrototype() is deprecated. Please use message_factory.GetMessageClass() instead. SymbolDatabase.GetPrototype() will be removed soon.\n",
      "  warnings.warn('SymbolDatabase.GetPrototype() is deprecated. Please '\n"
     ]
    },
    {
     "name": "stdout",
     "output_type": "stream",
     "text": [
      "정상\n",
      "정상\n"
     ]
    },
    {
     "name": "stderr",
     "output_type": "stream",
     "text": [
      "C:\\Users\\un747\\anaconda3\\envs\\fall\\lib\\site-packages\\google\\protobuf\\symbol_database.py:55: UserWarning: SymbolDatabase.GetPrototype() is deprecated. Please use message_factory.GetMessageClass() instead. SymbolDatabase.GetPrototype() will be removed soon.\n",
      "  warnings.warn('SymbolDatabase.GetPrototype() is deprecated. Please '\n",
      "C:\\Users\\un747\\anaconda3\\envs\\fall\\lib\\site-packages\\google\\protobuf\\symbol_database.py:55: UserWarning: SymbolDatabase.GetPrototype() is deprecated. Please use message_factory.GetMessageClass() instead. SymbolDatabase.GetPrototype() will be removed soon.\n",
      "  warnings.warn('SymbolDatabase.GetPrototype() is deprecated. Please '\n",
      "C:\\Users\\un747\\anaconda3\\envs\\fall\\lib\\site-packages\\google\\protobuf\\symbol_database.py:55: UserWarning: SymbolDatabase.GetPrototype() is deprecated. Please use message_factory.GetMessageClass() instead. SymbolDatabase.GetPrototype() will be removed soon.\n",
      "  warnings.warn('SymbolDatabase.GetPrototype() is deprecated. Please '\n"
     ]
    },
    {
     "name": "stdout",
     "output_type": "stream",
     "text": [
      "정상\n",
      "정상\n"
     ]
    },
    {
     "name": "stderr",
     "output_type": "stream",
     "text": [
      "C:\\Users\\un747\\anaconda3\\envs\\fall\\lib\\site-packages\\google\\protobuf\\symbol_database.py:55: UserWarning: SymbolDatabase.GetPrototype() is deprecated. Please use message_factory.GetMessageClass() instead. SymbolDatabase.GetPrototype() will be removed soon.\n",
      "  warnings.warn('SymbolDatabase.GetPrototype() is deprecated. Please '\n",
      "C:\\Users\\un747\\anaconda3\\envs\\fall\\lib\\site-packages\\google\\protobuf\\symbol_database.py:55: UserWarning: SymbolDatabase.GetPrototype() is deprecated. Please use message_factory.GetMessageClass() instead. SymbolDatabase.GetPrototype() will be removed soon.\n",
      "  warnings.warn('SymbolDatabase.GetPrototype() is deprecated. Please '\n",
      "C:\\Users\\un747\\anaconda3\\envs\\fall\\lib\\site-packages\\google\\protobuf\\symbol_database.py:55: UserWarning: SymbolDatabase.GetPrototype() is deprecated. Please use message_factory.GetMessageClass() instead. SymbolDatabase.GetPrototype() will be removed soon.\n",
      "  warnings.warn('SymbolDatabase.GetPrototype() is deprecated. Please '\n"
     ]
    },
    {
     "name": "stdout",
     "output_type": "stream",
     "text": [
      "정상\n",
      "정상\n",
      "정상\n"
     ]
    },
    {
     "name": "stderr",
     "output_type": "stream",
     "text": [
      "C:\\Users\\un747\\anaconda3\\envs\\fall\\lib\\site-packages\\google\\protobuf\\symbol_database.py:55: UserWarning: SymbolDatabase.GetPrototype() is deprecated. Please use message_factory.GetMessageClass() instead. SymbolDatabase.GetPrototype() will be removed soon.\n",
      "  warnings.warn('SymbolDatabase.GetPrototype() is deprecated. Please '\n",
      "C:\\Users\\un747\\anaconda3\\envs\\fall\\lib\\site-packages\\google\\protobuf\\symbol_database.py:55: UserWarning: SymbolDatabase.GetPrototype() is deprecated. Please use message_factory.GetMessageClass() instead. SymbolDatabase.GetPrototype() will be removed soon.\n",
      "  warnings.warn('SymbolDatabase.GetPrototype() is deprecated. Please '\n",
      "C:\\Users\\un747\\anaconda3\\envs\\fall\\lib\\site-packages\\google\\protobuf\\symbol_database.py:55: UserWarning: SymbolDatabase.GetPrototype() is deprecated. Please use message_factory.GetMessageClass() instead. SymbolDatabase.GetPrototype() will be removed soon.\n",
      "  warnings.warn('SymbolDatabase.GetPrototype() is deprecated. Please '\n"
     ]
    },
    {
     "name": "stdout",
     "output_type": "stream",
     "text": [
      "정상\n",
      "정상\n",
      "정상\n",
      "정상\n",
      "정상\n"
     ]
    },
    {
     "name": "stderr",
     "output_type": "stream",
     "text": [
      "C:\\Users\\un747\\anaconda3\\envs\\fall\\lib\\site-packages\\google\\protobuf\\symbol_database.py:55: UserWarning: SymbolDatabase.GetPrototype() is deprecated. Please use message_factory.GetMessageClass() instead. SymbolDatabase.GetPrototype() will be removed soon.\n",
      "  warnings.warn('SymbolDatabase.GetPrototype() is deprecated. Please '\n",
      "C:\\Users\\un747\\anaconda3\\envs\\fall\\lib\\site-packages\\google\\protobuf\\symbol_database.py:55: UserWarning: SymbolDatabase.GetPrototype() is deprecated. Please use message_factory.GetMessageClass() instead. SymbolDatabase.GetPrototype() will be removed soon.\n",
      "  warnings.warn('SymbolDatabase.GetPrototype() is deprecated. Please '\n",
      "C:\\Users\\un747\\anaconda3\\envs\\fall\\lib\\site-packages\\google\\protobuf\\symbol_database.py:55: UserWarning: SymbolDatabase.GetPrototype() is deprecated. Please use message_factory.GetMessageClass() instead. SymbolDatabase.GetPrototype() will be removed soon.\n",
      "  warnings.warn('SymbolDatabase.GetPrototype() is deprecated. Please '\n",
      "C:\\Users\\un747\\anaconda3\\envs\\fall\\lib\\site-packages\\google\\protobuf\\symbol_database.py:55: UserWarning: SymbolDatabase.GetPrototype() is deprecated. Please use message_factory.GetMessageClass() instead. SymbolDatabase.GetPrototype() will be removed soon.\n",
      "  warnings.warn('SymbolDatabase.GetPrototype() is deprecated. Please '\n"
     ]
    },
    {
     "name": "stdout",
     "output_type": "stream",
     "text": [
      "정상\n",
      "정상\n"
     ]
    },
    {
     "name": "stderr",
     "output_type": "stream",
     "text": [
      "C:\\Users\\un747\\anaconda3\\envs\\fall\\lib\\site-packages\\google\\protobuf\\symbol_database.py:55: UserWarning: SymbolDatabase.GetPrototype() is deprecated. Please use message_factory.GetMessageClass() instead. SymbolDatabase.GetPrototype() will be removed soon.\n",
      "  warnings.warn('SymbolDatabase.GetPrototype() is deprecated. Please '\n",
      "C:\\Users\\un747\\anaconda3\\envs\\fall\\lib\\site-packages\\google\\protobuf\\symbol_database.py:55: UserWarning: SymbolDatabase.GetPrototype() is deprecated. Please use message_factory.GetMessageClass() instead. SymbolDatabase.GetPrototype() will be removed soon.\n",
      "  warnings.warn('SymbolDatabase.GetPrototype() is deprecated. Please '\n",
      "C:\\Users\\un747\\anaconda3\\envs\\fall\\lib\\site-packages\\google\\protobuf\\symbol_database.py:55: UserWarning: SymbolDatabase.GetPrototype() is deprecated. Please use message_factory.GetMessageClass() instead. SymbolDatabase.GetPrototype() will be removed soon.\n",
      "  warnings.warn('SymbolDatabase.GetPrototype() is deprecated. Please '\n"
     ]
    },
    {
     "name": "stdout",
     "output_type": "stream",
     "text": [
      "정상\n",
      "정상\n",
      "정상\n",
      "정상\n"
     ]
    },
    {
     "name": "stderr",
     "output_type": "stream",
     "text": [
      "C:\\Users\\un747\\anaconda3\\envs\\fall\\lib\\site-packages\\google\\protobuf\\symbol_database.py:55: UserWarning: SymbolDatabase.GetPrototype() is deprecated. Please use message_factory.GetMessageClass() instead. SymbolDatabase.GetPrototype() will be removed soon.\n",
      "  warnings.warn('SymbolDatabase.GetPrototype() is deprecated. Please '\n",
      "C:\\Users\\un747\\anaconda3\\envs\\fall\\lib\\site-packages\\google\\protobuf\\symbol_database.py:55: UserWarning: SymbolDatabase.GetPrototype() is deprecated. Please use message_factory.GetMessageClass() instead. SymbolDatabase.GetPrototype() will be removed soon.\n",
      "  warnings.warn('SymbolDatabase.GetPrototype() is deprecated. Please '\n"
     ]
    },
    {
     "name": "stdout",
     "output_type": "stream",
     "text": [
      "정상\n",
      "정상\n"
     ]
    },
    {
     "name": "stderr",
     "output_type": "stream",
     "text": [
      "C:\\Users\\un747\\anaconda3\\envs\\fall\\lib\\site-packages\\google\\protobuf\\symbol_database.py:55: UserWarning: SymbolDatabase.GetPrototype() is deprecated. Please use message_factory.GetMessageClass() instead. SymbolDatabase.GetPrototype() will be removed soon.\n",
      "  warnings.warn('SymbolDatabase.GetPrototype() is deprecated. Please '\n",
      "C:\\Users\\un747\\anaconda3\\envs\\fall\\lib\\site-packages\\google\\protobuf\\symbol_database.py:55: UserWarning: SymbolDatabase.GetPrototype() is deprecated. Please use message_factory.GetMessageClass() instead. SymbolDatabase.GetPrototype() will be removed soon.\n",
      "  warnings.warn('SymbolDatabase.GetPrototype() is deprecated. Please '\n"
     ]
    },
    {
     "name": "stdout",
     "output_type": "stream",
     "text": [
      "정상\n",
      "정상\n",
      "정상\n"
     ]
    },
    {
     "name": "stderr",
     "output_type": "stream",
     "text": [
      "C:\\Users\\un747\\anaconda3\\envs\\fall\\lib\\site-packages\\google\\protobuf\\symbol_database.py:55: UserWarning: SymbolDatabase.GetPrototype() is deprecated. Please use message_factory.GetMessageClass() instead. SymbolDatabase.GetPrototype() will be removed soon.\n",
      "  warnings.warn('SymbolDatabase.GetPrototype() is deprecated. Please '\n",
      "C:\\Users\\un747\\anaconda3\\envs\\fall\\lib\\site-packages\\google\\protobuf\\symbol_database.py:55: UserWarning: SymbolDatabase.GetPrototype() is deprecated. Please use message_factory.GetMessageClass() instead. SymbolDatabase.GetPrototype() will be removed soon.\n",
      "  warnings.warn('SymbolDatabase.GetPrototype() is deprecated. Please '\n",
      "C:\\Users\\un747\\anaconda3\\envs\\fall\\lib\\site-packages\\google\\protobuf\\symbol_database.py:55: UserWarning: SymbolDatabase.GetPrototype() is deprecated. Please use message_factory.GetMessageClass() instead. SymbolDatabase.GetPrototype() will be removed soon.\n",
      "  warnings.warn('SymbolDatabase.GetPrototype() is deprecated. Please '\n",
      "C:\\Users\\un747\\anaconda3\\envs\\fall\\lib\\site-packages\\google\\protobuf\\symbol_database.py:55: UserWarning: SymbolDatabase.GetPrototype() is deprecated. Please use message_factory.GetMessageClass() instead. SymbolDatabase.GetPrototype() will be removed soon.\n",
      "  warnings.warn('SymbolDatabase.GetPrototype() is deprecated. Please '\n"
     ]
    },
    {
     "name": "stdout",
     "output_type": "stream",
     "text": [
      "정상\n",
      "정상\n"
     ]
    },
    {
     "name": "stderr",
     "output_type": "stream",
     "text": [
      "C:\\Users\\un747\\anaconda3\\envs\\fall\\lib\\site-packages\\google\\protobuf\\symbol_database.py:55: UserWarning: SymbolDatabase.GetPrototype() is deprecated. Please use message_factory.GetMessageClass() instead. SymbolDatabase.GetPrototype() will be removed soon.\n",
      "  warnings.warn('SymbolDatabase.GetPrototype() is deprecated. Please '\n",
      "C:\\Users\\un747\\anaconda3\\envs\\fall\\lib\\site-packages\\google\\protobuf\\symbol_database.py:55: UserWarning: SymbolDatabase.GetPrototype() is deprecated. Please use message_factory.GetMessageClass() instead. SymbolDatabase.GetPrototype() will be removed soon.\n",
      "  warnings.warn('SymbolDatabase.GetPrototype() is deprecated. Please '\n",
      "C:\\Users\\un747\\anaconda3\\envs\\fall\\lib\\site-packages\\google\\protobuf\\symbol_database.py:55: UserWarning: SymbolDatabase.GetPrototype() is deprecated. Please use message_factory.GetMessageClass() instead. SymbolDatabase.GetPrototype() will be removed soon.\n",
      "  warnings.warn('SymbolDatabase.GetPrototype() is deprecated. Please '\n"
     ]
    },
    {
     "name": "stdout",
     "output_type": "stream",
     "text": [
      "정상\n",
      "정상\n",
      "정상\n",
      "정상\n"
     ]
    },
    {
     "name": "stderr",
     "output_type": "stream",
     "text": [
      "C:\\Users\\un747\\anaconda3\\envs\\fall\\lib\\site-packages\\google\\protobuf\\symbol_database.py:55: UserWarning: SymbolDatabase.GetPrototype() is deprecated. Please use message_factory.GetMessageClass() instead. SymbolDatabase.GetPrototype() will be removed soon.\n",
      "  warnings.warn('SymbolDatabase.GetPrototype() is deprecated. Please '\n",
      "C:\\Users\\un747\\anaconda3\\envs\\fall\\lib\\site-packages\\google\\protobuf\\symbol_database.py:55: UserWarning: SymbolDatabase.GetPrototype() is deprecated. Please use message_factory.GetMessageClass() instead. SymbolDatabase.GetPrototype() will be removed soon.\n",
      "  warnings.warn('SymbolDatabase.GetPrototype() is deprecated. Please '\n"
     ]
    },
    {
     "name": "stdout",
     "output_type": "stream",
     "text": [
      "정상\n",
      "정상\n"
     ]
    },
    {
     "name": "stderr",
     "output_type": "stream",
     "text": [
      "C:\\Users\\un747\\anaconda3\\envs\\fall\\lib\\site-packages\\google\\protobuf\\symbol_database.py:55: UserWarning: SymbolDatabase.GetPrototype() is deprecated. Please use message_factory.GetMessageClass() instead. SymbolDatabase.GetPrototype() will be removed soon.\n",
      "  warnings.warn('SymbolDatabase.GetPrototype() is deprecated. Please '\n",
      "C:\\Users\\un747\\anaconda3\\envs\\fall\\lib\\site-packages\\google\\protobuf\\symbol_database.py:55: UserWarning: SymbolDatabase.GetPrototype() is deprecated. Please use message_factory.GetMessageClass() instead. SymbolDatabase.GetPrototype() will be removed soon.\n",
      "  warnings.warn('SymbolDatabase.GetPrototype() is deprecated. Please '\n"
     ]
    },
    {
     "name": "stdout",
     "output_type": "stream",
     "text": [
      "정상\n",
      "정상\n"
     ]
    },
    {
     "name": "stderr",
     "output_type": "stream",
     "text": [
      "C:\\Users\\un747\\anaconda3\\envs\\fall\\lib\\site-packages\\google\\protobuf\\symbol_database.py:55: UserWarning: SymbolDatabase.GetPrototype() is deprecated. Please use message_factory.GetMessageClass() instead. SymbolDatabase.GetPrototype() will be removed soon.\n",
      "  warnings.warn('SymbolDatabase.GetPrototype() is deprecated. Please '\n",
      "C:\\Users\\un747\\anaconda3\\envs\\fall\\lib\\site-packages\\google\\protobuf\\symbol_database.py:55: UserWarning: SymbolDatabase.GetPrototype() is deprecated. Please use message_factory.GetMessageClass() instead. SymbolDatabase.GetPrototype() will be removed soon.\n",
      "  warnings.warn('SymbolDatabase.GetPrototype() is deprecated. Please '\n"
     ]
    },
    {
     "name": "stdout",
     "output_type": "stream",
     "text": [
      "정상\n",
      "정상\n"
     ]
    },
    {
     "name": "stderr",
     "output_type": "stream",
     "text": [
      "C:\\Users\\un747\\anaconda3\\envs\\fall\\lib\\site-packages\\google\\protobuf\\symbol_database.py:55: UserWarning: SymbolDatabase.GetPrototype() is deprecated. Please use message_factory.GetMessageClass() instead. SymbolDatabase.GetPrototype() will be removed soon.\n",
      "  warnings.warn('SymbolDatabase.GetPrototype() is deprecated. Please '\n",
      "C:\\Users\\un747\\anaconda3\\envs\\fall\\lib\\site-packages\\google\\protobuf\\symbol_database.py:55: UserWarning: SymbolDatabase.GetPrototype() is deprecated. Please use message_factory.GetMessageClass() instead. SymbolDatabase.GetPrototype() will be removed soon.\n",
      "  warnings.warn('SymbolDatabase.GetPrototype() is deprecated. Please '\n"
     ]
    },
    {
     "name": "stdout",
     "output_type": "stream",
     "text": [
      "정상\n",
      "정상\n"
     ]
    },
    {
     "name": "stderr",
     "output_type": "stream",
     "text": [
      "C:\\Users\\un747\\anaconda3\\envs\\fall\\lib\\site-packages\\google\\protobuf\\symbol_database.py:55: UserWarning: SymbolDatabase.GetPrototype() is deprecated. Please use message_factory.GetMessageClass() instead. SymbolDatabase.GetPrototype() will be removed soon.\n",
      "  warnings.warn('SymbolDatabase.GetPrototype() is deprecated. Please '\n",
      "C:\\Users\\un747\\anaconda3\\envs\\fall\\lib\\site-packages\\google\\protobuf\\symbol_database.py:55: UserWarning: SymbolDatabase.GetPrototype() is deprecated. Please use message_factory.GetMessageClass() instead. SymbolDatabase.GetPrototype() will be removed soon.\n",
      "  warnings.warn('SymbolDatabase.GetPrototype() is deprecated. Please '\n"
     ]
    },
    {
     "name": "stdout",
     "output_type": "stream",
     "text": [
      "정상\n",
      "정상\n"
     ]
    },
    {
     "name": "stderr",
     "output_type": "stream",
     "text": [
      "C:\\Users\\un747\\anaconda3\\envs\\fall\\lib\\site-packages\\google\\protobuf\\symbol_database.py:55: UserWarning: SymbolDatabase.GetPrototype() is deprecated. Please use message_factory.GetMessageClass() instead. SymbolDatabase.GetPrototype() will be removed soon.\n",
      "  warnings.warn('SymbolDatabase.GetPrototype() is deprecated. Please '\n",
      "C:\\Users\\un747\\anaconda3\\envs\\fall\\lib\\site-packages\\google\\protobuf\\symbol_database.py:55: UserWarning: SymbolDatabase.GetPrototype() is deprecated. Please use message_factory.GetMessageClass() instead. SymbolDatabase.GetPrototype() will be removed soon.\n",
      "  warnings.warn('SymbolDatabase.GetPrototype() is deprecated. Please '\n",
      "C:\\Users\\un747\\anaconda3\\envs\\fall\\lib\\site-packages\\google\\protobuf\\symbol_database.py:55: UserWarning: SymbolDatabase.GetPrototype() is deprecated. Please use message_factory.GetMessageClass() instead. SymbolDatabase.GetPrototype() will be removed soon.\n",
      "  warnings.warn('SymbolDatabase.GetPrototype() is deprecated. Please '\n"
     ]
    },
    {
     "name": "stdout",
     "output_type": "stream",
     "text": [
      "정상\n",
      "정상\n",
      "정상\n"
     ]
    },
    {
     "name": "stderr",
     "output_type": "stream",
     "text": [
      "C:\\Users\\un747\\anaconda3\\envs\\fall\\lib\\site-packages\\google\\protobuf\\symbol_database.py:55: UserWarning: SymbolDatabase.GetPrototype() is deprecated. Please use message_factory.GetMessageClass() instead. SymbolDatabase.GetPrototype() will be removed soon.\n",
      "  warnings.warn('SymbolDatabase.GetPrototype() is deprecated. Please '\n",
      "C:\\Users\\un747\\anaconda3\\envs\\fall\\lib\\site-packages\\google\\protobuf\\symbol_database.py:55: UserWarning: SymbolDatabase.GetPrototype() is deprecated. Please use message_factory.GetMessageClass() instead. SymbolDatabase.GetPrototype() will be removed soon.\n",
      "  warnings.warn('SymbolDatabase.GetPrototype() is deprecated. Please '\n"
     ]
    },
    {
     "name": "stdout",
     "output_type": "stream",
     "text": [
      "정상\n",
      "정상\n"
     ]
    },
    {
     "name": "stderr",
     "output_type": "stream",
     "text": [
      "C:\\Users\\un747\\anaconda3\\envs\\fall\\lib\\site-packages\\google\\protobuf\\symbol_database.py:55: UserWarning: SymbolDatabase.GetPrototype() is deprecated. Please use message_factory.GetMessageClass() instead. SymbolDatabase.GetPrototype() will be removed soon.\n",
      "  warnings.warn('SymbolDatabase.GetPrototype() is deprecated. Please '\n",
      "C:\\Users\\un747\\anaconda3\\envs\\fall\\lib\\site-packages\\google\\protobuf\\symbol_database.py:55: UserWarning: SymbolDatabase.GetPrototype() is deprecated. Please use message_factory.GetMessageClass() instead. SymbolDatabase.GetPrototype() will be removed soon.\n",
      "  warnings.warn('SymbolDatabase.GetPrototype() is deprecated. Please '\n",
      "C:\\Users\\un747\\anaconda3\\envs\\fall\\lib\\site-packages\\google\\protobuf\\symbol_database.py:55: UserWarning: SymbolDatabase.GetPrototype() is deprecated. Please use message_factory.GetMessageClass() instead. SymbolDatabase.GetPrototype() will be removed soon.\n",
      "  warnings.warn('SymbolDatabase.GetPrototype() is deprecated. Please '\n"
     ]
    },
    {
     "name": "stdout",
     "output_type": "stream",
     "text": [
      "정상\n",
      "정상\n"
     ]
    },
    {
     "name": "stderr",
     "output_type": "stream",
     "text": [
      "C:\\Users\\un747\\anaconda3\\envs\\fall\\lib\\site-packages\\google\\protobuf\\symbol_database.py:55: UserWarning: SymbolDatabase.GetPrototype() is deprecated. Please use message_factory.GetMessageClass() instead. SymbolDatabase.GetPrototype() will be removed soon.\n",
      "  warnings.warn('SymbolDatabase.GetPrototype() is deprecated. Please '\n",
      "C:\\Users\\un747\\anaconda3\\envs\\fall\\lib\\site-packages\\google\\protobuf\\symbol_database.py:55: UserWarning: SymbolDatabase.GetPrototype() is deprecated. Please use message_factory.GetMessageClass() instead. SymbolDatabase.GetPrototype() will be removed soon.\n",
      "  warnings.warn('SymbolDatabase.GetPrototype() is deprecated. Please '\n"
     ]
    },
    {
     "name": "stdout",
     "output_type": "stream",
     "text": [
      "정상\n",
      "정상\n"
     ]
    },
    {
     "name": "stderr",
     "output_type": "stream",
     "text": [
      "C:\\Users\\un747\\anaconda3\\envs\\fall\\lib\\site-packages\\google\\protobuf\\symbol_database.py:55: UserWarning: SymbolDatabase.GetPrototype() is deprecated. Please use message_factory.GetMessageClass() instead. SymbolDatabase.GetPrototype() will be removed soon.\n",
      "  warnings.warn('SymbolDatabase.GetPrototype() is deprecated. Please '\n",
      "C:\\Users\\un747\\anaconda3\\envs\\fall\\lib\\site-packages\\google\\protobuf\\symbol_database.py:55: UserWarning: SymbolDatabase.GetPrototype() is deprecated. Please use message_factory.GetMessageClass() instead. SymbolDatabase.GetPrototype() will be removed soon.\n",
      "  warnings.warn('SymbolDatabase.GetPrototype() is deprecated. Please '\n"
     ]
    },
    {
     "name": "stdout",
     "output_type": "stream",
     "text": [
      "정상\n",
      "정상\n"
     ]
    },
    {
     "name": "stderr",
     "output_type": "stream",
     "text": [
      "C:\\Users\\un747\\anaconda3\\envs\\fall\\lib\\site-packages\\google\\protobuf\\symbol_database.py:55: UserWarning: SymbolDatabase.GetPrototype() is deprecated. Please use message_factory.GetMessageClass() instead. SymbolDatabase.GetPrototype() will be removed soon.\n",
      "  warnings.warn('SymbolDatabase.GetPrototype() is deprecated. Please '\n",
      "C:\\Users\\un747\\anaconda3\\envs\\fall\\lib\\site-packages\\google\\protobuf\\symbol_database.py:55: UserWarning: SymbolDatabase.GetPrototype() is deprecated. Please use message_factory.GetMessageClass() instead. SymbolDatabase.GetPrototype() will be removed soon.\n",
      "  warnings.warn('SymbolDatabase.GetPrototype() is deprecated. Please '\n",
      "C:\\Users\\un747\\anaconda3\\envs\\fall\\lib\\site-packages\\google\\protobuf\\symbol_database.py:55: UserWarning: SymbolDatabase.GetPrototype() is deprecated. Please use message_factory.GetMessageClass() instead. SymbolDatabase.GetPrototype() will be removed soon.\n",
      "  warnings.warn('SymbolDatabase.GetPrototype() is deprecated. Please '\n"
     ]
    },
    {
     "name": "stdout",
     "output_type": "stream",
     "text": [
      "정상\n",
      "정상\n",
      "정상\n",
      "정상\n",
      "정상\n"
     ]
    },
    {
     "name": "stderr",
     "output_type": "stream",
     "text": [
      "C:\\Users\\un747\\anaconda3\\envs\\fall\\lib\\site-packages\\google\\protobuf\\symbol_database.py:55: UserWarning: SymbolDatabase.GetPrototype() is deprecated. Please use message_factory.GetMessageClass() instead. SymbolDatabase.GetPrototype() will be removed soon.\n",
      "  warnings.warn('SymbolDatabase.GetPrototype() is deprecated. Please '\n",
      "C:\\Users\\un747\\anaconda3\\envs\\fall\\lib\\site-packages\\google\\protobuf\\symbol_database.py:55: UserWarning: SymbolDatabase.GetPrototype() is deprecated. Please use message_factory.GetMessageClass() instead. SymbolDatabase.GetPrototype() will be removed soon.\n",
      "  warnings.warn('SymbolDatabase.GetPrototype() is deprecated. Please '\n",
      "C:\\Users\\un747\\anaconda3\\envs\\fall\\lib\\site-packages\\google\\protobuf\\symbol_database.py:55: UserWarning: SymbolDatabase.GetPrototype() is deprecated. Please use message_factory.GetMessageClass() instead. SymbolDatabase.GetPrototype() will be removed soon.\n",
      "  warnings.warn('SymbolDatabase.GetPrototype() is deprecated. Please '\n"
     ]
    },
    {
     "name": "stdout",
     "output_type": "stream",
     "text": [
      "정상\n",
      "정상\n",
      "정상\n"
     ]
    },
    {
     "name": "stderr",
     "output_type": "stream",
     "text": [
      "C:\\Users\\un747\\anaconda3\\envs\\fall\\lib\\site-packages\\google\\protobuf\\symbol_database.py:55: UserWarning: SymbolDatabase.GetPrototype() is deprecated. Please use message_factory.GetMessageClass() instead. SymbolDatabase.GetPrototype() will be removed soon.\n",
      "  warnings.warn('SymbolDatabase.GetPrototype() is deprecated. Please '\n",
      "C:\\Users\\un747\\anaconda3\\envs\\fall\\lib\\site-packages\\google\\protobuf\\symbol_database.py:55: UserWarning: SymbolDatabase.GetPrototype() is deprecated. Please use message_factory.GetMessageClass() instead. SymbolDatabase.GetPrototype() will be removed soon.\n",
      "  warnings.warn('SymbolDatabase.GetPrototype() is deprecated. Please '\n",
      "C:\\Users\\un747\\anaconda3\\envs\\fall\\lib\\site-packages\\google\\protobuf\\symbol_database.py:55: UserWarning: SymbolDatabase.GetPrototype() is deprecated. Please use message_factory.GetMessageClass() instead. SymbolDatabase.GetPrototype() will be removed soon.\n",
      "  warnings.warn('SymbolDatabase.GetPrototype() is deprecated. Please '\n"
     ]
    },
    {
     "name": "stdout",
     "output_type": "stream",
     "text": [
      "정상\n",
      "정상\n"
     ]
    },
    {
     "name": "stderr",
     "output_type": "stream",
     "text": [
      "C:\\Users\\un747\\anaconda3\\envs\\fall\\lib\\site-packages\\google\\protobuf\\symbol_database.py:55: UserWarning: SymbolDatabase.GetPrototype() is deprecated. Please use message_factory.GetMessageClass() instead. SymbolDatabase.GetPrototype() will be removed soon.\n",
      "  warnings.warn('SymbolDatabase.GetPrototype() is deprecated. Please '\n",
      "C:\\Users\\un747\\anaconda3\\envs\\fall\\lib\\site-packages\\google\\protobuf\\symbol_database.py:55: UserWarning: SymbolDatabase.GetPrototype() is deprecated. Please use message_factory.GetMessageClass() instead. SymbolDatabase.GetPrototype() will be removed soon.\n",
      "  warnings.warn('SymbolDatabase.GetPrototype() is deprecated. Please '\n"
     ]
    },
    {
     "name": "stdout",
     "output_type": "stream",
     "text": [
      "정상\n",
      "정상\n"
     ]
    },
    {
     "name": "stderr",
     "output_type": "stream",
     "text": [
      "C:\\Users\\un747\\anaconda3\\envs\\fall\\lib\\site-packages\\google\\protobuf\\symbol_database.py:55: UserWarning: SymbolDatabase.GetPrototype() is deprecated. Please use message_factory.GetMessageClass() instead. SymbolDatabase.GetPrototype() will be removed soon.\n",
      "  warnings.warn('SymbolDatabase.GetPrototype() is deprecated. Please '\n",
      "C:\\Users\\un747\\anaconda3\\envs\\fall\\lib\\site-packages\\google\\protobuf\\symbol_database.py:55: UserWarning: SymbolDatabase.GetPrototype() is deprecated. Please use message_factory.GetMessageClass() instead. SymbolDatabase.GetPrototype() will be removed soon.\n",
      "  warnings.warn('SymbolDatabase.GetPrototype() is deprecated. Please '\n",
      "C:\\Users\\un747\\anaconda3\\envs\\fall\\lib\\site-packages\\google\\protobuf\\symbol_database.py:55: UserWarning: SymbolDatabase.GetPrototype() is deprecated. Please use message_factory.GetMessageClass() instead. SymbolDatabase.GetPrototype() will be removed soon.\n",
      "  warnings.warn('SymbolDatabase.GetPrototype() is deprecated. Please '\n"
     ]
    },
    {
     "name": "stdout",
     "output_type": "stream",
     "text": [
      "정상\n",
      "정상\n"
     ]
    },
    {
     "name": "stderr",
     "output_type": "stream",
     "text": [
      "C:\\Users\\un747\\anaconda3\\envs\\fall\\lib\\site-packages\\google\\protobuf\\symbol_database.py:55: UserWarning: SymbolDatabase.GetPrototype() is deprecated. Please use message_factory.GetMessageClass() instead. SymbolDatabase.GetPrototype() will be removed soon.\n",
      "  warnings.warn('SymbolDatabase.GetPrototype() is deprecated. Please '\n",
      "C:\\Users\\un747\\anaconda3\\envs\\fall\\lib\\site-packages\\google\\protobuf\\symbol_database.py:55: UserWarning: SymbolDatabase.GetPrototype() is deprecated. Please use message_factory.GetMessageClass() instead. SymbolDatabase.GetPrototype() will be removed soon.\n",
      "  warnings.warn('SymbolDatabase.GetPrototype() is deprecated. Please '\n"
     ]
    },
    {
     "name": "stdout",
     "output_type": "stream",
     "text": [
      "정상\n",
      "정상\n"
     ]
    },
    {
     "name": "stderr",
     "output_type": "stream",
     "text": [
      "C:\\Users\\un747\\anaconda3\\envs\\fall\\lib\\site-packages\\google\\protobuf\\symbol_database.py:55: UserWarning: SymbolDatabase.GetPrototype() is deprecated. Please use message_factory.GetMessageClass() instead. SymbolDatabase.GetPrototype() will be removed soon.\n",
      "  warnings.warn('SymbolDatabase.GetPrototype() is deprecated. Please '\n",
      "C:\\Users\\un747\\anaconda3\\envs\\fall\\lib\\site-packages\\google\\protobuf\\symbol_database.py:55: UserWarning: SymbolDatabase.GetPrototype() is deprecated. Please use message_factory.GetMessageClass() instead. SymbolDatabase.GetPrototype() will be removed soon.\n",
      "  warnings.warn('SymbolDatabase.GetPrototype() is deprecated. Please '\n"
     ]
    },
    {
     "name": "stdout",
     "output_type": "stream",
     "text": [
      "정상\n",
      "정상\n"
     ]
    },
    {
     "name": "stderr",
     "output_type": "stream",
     "text": [
      "C:\\Users\\un747\\anaconda3\\envs\\fall\\lib\\site-packages\\google\\protobuf\\symbol_database.py:55: UserWarning: SymbolDatabase.GetPrototype() is deprecated. Please use message_factory.GetMessageClass() instead. SymbolDatabase.GetPrototype() will be removed soon.\n",
      "  warnings.warn('SymbolDatabase.GetPrototype() is deprecated. Please '\n",
      "C:\\Users\\un747\\anaconda3\\envs\\fall\\lib\\site-packages\\google\\protobuf\\symbol_database.py:55: UserWarning: SymbolDatabase.GetPrototype() is deprecated. Please use message_factory.GetMessageClass() instead. SymbolDatabase.GetPrototype() will be removed soon.\n",
      "  warnings.warn('SymbolDatabase.GetPrototype() is deprecated. Please '\n"
     ]
    },
    {
     "name": "stdout",
     "output_type": "stream",
     "text": [
      "정상\n",
      "정상\n"
     ]
    },
    {
     "name": "stderr",
     "output_type": "stream",
     "text": [
      "C:\\Users\\un747\\anaconda3\\envs\\fall\\lib\\site-packages\\google\\protobuf\\symbol_database.py:55: UserWarning: SymbolDatabase.GetPrototype() is deprecated. Please use message_factory.GetMessageClass() instead. SymbolDatabase.GetPrototype() will be removed soon.\n",
      "  warnings.warn('SymbolDatabase.GetPrototype() is deprecated. Please '\n",
      "C:\\Users\\un747\\anaconda3\\envs\\fall\\lib\\site-packages\\google\\protobuf\\symbol_database.py:55: UserWarning: SymbolDatabase.GetPrototype() is deprecated. Please use message_factory.GetMessageClass() instead. SymbolDatabase.GetPrototype() will be removed soon.\n",
      "  warnings.warn('SymbolDatabase.GetPrototype() is deprecated. Please '\n"
     ]
    },
    {
     "name": "stdout",
     "output_type": "stream",
     "text": [
      "정상\n",
      "정상\n"
     ]
    },
    {
     "name": "stderr",
     "output_type": "stream",
     "text": [
      "C:\\Users\\un747\\anaconda3\\envs\\fall\\lib\\site-packages\\google\\protobuf\\symbol_database.py:55: UserWarning: SymbolDatabase.GetPrototype() is deprecated. Please use message_factory.GetMessageClass() instead. SymbolDatabase.GetPrototype() will be removed soon.\n",
      "  warnings.warn('SymbolDatabase.GetPrototype() is deprecated. Please '\n",
      "C:\\Users\\un747\\anaconda3\\envs\\fall\\lib\\site-packages\\google\\protobuf\\symbol_database.py:55: UserWarning: SymbolDatabase.GetPrototype() is deprecated. Please use message_factory.GetMessageClass() instead. SymbolDatabase.GetPrototype() will be removed soon.\n",
      "  warnings.warn('SymbolDatabase.GetPrototype() is deprecated. Please '\n"
     ]
    },
    {
     "name": "stdout",
     "output_type": "stream",
     "text": [
      "정상\n",
      "정상\n"
     ]
    },
    {
     "name": "stderr",
     "output_type": "stream",
     "text": [
      "C:\\Users\\un747\\anaconda3\\envs\\fall\\lib\\site-packages\\google\\protobuf\\symbol_database.py:55: UserWarning: SymbolDatabase.GetPrototype() is deprecated. Please use message_factory.GetMessageClass() instead. SymbolDatabase.GetPrototype() will be removed soon.\n",
      "  warnings.warn('SymbolDatabase.GetPrototype() is deprecated. Please '\n",
      "C:\\Users\\un747\\anaconda3\\envs\\fall\\lib\\site-packages\\google\\protobuf\\symbol_database.py:55: UserWarning: SymbolDatabase.GetPrototype() is deprecated. Please use message_factory.GetMessageClass() instead. SymbolDatabase.GetPrototype() will be removed soon.\n",
      "  warnings.warn('SymbolDatabase.GetPrototype() is deprecated. Please '\n"
     ]
    },
    {
     "name": "stdout",
     "output_type": "stream",
     "text": [
      "정상\n",
      "정상\n"
     ]
    },
    {
     "name": "stderr",
     "output_type": "stream",
     "text": [
      "C:\\Users\\un747\\anaconda3\\envs\\fall\\lib\\site-packages\\google\\protobuf\\symbol_database.py:55: UserWarning: SymbolDatabase.GetPrototype() is deprecated. Please use message_factory.GetMessageClass() instead. SymbolDatabase.GetPrototype() will be removed soon.\n",
      "  warnings.warn('SymbolDatabase.GetPrototype() is deprecated. Please '\n",
      "C:\\Users\\un747\\anaconda3\\envs\\fall\\lib\\site-packages\\google\\protobuf\\symbol_database.py:55: UserWarning: SymbolDatabase.GetPrototype() is deprecated. Please use message_factory.GetMessageClass() instead. SymbolDatabase.GetPrototype() will be removed soon.\n",
      "  warnings.warn('SymbolDatabase.GetPrototype() is deprecated. Please '\n",
      "C:\\Users\\un747\\anaconda3\\envs\\fall\\lib\\site-packages\\google\\protobuf\\symbol_database.py:55: UserWarning: SymbolDatabase.GetPrototype() is deprecated. Please use message_factory.GetMessageClass() instead. SymbolDatabase.GetPrototype() will be removed soon.\n",
      "  warnings.warn('SymbolDatabase.GetPrototype() is deprecated. Please '\n"
     ]
    },
    {
     "name": "stdout",
     "output_type": "stream",
     "text": [
      "정상\n",
      "정상\n",
      "정상\n"
     ]
    },
    {
     "name": "stderr",
     "output_type": "stream",
     "text": [
      "C:\\Users\\un747\\anaconda3\\envs\\fall\\lib\\site-packages\\google\\protobuf\\symbol_database.py:55: UserWarning: SymbolDatabase.GetPrototype() is deprecated. Please use message_factory.GetMessageClass() instead. SymbolDatabase.GetPrototype() will be removed soon.\n",
      "  warnings.warn('SymbolDatabase.GetPrototype() is deprecated. Please '\n",
      "C:\\Users\\un747\\anaconda3\\envs\\fall\\lib\\site-packages\\google\\protobuf\\symbol_database.py:55: UserWarning: SymbolDatabase.GetPrototype() is deprecated. Please use message_factory.GetMessageClass() instead. SymbolDatabase.GetPrototype() will be removed soon.\n",
      "  warnings.warn('SymbolDatabase.GetPrototype() is deprecated. Please '\n"
     ]
    },
    {
     "name": "stdout",
     "output_type": "stream",
     "text": [
      "정상\n",
      "정상\n"
     ]
    },
    {
     "name": "stderr",
     "output_type": "stream",
     "text": [
      "C:\\Users\\un747\\anaconda3\\envs\\fall\\lib\\site-packages\\google\\protobuf\\symbol_database.py:55: UserWarning: SymbolDatabase.GetPrototype() is deprecated. Please use message_factory.GetMessageClass() instead. SymbolDatabase.GetPrototype() will be removed soon.\n",
      "  warnings.warn('SymbolDatabase.GetPrototype() is deprecated. Please '\n",
      "C:\\Users\\un747\\anaconda3\\envs\\fall\\lib\\site-packages\\google\\protobuf\\symbol_database.py:55: UserWarning: SymbolDatabase.GetPrototype() is deprecated. Please use message_factory.GetMessageClass() instead. SymbolDatabase.GetPrototype() will be removed soon.\n",
      "  warnings.warn('SymbolDatabase.GetPrototype() is deprecated. Please '\n"
     ]
    },
    {
     "name": "stdout",
     "output_type": "stream",
     "text": [
      "정상\n",
      "정상\n"
     ]
    },
    {
     "name": "stderr",
     "output_type": "stream",
     "text": [
      "C:\\Users\\un747\\anaconda3\\envs\\fall\\lib\\site-packages\\google\\protobuf\\symbol_database.py:55: UserWarning: SymbolDatabase.GetPrototype() is deprecated. Please use message_factory.GetMessageClass() instead. SymbolDatabase.GetPrototype() will be removed soon.\n",
      "  warnings.warn('SymbolDatabase.GetPrototype() is deprecated. Please '\n",
      "C:\\Users\\un747\\anaconda3\\envs\\fall\\lib\\site-packages\\google\\protobuf\\symbol_database.py:55: UserWarning: SymbolDatabase.GetPrototype() is deprecated. Please use message_factory.GetMessageClass() instead. SymbolDatabase.GetPrototype() will be removed soon.\n",
      "  warnings.warn('SymbolDatabase.GetPrototype() is deprecated. Please '\n",
      "C:\\Users\\un747\\anaconda3\\envs\\fall\\lib\\site-packages\\google\\protobuf\\symbol_database.py:55: UserWarning: SymbolDatabase.GetPrototype() is deprecated. Please use message_factory.GetMessageClass() instead. SymbolDatabase.GetPrototype() will be removed soon.\n",
      "  warnings.warn('SymbolDatabase.GetPrototype() is deprecated. Please '\n"
     ]
    },
    {
     "name": "stdout",
     "output_type": "stream",
     "text": [
      "정상\n",
      "정상\n",
      "정상\n",
      "정상\n",
      "정상\n"
     ]
    },
    {
     "name": "stderr",
     "output_type": "stream",
     "text": [
      "C:\\Users\\un747\\anaconda3\\envs\\fall\\lib\\site-packages\\google\\protobuf\\symbol_database.py:55: UserWarning: SymbolDatabase.GetPrototype() is deprecated. Please use message_factory.GetMessageClass() instead. SymbolDatabase.GetPrototype() will be removed soon.\n",
      "  warnings.warn('SymbolDatabase.GetPrototype() is deprecated. Please '\n",
      "C:\\Users\\un747\\anaconda3\\envs\\fall\\lib\\site-packages\\google\\protobuf\\symbol_database.py:55: UserWarning: SymbolDatabase.GetPrototype() is deprecated. Please use message_factory.GetMessageClass() instead. SymbolDatabase.GetPrototype() will be removed soon.\n",
      "  warnings.warn('SymbolDatabase.GetPrototype() is deprecated. Please '\n",
      "C:\\Users\\un747\\anaconda3\\envs\\fall\\lib\\site-packages\\google\\protobuf\\symbol_database.py:55: UserWarning: SymbolDatabase.GetPrototype() is deprecated. Please use message_factory.GetMessageClass() instead. SymbolDatabase.GetPrototype() will be removed soon.\n",
      "  warnings.warn('SymbolDatabase.GetPrototype() is deprecated. Please '\n"
     ]
    },
    {
     "name": "stdout",
     "output_type": "stream",
     "text": [
      "정상\n",
      "정상\n"
     ]
    },
    {
     "name": "stderr",
     "output_type": "stream",
     "text": [
      "C:\\Users\\un747\\anaconda3\\envs\\fall\\lib\\site-packages\\google\\protobuf\\symbol_database.py:55: UserWarning: SymbolDatabase.GetPrototype() is deprecated. Please use message_factory.GetMessageClass() instead. SymbolDatabase.GetPrototype() will be removed soon.\n",
      "  warnings.warn('SymbolDatabase.GetPrototype() is deprecated. Please '\n",
      "C:\\Users\\un747\\anaconda3\\envs\\fall\\lib\\site-packages\\google\\protobuf\\symbol_database.py:55: UserWarning: SymbolDatabase.GetPrototype() is deprecated. Please use message_factory.GetMessageClass() instead. SymbolDatabase.GetPrototype() will be removed soon.\n",
      "  warnings.warn('SymbolDatabase.GetPrototype() is deprecated. Please '\n",
      "C:\\Users\\un747\\anaconda3\\envs\\fall\\lib\\site-packages\\google\\protobuf\\symbol_database.py:55: UserWarning: SymbolDatabase.GetPrototype() is deprecated. Please use message_factory.GetMessageClass() instead. SymbolDatabase.GetPrototype() will be removed soon.\n",
      "  warnings.warn('SymbolDatabase.GetPrototype() is deprecated. Please '\n"
     ]
    },
    {
     "name": "stdout",
     "output_type": "stream",
     "text": [
      "정상\n",
      "정상\n",
      "정상\n"
     ]
    },
    {
     "name": "stderr",
     "output_type": "stream",
     "text": [
      "C:\\Users\\un747\\anaconda3\\envs\\fall\\lib\\site-packages\\google\\protobuf\\symbol_database.py:55: UserWarning: SymbolDatabase.GetPrototype() is deprecated. Please use message_factory.GetMessageClass() instead. SymbolDatabase.GetPrototype() will be removed soon.\n",
      "  warnings.warn('SymbolDatabase.GetPrototype() is deprecated. Please '\n",
      "C:\\Users\\un747\\anaconda3\\envs\\fall\\lib\\site-packages\\google\\protobuf\\symbol_database.py:55: UserWarning: SymbolDatabase.GetPrototype() is deprecated. Please use message_factory.GetMessageClass() instead. SymbolDatabase.GetPrototype() will be removed soon.\n",
      "  warnings.warn('SymbolDatabase.GetPrototype() is deprecated. Please '\n",
      "C:\\Users\\un747\\anaconda3\\envs\\fall\\lib\\site-packages\\google\\protobuf\\symbol_database.py:55: UserWarning: SymbolDatabase.GetPrototype() is deprecated. Please use message_factory.GetMessageClass() instead. SymbolDatabase.GetPrototype() will be removed soon.\n",
      "  warnings.warn('SymbolDatabase.GetPrototype() is deprecated. Please '\n"
     ]
    },
    {
     "name": "stdout",
     "output_type": "stream",
     "text": [
      "정상\n",
      "정상\n",
      "정상\n"
     ]
    },
    {
     "name": "stderr",
     "output_type": "stream",
     "text": [
      "C:\\Users\\un747\\anaconda3\\envs\\fall\\lib\\site-packages\\google\\protobuf\\symbol_database.py:55: UserWarning: SymbolDatabase.GetPrototype() is deprecated. Please use message_factory.GetMessageClass() instead. SymbolDatabase.GetPrototype() will be removed soon.\n",
      "  warnings.warn('SymbolDatabase.GetPrototype() is deprecated. Please '\n",
      "C:\\Users\\un747\\anaconda3\\envs\\fall\\lib\\site-packages\\google\\protobuf\\symbol_database.py:55: UserWarning: SymbolDatabase.GetPrototype() is deprecated. Please use message_factory.GetMessageClass() instead. SymbolDatabase.GetPrototype() will be removed soon.\n",
      "  warnings.warn('SymbolDatabase.GetPrototype() is deprecated. Please '\n",
      "C:\\Users\\un747\\anaconda3\\envs\\fall\\lib\\site-packages\\google\\protobuf\\symbol_database.py:55: UserWarning: SymbolDatabase.GetPrototype() is deprecated. Please use message_factory.GetMessageClass() instead. SymbolDatabase.GetPrototype() will be removed soon.\n",
      "  warnings.warn('SymbolDatabase.GetPrototype() is deprecated. Please '\n"
     ]
    },
    {
     "name": "stdout",
     "output_type": "stream",
     "text": [
      "정상\n",
      "정상\n",
      "정상\n"
     ]
    },
    {
     "name": "stderr",
     "output_type": "stream",
     "text": [
      "C:\\Users\\un747\\anaconda3\\envs\\fall\\lib\\site-packages\\google\\protobuf\\symbol_database.py:55: UserWarning: SymbolDatabase.GetPrototype() is deprecated. Please use message_factory.GetMessageClass() instead. SymbolDatabase.GetPrototype() will be removed soon.\n",
      "  warnings.warn('SymbolDatabase.GetPrototype() is deprecated. Please '\n",
      "C:\\Users\\un747\\anaconda3\\envs\\fall\\lib\\site-packages\\google\\protobuf\\symbol_database.py:55: UserWarning: SymbolDatabase.GetPrototype() is deprecated. Please use message_factory.GetMessageClass() instead. SymbolDatabase.GetPrototype() will be removed soon.\n",
      "  warnings.warn('SymbolDatabase.GetPrototype() is deprecated. Please '\n",
      "C:\\Users\\un747\\anaconda3\\envs\\fall\\lib\\site-packages\\google\\protobuf\\symbol_database.py:55: UserWarning: SymbolDatabase.GetPrototype() is deprecated. Please use message_factory.GetMessageClass() instead. SymbolDatabase.GetPrototype() will be removed soon.\n",
      "  warnings.warn('SymbolDatabase.GetPrototype() is deprecated. Please '\n"
     ]
    },
    {
     "name": "stdout",
     "output_type": "stream",
     "text": [
      "정상\n",
      "정상\n"
     ]
    },
    {
     "name": "stderr",
     "output_type": "stream",
     "text": [
      "C:\\Users\\un747\\anaconda3\\envs\\fall\\lib\\site-packages\\google\\protobuf\\symbol_database.py:55: UserWarning: SymbolDatabase.GetPrototype() is deprecated. Please use message_factory.GetMessageClass() instead. SymbolDatabase.GetPrototype() will be removed soon.\n",
      "  warnings.warn('SymbolDatabase.GetPrototype() is deprecated. Please '\n",
      "C:\\Users\\un747\\anaconda3\\envs\\fall\\lib\\site-packages\\google\\protobuf\\symbol_database.py:55: UserWarning: SymbolDatabase.GetPrototype() is deprecated. Please use message_factory.GetMessageClass() instead. SymbolDatabase.GetPrototype() will be removed soon.\n",
      "  warnings.warn('SymbolDatabase.GetPrototype() is deprecated. Please '\n",
      "C:\\Users\\un747\\anaconda3\\envs\\fall\\lib\\site-packages\\google\\protobuf\\symbol_database.py:55: UserWarning: SymbolDatabase.GetPrototype() is deprecated. Please use message_factory.GetMessageClass() instead. SymbolDatabase.GetPrototype() will be removed soon.\n",
      "  warnings.warn('SymbolDatabase.GetPrototype() is deprecated. Please '\n"
     ]
    },
    {
     "name": "stdout",
     "output_type": "stream",
     "text": [
      "정상\n",
      "정상\n",
      "정상\n"
     ]
    },
    {
     "name": "stderr",
     "output_type": "stream",
     "text": [
      "C:\\Users\\un747\\anaconda3\\envs\\fall\\lib\\site-packages\\google\\protobuf\\symbol_database.py:55: UserWarning: SymbolDatabase.GetPrototype() is deprecated. Please use message_factory.GetMessageClass() instead. SymbolDatabase.GetPrototype() will be removed soon.\n",
      "  warnings.warn('SymbolDatabase.GetPrototype() is deprecated. Please '\n",
      "C:\\Users\\un747\\anaconda3\\envs\\fall\\lib\\site-packages\\google\\protobuf\\symbol_database.py:55: UserWarning: SymbolDatabase.GetPrototype() is deprecated. Please use message_factory.GetMessageClass() instead. SymbolDatabase.GetPrototype() will be removed soon.\n",
      "  warnings.warn('SymbolDatabase.GetPrototype() is deprecated. Please '\n",
      "C:\\Users\\un747\\anaconda3\\envs\\fall\\lib\\site-packages\\google\\protobuf\\symbol_database.py:55: UserWarning: SymbolDatabase.GetPrototype() is deprecated. Please use message_factory.GetMessageClass() instead. SymbolDatabase.GetPrototype() will be removed soon.\n",
      "  warnings.warn('SymbolDatabase.GetPrototype() is deprecated. Please '\n",
      "C:\\Users\\un747\\anaconda3\\envs\\fall\\lib\\site-packages\\google\\protobuf\\symbol_database.py:55: UserWarning: SymbolDatabase.GetPrototype() is deprecated. Please use message_factory.GetMessageClass() instead. SymbolDatabase.GetPrototype() will be removed soon.\n",
      "  warnings.warn('SymbolDatabase.GetPrototype() is deprecated. Please '\n"
     ]
    },
    {
     "name": "stdout",
     "output_type": "stream",
     "text": [
      "정상\n",
      "정상\n",
      "정상\n",
      "정상\n"
     ]
    },
    {
     "name": "stderr",
     "output_type": "stream",
     "text": [
      "C:\\Users\\un747\\anaconda3\\envs\\fall\\lib\\site-packages\\google\\protobuf\\symbol_database.py:55: UserWarning: SymbolDatabase.GetPrototype() is deprecated. Please use message_factory.GetMessageClass() instead. SymbolDatabase.GetPrototype() will be removed soon.\n",
      "  warnings.warn('SymbolDatabase.GetPrototype() is deprecated. Please '\n",
      "C:\\Users\\un747\\anaconda3\\envs\\fall\\lib\\site-packages\\google\\protobuf\\symbol_database.py:55: UserWarning: SymbolDatabase.GetPrototype() is deprecated. Please use message_factory.GetMessageClass() instead. SymbolDatabase.GetPrototype() will be removed soon.\n",
      "  warnings.warn('SymbolDatabase.GetPrototype() is deprecated. Please '\n"
     ]
    },
    {
     "name": "stdout",
     "output_type": "stream",
     "text": [
      "정상\n",
      "정상\n"
     ]
    },
    {
     "name": "stderr",
     "output_type": "stream",
     "text": [
      "C:\\Users\\un747\\anaconda3\\envs\\fall\\lib\\site-packages\\google\\protobuf\\symbol_database.py:55: UserWarning: SymbolDatabase.GetPrototype() is deprecated. Please use message_factory.GetMessageClass() instead. SymbolDatabase.GetPrototype() will be removed soon.\n",
      "  warnings.warn('SymbolDatabase.GetPrototype() is deprecated. Please '\n",
      "C:\\Users\\un747\\anaconda3\\envs\\fall\\lib\\site-packages\\google\\protobuf\\symbol_database.py:55: UserWarning: SymbolDatabase.GetPrototype() is deprecated. Please use message_factory.GetMessageClass() instead. SymbolDatabase.GetPrototype() will be removed soon.\n",
      "  warnings.warn('SymbolDatabase.GetPrototype() is deprecated. Please '\n",
      "C:\\Users\\un747\\anaconda3\\envs\\fall\\lib\\site-packages\\google\\protobuf\\symbol_database.py:55: UserWarning: SymbolDatabase.GetPrototype() is deprecated. Please use message_factory.GetMessageClass() instead. SymbolDatabase.GetPrototype() will be removed soon.\n",
      "  warnings.warn('SymbolDatabase.GetPrototype() is deprecated. Please '\n"
     ]
    },
    {
     "name": "stdout",
     "output_type": "stream",
     "text": [
      "정상\n",
      "정상\n",
      "정상\n",
      "정상\n",
      "정상\n"
     ]
    },
    {
     "name": "stderr",
     "output_type": "stream",
     "text": [
      "C:\\Users\\un747\\anaconda3\\envs\\fall\\lib\\site-packages\\google\\protobuf\\symbol_database.py:55: UserWarning: SymbolDatabase.GetPrototype() is deprecated. Please use message_factory.GetMessageClass() instead. SymbolDatabase.GetPrototype() will be removed soon.\n",
      "  warnings.warn('SymbolDatabase.GetPrototype() is deprecated. Please '\n",
      "C:\\Users\\un747\\anaconda3\\envs\\fall\\lib\\site-packages\\google\\protobuf\\symbol_database.py:55: UserWarning: SymbolDatabase.GetPrototype() is deprecated. Please use message_factory.GetMessageClass() instead. SymbolDatabase.GetPrototype() will be removed soon.\n",
      "  warnings.warn('SymbolDatabase.GetPrototype() is deprecated. Please '\n",
      "C:\\Users\\un747\\anaconda3\\envs\\fall\\lib\\site-packages\\google\\protobuf\\symbol_database.py:55: UserWarning: SymbolDatabase.GetPrototype() is deprecated. Please use message_factory.GetMessageClass() instead. SymbolDatabase.GetPrototype() will be removed soon.\n",
      "  warnings.warn('SymbolDatabase.GetPrototype() is deprecated. Please '\n"
     ]
    },
    {
     "name": "stdout",
     "output_type": "stream",
     "text": [
      "정상\n",
      "정상\n",
      "정상\n"
     ]
    },
    {
     "name": "stderr",
     "output_type": "stream",
     "text": [
      "C:\\Users\\un747\\anaconda3\\envs\\fall\\lib\\site-packages\\google\\protobuf\\symbol_database.py:55: UserWarning: SymbolDatabase.GetPrototype() is deprecated. Please use message_factory.GetMessageClass() instead. SymbolDatabase.GetPrototype() will be removed soon.\n",
      "  warnings.warn('SymbolDatabase.GetPrototype() is deprecated. Please '\n",
      "C:\\Users\\un747\\anaconda3\\envs\\fall\\lib\\site-packages\\google\\protobuf\\symbol_database.py:55: UserWarning: SymbolDatabase.GetPrototype() is deprecated. Please use message_factory.GetMessageClass() instead. SymbolDatabase.GetPrototype() will be removed soon.\n",
      "  warnings.warn('SymbolDatabase.GetPrototype() is deprecated. Please '\n",
      "C:\\Users\\un747\\anaconda3\\envs\\fall\\lib\\site-packages\\google\\protobuf\\symbol_database.py:55: UserWarning: SymbolDatabase.GetPrototype() is deprecated. Please use message_factory.GetMessageClass() instead. SymbolDatabase.GetPrototype() will be removed soon.\n",
      "  warnings.warn('SymbolDatabase.GetPrototype() is deprecated. Please '\n"
     ]
    },
    {
     "name": "stdout",
     "output_type": "stream",
     "text": [
      "정상\n",
      "정상\n",
      "정상\n"
     ]
    },
    {
     "name": "stderr",
     "output_type": "stream",
     "text": [
      "C:\\Users\\un747\\anaconda3\\envs\\fall\\lib\\site-packages\\google\\protobuf\\symbol_database.py:55: UserWarning: SymbolDatabase.GetPrototype() is deprecated. Please use message_factory.GetMessageClass() instead. SymbolDatabase.GetPrototype() will be removed soon.\n",
      "  warnings.warn('SymbolDatabase.GetPrototype() is deprecated. Please '\n",
      "C:\\Users\\un747\\anaconda3\\envs\\fall\\lib\\site-packages\\google\\protobuf\\symbol_database.py:55: UserWarning: SymbolDatabase.GetPrototype() is deprecated. Please use message_factory.GetMessageClass() instead. SymbolDatabase.GetPrototype() will be removed soon.\n",
      "  warnings.warn('SymbolDatabase.GetPrototype() is deprecated. Please '\n",
      "C:\\Users\\un747\\anaconda3\\envs\\fall\\lib\\site-packages\\google\\protobuf\\symbol_database.py:55: UserWarning: SymbolDatabase.GetPrototype() is deprecated. Please use message_factory.GetMessageClass() instead. SymbolDatabase.GetPrototype() will be removed soon.\n",
      "  warnings.warn('SymbolDatabase.GetPrototype() is deprecated. Please '\n"
     ]
    },
    {
     "name": "stdout",
     "output_type": "stream",
     "text": [
      "정상\n",
      "정상\n"
     ]
    },
    {
     "name": "stderr",
     "output_type": "stream",
     "text": [
      "C:\\Users\\un747\\anaconda3\\envs\\fall\\lib\\site-packages\\google\\protobuf\\symbol_database.py:55: UserWarning: SymbolDatabase.GetPrototype() is deprecated. Please use message_factory.GetMessageClass() instead. SymbolDatabase.GetPrototype() will be removed soon.\n",
      "  warnings.warn('SymbolDatabase.GetPrototype() is deprecated. Please '\n",
      "C:\\Users\\un747\\anaconda3\\envs\\fall\\lib\\site-packages\\google\\protobuf\\symbol_database.py:55: UserWarning: SymbolDatabase.GetPrototype() is deprecated. Please use message_factory.GetMessageClass() instead. SymbolDatabase.GetPrototype() will be removed soon.\n",
      "  warnings.warn('SymbolDatabase.GetPrototype() is deprecated. Please '\n",
      "C:\\Users\\un747\\anaconda3\\envs\\fall\\lib\\site-packages\\google\\protobuf\\symbol_database.py:55: UserWarning: SymbolDatabase.GetPrototype() is deprecated. Please use message_factory.GetMessageClass() instead. SymbolDatabase.GetPrototype() will be removed soon.\n",
      "  warnings.warn('SymbolDatabase.GetPrototype() is deprecated. Please '\n"
     ]
    },
    {
     "name": "stdout",
     "output_type": "stream",
     "text": [
      "정상\n",
      "낙상 167\n"
     ]
    },
    {
     "name": "stderr",
     "output_type": "stream",
     "text": [
      "C:\\Users\\un747\\anaconda3\\envs\\fall\\lib\\site-packages\\google\\protobuf\\symbol_database.py:55: UserWarning: SymbolDatabase.GetPrototype() is deprecated. Please use message_factory.GetMessageClass() instead. SymbolDatabase.GetPrototype() will be removed soon.\n",
      "  warnings.warn('SymbolDatabase.GetPrototype() is deprecated. Please '\n",
      "C:\\Users\\un747\\anaconda3\\envs\\fall\\lib\\site-packages\\google\\protobuf\\symbol_database.py:55: UserWarning: SymbolDatabase.GetPrototype() is deprecated. Please use message_factory.GetMessageClass() instead. SymbolDatabase.GetPrototype() will be removed soon.\n",
      "  warnings.warn('SymbolDatabase.GetPrototype() is deprecated. Please '\n",
      "C:\\Users\\un747\\anaconda3\\envs\\fall\\lib\\site-packages\\google\\protobuf\\symbol_database.py:55: UserWarning: SymbolDatabase.GetPrototype() is deprecated. Please use message_factory.GetMessageClass() instead. SymbolDatabase.GetPrototype() will be removed soon.\n",
      "  warnings.warn('SymbolDatabase.GetPrototype() is deprecated. Please '\n"
     ]
    },
    {
     "name": "stdout",
     "output_type": "stream",
     "text": [
      "낙상 168\n",
      "낙상 169\n",
      "낙상 170\n"
     ]
    },
    {
     "name": "stderr",
     "output_type": "stream",
     "text": [
      "C:\\Users\\un747\\anaconda3\\envs\\fall\\lib\\site-packages\\google\\protobuf\\symbol_database.py:55: UserWarning: SymbolDatabase.GetPrototype() is deprecated. Please use message_factory.GetMessageClass() instead. SymbolDatabase.GetPrototype() will be removed soon.\n",
      "  warnings.warn('SymbolDatabase.GetPrototype() is deprecated. Please '\n",
      "C:\\Users\\un747\\anaconda3\\envs\\fall\\lib\\site-packages\\google\\protobuf\\symbol_database.py:55: UserWarning: SymbolDatabase.GetPrototype() is deprecated. Please use message_factory.GetMessageClass() instead. SymbolDatabase.GetPrototype() will be removed soon.\n",
      "  warnings.warn('SymbolDatabase.GetPrototype() is deprecated. Please '\n"
     ]
    },
    {
     "name": "stdout",
     "output_type": "stream",
     "text": [
      "낙상 171\n",
      "낙상 172\n"
     ]
    },
    {
     "name": "stderr",
     "output_type": "stream",
     "text": [
      "C:\\Users\\un747\\anaconda3\\envs\\fall\\lib\\site-packages\\google\\protobuf\\symbol_database.py:55: UserWarning: SymbolDatabase.GetPrototype() is deprecated. Please use message_factory.GetMessageClass() instead. SymbolDatabase.GetPrototype() will be removed soon.\n",
      "  warnings.warn('SymbolDatabase.GetPrototype() is deprecated. Please '\n",
      "C:\\Users\\un747\\anaconda3\\envs\\fall\\lib\\site-packages\\google\\protobuf\\symbol_database.py:55: UserWarning: SymbolDatabase.GetPrototype() is deprecated. Please use message_factory.GetMessageClass() instead. SymbolDatabase.GetPrototype() will be removed soon.\n",
      "  warnings.warn('SymbolDatabase.GetPrototype() is deprecated. Please '\n",
      "C:\\Users\\un747\\anaconda3\\envs\\fall\\lib\\site-packages\\google\\protobuf\\symbol_database.py:55: UserWarning: SymbolDatabase.GetPrototype() is deprecated. Please use message_factory.GetMessageClass() instead. SymbolDatabase.GetPrototype() will be removed soon.\n",
      "  warnings.warn('SymbolDatabase.GetPrototype() is deprecated. Please '\n"
     ]
    },
    {
     "name": "stdout",
     "output_type": "stream",
     "text": [
      "낙상 173\n",
      "낙상 174\n",
      "낙상 175\n"
     ]
    },
    {
     "name": "stderr",
     "output_type": "stream",
     "text": [
      "C:\\Users\\un747\\anaconda3\\envs\\fall\\lib\\site-packages\\google\\protobuf\\symbol_database.py:55: UserWarning: SymbolDatabase.GetPrototype() is deprecated. Please use message_factory.GetMessageClass() instead. SymbolDatabase.GetPrototype() will be removed soon.\n",
      "  warnings.warn('SymbolDatabase.GetPrototype() is deprecated. Please '\n",
      "C:\\Users\\un747\\anaconda3\\envs\\fall\\lib\\site-packages\\google\\protobuf\\symbol_database.py:55: UserWarning: SymbolDatabase.GetPrototype() is deprecated. Please use message_factory.GetMessageClass() instead. SymbolDatabase.GetPrototype() will be removed soon.\n",
      "  warnings.warn('SymbolDatabase.GetPrototype() is deprecated. Please '\n",
      "C:\\Users\\un747\\anaconda3\\envs\\fall\\lib\\site-packages\\google\\protobuf\\symbol_database.py:55: UserWarning: SymbolDatabase.GetPrototype() is deprecated. Please use message_factory.GetMessageClass() instead. SymbolDatabase.GetPrototype() will be removed soon.\n",
      "  warnings.warn('SymbolDatabase.GetPrototype() is deprecated. Please '\n"
     ]
    },
    {
     "name": "stdout",
     "output_type": "stream",
     "text": [
      "낙상 176\n",
      "낙상 177\n",
      "낙상 178\n",
      "낙상 179\n",
      "낙상 180\n"
     ]
    },
    {
     "name": "stderr",
     "output_type": "stream",
     "text": [
      "C:\\Users\\un747\\anaconda3\\envs\\fall\\lib\\site-packages\\google\\protobuf\\symbol_database.py:55: UserWarning: SymbolDatabase.GetPrototype() is deprecated. Please use message_factory.GetMessageClass() instead. SymbolDatabase.GetPrototype() will be removed soon.\n",
      "  warnings.warn('SymbolDatabase.GetPrototype() is deprecated. Please '\n",
      "C:\\Users\\un747\\anaconda3\\envs\\fall\\lib\\site-packages\\google\\protobuf\\symbol_database.py:55: UserWarning: SymbolDatabase.GetPrototype() is deprecated. Please use message_factory.GetMessageClass() instead. SymbolDatabase.GetPrototype() will be removed soon.\n",
      "  warnings.warn('SymbolDatabase.GetPrototype() is deprecated. Please '\n",
      "C:\\Users\\un747\\anaconda3\\envs\\fall\\lib\\site-packages\\google\\protobuf\\symbol_database.py:55: UserWarning: SymbolDatabase.GetPrototype() is deprecated. Please use message_factory.GetMessageClass() instead. SymbolDatabase.GetPrototype() will be removed soon.\n",
      "  warnings.warn('SymbolDatabase.GetPrototype() is deprecated. Please '\n"
     ]
    },
    {
     "name": "stdout",
     "output_type": "stream",
     "text": [
      "낙상 181\n",
      "낙상 182\n",
      "낙상 183\n"
     ]
    },
    {
     "name": "stderr",
     "output_type": "stream",
     "text": [
      "C:\\Users\\un747\\anaconda3\\envs\\fall\\lib\\site-packages\\google\\protobuf\\symbol_database.py:55: UserWarning: SymbolDatabase.GetPrototype() is deprecated. Please use message_factory.GetMessageClass() instead. SymbolDatabase.GetPrototype() will be removed soon.\n",
      "  warnings.warn('SymbolDatabase.GetPrototype() is deprecated. Please '\n",
      "C:\\Users\\un747\\anaconda3\\envs\\fall\\lib\\site-packages\\google\\protobuf\\symbol_database.py:55: UserWarning: SymbolDatabase.GetPrototype() is deprecated. Please use message_factory.GetMessageClass() instead. SymbolDatabase.GetPrototype() will be removed soon.\n",
      "  warnings.warn('SymbolDatabase.GetPrototype() is deprecated. Please '\n",
      "C:\\Users\\un747\\anaconda3\\envs\\fall\\lib\\site-packages\\google\\protobuf\\symbol_database.py:55: UserWarning: SymbolDatabase.GetPrototype() is deprecated. Please use message_factory.GetMessageClass() instead. SymbolDatabase.GetPrototype() will be removed soon.\n",
      "  warnings.warn('SymbolDatabase.GetPrototype() is deprecated. Please '\n",
      "C:\\Users\\un747\\anaconda3\\envs\\fall\\lib\\site-packages\\google\\protobuf\\symbol_database.py:55: UserWarning: SymbolDatabase.GetPrototype() is deprecated. Please use message_factory.GetMessageClass() instead. SymbolDatabase.GetPrototype() will be removed soon.\n",
      "  warnings.warn('SymbolDatabase.GetPrototype() is deprecated. Please '\n"
     ]
    },
    {
     "name": "stdout",
     "output_type": "stream",
     "text": [
      "낙상 184\n",
      "낙상 185\n"
     ]
    },
    {
     "name": "stderr",
     "output_type": "stream",
     "text": [
      "C:\\Users\\un747\\anaconda3\\envs\\fall\\lib\\site-packages\\google\\protobuf\\symbol_database.py:55: UserWarning: SymbolDatabase.GetPrototype() is deprecated. Please use message_factory.GetMessageClass() instead. SymbolDatabase.GetPrototype() will be removed soon.\n",
      "  warnings.warn('SymbolDatabase.GetPrototype() is deprecated. Please '\n",
      "C:\\Users\\un747\\anaconda3\\envs\\fall\\lib\\site-packages\\google\\protobuf\\symbol_database.py:55: UserWarning: SymbolDatabase.GetPrototype() is deprecated. Please use message_factory.GetMessageClass() instead. SymbolDatabase.GetPrototype() will be removed soon.\n",
      "  warnings.warn('SymbolDatabase.GetPrototype() is deprecated. Please '\n"
     ]
    },
    {
     "name": "stdout",
     "output_type": "stream",
     "text": [
      "낙상 186\n",
      "낙상 187\n"
     ]
    },
    {
     "name": "stderr",
     "output_type": "stream",
     "text": [
      "C:\\Users\\un747\\anaconda3\\envs\\fall\\lib\\site-packages\\google\\protobuf\\symbol_database.py:55: UserWarning: SymbolDatabase.GetPrototype() is deprecated. Please use message_factory.GetMessageClass() instead. SymbolDatabase.GetPrototype() will be removed soon.\n",
      "  warnings.warn('SymbolDatabase.GetPrototype() is deprecated. Please '\n",
      "C:\\Users\\un747\\anaconda3\\envs\\fall\\lib\\site-packages\\google\\protobuf\\symbol_database.py:55: UserWarning: SymbolDatabase.GetPrototype() is deprecated. Please use message_factory.GetMessageClass() instead. SymbolDatabase.GetPrototype() will be removed soon.\n",
      "  warnings.warn('SymbolDatabase.GetPrototype() is deprecated. Please '\n"
     ]
    },
    {
     "name": "stdout",
     "output_type": "stream",
     "text": [
      "낙상 188\n",
      "낙상 189\n"
     ]
    },
    {
     "name": "stderr",
     "output_type": "stream",
     "text": [
      "C:\\Users\\un747\\anaconda3\\envs\\fall\\lib\\site-packages\\google\\protobuf\\symbol_database.py:55: UserWarning: SymbolDatabase.GetPrototype() is deprecated. Please use message_factory.GetMessageClass() instead. SymbolDatabase.GetPrototype() will be removed soon.\n",
      "  warnings.warn('SymbolDatabase.GetPrototype() is deprecated. Please '\n",
      "C:\\Users\\un747\\anaconda3\\envs\\fall\\lib\\site-packages\\google\\protobuf\\symbol_database.py:55: UserWarning: SymbolDatabase.GetPrototype() is deprecated. Please use message_factory.GetMessageClass() instead. SymbolDatabase.GetPrototype() will be removed soon.\n",
      "  warnings.warn('SymbolDatabase.GetPrototype() is deprecated. Please '\n"
     ]
    },
    {
     "name": "stdout",
     "output_type": "stream",
     "text": [
      "낙상 190\n",
      "낙상 191\n"
     ]
    },
    {
     "name": "stderr",
     "output_type": "stream",
     "text": [
      "C:\\Users\\un747\\anaconda3\\envs\\fall\\lib\\site-packages\\google\\protobuf\\symbol_database.py:55: UserWarning: SymbolDatabase.GetPrototype() is deprecated. Please use message_factory.GetMessageClass() instead. SymbolDatabase.GetPrototype() will be removed soon.\n",
      "  warnings.warn('SymbolDatabase.GetPrototype() is deprecated. Please '\n",
      "C:\\Users\\un747\\anaconda3\\envs\\fall\\lib\\site-packages\\google\\protobuf\\symbol_database.py:55: UserWarning: SymbolDatabase.GetPrototype() is deprecated. Please use message_factory.GetMessageClass() instead. SymbolDatabase.GetPrototype() will be removed soon.\n",
      "  warnings.warn('SymbolDatabase.GetPrototype() is deprecated. Please '\n",
      "C:\\Users\\un747\\anaconda3\\envs\\fall\\lib\\site-packages\\google\\protobuf\\symbol_database.py:55: UserWarning: SymbolDatabase.GetPrototype() is deprecated. Please use message_factory.GetMessageClass() instead. SymbolDatabase.GetPrototype() will be removed soon.\n",
      "  warnings.warn('SymbolDatabase.GetPrototype() is deprecated. Please '\n"
     ]
    },
    {
     "name": "stdout",
     "output_type": "stream",
     "text": [
      "낙상 192\n",
      "낙상 193\n",
      "낙상 194\n"
     ]
    },
    {
     "name": "stderr",
     "output_type": "stream",
     "text": [
      "C:\\Users\\un747\\anaconda3\\envs\\fall\\lib\\site-packages\\google\\protobuf\\symbol_database.py:55: UserWarning: SymbolDatabase.GetPrototype() is deprecated. Please use message_factory.GetMessageClass() instead. SymbolDatabase.GetPrototype() will be removed soon.\n",
      "  warnings.warn('SymbolDatabase.GetPrototype() is deprecated. Please '\n",
      "C:\\Users\\un747\\anaconda3\\envs\\fall\\lib\\site-packages\\google\\protobuf\\symbol_database.py:55: UserWarning: SymbolDatabase.GetPrototype() is deprecated. Please use message_factory.GetMessageClass() instead. SymbolDatabase.GetPrototype() will be removed soon.\n",
      "  warnings.warn('SymbolDatabase.GetPrototype() is deprecated. Please '\n"
     ]
    },
    {
     "name": "stdout",
     "output_type": "stream",
     "text": [
      "낙상 195\n",
      "낙상 196\n"
     ]
    },
    {
     "name": "stderr",
     "output_type": "stream",
     "text": [
      "C:\\Users\\un747\\anaconda3\\envs\\fall\\lib\\site-packages\\google\\protobuf\\symbol_database.py:55: UserWarning: SymbolDatabase.GetPrototype() is deprecated. Please use message_factory.GetMessageClass() instead. SymbolDatabase.GetPrototype() will be removed soon.\n",
      "  warnings.warn('SymbolDatabase.GetPrototype() is deprecated. Please '\n",
      "C:\\Users\\un747\\anaconda3\\envs\\fall\\lib\\site-packages\\google\\protobuf\\symbol_database.py:55: UserWarning: SymbolDatabase.GetPrototype() is deprecated. Please use message_factory.GetMessageClass() instead. SymbolDatabase.GetPrototype() will be removed soon.\n",
      "  warnings.warn('SymbolDatabase.GetPrototype() is deprecated. Please '\n"
     ]
    },
    {
     "name": "stdout",
     "output_type": "stream",
     "text": [
      "낙상 197\n",
      "낙상 198\n"
     ]
    },
    {
     "name": "stderr",
     "output_type": "stream",
     "text": [
      "C:\\Users\\un747\\anaconda3\\envs\\fall\\lib\\site-packages\\google\\protobuf\\symbol_database.py:55: UserWarning: SymbolDatabase.GetPrototype() is deprecated. Please use message_factory.GetMessageClass() instead. SymbolDatabase.GetPrototype() will be removed soon.\n",
      "  warnings.warn('SymbolDatabase.GetPrototype() is deprecated. Please '\n",
      "C:\\Users\\un747\\anaconda3\\envs\\fall\\lib\\site-packages\\google\\protobuf\\symbol_database.py:55: UserWarning: SymbolDatabase.GetPrototype() is deprecated. Please use message_factory.GetMessageClass() instead. SymbolDatabase.GetPrototype() will be removed soon.\n",
      "  warnings.warn('SymbolDatabase.GetPrototype() is deprecated. Please '\n"
     ]
    },
    {
     "name": "stdout",
     "output_type": "stream",
     "text": [
      "낙상 199\n",
      "낙상 200\n"
     ]
    },
    {
     "name": "stderr",
     "output_type": "stream",
     "text": [
      "C:\\Users\\un747\\anaconda3\\envs\\fall\\lib\\site-packages\\google\\protobuf\\symbol_database.py:55: UserWarning: SymbolDatabase.GetPrototype() is deprecated. Please use message_factory.GetMessageClass() instead. SymbolDatabase.GetPrototype() will be removed soon.\n",
      "  warnings.warn('SymbolDatabase.GetPrototype() is deprecated. Please '\n",
      "C:\\Users\\un747\\anaconda3\\envs\\fall\\lib\\site-packages\\google\\protobuf\\symbol_database.py:55: UserWarning: SymbolDatabase.GetPrototype() is deprecated. Please use message_factory.GetMessageClass() instead. SymbolDatabase.GetPrototype() will be removed soon.\n",
      "  warnings.warn('SymbolDatabase.GetPrototype() is deprecated. Please '\n",
      "C:\\Users\\un747\\anaconda3\\envs\\fall\\lib\\site-packages\\google\\protobuf\\symbol_database.py:55: UserWarning: SymbolDatabase.GetPrototype() is deprecated. Please use message_factory.GetMessageClass() instead. SymbolDatabase.GetPrototype() will be removed soon.\n",
      "  warnings.warn('SymbolDatabase.GetPrototype() is deprecated. Please '\n"
     ]
    },
    {
     "name": "stdout",
     "output_type": "stream",
     "text": [
      "낙상 201\n",
      "낙상 202\n",
      "낙상 203\n",
      "낙상 204\n"
     ]
    },
    {
     "name": "stderr",
     "output_type": "stream",
     "text": [
      "C:\\Users\\un747\\anaconda3\\envs\\fall\\lib\\site-packages\\google\\protobuf\\symbol_database.py:55: UserWarning: SymbolDatabase.GetPrototype() is deprecated. Please use message_factory.GetMessageClass() instead. SymbolDatabase.GetPrototype() will be removed soon.\n",
      "  warnings.warn('SymbolDatabase.GetPrototype() is deprecated. Please '\n",
      "C:\\Users\\un747\\anaconda3\\envs\\fall\\lib\\site-packages\\google\\protobuf\\symbol_database.py:55: UserWarning: SymbolDatabase.GetPrototype() is deprecated. Please use message_factory.GetMessageClass() instead. SymbolDatabase.GetPrototype() will be removed soon.\n",
      "  warnings.warn('SymbolDatabase.GetPrototype() is deprecated. Please '\n"
     ]
    },
    {
     "name": "stdout",
     "output_type": "stream",
     "text": [
      "낙상 205\n",
      "낙상 206\n"
     ]
    },
    {
     "name": "stderr",
     "output_type": "stream",
     "text": [
      "C:\\Users\\un747\\anaconda3\\envs\\fall\\lib\\site-packages\\google\\protobuf\\symbol_database.py:55: UserWarning: SymbolDatabase.GetPrototype() is deprecated. Please use message_factory.GetMessageClass() instead. SymbolDatabase.GetPrototype() will be removed soon.\n",
      "  warnings.warn('SymbolDatabase.GetPrototype() is deprecated. Please '\n",
      "C:\\Users\\un747\\anaconda3\\envs\\fall\\lib\\site-packages\\google\\protobuf\\symbol_database.py:55: UserWarning: SymbolDatabase.GetPrototype() is deprecated. Please use message_factory.GetMessageClass() instead. SymbolDatabase.GetPrototype() will be removed soon.\n",
      "  warnings.warn('SymbolDatabase.GetPrototype() is deprecated. Please '\n"
     ]
    },
    {
     "name": "stdout",
     "output_type": "stream",
     "text": [
      "낙상 207\n",
      "낙상 208\n"
     ]
    },
    {
     "name": "stderr",
     "output_type": "stream",
     "text": [
      "C:\\Users\\un747\\anaconda3\\envs\\fall\\lib\\site-packages\\google\\protobuf\\symbol_database.py:55: UserWarning: SymbolDatabase.GetPrototype() is deprecated. Please use message_factory.GetMessageClass() instead. SymbolDatabase.GetPrototype() will be removed soon.\n",
      "  warnings.warn('SymbolDatabase.GetPrototype() is deprecated. Please '\n",
      "C:\\Users\\un747\\anaconda3\\envs\\fall\\lib\\site-packages\\google\\protobuf\\symbol_database.py:55: UserWarning: SymbolDatabase.GetPrototype() is deprecated. Please use message_factory.GetMessageClass() instead. SymbolDatabase.GetPrototype() will be removed soon.\n",
      "  warnings.warn('SymbolDatabase.GetPrototype() is deprecated. Please '\n"
     ]
    },
    {
     "name": "stdout",
     "output_type": "stream",
     "text": [
      "낙상 209\n",
      "낙상 210\n"
     ]
    },
    {
     "name": "stderr",
     "output_type": "stream",
     "text": [
      "C:\\Users\\un747\\anaconda3\\envs\\fall\\lib\\site-packages\\google\\protobuf\\symbol_database.py:55: UserWarning: SymbolDatabase.GetPrototype() is deprecated. Please use message_factory.GetMessageClass() instead. SymbolDatabase.GetPrototype() will be removed soon.\n",
      "  warnings.warn('SymbolDatabase.GetPrototype() is deprecated. Please '\n",
      "C:\\Users\\un747\\anaconda3\\envs\\fall\\lib\\site-packages\\google\\protobuf\\symbol_database.py:55: UserWarning: SymbolDatabase.GetPrototype() is deprecated. Please use message_factory.GetMessageClass() instead. SymbolDatabase.GetPrototype() will be removed soon.\n",
      "  warnings.warn('SymbolDatabase.GetPrototype() is deprecated. Please '\n"
     ]
    },
    {
     "name": "stdout",
     "output_type": "stream",
     "text": [
      "낙상 211\n",
      "낙상 212\n",
      "낙상 213\n"
     ]
    },
    {
     "name": "stderr",
     "output_type": "stream",
     "text": [
      "C:\\Users\\un747\\anaconda3\\envs\\fall\\lib\\site-packages\\google\\protobuf\\symbol_database.py:55: UserWarning: SymbolDatabase.GetPrototype() is deprecated. Please use message_factory.GetMessageClass() instead. SymbolDatabase.GetPrototype() will be removed soon.\n",
      "  warnings.warn('SymbolDatabase.GetPrototype() is deprecated. Please '\n",
      "C:\\Users\\un747\\anaconda3\\envs\\fall\\lib\\site-packages\\google\\protobuf\\symbol_database.py:55: UserWarning: SymbolDatabase.GetPrototype() is deprecated. Please use message_factory.GetMessageClass() instead. SymbolDatabase.GetPrototype() will be removed soon.\n",
      "  warnings.warn('SymbolDatabase.GetPrototype() is deprecated. Please '\n",
      "C:\\Users\\un747\\anaconda3\\envs\\fall\\lib\\site-packages\\google\\protobuf\\symbol_database.py:55: UserWarning: SymbolDatabase.GetPrototype() is deprecated. Please use message_factory.GetMessageClass() instead. SymbolDatabase.GetPrototype() will be removed soon.\n",
      "  warnings.warn('SymbolDatabase.GetPrototype() is deprecated. Please '\n"
     ]
    },
    {
     "name": "stdout",
     "output_type": "stream",
     "text": [
      "낙상 214\n",
      "낙상 215\n",
      "낙상 216\n"
     ]
    },
    {
     "name": "stderr",
     "output_type": "stream",
     "text": [
      "C:\\Users\\un747\\anaconda3\\envs\\fall\\lib\\site-packages\\google\\protobuf\\symbol_database.py:55: UserWarning: SymbolDatabase.GetPrototype() is deprecated. Please use message_factory.GetMessageClass() instead. SymbolDatabase.GetPrototype() will be removed soon.\n",
      "  warnings.warn('SymbolDatabase.GetPrototype() is deprecated. Please '\n",
      "C:\\Users\\un747\\anaconda3\\envs\\fall\\lib\\site-packages\\google\\protobuf\\symbol_database.py:55: UserWarning: SymbolDatabase.GetPrototype() is deprecated. Please use message_factory.GetMessageClass() instead. SymbolDatabase.GetPrototype() will be removed soon.\n",
      "  warnings.warn('SymbolDatabase.GetPrototype() is deprecated. Please '\n",
      "C:\\Users\\un747\\anaconda3\\envs\\fall\\lib\\site-packages\\google\\protobuf\\symbol_database.py:55: UserWarning: SymbolDatabase.GetPrototype() is deprecated. Please use message_factory.GetMessageClass() instead. SymbolDatabase.GetPrototype() will be removed soon.\n",
      "  warnings.warn('SymbolDatabase.GetPrototype() is deprecated. Please '\n"
     ]
    },
    {
     "name": "stdout",
     "output_type": "stream",
     "text": [
      "낙상 217\n",
      "낙상 218\n",
      "낙상 219\n"
     ]
    },
    {
     "name": "stderr",
     "output_type": "stream",
     "text": [
      "C:\\Users\\un747\\anaconda3\\envs\\fall\\lib\\site-packages\\google\\protobuf\\symbol_database.py:55: UserWarning: SymbolDatabase.GetPrototype() is deprecated. Please use message_factory.GetMessageClass() instead. SymbolDatabase.GetPrototype() will be removed soon.\n",
      "  warnings.warn('SymbolDatabase.GetPrototype() is deprecated. Please '\n",
      "C:\\Users\\un747\\anaconda3\\envs\\fall\\lib\\site-packages\\google\\protobuf\\symbol_database.py:55: UserWarning: SymbolDatabase.GetPrototype() is deprecated. Please use message_factory.GetMessageClass() instead. SymbolDatabase.GetPrototype() will be removed soon.\n",
      "  warnings.warn('SymbolDatabase.GetPrototype() is deprecated. Please '\n",
      "C:\\Users\\un747\\anaconda3\\envs\\fall\\lib\\site-packages\\google\\protobuf\\symbol_database.py:55: UserWarning: SymbolDatabase.GetPrototype() is deprecated. Please use message_factory.GetMessageClass() instead. SymbolDatabase.GetPrototype() will be removed soon.\n",
      "  warnings.warn('SymbolDatabase.GetPrototype() is deprecated. Please '\n",
      "C:\\Users\\un747\\anaconda3\\envs\\fall\\lib\\site-packages\\google\\protobuf\\symbol_database.py:55: UserWarning: SymbolDatabase.GetPrototype() is deprecated. Please use message_factory.GetMessageClass() instead. SymbolDatabase.GetPrototype() will be removed soon.\n",
      "  warnings.warn('SymbolDatabase.GetPrototype() is deprecated. Please '\n"
     ]
    },
    {
     "name": "stdout",
     "output_type": "stream",
     "text": [
      "낙상 220\n",
      "낙상 221\n"
     ]
    },
    {
     "name": "stderr",
     "output_type": "stream",
     "text": [
      "C:\\Users\\un747\\anaconda3\\envs\\fall\\lib\\site-packages\\google\\protobuf\\symbol_database.py:55: UserWarning: SymbolDatabase.GetPrototype() is deprecated. Please use message_factory.GetMessageClass() instead. SymbolDatabase.GetPrototype() will be removed soon.\n",
      "  warnings.warn('SymbolDatabase.GetPrototype() is deprecated. Please '\n",
      "C:\\Users\\un747\\anaconda3\\envs\\fall\\lib\\site-packages\\google\\protobuf\\symbol_database.py:55: UserWarning: SymbolDatabase.GetPrototype() is deprecated. Please use message_factory.GetMessageClass() instead. SymbolDatabase.GetPrototype() will be removed soon.\n",
      "  warnings.warn('SymbolDatabase.GetPrototype() is deprecated. Please '\n",
      "C:\\Users\\un747\\anaconda3\\envs\\fall\\lib\\site-packages\\google\\protobuf\\symbol_database.py:55: UserWarning: SymbolDatabase.GetPrototype() is deprecated. Please use message_factory.GetMessageClass() instead. SymbolDatabase.GetPrototype() will be removed soon.\n",
      "  warnings.warn('SymbolDatabase.GetPrototype() is deprecated. Please '\n"
     ]
    },
    {
     "name": "stdout",
     "output_type": "stream",
     "text": [
      "낙상 222\n",
      "낙상 223\n",
      "낙상 224\n"
     ]
    },
    {
     "name": "stderr",
     "output_type": "stream",
     "text": [
      "C:\\Users\\un747\\anaconda3\\envs\\fall\\lib\\site-packages\\google\\protobuf\\symbol_database.py:55: UserWarning: SymbolDatabase.GetPrototype() is deprecated. Please use message_factory.GetMessageClass() instead. SymbolDatabase.GetPrototype() will be removed soon.\n",
      "  warnings.warn('SymbolDatabase.GetPrototype() is deprecated. Please '\n",
      "C:\\Users\\un747\\anaconda3\\envs\\fall\\lib\\site-packages\\google\\protobuf\\symbol_database.py:55: UserWarning: SymbolDatabase.GetPrototype() is deprecated. Please use message_factory.GetMessageClass() instead. SymbolDatabase.GetPrototype() will be removed soon.\n",
      "  warnings.warn('SymbolDatabase.GetPrototype() is deprecated. Please '\n",
      "C:\\Users\\un747\\anaconda3\\envs\\fall\\lib\\site-packages\\google\\protobuf\\symbol_database.py:55: UserWarning: SymbolDatabase.GetPrototype() is deprecated. Please use message_factory.GetMessageClass() instead. SymbolDatabase.GetPrototype() will be removed soon.\n",
      "  warnings.warn('SymbolDatabase.GetPrototype() is deprecated. Please '\n"
     ]
    },
    {
     "name": "stdout",
     "output_type": "stream",
     "text": [
      "낙상 225\n",
      "낙상 226\n",
      "낙상 227\n"
     ]
    },
    {
     "name": "stderr",
     "output_type": "stream",
     "text": [
      "C:\\Users\\un747\\anaconda3\\envs\\fall\\lib\\site-packages\\google\\protobuf\\symbol_database.py:55: UserWarning: SymbolDatabase.GetPrototype() is deprecated. Please use message_factory.GetMessageClass() instead. SymbolDatabase.GetPrototype() will be removed soon.\n",
      "  warnings.warn('SymbolDatabase.GetPrototype() is deprecated. Please '\n",
      "C:\\Users\\un747\\anaconda3\\envs\\fall\\lib\\site-packages\\google\\protobuf\\symbol_database.py:55: UserWarning: SymbolDatabase.GetPrototype() is deprecated. Please use message_factory.GetMessageClass() instead. SymbolDatabase.GetPrototype() will be removed soon.\n",
      "  warnings.warn('SymbolDatabase.GetPrototype() is deprecated. Please '\n",
      "C:\\Users\\un747\\anaconda3\\envs\\fall\\lib\\site-packages\\google\\protobuf\\symbol_database.py:55: UserWarning: SymbolDatabase.GetPrototype() is deprecated. Please use message_factory.GetMessageClass() instead. SymbolDatabase.GetPrototype() will be removed soon.\n",
      "  warnings.warn('SymbolDatabase.GetPrototype() is deprecated. Please '\n"
     ]
    },
    {
     "name": "stdout",
     "output_type": "stream",
     "text": [
      "낙상 228\n",
      "낙상 229\n",
      "낙상 230\n"
     ]
    },
    {
     "name": "stderr",
     "output_type": "stream",
     "text": [
      "C:\\Users\\un747\\anaconda3\\envs\\fall\\lib\\site-packages\\google\\protobuf\\symbol_database.py:55: UserWarning: SymbolDatabase.GetPrototype() is deprecated. Please use message_factory.GetMessageClass() instead. SymbolDatabase.GetPrototype() will be removed soon.\n",
      "  warnings.warn('SymbolDatabase.GetPrototype() is deprecated. Please '\n",
      "C:\\Users\\un747\\anaconda3\\envs\\fall\\lib\\site-packages\\google\\protobuf\\symbol_database.py:55: UserWarning: SymbolDatabase.GetPrototype() is deprecated. Please use message_factory.GetMessageClass() instead. SymbolDatabase.GetPrototype() will be removed soon.\n",
      "  warnings.warn('SymbolDatabase.GetPrototype() is deprecated. Please '\n",
      "C:\\Users\\un747\\anaconda3\\envs\\fall\\lib\\site-packages\\google\\protobuf\\symbol_database.py:55: UserWarning: SymbolDatabase.GetPrototype() is deprecated. Please use message_factory.GetMessageClass() instead. SymbolDatabase.GetPrototype() will be removed soon.\n",
      "  warnings.warn('SymbolDatabase.GetPrototype() is deprecated. Please '\n"
     ]
    },
    {
     "name": "stdout",
     "output_type": "stream",
     "text": [
      "낙상 231\n",
      "낙상 232\n",
      "낙상 233\n"
     ]
    },
    {
     "name": "stderr",
     "output_type": "stream",
     "text": [
      "C:\\Users\\un747\\anaconda3\\envs\\fall\\lib\\site-packages\\google\\protobuf\\symbol_database.py:55: UserWarning: SymbolDatabase.GetPrototype() is deprecated. Please use message_factory.GetMessageClass() instead. SymbolDatabase.GetPrototype() will be removed soon.\n",
      "  warnings.warn('SymbolDatabase.GetPrototype() is deprecated. Please '\n",
      "C:\\Users\\un747\\anaconda3\\envs\\fall\\lib\\site-packages\\google\\protobuf\\symbol_database.py:55: UserWarning: SymbolDatabase.GetPrototype() is deprecated. Please use message_factory.GetMessageClass() instead. SymbolDatabase.GetPrototype() will be removed soon.\n",
      "  warnings.warn('SymbolDatabase.GetPrototype() is deprecated. Please '\n",
      "C:\\Users\\un747\\anaconda3\\envs\\fall\\lib\\site-packages\\google\\protobuf\\symbol_database.py:55: UserWarning: SymbolDatabase.GetPrototype() is deprecated. Please use message_factory.GetMessageClass() instead. SymbolDatabase.GetPrototype() will be removed soon.\n",
      "  warnings.warn('SymbolDatabase.GetPrototype() is deprecated. Please '\n"
     ]
    },
    {
     "name": "stdout",
     "output_type": "stream",
     "text": [
      "낙상 234\n",
      "낙상 235\n",
      "낙상 236\n",
      "낙상 237\n",
      "낙상 238\n"
     ]
    },
    {
     "name": "stderr",
     "output_type": "stream",
     "text": [
      "C:\\Users\\un747\\anaconda3\\envs\\fall\\lib\\site-packages\\google\\protobuf\\symbol_database.py:55: UserWarning: SymbolDatabase.GetPrototype() is deprecated. Please use message_factory.GetMessageClass() instead. SymbolDatabase.GetPrototype() will be removed soon.\n",
      "  warnings.warn('SymbolDatabase.GetPrototype() is deprecated. Please '\n",
      "C:\\Users\\un747\\anaconda3\\envs\\fall\\lib\\site-packages\\google\\protobuf\\symbol_database.py:55: UserWarning: SymbolDatabase.GetPrototype() is deprecated. Please use message_factory.GetMessageClass() instead. SymbolDatabase.GetPrototype() will be removed soon.\n",
      "  warnings.warn('SymbolDatabase.GetPrototype() is deprecated. Please '\n",
      "C:\\Users\\un747\\anaconda3\\envs\\fall\\lib\\site-packages\\google\\protobuf\\symbol_database.py:55: UserWarning: SymbolDatabase.GetPrototype() is deprecated. Please use message_factory.GetMessageClass() instead. SymbolDatabase.GetPrototype() will be removed soon.\n",
      "  warnings.warn('SymbolDatabase.GetPrototype() is deprecated. Please '\n",
      "C:\\Users\\un747\\anaconda3\\envs\\fall\\lib\\site-packages\\google\\protobuf\\symbol_database.py:55: UserWarning: SymbolDatabase.GetPrototype() is deprecated. Please use message_factory.GetMessageClass() instead. SymbolDatabase.GetPrototype() will be removed soon.\n",
      "  warnings.warn('SymbolDatabase.GetPrototype() is deprecated. Please '\n",
      "C:\\Users\\un747\\anaconda3\\envs\\fall\\lib\\site-packages\\google\\protobuf\\symbol_database.py:55: UserWarning: SymbolDatabase.GetPrototype() is deprecated. Please use message_factory.GetMessageClass() instead. SymbolDatabase.GetPrototype() will be removed soon.\n",
      "  warnings.warn('SymbolDatabase.GetPrototype() is deprecated. Please '\n"
     ]
    },
    {
     "name": "stdout",
     "output_type": "stream",
     "text": [
      "낙상 239\n",
      "낙상 240\n",
      "낙상 241\n"
     ]
    },
    {
     "name": "stderr",
     "output_type": "stream",
     "text": [
      "C:\\Users\\un747\\anaconda3\\envs\\fall\\lib\\site-packages\\google\\protobuf\\symbol_database.py:55: UserWarning: SymbolDatabase.GetPrototype() is deprecated. Please use message_factory.GetMessageClass() instead. SymbolDatabase.GetPrototype() will be removed soon.\n",
      "  warnings.warn('SymbolDatabase.GetPrototype() is deprecated. Please '\n",
      "C:\\Users\\un747\\anaconda3\\envs\\fall\\lib\\site-packages\\google\\protobuf\\symbol_database.py:55: UserWarning: SymbolDatabase.GetPrototype() is deprecated. Please use message_factory.GetMessageClass() instead. SymbolDatabase.GetPrototype() will be removed soon.\n",
      "  warnings.warn('SymbolDatabase.GetPrototype() is deprecated. Please '\n"
     ]
    },
    {
     "name": "stdout",
     "output_type": "stream",
     "text": [
      "낙상 242\n",
      "낙상 243\n"
     ]
    },
    {
     "name": "stderr",
     "output_type": "stream",
     "text": [
      "C:\\Users\\un747\\anaconda3\\envs\\fall\\lib\\site-packages\\google\\protobuf\\symbol_database.py:55: UserWarning: SymbolDatabase.GetPrototype() is deprecated. Please use message_factory.GetMessageClass() instead. SymbolDatabase.GetPrototype() will be removed soon.\n",
      "  warnings.warn('SymbolDatabase.GetPrototype() is deprecated. Please '\n",
      "C:\\Users\\un747\\anaconda3\\envs\\fall\\lib\\site-packages\\google\\protobuf\\symbol_database.py:55: UserWarning: SymbolDatabase.GetPrototype() is deprecated. Please use message_factory.GetMessageClass() instead. SymbolDatabase.GetPrototype() will be removed soon.\n",
      "  warnings.warn('SymbolDatabase.GetPrototype() is deprecated. Please '\n",
      "C:\\Users\\un747\\anaconda3\\envs\\fall\\lib\\site-packages\\google\\protobuf\\symbol_database.py:55: UserWarning: SymbolDatabase.GetPrototype() is deprecated. Please use message_factory.GetMessageClass() instead. SymbolDatabase.GetPrototype() will be removed soon.\n",
      "  warnings.warn('SymbolDatabase.GetPrototype() is deprecated. Please '\n"
     ]
    },
    {
     "name": "stdout",
     "output_type": "stream",
     "text": [
      "낙상 244\n",
      "낙상 245\n",
      "낙상 246\n"
     ]
    },
    {
     "name": "stderr",
     "output_type": "stream",
     "text": [
      "C:\\Users\\un747\\anaconda3\\envs\\fall\\lib\\site-packages\\google\\protobuf\\symbol_database.py:55: UserWarning: SymbolDatabase.GetPrototype() is deprecated. Please use message_factory.GetMessageClass() instead. SymbolDatabase.GetPrototype() will be removed soon.\n",
      "  warnings.warn('SymbolDatabase.GetPrototype() is deprecated. Please '\n",
      "C:\\Users\\un747\\anaconda3\\envs\\fall\\lib\\site-packages\\google\\protobuf\\symbol_database.py:55: UserWarning: SymbolDatabase.GetPrototype() is deprecated. Please use message_factory.GetMessageClass() instead. SymbolDatabase.GetPrototype() will be removed soon.\n",
      "  warnings.warn('SymbolDatabase.GetPrototype() is deprecated. Please '\n"
     ]
    },
    {
     "name": "stdout",
     "output_type": "stream",
     "text": [
      "낙상 247\n",
      "낙상 248\n"
     ]
    },
    {
     "name": "stderr",
     "output_type": "stream",
     "text": [
      "C:\\Users\\un747\\anaconda3\\envs\\fall\\lib\\site-packages\\google\\protobuf\\symbol_database.py:55: UserWarning: SymbolDatabase.GetPrototype() is deprecated. Please use message_factory.GetMessageClass() instead. SymbolDatabase.GetPrototype() will be removed soon.\n",
      "  warnings.warn('SymbolDatabase.GetPrototype() is deprecated. Please '\n",
      "C:\\Users\\un747\\anaconda3\\envs\\fall\\lib\\site-packages\\google\\protobuf\\symbol_database.py:55: UserWarning: SymbolDatabase.GetPrototype() is deprecated. Please use message_factory.GetMessageClass() instead. SymbolDatabase.GetPrototype() will be removed soon.\n",
      "  warnings.warn('SymbolDatabase.GetPrototype() is deprecated. Please '\n",
      "C:\\Users\\un747\\anaconda3\\envs\\fall\\lib\\site-packages\\google\\protobuf\\symbol_database.py:55: UserWarning: SymbolDatabase.GetPrototype() is deprecated. Please use message_factory.GetMessageClass() instead. SymbolDatabase.GetPrototype() will be removed soon.\n",
      "  warnings.warn('SymbolDatabase.GetPrototype() is deprecated. Please '\n"
     ]
    },
    {
     "name": "stdout",
     "output_type": "stream",
     "text": [
      "낙상 249\n",
      "낙상 250\n",
      "낙상 251\n"
     ]
    },
    {
     "name": "stderr",
     "output_type": "stream",
     "text": [
      "C:\\Users\\un747\\anaconda3\\envs\\fall\\lib\\site-packages\\google\\protobuf\\symbol_database.py:55: UserWarning: SymbolDatabase.GetPrototype() is deprecated. Please use message_factory.GetMessageClass() instead. SymbolDatabase.GetPrototype() will be removed soon.\n",
      "  warnings.warn('SymbolDatabase.GetPrototype() is deprecated. Please '\n",
      "C:\\Users\\un747\\anaconda3\\envs\\fall\\lib\\site-packages\\google\\protobuf\\symbol_database.py:55: UserWarning: SymbolDatabase.GetPrototype() is deprecated. Please use message_factory.GetMessageClass() instead. SymbolDatabase.GetPrototype() will be removed soon.\n",
      "  warnings.warn('SymbolDatabase.GetPrototype() is deprecated. Please '\n"
     ]
    },
    {
     "name": "stdout",
     "output_type": "stream",
     "text": [
      "낙상 252\n",
      "낙상 253\n"
     ]
    },
    {
     "name": "stderr",
     "output_type": "stream",
     "text": [
      "C:\\Users\\un747\\anaconda3\\envs\\fall\\lib\\site-packages\\google\\protobuf\\symbol_database.py:55: UserWarning: SymbolDatabase.GetPrototype() is deprecated. Please use message_factory.GetMessageClass() instead. SymbolDatabase.GetPrototype() will be removed soon.\n",
      "  warnings.warn('SymbolDatabase.GetPrototype() is deprecated. Please '\n",
      "C:\\Users\\un747\\anaconda3\\envs\\fall\\lib\\site-packages\\google\\protobuf\\symbol_database.py:55: UserWarning: SymbolDatabase.GetPrototype() is deprecated. Please use message_factory.GetMessageClass() instead. SymbolDatabase.GetPrototype() will be removed soon.\n",
      "  warnings.warn('SymbolDatabase.GetPrototype() is deprecated. Please '\n",
      "C:\\Users\\un747\\anaconda3\\envs\\fall\\lib\\site-packages\\google\\protobuf\\symbol_database.py:55: UserWarning: SymbolDatabase.GetPrototype() is deprecated. Please use message_factory.GetMessageClass() instead. SymbolDatabase.GetPrototype() will be removed soon.\n",
      "  warnings.warn('SymbolDatabase.GetPrototype() is deprecated. Please '\n"
     ]
    },
    {
     "name": "stdout",
     "output_type": "stream",
     "text": [
      "낙상 254\n",
      "낙상 255\n",
      "낙상 256\n",
      "낙상 257\n"
     ]
    },
    {
     "name": "stderr",
     "output_type": "stream",
     "text": [
      "C:\\Users\\un747\\anaconda3\\envs\\fall\\lib\\site-packages\\google\\protobuf\\symbol_database.py:55: UserWarning: SymbolDatabase.GetPrototype() is deprecated. Please use message_factory.GetMessageClass() instead. SymbolDatabase.GetPrototype() will be removed soon.\n",
      "  warnings.warn('SymbolDatabase.GetPrototype() is deprecated. Please '\n",
      "C:\\Users\\un747\\anaconda3\\envs\\fall\\lib\\site-packages\\google\\protobuf\\symbol_database.py:55: UserWarning: SymbolDatabase.GetPrototype() is deprecated. Please use message_factory.GetMessageClass() instead. SymbolDatabase.GetPrototype() will be removed soon.\n",
      "  warnings.warn('SymbolDatabase.GetPrototype() is deprecated. Please '\n"
     ]
    },
    {
     "name": "stdout",
     "output_type": "stream",
     "text": [
      "낙상 258\n",
      "낙상 259\n"
     ]
    },
    {
     "name": "stderr",
     "output_type": "stream",
     "text": [
      "C:\\Users\\un747\\anaconda3\\envs\\fall\\lib\\site-packages\\google\\protobuf\\symbol_database.py:55: UserWarning: SymbolDatabase.GetPrototype() is deprecated. Please use message_factory.GetMessageClass() instead. SymbolDatabase.GetPrototype() will be removed soon.\n",
      "  warnings.warn('SymbolDatabase.GetPrototype() is deprecated. Please '\n",
      "C:\\Users\\un747\\anaconda3\\envs\\fall\\lib\\site-packages\\google\\protobuf\\symbol_database.py:55: UserWarning: SymbolDatabase.GetPrototype() is deprecated. Please use message_factory.GetMessageClass() instead. SymbolDatabase.GetPrototype() will be removed soon.\n",
      "  warnings.warn('SymbolDatabase.GetPrototype() is deprecated. Please '\n",
      "C:\\Users\\un747\\anaconda3\\envs\\fall\\lib\\site-packages\\google\\protobuf\\symbol_database.py:55: UserWarning: SymbolDatabase.GetPrototype() is deprecated. Please use message_factory.GetMessageClass() instead. SymbolDatabase.GetPrototype() will be removed soon.\n",
      "  warnings.warn('SymbolDatabase.GetPrototype() is deprecated. Please '\n"
     ]
    },
    {
     "name": "stdout",
     "output_type": "stream",
     "text": [
      "낙상 260\n",
      "낙상 261\n",
      "낙상 262\n",
      "낙상 263\n",
      "✅ 영상 처리 완료! → output_result.mp4 저장됨\n"
     ]
    },
    {
     "name": "stderr",
     "output_type": "stream",
     "text": [
      "C:\\Users\\un747\\anaconda3\\envs\\fall\\lib\\site-packages\\google\\protobuf\\symbol_database.py:55: UserWarning: SymbolDatabase.GetPrototype() is deprecated. Please use message_factory.GetMessageClass() instead. SymbolDatabase.GetPrototype() will be removed soon.\n",
      "  warnings.warn('SymbolDatabase.GetPrototype() is deprecated. Please '\n",
      "C:\\Users\\un747\\anaconda3\\envs\\fall\\lib\\site-packages\\google\\protobuf\\symbol_database.py:55: UserWarning: SymbolDatabase.GetPrototype() is deprecated. Please use message_factory.GetMessageClass() instead. SymbolDatabase.GetPrototype() will be removed soon.\n",
      "  warnings.warn('SymbolDatabase.GetPrototype() is deprecated. Please '\n"
     ]
    }
   ],
   "source": [
    "mp_pose = mp.solutions.pose\n",
    "pose = mp_pose.Pose(static_image_mode=False, min_detection_confidence=0.5)\n",
    "WINDOW_SIZE = 30\n",
    "\n",
    "cap = cv2.VideoCapture(VIDEO_PATH)\n",
    "if not cap.isOpened():\n",
    "    raise RuntimeError(f\"❌ 영상 파일을 열 수 없습니다: {VIDEO_PATH}\")\n",
    "\n",
    "keypoints_buffer = []\n",
    "\n",
    "# ==============================\n",
    "# 5️⃣ 프레임 루프\n",
    "# ==============================\n",
    "frameN = 0\n",
    "while True:\n",
    "    ret, frame = cap.read()\n",
    "    if not ret:\n",
    "        break\n",
    "\n",
    "    image = cv2.cvtColor(frame, cv2.COLOR_BGR2RGB)\n",
    "    results = pose.process(image)\n",
    "\n",
    "    if results.pose_landmarks:\n",
    "        # 33개 포인트 * (x,y,z)\n",
    "        landmarks = results.pose_landmarks.landmark\n",
    "        keypoints = np.array([[lm.x, lm.y, lm.z, lm.visibility] for lm in landmarks]).flatten()\n",
    "        keypoints_buffer.append(keypoints)\n",
    "\n",
    "        if len(keypoints_buffer) >= WINDOW_SIZE:\n",
    "            # 최근 WINDOW_SIZE 프레임 사용\n",
    "            seq = np.stack(keypoints_buffer[-WINDOW_SIZE:], axis=0)  # (T, D)\n",
    "            seq_scaled = scaler.transform(seq) if scaler else seq\n",
    "            seq_scaled = np.expand_dims(seq_scaled, axis=0)  # (1, T, D)\n",
    "\n",
    "            # 추론\n",
    "            with torch.no_grad():\n",
    "                x = torch.tensor(seq_scaled, dtype=torch.float32).to(device)\n",
    "                logits = model(x)\n",
    "                probs = torch.softmax(logits, dim=1)[0]\n",
    "                pred = torch.argmax(probs).item()\n",
    "\n",
    "            # 예측 결과 표시\n",
    "            label_names = [\"walk\", \"run\", \"jump\", \"sit\", \"stand\"]  # 예시\n",
    "            action = label_names[pred]\n",
    "            cv2.putText(frame, f\"Action: {action}\", (20, 50),\n",
    "                        cv2.FONT_HERSHEY_SIMPLEX, 1.2, (0, 255, 0), 3, cv2.LINE_AA)\n",
    "            if pred == 1:\n",
    "                print(f\"낙상 {frameN}\")\n",
    "            else:\n",
    "                print(\"정상\")\n",
    "\n",
    "    #out.write(frame)\n",
    "    cv2.imshow(\"Action Recognition\", frame)\n",
    "\n",
    "    if cv2.waitKey(1) & 0xFF == ord('q'):\n",
    "        break\n",
    "\n",
    "    frameN += 1\n",
    "# ==============================\n",
    "# 6️⃣ 종료 및 저장\n",
    "# ==============================\n",
    "cap.release()\n",
    "#out.release()\n",
    "cv2.destroyAllWindows()\n",
    "print(\"✅ 영상 처리 완료! → output_result.mp4 저장됨\")"
   ]
  },
  {
   "cell_type": "code",
   "execution_count": null,
   "id": "c949fdd2-9f41-4428-8e64-88f2c5d6c746",
   "metadata": {},
   "outputs": [],
   "source": []
  }
 ],
 "metadata": {
  "kernelspec": {
   "display_name": "Python (fall)",
   "language": "python",
   "name": "fall"
  },
  "language_info": {
   "codemirror_mode": {
    "name": "ipython",
    "version": 3
   },
   "file_extension": ".py",
   "mimetype": "text/x-python",
   "name": "python",
   "nbconvert_exporter": "python",
   "pygments_lexer": "ipython3",
   "version": "3.10.18"
  }
 },
 "nbformat": 4,
 "nbformat_minor": 5
}
