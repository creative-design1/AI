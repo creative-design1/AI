{
 "cells": [
  {
   "cell_type": "code",
   "execution_count": 1,
   "id": "fe19c768-5254-458a-999c-45ce111eff6a",
   "metadata": {},
   "outputs": [],
   "source": [
    "import numpy as np\n",
    "import torch\n",
    "import joblib\n",
    "from pathlib import Path"
   ]
  },
  {
   "cell_type": "code",
   "execution_count": 3,
   "id": "8cf4862e-3e88-4edd-88d7-f7e315feb423",
   "metadata": {},
   "outputs": [
    {
     "name": "stdout",
     "output_type": "stream",
     "text": [
      "Using device: cpu\n"
     ]
    }
   ],
   "source": [
    "# device 선택 (GPU가 있으면 GPU, 없으면 CPU)\n",
    "device = torch.device(\"cuda\" if torch.cuda.is_available() else \"cpu\")\n",
    "print(\"Using device:\", device)"
   ]
  },
  {
   "cell_type": "code",
   "execution_count": 5,
   "id": "d4b20b3b-17df-4535-86d2-d45b6ee7251d",
   "metadata": {},
   "outputs": [],
   "source": [
    "import torch.nn as nn\n",
    "\n",
    "class FallLSTM(nn.Module):\n",
    "    def __init__(self, input_size, hidden_size=128, num_layers=2, dropout=0.3, num_classes=2):\n",
    "        super().__init__()\n",
    "        self.lstm = nn.LSTM(input_size, hidden_size, num_layers,\n",
    "                            batch_first=True, dropout=dropout, bidirectional=False)\n",
    "        self.fc = nn.Sequential(\n",
    "            nn.Linear(hidden_size, 64),\n",
    "            nn.ReLU(),\n",
    "            nn.Dropout(0.3),\n",
    "            nn.Linear(64, num_classes)\n",
    "        )\n",
    "\n",
    "    def forward(self, x):\n",
    "        # x: (B, T, D)\n",
    "        out, _ = self.lstm(x)       # out: (B, T, hidden)\n",
    "        last = out[:, -1, :]        # 마지막 타임스텝을 사용 (B, hidden)\n",
    "        logits = self.fc(last)      # (B, num_classes)\n",
    "        return logits"
   ]
  },
  {
   "cell_type": "code",
   "execution_count": 7,
   "id": "562438f6-3b08-4a9d-9b2d-a5f88537f5be",
   "metadata": {},
   "outputs": [],
   "source": [
    "BASE_DIR = Path.cwd().parent\n",
    "ckpt_dir = BASE_DIR / \"models\"\n",
    "best_ckpt = ckpt_dir / \"best_fall_model.pth\""
   ]
  },
  {
   "cell_type": "code",
   "execution_count": 9,
   "id": "4db80329-3ebf-4ab4-a636-e80b46340b47",
   "metadata": {},
   "outputs": [
    {
     "data": {
      "text/plain": [
       "FallLSTM(\n",
       "  (lstm): LSTM(132, 128, num_layers=2, batch_first=True, dropout=0.3)\n",
       "  (fc): Sequential(\n",
       "    (0): Linear(in_features=128, out_features=64, bias=True)\n",
       "    (1): ReLU()\n",
       "    (2): Dropout(p=0.3, inplace=False)\n",
       "    (3): Linear(in_features=64, out_features=2, bias=True)\n",
       "  )\n",
       ")"
      ]
     },
     "execution_count": 9,
     "metadata": {},
     "output_type": "execute_result"
    }
   ],
   "source": [
    "ck = torch.load(str(best_ckpt), map_location=device)\n",
    "model = FallLSTM(input_size=132, hidden_size=128, num_layers=2).to(device)\n",
    "model.load_state_dict(ck[\"model_state\"])\n",
    "model.eval()"
   ]
  },
  {
   "cell_type": "code",
   "execution_count": 11,
   "id": "72ce5c0e-53d4-4c6f-8636-4aace03a14b2",
   "metadata": {},
   "outputs": [
    {
     "name": "stderr",
     "output_type": "stream",
     "text": [
      "C:\\Users\\un747\\anaconda3\\envs\\fall\\lib\\site-packages\\sklearn\\base.py:442: InconsistentVersionWarning: Trying to unpickle estimator StandardScaler from version 1.6.1 when using version 1.7.2. This might lead to breaking code or invalid results. Use at your own risk. For more info please refer to:\n",
      "https://scikit-learn.org/stable/model_persistence.html#security-maintainability-limitations\n",
      "  warnings.warn(\n"
     ]
    }
   ],
   "source": [
    "scaler_path = BASE_DIR / \"src\" / \"scaler.save\"  # 앞서 저장한 scaler\n",
    "scaler = joblib.load(scaler_path) if scaler_path.exists() else None"
   ]
  },
  {
   "cell_type": "code",
   "execution_count": 12,
   "id": "bdce2dd1-0d92-4564-9651-8b6cb7e314b2",
   "metadata": {
    "scrolled": true
   },
   "outputs": [
    {
     "name": "stdout",
     "output_type": "stream",
     "text": [
      "🔹 테스트 데이터 로드 중...\n",
      "\n",
      "==== 🔍 예측 결과 ====\n",
      "실제 라벨: 0  →  예측 라벨: 0\n",
      "클래스 확률: 낙상(1): 0.0016, 비낙상(0): 0.9984\n",
      "======================\n",
      "✅ 정상적인 행동입니다.\n",
      "\n",
      "==== 🔍 예측 결과 ====\n",
      "실제 라벨: 0  →  예측 라벨: 0\n",
      "클래스 확률: 낙상(1): 0.0002, 비낙상(0): 0.9998\n",
      "======================\n",
      "✅ 정상적인 행동입니다.\n",
      "\n",
      "==== 🔍 예측 결과 ====\n",
      "실제 라벨: 1  →  예측 라벨: 1\n",
      "클래스 확률: 낙상(1): 0.9999, 비낙상(0): 0.0001\n",
      "======================\n",
      "🚨 낙상으로 감지되었습니다!\n",
      "\n",
      "==== 🔍 예측 결과 ====\n",
      "실제 라벨: 1  →  예측 라벨: 1\n",
      "클래스 확률: 낙상(1): 0.9999, 비낙상(0): 0.0001\n",
      "======================\n",
      "🚨 낙상으로 감지되었습니다!\n",
      "\n",
      "==== 🔍 예측 결과 ====\n",
      "실제 라벨: 0  →  예측 라벨: 0\n",
      "클래스 확률: 낙상(1): 0.0002, 비낙상(0): 0.9998\n",
      "======================\n",
      "✅ 정상적인 행동입니다.\n",
      "\n",
      "==== 🔍 예측 결과 ====\n",
      "실제 라벨: 1  →  예측 라벨: 1\n",
      "클래스 확률: 낙상(1): 0.9999, 비낙상(0): 0.0001\n",
      "======================\n",
      "🚨 낙상으로 감지되었습니다!\n",
      "\n",
      "==== 🔍 예측 결과 ====\n",
      "실제 라벨: 0  →  예측 라벨: 0\n",
      "클래스 확률: 낙상(1): 0.0003, 비낙상(0): 0.9997\n",
      "======================\n",
      "✅ 정상적인 행동입니다.\n",
      "\n",
      "==== 🔍 예측 결과 ====\n",
      "실제 라벨: 0  →  예측 라벨: 0\n",
      "클래스 확률: 낙상(1): 0.0005, 비낙상(0): 0.9995\n",
      "======================\n",
      "✅ 정상적인 행동입니다.\n",
      "\n",
      "==== 🔍 예측 결과 ====\n",
      "실제 라벨: 0  →  예측 라벨: 0\n",
      "클래스 확률: 낙상(1): 0.0005, 비낙상(0): 0.9995\n",
      "======================\n",
      "✅ 정상적인 행동입니다.\n",
      "\n",
      "==== 🔍 예측 결과 ====\n",
      "실제 라벨: 0  →  예측 라벨: 0\n",
      "클래스 확률: 낙상(1): 0.0006, 비낙상(0): 0.9994\n",
      "======================\n",
      "✅ 정상적인 행동입니다.\n",
      "\n",
      "==== 🔍 예측 결과 ====\n",
      "실제 라벨: 0  →  예측 라벨: 0\n",
      "클래스 확률: 낙상(1): 0.0003, 비낙상(0): 0.9997\n",
      "======================\n",
      "✅ 정상적인 행동입니다.\n",
      "\n",
      "==== 🔍 예측 결과 ====\n",
      "실제 라벨: 0  →  예측 라벨: 0\n",
      "클래스 확률: 낙상(1): 0.0032, 비낙상(0): 0.9968\n",
      "======================\n",
      "✅ 정상적인 행동입니다.\n",
      "\n",
      "==== 🔍 예측 결과 ====\n",
      "실제 라벨: 0  →  예측 라벨: 0\n",
      "클래스 확률: 낙상(1): 0.0003, 비낙상(0): 0.9997\n",
      "======================\n",
      "✅ 정상적인 행동입니다.\n",
      "\n",
      "==== 🔍 예측 결과 ====\n",
      "실제 라벨: 0  →  예측 라벨: 0\n",
      "클래스 확률: 낙상(1): 0.0002, 비낙상(0): 0.9998\n",
      "======================\n",
      "✅ 정상적인 행동입니다.\n",
      "\n",
      "==== 🔍 예측 결과 ====\n",
      "실제 라벨: 0  →  예측 라벨: 0\n",
      "클래스 확률: 낙상(1): 0.0002, 비낙상(0): 0.9998\n",
      "======================\n",
      "✅ 정상적인 행동입니다.\n",
      "\n",
      "==== 🔍 예측 결과 ====\n",
      "실제 라벨: 0  →  예측 라벨: 0\n",
      "클래스 확률: 낙상(1): 0.0057, 비낙상(0): 0.9943\n",
      "======================\n",
      "✅ 정상적인 행동입니다.\n",
      "\n",
      "==== 🔍 예측 결과 ====\n",
      "실제 라벨: 0  →  예측 라벨: 0\n",
      "클래스 확률: 낙상(1): 0.0007, 비낙상(0): 0.9993\n",
      "======================\n",
      "✅ 정상적인 행동입니다.\n",
      "\n",
      "==== 🔍 예측 결과 ====\n",
      "실제 라벨: 0  →  예측 라벨: 0\n",
      "클래스 확률: 낙상(1): 0.0003, 비낙상(0): 0.9997\n",
      "======================\n",
      "✅ 정상적인 행동입니다.\n",
      "\n",
      "==== 🔍 예측 결과 ====\n",
      "실제 라벨: 0  →  예측 라벨: 0\n",
      "클래스 확률: 낙상(1): 0.0005, 비낙상(0): 0.9995\n",
      "======================\n",
      "✅ 정상적인 행동입니다.\n",
      "\n",
      "==== 🔍 예측 결과 ====\n",
      "실제 라벨: 0  →  예측 라벨: 0\n",
      "클래스 확률: 낙상(1): 0.0002, 비낙상(0): 0.9998\n",
      "======================\n",
      "✅ 정상적인 행동입니다.\n",
      "\n",
      "==== 🔍 예측 결과 ====\n",
      "실제 라벨: 1  →  예측 라벨: 1\n",
      "클래스 확률: 낙상(1): 0.9999, 비낙상(0): 0.0001\n",
      "======================\n",
      "🚨 낙상으로 감지되었습니다!\n",
      "\n",
      "==== 🔍 예측 결과 ====\n",
      "실제 라벨: 0  →  예측 라벨: 0\n",
      "클래스 확률: 낙상(1): 0.0002, 비낙상(0): 0.9998\n",
      "======================\n",
      "✅ 정상적인 행동입니다.\n",
      "\n",
      "==== 🔍 예측 결과 ====\n",
      "실제 라벨: 0  →  예측 라벨: 0\n",
      "클래스 확률: 낙상(1): 0.0010, 비낙상(0): 0.9990\n",
      "======================\n",
      "✅ 정상적인 행동입니다.\n",
      "\n",
      "==== 🔍 예측 결과 ====\n",
      "실제 라벨: 1  →  예측 라벨: 1\n",
      "클래스 확률: 낙상(1): 0.9999, 비낙상(0): 0.0001\n",
      "======================\n",
      "🚨 낙상으로 감지되었습니다!\n",
      "\n",
      "==== 🔍 예측 결과 ====\n",
      "실제 라벨: 0  →  예측 라벨: 0\n",
      "클래스 확률: 낙상(1): 0.0003, 비낙상(0): 0.9997\n",
      "======================\n",
      "✅ 정상적인 행동입니다.\n",
      "\n",
      "==== 🔍 예측 결과 ====\n",
      "실제 라벨: 1  →  예측 라벨: 1\n",
      "클래스 확률: 낙상(1): 0.9998, 비낙상(0): 0.0002\n",
      "======================\n",
      "🚨 낙상으로 감지되었습니다!\n",
      "\n",
      "==== 🔍 예측 결과 ====\n",
      "실제 라벨: 0  →  예측 라벨: 0\n",
      "클래스 확률: 낙상(1): 0.0002, 비낙상(0): 0.9998\n",
      "======================\n",
      "✅ 정상적인 행동입니다.\n",
      "\n",
      "==== 🔍 예측 결과 ====\n",
      "실제 라벨: 0  →  예측 라벨: 0\n",
      "클래스 확률: 낙상(1): 0.0004, 비낙상(0): 0.9996\n",
      "======================\n",
      "✅ 정상적인 행동입니다.\n",
      "\n",
      "==== 🔍 예측 결과 ====\n",
      "실제 라벨: 0  →  예측 라벨: 0\n",
      "클래스 확률: 낙상(1): 0.0006, 비낙상(0): 0.9994\n",
      "======================\n",
      "✅ 정상적인 행동입니다.\n",
      "\n",
      "==== 🔍 예측 결과 ====\n",
      "실제 라벨: 0  →  예측 라벨: 0\n",
      "클래스 확률: 낙상(1): 0.0002, 비낙상(0): 0.9998\n",
      "======================\n",
      "✅ 정상적인 행동입니다.\n",
      "\n",
      "==== 🔍 예측 결과 ====\n",
      "실제 라벨: 0  →  예측 라벨: 0\n",
      "클래스 확률: 낙상(1): 0.0009, 비낙상(0): 0.9991\n",
      "======================\n",
      "✅ 정상적인 행동입니다.\n",
      "\n",
      "==== 🔍 예측 결과 ====\n",
      "실제 라벨: 0  →  예측 라벨: 0\n",
      "클래스 확률: 낙상(1): 0.0002, 비낙상(0): 0.9998\n",
      "======================\n",
      "✅ 정상적인 행동입니다.\n",
      "\n",
      "==== 🔍 예측 결과 ====\n",
      "실제 라벨: 0  →  예측 라벨: 0\n",
      "클래스 확률: 낙상(1): 0.0002, 비낙상(0): 0.9998\n",
      "======================\n",
      "✅ 정상적인 행동입니다.\n",
      "\n",
      "==== 🔍 예측 결과 ====\n",
      "실제 라벨: 0  →  예측 라벨: 0\n",
      "클래스 확률: 낙상(1): 0.0003, 비낙상(0): 0.9997\n",
      "======================\n",
      "✅ 정상적인 행동입니다.\n",
      "\n",
      "==== 🔍 예측 결과 ====\n",
      "실제 라벨: 0  →  예측 라벨: 0\n",
      "클래스 확률: 낙상(1): 0.0004, 비낙상(0): 0.9996\n",
      "======================\n",
      "✅ 정상적인 행동입니다.\n",
      "\n",
      "==== 🔍 예측 결과 ====\n",
      "실제 라벨: 0  →  예측 라벨: 0\n",
      "클래스 확률: 낙상(1): 0.0002, 비낙상(0): 0.9998\n",
      "======================\n",
      "✅ 정상적인 행동입니다.\n",
      "\n",
      "==== 🔍 예측 결과 ====\n",
      "실제 라벨: 1  →  예측 라벨: 1\n",
      "클래스 확률: 낙상(1): 0.9999, 비낙상(0): 0.0001\n",
      "======================\n",
      "🚨 낙상으로 감지되었습니다!\n",
      "\n",
      "==== 🔍 예측 결과 ====\n",
      "실제 라벨: 1  →  예측 라벨: 1\n",
      "클래스 확률: 낙상(1): 0.9998, 비낙상(0): 0.0002\n",
      "======================\n",
      "🚨 낙상으로 감지되었습니다!\n",
      "\n",
      "==== 🔍 예측 결과 ====\n",
      "실제 라벨: 0  →  예측 라벨: 0\n",
      "클래스 확률: 낙상(1): 0.0002, 비낙상(0): 0.9998\n",
      "======================\n",
      "✅ 정상적인 행동입니다.\n",
      "\n",
      "==== 🔍 예측 결과 ====\n",
      "실제 라벨: 0  →  예측 라벨: 0\n",
      "클래스 확률: 낙상(1): 0.0002, 비낙상(0): 0.9998\n",
      "======================\n",
      "✅ 정상적인 행동입니다.\n",
      "\n",
      "==== 🔍 예측 결과 ====\n",
      "실제 라벨: 0  →  예측 라벨: 0\n",
      "클래스 확률: 낙상(1): 0.0002, 비낙상(0): 0.9998\n",
      "======================\n",
      "✅ 정상적인 행동입니다.\n",
      "\n",
      "==== 🔍 예측 결과 ====\n",
      "실제 라벨: 0  →  예측 라벨: 0\n",
      "클래스 확률: 낙상(1): 0.0007, 비낙상(0): 0.9993\n",
      "======================\n",
      "✅ 정상적인 행동입니다.\n",
      "\n",
      "==== 🔍 예측 결과 ====\n",
      "실제 라벨: 0  →  예측 라벨: 0\n",
      "클래스 확률: 낙상(1): 0.0054, 비낙상(0): 0.9946\n",
      "======================\n",
      "✅ 정상적인 행동입니다.\n",
      "\n",
      "==== 🔍 예측 결과 ====\n",
      "실제 라벨: 0  →  예측 라벨: 0\n",
      "클래스 확률: 낙상(1): 0.0002, 비낙상(0): 0.9998\n",
      "======================\n",
      "✅ 정상적인 행동입니다.\n",
      "\n",
      "==== 🔍 예측 결과 ====\n",
      "실제 라벨: 0  →  예측 라벨: 0\n",
      "클래스 확률: 낙상(1): 0.0004, 비낙상(0): 0.9996\n",
      "======================\n",
      "✅ 정상적인 행동입니다.\n",
      "\n",
      "==== 🔍 예측 결과 ====\n",
      "실제 라벨: 0  →  예측 라벨: 0\n",
      "클래스 확률: 낙상(1): 0.0008, 비낙상(0): 0.9992\n",
      "======================\n",
      "✅ 정상적인 행동입니다.\n",
      "\n",
      "==== 🔍 예측 결과 ====\n",
      "실제 라벨: 1  →  예측 라벨: 1\n",
      "클래스 확률: 낙상(1): 0.9998, 비낙상(0): 0.0002\n",
      "======================\n",
      "🚨 낙상으로 감지되었습니다!\n",
      "\n",
      "==== 🔍 예측 결과 ====\n",
      "실제 라벨: 1  →  예측 라벨: 1\n",
      "클래스 확률: 낙상(1): 0.9999, 비낙상(0): 0.0001\n",
      "======================\n",
      "🚨 낙상으로 감지되었습니다!\n",
      "\n",
      "==== 🔍 예측 결과 ====\n",
      "실제 라벨: 0  →  예측 라벨: 0\n",
      "클래스 확률: 낙상(1): 0.0002, 비낙상(0): 0.9998\n",
      "======================\n",
      "✅ 정상적인 행동입니다.\n",
      "\n",
      "==== 🔍 예측 결과 ====\n",
      "실제 라벨: 0  →  예측 라벨: 0\n",
      "클래스 확률: 낙상(1): 0.0003, 비낙상(0): 0.9997\n",
      "======================\n",
      "✅ 정상적인 행동입니다.\n",
      "\n",
      "==== 🔍 예측 결과 ====\n",
      "실제 라벨: 0  →  예측 라벨: 0\n",
      "클래스 확률: 낙상(1): 0.0006, 비낙상(0): 0.9994\n",
      "======================\n",
      "✅ 정상적인 행동입니다.\n",
      "\n",
      "==== 🔍 예측 결과 ====\n",
      "실제 라벨: 0  →  예측 라벨: 0\n",
      "클래스 확률: 낙상(1): 0.4550, 비낙상(0): 0.5450\n",
      "======================\n",
      "✅ 정상적인 행동입니다.\n",
      "\n",
      "==== 🔍 예측 결과 ====\n",
      "실제 라벨: 0  →  예측 라벨: 0\n",
      "클래스 확률: 낙상(1): 0.0002, 비낙상(0): 0.9998\n",
      "======================\n",
      "✅ 정상적인 행동입니다.\n",
      "\n",
      "==== 🔍 예측 결과 ====\n",
      "실제 라벨: 0  →  예측 라벨: 0\n",
      "클래스 확률: 낙상(1): 0.0006, 비낙상(0): 0.9994\n",
      "======================\n",
      "✅ 정상적인 행동입니다.\n",
      "\n",
      "==== 🔍 예측 결과 ====\n",
      "실제 라벨: 0  →  예측 라벨: 0\n",
      "클래스 확률: 낙상(1): 0.0002, 비낙상(0): 0.9998\n",
      "======================\n",
      "✅ 정상적인 행동입니다.\n",
      "\n",
      "==== 🔍 예측 결과 ====\n",
      "실제 라벨: 0  →  예측 라벨: 0\n",
      "클래스 확률: 낙상(1): 0.0006, 비낙상(0): 0.9994\n",
      "======================\n",
      "✅ 정상적인 행동입니다.\n",
      "\n",
      "==== 🔍 예측 결과 ====\n",
      "실제 라벨: 0  →  예측 라벨: 0\n",
      "클래스 확률: 낙상(1): 0.0003, 비낙상(0): 0.9997\n",
      "======================\n",
      "✅ 정상적인 행동입니다.\n",
      "\n",
      "==== 🔍 예측 결과 ====\n",
      "실제 라벨: 0  →  예측 라벨: 0\n",
      "클래스 확률: 낙상(1): 0.0003, 비낙상(0): 0.9997\n",
      "======================\n",
      "✅ 정상적인 행동입니다.\n",
      "\n",
      "==== 🔍 예측 결과 ====\n",
      "실제 라벨: 1  →  예측 라벨: 1\n",
      "클래스 확률: 낙상(1): 0.9982, 비낙상(0): 0.0018\n",
      "======================\n",
      "🚨 낙상으로 감지되었습니다!\n",
      "\n",
      "==== 🔍 예측 결과 ====\n",
      "실제 라벨: 0  →  예측 라벨: 0\n",
      "클래스 확률: 낙상(1): 0.0006, 비낙상(0): 0.9994\n",
      "======================\n",
      "✅ 정상적인 행동입니다.\n",
      "\n",
      "==== 🔍 예측 결과 ====\n",
      "실제 라벨: 0  →  예측 라벨: 0\n",
      "클래스 확률: 낙상(1): 0.0004, 비낙상(0): 0.9996\n",
      "======================\n",
      "✅ 정상적인 행동입니다.\n",
      "\n",
      "==== 🔍 예측 결과 ====\n",
      "실제 라벨: 1  →  예측 라벨: 1\n",
      "클래스 확률: 낙상(1): 0.9998, 비낙상(0): 0.0002\n",
      "======================\n",
      "🚨 낙상으로 감지되었습니다!\n",
      "\n",
      "==== 🔍 예측 결과 ====\n",
      "실제 라벨: 1  →  예측 라벨: 1\n",
      "클래스 확률: 낙상(1): 0.9998, 비낙상(0): 0.0002\n",
      "======================\n",
      "🚨 낙상으로 감지되었습니다!\n",
      "\n",
      "==== 🔍 예측 결과 ====\n",
      "실제 라벨: 1  →  예측 라벨: 1\n",
      "클래스 확률: 낙상(1): 0.9998, 비낙상(0): 0.0002\n",
      "======================\n",
      "🚨 낙상으로 감지되었습니다!\n",
      "\n",
      "==== 🔍 예측 결과 ====\n",
      "실제 라벨: 0  →  예측 라벨: 0\n",
      "클래스 확률: 낙상(1): 0.0004, 비낙상(0): 0.9996\n",
      "======================\n",
      "✅ 정상적인 행동입니다.\n",
      "\n",
      "==== 🔍 예측 결과 ====\n",
      "실제 라벨: 0  →  예측 라벨: 0\n",
      "클래스 확률: 낙상(1): 0.0002, 비낙상(0): 0.9998\n",
      "======================\n",
      "✅ 정상적인 행동입니다.\n",
      "\n",
      "==== 🔍 예측 결과 ====\n",
      "실제 라벨: 0  →  예측 라벨: 0\n",
      "클래스 확률: 낙상(1): 0.0002, 비낙상(0): 0.9998\n",
      "======================\n",
      "✅ 정상적인 행동입니다.\n",
      "\n",
      "==== 🔍 예측 결과 ====\n",
      "실제 라벨: 0  →  예측 라벨: 0\n",
      "클래스 확률: 낙상(1): 0.0004, 비낙상(0): 0.9996\n",
      "======================\n",
      "✅ 정상적인 행동입니다.\n",
      "\n",
      "==== 🔍 예측 결과 ====\n",
      "실제 라벨: 1  →  예측 라벨: 1\n",
      "클래스 확률: 낙상(1): 0.9991, 비낙상(0): 0.0009\n",
      "======================\n",
      "🚨 낙상으로 감지되었습니다!\n",
      "\n",
      "==== 🔍 예측 결과 ====\n",
      "실제 라벨: 0  →  예측 라벨: 0\n",
      "클래스 확률: 낙상(1): 0.0004, 비낙상(0): 0.9996\n",
      "======================\n",
      "✅ 정상적인 행동입니다.\n",
      "\n",
      "==== 🔍 예측 결과 ====\n",
      "실제 라벨: 0  →  예측 라벨: 0\n",
      "클래스 확률: 낙상(1): 0.0002, 비낙상(0): 0.9998\n",
      "======================\n",
      "✅ 정상적인 행동입니다.\n",
      "\n",
      "==== 🔍 예측 결과 ====\n",
      "실제 라벨: 0  →  예측 라벨: 0\n",
      "클래스 확률: 낙상(1): 0.0003, 비낙상(0): 0.9997\n",
      "======================\n",
      "✅ 정상적인 행동입니다.\n",
      "\n",
      "==== 🔍 예측 결과 ====\n",
      "실제 라벨: 1  →  예측 라벨: 1\n",
      "클래스 확률: 낙상(1): 0.9998, 비낙상(0): 0.0002\n",
      "======================\n",
      "🚨 낙상으로 감지되었습니다!\n",
      "\n",
      "==== 🔍 예측 결과 ====\n",
      "실제 라벨: 0  →  예측 라벨: 0\n",
      "클래스 확률: 낙상(1): 0.0011, 비낙상(0): 0.9989\n",
      "======================\n",
      "✅ 정상적인 행동입니다.\n",
      "\n",
      "==== 🔍 예측 결과 ====\n",
      "실제 라벨: 0  →  예측 라벨: 0\n",
      "클래스 확률: 낙상(1): 0.0004, 비낙상(0): 0.9996\n",
      "======================\n",
      "✅ 정상적인 행동입니다.\n",
      "\n",
      "==== 🔍 예측 결과 ====\n",
      "실제 라벨: 1  →  예측 라벨: 1\n",
      "클래스 확률: 낙상(1): 0.9981, 비낙상(0): 0.0019\n",
      "======================\n",
      "🚨 낙상으로 감지되었습니다!\n",
      "\n",
      "==== 🔍 예측 결과 ====\n",
      "실제 라벨: 0  →  예측 라벨: 0\n",
      "클래스 확률: 낙상(1): 0.0003, 비낙상(0): 0.9997\n",
      "======================\n",
      "✅ 정상적인 행동입니다.\n",
      "\n",
      "==== 🔍 예측 결과 ====\n",
      "실제 라벨: 0  →  예측 라벨: 0\n",
      "클래스 확률: 낙상(1): 0.0002, 비낙상(0): 0.9998\n",
      "======================\n",
      "✅ 정상적인 행동입니다.\n",
      "\n",
      "==== 🔍 예측 결과 ====\n",
      "실제 라벨: 0  →  예측 라벨: 0\n",
      "클래스 확률: 낙상(1): 0.0004, 비낙상(0): 0.9996\n",
      "======================\n",
      "✅ 정상적인 행동입니다.\n",
      "\n",
      "==== 🔍 예측 결과 ====\n",
      "실제 라벨: 0  →  예측 라벨: 0\n",
      "클래스 확률: 낙상(1): 0.4795, 비낙상(0): 0.5205\n",
      "======================\n",
      "✅ 정상적인 행동입니다.\n",
      "\n",
      "==== 🔍 예측 결과 ====\n",
      "실제 라벨: 1  →  예측 라벨: 1\n",
      "클래스 확률: 낙상(1): 0.9999, 비낙상(0): 0.0001\n",
      "======================\n",
      "🚨 낙상으로 감지되었습니다!\n",
      "\n",
      "==== 🔍 예측 결과 ====\n",
      "실제 라벨: 0  →  예측 라벨: 0\n",
      "클래스 확률: 낙상(1): 0.0003, 비낙상(0): 0.9997\n",
      "======================\n",
      "✅ 정상적인 행동입니다.\n",
      "\n",
      "==== 🔍 예측 결과 ====\n",
      "실제 라벨: 0  →  예측 라벨: 0\n",
      "클래스 확률: 낙상(1): 0.0007, 비낙상(0): 0.9993\n",
      "======================\n",
      "✅ 정상적인 행동입니다.\n",
      "\n",
      "==== 🔍 예측 결과 ====\n",
      "실제 라벨: 0  →  예측 라벨: 0\n",
      "클래스 확률: 낙상(1): 0.0004, 비낙상(0): 0.9996\n",
      "======================\n",
      "✅ 정상적인 행동입니다.\n",
      "\n",
      "==== 🔍 예측 결과 ====\n",
      "실제 라벨: 0  →  예측 라벨: 0\n",
      "클래스 확률: 낙상(1): 0.0006, 비낙상(0): 0.9994\n",
      "======================\n",
      "✅ 정상적인 행동입니다.\n",
      "\n",
      "==== 🔍 예측 결과 ====\n",
      "실제 라벨: 0  →  예측 라벨: 0\n",
      "클래스 확률: 낙상(1): 0.0002, 비낙상(0): 0.9998\n",
      "======================\n",
      "✅ 정상적인 행동입니다.\n",
      "\n",
      "==== 🔍 예측 결과 ====\n",
      "실제 라벨: 0  →  예측 라벨: 0\n",
      "클래스 확률: 낙상(1): 0.0002, 비낙상(0): 0.9998\n",
      "======================\n",
      "✅ 정상적인 행동입니다.\n",
      "\n",
      "==== 🔍 예측 결과 ====\n",
      "실제 라벨: 0  →  예측 라벨: 0\n",
      "클래스 확률: 낙상(1): 0.0003, 비낙상(0): 0.9997\n",
      "======================\n",
      "✅ 정상적인 행동입니다.\n",
      "\n",
      "==== 🔍 예측 결과 ====\n",
      "실제 라벨: 0  →  예측 라벨: 0\n",
      "클래스 확률: 낙상(1): 0.0002, 비낙상(0): 0.9998\n",
      "======================\n",
      "✅ 정상적인 행동입니다.\n",
      "\n",
      "==== 🔍 예측 결과 ====\n",
      "실제 라벨: 0  →  예측 라벨: 0\n",
      "클래스 확률: 낙상(1): 0.0004, 비낙상(0): 0.9996\n",
      "======================\n",
      "✅ 정상적인 행동입니다.\n",
      "\n",
      "==== 🔍 예측 결과 ====\n",
      "실제 라벨: 0  →  예측 라벨: 0\n",
      "클래스 확률: 낙상(1): 0.0003, 비낙상(0): 0.9997\n",
      "======================\n",
      "✅ 정상적인 행동입니다.\n",
      "\n",
      "==== 🔍 예측 결과 ====\n",
      "실제 라벨: 1  →  예측 라벨: 1\n",
      "클래스 확률: 낙상(1): 0.9999, 비낙상(0): 0.0001\n",
      "======================\n",
      "🚨 낙상으로 감지되었습니다!\n",
      "\n",
      "==== 🔍 예측 결과 ====\n",
      "실제 라벨: 1  →  예측 라벨: 1\n",
      "클래스 확률: 낙상(1): 0.9996, 비낙상(0): 0.0004\n",
      "======================\n",
      "🚨 낙상으로 감지되었습니다!\n",
      "\n",
      "==== 🔍 예측 결과 ====\n",
      "실제 라벨: 0  →  예측 라벨: 0\n",
      "클래스 확률: 낙상(1): 0.0009, 비낙상(0): 0.9991\n",
      "======================\n",
      "✅ 정상적인 행동입니다.\n",
      "\n",
      "==== 🔍 예측 결과 ====\n",
      "실제 라벨: 1  →  예측 라벨: 1\n",
      "클래스 확률: 낙상(1): 0.9971, 비낙상(0): 0.0029\n",
      "======================\n",
      "🚨 낙상으로 감지되었습니다!\n",
      "\n",
      "==== 🔍 예측 결과 ====\n",
      "실제 라벨: 0  →  예측 라벨: 0\n",
      "클래스 확률: 낙상(1): 0.0003, 비낙상(0): 0.9997\n",
      "======================\n",
      "✅ 정상적인 행동입니다.\n",
      "\n",
      "==== 🔍 예측 결과 ====\n",
      "실제 라벨: 0  →  예측 라벨: 0\n",
      "클래스 확률: 낙상(1): 0.0003, 비낙상(0): 0.9997\n",
      "======================\n",
      "✅ 정상적인 행동입니다.\n",
      "\n",
      "==== 🔍 예측 결과 ====\n",
      "실제 라벨: 0  →  예측 라벨: 0\n",
      "클래스 확률: 낙상(1): 0.0003, 비낙상(0): 0.9997\n",
      "======================\n",
      "✅ 정상적인 행동입니다.\n",
      "\n",
      "==== 🔍 예측 결과 ====\n",
      "실제 라벨: 0  →  예측 라벨: 0\n",
      "클래스 확률: 낙상(1): 0.0004, 비낙상(0): 0.9996\n",
      "======================\n",
      "✅ 정상적인 행동입니다.\n",
      "\n",
      "==== 🔍 예측 결과 ====\n",
      "실제 라벨: 0  →  예측 라벨: 0\n",
      "클래스 확률: 낙상(1): 0.4997, 비낙상(0): 0.5003\n",
      "======================\n",
      "✅ 정상적인 행동입니다.\n"
     ]
    }
   ],
   "source": [
    "DATA_PATH = BASE_DIR / \"data\" / \"processed\" / \"npz\" / \"fall_dataset.npz\"\n",
    "# === npz 데이터 불러오기 ===\n",
    "print(\"🔹 테스트 데이터 로드 중...\")\n",
    "data = np.load(DATA_PATH, allow_pickle=True)\n",
    "X, Y = data[\"X\"], data[\"Y\"]\n",
    "\n",
    "for _ in range(100):\n",
    "    # === 한 샘플만 테스트 (낙상 or 비낙상 랜덤) ===\n",
    "    idx = np.random.randint(0, len(X))\n",
    "    sample = X[idx]\n",
    "    label = Y[idx]\n",
    "    \n",
    "    # === 스케일 적용 ===\n",
    "    # scaler는 (N*T, D)에 대해 fit했으므로, frame별로 변환\n",
    "    sample_scaled = np.array([scaler.transform(frame.reshape(1, -1))[0] for frame in sample])\n",
    "    \n",
    "    # === 텐서 변환 ===\n",
    "    x_tensor = torch.tensor(sample_scaled, dtype=torch.float32).unsqueeze(0).to(device)\n",
    "    \n",
    "    # === 예측 ===\n",
    "    with torch.no_grad():\n",
    "        logits = model(x_tensor)\n",
    "        probs = torch.softmax(logits, dim=1).cpu().numpy()[0]\n",
    "        pred = int(np.argmax(probs))\n",
    "    \n",
    "    print(\"\\n==== 🔍 예측 결과 ====\")\n",
    "    print(f\"실제 라벨: {label}  →  예측 라벨: {pred}\")\n",
    "    print(f\"클래스 확률: 낙상(1): {probs[1]:.4f}, 비낙상(0): {probs[0]:.4f}\")\n",
    "    print(\"======================\")\n",
    "    \n",
    "    if pred == 1:\n",
    "        print(\"🚨 낙상으로 감지되었습니다!\")\n",
    "    else:\n",
    "        print(\"✅ 정상적인 행동입니다.\")"
   ]
  },
  {
   "cell_type": "code",
   "execution_count": 15,
   "id": "164b3f6a-15e4-4c95-8473-cb80d0abda53",
   "metadata": {},
   "outputs": [],
   "source": [
    "import cv2\n",
    "import mediapipe as mp\n",
    "VIDEO_PATH = BASE_DIR / \"data\" / \"raw\" / \"LE2i\" / \"Home_01\" / \"Videos\" / \"video (1).avi\""
   ]
  },
  {
   "cell_type": "code",
   "execution_count": 29,
   "id": "a02b6093-1d7b-47e0-b33f-7f5551822265",
   "metadata": {
    "scrolled": true
   },
   "outputs": [
    {
     "name": "stderr",
     "output_type": "stream",
     "text": [
      "C:\\Users\\un747\\anaconda3\\envs\\fall\\lib\\site-packages\\google\\protobuf\\symbol_database.py:55: UserWarning: SymbolDatabase.GetPrototype() is deprecated. Please use message_factory.GetMessageClass() instead. SymbolDatabase.GetPrototype() will be removed soon.\n",
      "  warnings.warn('SymbolDatabase.GetPrototype() is deprecated. Please '\n"
     ]
    },
    {
     "name": "stdout",
     "output_type": "stream",
     "text": [
      "정상\n",
      "정상\n"
     ]
    },
    {
     "name": "stderr",
     "output_type": "stream",
     "text": [
      "C:\\Users\\un747\\anaconda3\\envs\\fall\\lib\\site-packages\\google\\protobuf\\symbol_database.py:55: UserWarning: SymbolDatabase.GetPrototype() is deprecated. Please use message_factory.GetMessageClass() instead. SymbolDatabase.GetPrototype() will be removed soon.\n",
      "  warnings.warn('SymbolDatabase.GetPrototype() is deprecated. Please '\n",
      "C:\\Users\\un747\\anaconda3\\envs\\fall\\lib\\site-packages\\google\\protobuf\\symbol_database.py:55: UserWarning: SymbolDatabase.GetPrototype() is deprecated. Please use message_factory.GetMessageClass() instead. SymbolDatabase.GetPrototype() will be removed soon.\n",
      "  warnings.warn('SymbolDatabase.GetPrototype() is deprecated. Please '\n"
     ]
    },
    {
     "name": "stdout",
     "output_type": "stream",
     "text": [
      "정상\n",
      "정상\n"
     ]
    },
    {
     "name": "stderr",
     "output_type": "stream",
     "text": [
      "C:\\Users\\un747\\anaconda3\\envs\\fall\\lib\\site-packages\\google\\protobuf\\symbol_database.py:55: UserWarning: SymbolDatabase.GetPrototype() is deprecated. Please use message_factory.GetMessageClass() instead. SymbolDatabase.GetPrototype() will be removed soon.\n",
      "  warnings.warn('SymbolDatabase.GetPrototype() is deprecated. Please '\n",
      "C:\\Users\\un747\\anaconda3\\envs\\fall\\lib\\site-packages\\google\\protobuf\\symbol_database.py:55: UserWarning: SymbolDatabase.GetPrototype() is deprecated. Please use message_factory.GetMessageClass() instead. SymbolDatabase.GetPrototype() will be removed soon.\n",
      "  warnings.warn('SymbolDatabase.GetPrototype() is deprecated. Please '\n"
     ]
    },
    {
     "name": "stdout",
     "output_type": "stream",
     "text": [
      "정상\n",
      "정상\n"
     ]
    },
    {
     "name": "stderr",
     "output_type": "stream",
     "text": [
      "C:\\Users\\un747\\anaconda3\\envs\\fall\\lib\\site-packages\\google\\protobuf\\symbol_database.py:55: UserWarning: SymbolDatabase.GetPrototype() is deprecated. Please use message_factory.GetMessageClass() instead. SymbolDatabase.GetPrototype() will be removed soon.\n",
      "  warnings.warn('SymbolDatabase.GetPrototype() is deprecated. Please '\n",
      "C:\\Users\\un747\\anaconda3\\envs\\fall\\lib\\site-packages\\google\\protobuf\\symbol_database.py:55: UserWarning: SymbolDatabase.GetPrototype() is deprecated. Please use message_factory.GetMessageClass() instead. SymbolDatabase.GetPrototype() will be removed soon.\n",
      "  warnings.warn('SymbolDatabase.GetPrototype() is deprecated. Please '\n"
     ]
    },
    {
     "name": "stdout",
     "output_type": "stream",
     "text": [
      "정상\n",
      "정상\n"
     ]
    },
    {
     "name": "stderr",
     "output_type": "stream",
     "text": [
      "C:\\Users\\un747\\anaconda3\\envs\\fall\\lib\\site-packages\\google\\protobuf\\symbol_database.py:55: UserWarning: SymbolDatabase.GetPrototype() is deprecated. Please use message_factory.GetMessageClass() instead. SymbolDatabase.GetPrototype() will be removed soon.\n",
      "  warnings.warn('SymbolDatabase.GetPrototype() is deprecated. Please '\n",
      "C:\\Users\\un747\\anaconda3\\envs\\fall\\lib\\site-packages\\google\\protobuf\\symbol_database.py:55: UserWarning: SymbolDatabase.GetPrototype() is deprecated. Please use message_factory.GetMessageClass() instead. SymbolDatabase.GetPrototype() will be removed soon.\n",
      "  warnings.warn('SymbolDatabase.GetPrototype() is deprecated. Please '\n"
     ]
    },
    {
     "name": "stdout",
     "output_type": "stream",
     "text": [
      "정상\n",
      "정상\n"
     ]
    },
    {
     "name": "stderr",
     "output_type": "stream",
     "text": [
      "C:\\Users\\un747\\anaconda3\\envs\\fall\\lib\\site-packages\\google\\protobuf\\symbol_database.py:55: UserWarning: SymbolDatabase.GetPrototype() is deprecated. Please use message_factory.GetMessageClass() instead. SymbolDatabase.GetPrototype() will be removed soon.\n",
      "  warnings.warn('SymbolDatabase.GetPrototype() is deprecated. Please '\n",
      "C:\\Users\\un747\\anaconda3\\envs\\fall\\lib\\site-packages\\google\\protobuf\\symbol_database.py:55: UserWarning: SymbolDatabase.GetPrototype() is deprecated. Please use message_factory.GetMessageClass() instead. SymbolDatabase.GetPrototype() will be removed soon.\n",
      "  warnings.warn('SymbolDatabase.GetPrototype() is deprecated. Please '\n"
     ]
    },
    {
     "name": "stdout",
     "output_type": "stream",
     "text": [
      "정상\n",
      "정상\n"
     ]
    },
    {
     "name": "stderr",
     "output_type": "stream",
     "text": [
      "C:\\Users\\un747\\anaconda3\\envs\\fall\\lib\\site-packages\\google\\protobuf\\symbol_database.py:55: UserWarning: SymbolDatabase.GetPrototype() is deprecated. Please use message_factory.GetMessageClass() instead. SymbolDatabase.GetPrototype() will be removed soon.\n",
      "  warnings.warn('SymbolDatabase.GetPrototype() is deprecated. Please '\n",
      "C:\\Users\\un747\\anaconda3\\envs\\fall\\lib\\site-packages\\google\\protobuf\\symbol_database.py:55: UserWarning: SymbolDatabase.GetPrototype() is deprecated. Please use message_factory.GetMessageClass() instead. SymbolDatabase.GetPrototype() will be removed soon.\n",
      "  warnings.warn('SymbolDatabase.GetPrototype() is deprecated. Please '\n"
     ]
    },
    {
     "name": "stdout",
     "output_type": "stream",
     "text": [
      "정상\n",
      "정상\n"
     ]
    },
    {
     "name": "stderr",
     "output_type": "stream",
     "text": [
      "C:\\Users\\un747\\anaconda3\\envs\\fall\\lib\\site-packages\\google\\protobuf\\symbol_database.py:55: UserWarning: SymbolDatabase.GetPrototype() is deprecated. Please use message_factory.GetMessageClass() instead. SymbolDatabase.GetPrototype() will be removed soon.\n",
      "  warnings.warn('SymbolDatabase.GetPrototype() is deprecated. Please '\n",
      "C:\\Users\\un747\\anaconda3\\envs\\fall\\lib\\site-packages\\google\\protobuf\\symbol_database.py:55: UserWarning: SymbolDatabase.GetPrototype() is deprecated. Please use message_factory.GetMessageClass() instead. SymbolDatabase.GetPrototype() will be removed soon.\n",
      "  warnings.warn('SymbolDatabase.GetPrototype() is deprecated. Please '\n"
     ]
    },
    {
     "name": "stdout",
     "output_type": "stream",
     "text": [
      "정상\n",
      "정상\n"
     ]
    },
    {
     "name": "stderr",
     "output_type": "stream",
     "text": [
      "C:\\Users\\un747\\anaconda3\\envs\\fall\\lib\\site-packages\\google\\protobuf\\symbol_database.py:55: UserWarning: SymbolDatabase.GetPrototype() is deprecated. Please use message_factory.GetMessageClass() instead. SymbolDatabase.GetPrototype() will be removed soon.\n",
      "  warnings.warn('SymbolDatabase.GetPrototype() is deprecated. Please '\n",
      "C:\\Users\\un747\\anaconda3\\envs\\fall\\lib\\site-packages\\google\\protobuf\\symbol_database.py:55: UserWarning: SymbolDatabase.GetPrototype() is deprecated. Please use message_factory.GetMessageClass() instead. SymbolDatabase.GetPrototype() will be removed soon.\n",
      "  warnings.warn('SymbolDatabase.GetPrototype() is deprecated. Please '\n",
      "C:\\Users\\un747\\anaconda3\\envs\\fall\\lib\\site-packages\\google\\protobuf\\symbol_database.py:55: UserWarning: SymbolDatabase.GetPrototype() is deprecated. Please use message_factory.GetMessageClass() instead. SymbolDatabase.GetPrototype() will be removed soon.\n",
      "  warnings.warn('SymbolDatabase.GetPrototype() is deprecated. Please '\n"
     ]
    },
    {
     "name": "stdout",
     "output_type": "stream",
     "text": [
      "정상\n",
      "정상\n"
     ]
    },
    {
     "name": "stderr",
     "output_type": "stream",
     "text": [
      "C:\\Users\\un747\\anaconda3\\envs\\fall\\lib\\site-packages\\google\\protobuf\\symbol_database.py:55: UserWarning: SymbolDatabase.GetPrototype() is deprecated. Please use message_factory.GetMessageClass() instead. SymbolDatabase.GetPrototype() will be removed soon.\n",
      "  warnings.warn('SymbolDatabase.GetPrototype() is deprecated. Please '\n",
      "C:\\Users\\un747\\anaconda3\\envs\\fall\\lib\\site-packages\\google\\protobuf\\symbol_database.py:55: UserWarning: SymbolDatabase.GetPrototype() is deprecated. Please use message_factory.GetMessageClass() instead. SymbolDatabase.GetPrototype() will be removed soon.\n",
      "  warnings.warn('SymbolDatabase.GetPrototype() is deprecated. Please '\n",
      "C:\\Users\\un747\\anaconda3\\envs\\fall\\lib\\site-packages\\google\\protobuf\\symbol_database.py:55: UserWarning: SymbolDatabase.GetPrototype() is deprecated. Please use message_factory.GetMessageClass() instead. SymbolDatabase.GetPrototype() will be removed soon.\n",
      "  warnings.warn('SymbolDatabase.GetPrototype() is deprecated. Please '\n"
     ]
    },
    {
     "name": "stdout",
     "output_type": "stream",
     "text": [
      "정상\n",
      "정상\n",
      "정상\n"
     ]
    },
    {
     "name": "stderr",
     "output_type": "stream",
     "text": [
      "C:\\Users\\un747\\anaconda3\\envs\\fall\\lib\\site-packages\\google\\protobuf\\symbol_database.py:55: UserWarning: SymbolDatabase.GetPrototype() is deprecated. Please use message_factory.GetMessageClass() instead. SymbolDatabase.GetPrototype() will be removed soon.\n",
      "  warnings.warn('SymbolDatabase.GetPrototype() is deprecated. Please '\n",
      "C:\\Users\\un747\\anaconda3\\envs\\fall\\lib\\site-packages\\google\\protobuf\\symbol_database.py:55: UserWarning: SymbolDatabase.GetPrototype() is deprecated. Please use message_factory.GetMessageClass() instead. SymbolDatabase.GetPrototype() will be removed soon.\n",
      "  warnings.warn('SymbolDatabase.GetPrototype() is deprecated. Please '\n",
      "C:\\Users\\un747\\anaconda3\\envs\\fall\\lib\\site-packages\\google\\protobuf\\symbol_database.py:55: UserWarning: SymbolDatabase.GetPrototype() is deprecated. Please use message_factory.GetMessageClass() instead. SymbolDatabase.GetPrototype() will be removed soon.\n",
      "  warnings.warn('SymbolDatabase.GetPrototype() is deprecated. Please '\n"
     ]
    },
    {
     "name": "stdout",
     "output_type": "stream",
     "text": [
      "정상\n",
      "정상\n",
      "정상\n",
      "정상\n",
      "정상\n"
     ]
    },
    {
     "name": "stderr",
     "output_type": "stream",
     "text": [
      "C:\\Users\\un747\\anaconda3\\envs\\fall\\lib\\site-packages\\google\\protobuf\\symbol_database.py:55: UserWarning: SymbolDatabase.GetPrototype() is deprecated. Please use message_factory.GetMessageClass() instead. SymbolDatabase.GetPrototype() will be removed soon.\n",
      "  warnings.warn('SymbolDatabase.GetPrototype() is deprecated. Please '\n",
      "C:\\Users\\un747\\anaconda3\\envs\\fall\\lib\\site-packages\\google\\protobuf\\symbol_database.py:55: UserWarning: SymbolDatabase.GetPrototype() is deprecated. Please use message_factory.GetMessageClass() instead. SymbolDatabase.GetPrototype() will be removed soon.\n",
      "  warnings.warn('SymbolDatabase.GetPrototype() is deprecated. Please '\n",
      "C:\\Users\\un747\\anaconda3\\envs\\fall\\lib\\site-packages\\google\\protobuf\\symbol_database.py:55: UserWarning: SymbolDatabase.GetPrototype() is deprecated. Please use message_factory.GetMessageClass() instead. SymbolDatabase.GetPrototype() will be removed soon.\n",
      "  warnings.warn('SymbolDatabase.GetPrototype() is deprecated. Please '\n",
      "C:\\Users\\un747\\anaconda3\\envs\\fall\\lib\\site-packages\\google\\protobuf\\symbol_database.py:55: UserWarning: SymbolDatabase.GetPrototype() is deprecated. Please use message_factory.GetMessageClass() instead. SymbolDatabase.GetPrototype() will be removed soon.\n",
      "  warnings.warn('SymbolDatabase.GetPrototype() is deprecated. Please '\n"
     ]
    },
    {
     "name": "stdout",
     "output_type": "stream",
     "text": [
      "정상\n",
      "정상\n"
     ]
    },
    {
     "name": "stderr",
     "output_type": "stream",
     "text": [
      "C:\\Users\\un747\\anaconda3\\envs\\fall\\lib\\site-packages\\google\\protobuf\\symbol_database.py:55: UserWarning: SymbolDatabase.GetPrototype() is deprecated. Please use message_factory.GetMessageClass() instead. SymbolDatabase.GetPrototype() will be removed soon.\n",
      "  warnings.warn('SymbolDatabase.GetPrototype() is deprecated. Please '\n",
      "C:\\Users\\un747\\anaconda3\\envs\\fall\\lib\\site-packages\\google\\protobuf\\symbol_database.py:55: UserWarning: SymbolDatabase.GetPrototype() is deprecated. Please use message_factory.GetMessageClass() instead. SymbolDatabase.GetPrototype() will be removed soon.\n",
      "  warnings.warn('SymbolDatabase.GetPrototype() is deprecated. Please '\n",
      "C:\\Users\\un747\\anaconda3\\envs\\fall\\lib\\site-packages\\google\\protobuf\\symbol_database.py:55: UserWarning: SymbolDatabase.GetPrototype() is deprecated. Please use message_factory.GetMessageClass() instead. SymbolDatabase.GetPrototype() will be removed soon.\n",
      "  warnings.warn('SymbolDatabase.GetPrototype() is deprecated. Please '\n"
     ]
    },
    {
     "name": "stdout",
     "output_type": "stream",
     "text": [
      "정상\n",
      "정상\n",
      "정상\n",
      "정상\n"
     ]
    },
    {
     "name": "stderr",
     "output_type": "stream",
     "text": [
      "C:\\Users\\un747\\anaconda3\\envs\\fall\\lib\\site-packages\\google\\protobuf\\symbol_database.py:55: UserWarning: SymbolDatabase.GetPrototype() is deprecated. Please use message_factory.GetMessageClass() instead. SymbolDatabase.GetPrototype() will be removed soon.\n",
      "  warnings.warn('SymbolDatabase.GetPrototype() is deprecated. Please '\n",
      "C:\\Users\\un747\\anaconda3\\envs\\fall\\lib\\site-packages\\google\\protobuf\\symbol_database.py:55: UserWarning: SymbolDatabase.GetPrototype() is deprecated. Please use message_factory.GetMessageClass() instead. SymbolDatabase.GetPrototype() will be removed soon.\n",
      "  warnings.warn('SymbolDatabase.GetPrototype() is deprecated. Please '\n"
     ]
    },
    {
     "name": "stdout",
     "output_type": "stream",
     "text": [
      "정상\n",
      "정상\n"
     ]
    },
    {
     "name": "stderr",
     "output_type": "stream",
     "text": [
      "C:\\Users\\un747\\anaconda3\\envs\\fall\\lib\\site-packages\\google\\protobuf\\symbol_database.py:55: UserWarning: SymbolDatabase.GetPrototype() is deprecated. Please use message_factory.GetMessageClass() instead. SymbolDatabase.GetPrototype() will be removed soon.\n",
      "  warnings.warn('SymbolDatabase.GetPrototype() is deprecated. Please '\n",
      "C:\\Users\\un747\\anaconda3\\envs\\fall\\lib\\site-packages\\google\\protobuf\\symbol_database.py:55: UserWarning: SymbolDatabase.GetPrototype() is deprecated. Please use message_factory.GetMessageClass() instead. SymbolDatabase.GetPrototype() will be removed soon.\n",
      "  warnings.warn('SymbolDatabase.GetPrototype() is deprecated. Please '\n"
     ]
    },
    {
     "name": "stdout",
     "output_type": "stream",
     "text": [
      "정상\n",
      "정상\n",
      "정상\n"
     ]
    },
    {
     "name": "stderr",
     "output_type": "stream",
     "text": [
      "C:\\Users\\un747\\anaconda3\\envs\\fall\\lib\\site-packages\\google\\protobuf\\symbol_database.py:55: UserWarning: SymbolDatabase.GetPrototype() is deprecated. Please use message_factory.GetMessageClass() instead. SymbolDatabase.GetPrototype() will be removed soon.\n",
      "  warnings.warn('SymbolDatabase.GetPrototype() is deprecated. Please '\n",
      "C:\\Users\\un747\\anaconda3\\envs\\fall\\lib\\site-packages\\google\\protobuf\\symbol_database.py:55: UserWarning: SymbolDatabase.GetPrototype() is deprecated. Please use message_factory.GetMessageClass() instead. SymbolDatabase.GetPrototype() will be removed soon.\n",
      "  warnings.warn('SymbolDatabase.GetPrototype() is deprecated. Please '\n",
      "C:\\Users\\un747\\anaconda3\\envs\\fall\\lib\\site-packages\\google\\protobuf\\symbol_database.py:55: UserWarning: SymbolDatabase.GetPrototype() is deprecated. Please use message_factory.GetMessageClass() instead. SymbolDatabase.GetPrototype() will be removed soon.\n",
      "  warnings.warn('SymbolDatabase.GetPrototype() is deprecated. Please '\n",
      "C:\\Users\\un747\\anaconda3\\envs\\fall\\lib\\site-packages\\google\\protobuf\\symbol_database.py:55: UserWarning: SymbolDatabase.GetPrototype() is deprecated. Please use message_factory.GetMessageClass() instead. SymbolDatabase.GetPrototype() will be removed soon.\n",
      "  warnings.warn('SymbolDatabase.GetPrototype() is deprecated. Please '\n"
     ]
    },
    {
     "name": "stdout",
     "output_type": "stream",
     "text": [
      "정상\n",
      "정상\n"
     ]
    },
    {
     "name": "stderr",
     "output_type": "stream",
     "text": [
      "C:\\Users\\un747\\anaconda3\\envs\\fall\\lib\\site-packages\\google\\protobuf\\symbol_database.py:55: UserWarning: SymbolDatabase.GetPrototype() is deprecated. Please use message_factory.GetMessageClass() instead. SymbolDatabase.GetPrototype() will be removed soon.\n",
      "  warnings.warn('SymbolDatabase.GetPrototype() is deprecated. Please '\n",
      "C:\\Users\\un747\\anaconda3\\envs\\fall\\lib\\site-packages\\google\\protobuf\\symbol_database.py:55: UserWarning: SymbolDatabase.GetPrototype() is deprecated. Please use message_factory.GetMessageClass() instead. SymbolDatabase.GetPrototype() will be removed soon.\n",
      "  warnings.warn('SymbolDatabase.GetPrototype() is deprecated. Please '\n",
      "C:\\Users\\un747\\anaconda3\\envs\\fall\\lib\\site-packages\\google\\protobuf\\symbol_database.py:55: UserWarning: SymbolDatabase.GetPrototype() is deprecated. Please use message_factory.GetMessageClass() instead. SymbolDatabase.GetPrototype() will be removed soon.\n",
      "  warnings.warn('SymbolDatabase.GetPrototype() is deprecated. Please '\n"
     ]
    },
    {
     "name": "stdout",
     "output_type": "stream",
     "text": [
      "정상\n",
      "정상\n",
      "정상\n",
      "정상\n"
     ]
    },
    {
     "name": "stderr",
     "output_type": "stream",
     "text": [
      "C:\\Users\\un747\\anaconda3\\envs\\fall\\lib\\site-packages\\google\\protobuf\\symbol_database.py:55: UserWarning: SymbolDatabase.GetPrototype() is deprecated. Please use message_factory.GetMessageClass() instead. SymbolDatabase.GetPrototype() will be removed soon.\n",
      "  warnings.warn('SymbolDatabase.GetPrototype() is deprecated. Please '\n",
      "C:\\Users\\un747\\anaconda3\\envs\\fall\\lib\\site-packages\\google\\protobuf\\symbol_database.py:55: UserWarning: SymbolDatabase.GetPrototype() is deprecated. Please use message_factory.GetMessageClass() instead. SymbolDatabase.GetPrototype() will be removed soon.\n",
      "  warnings.warn('SymbolDatabase.GetPrototype() is deprecated. Please '\n"
     ]
    },
    {
     "name": "stdout",
     "output_type": "stream",
     "text": [
      "정상\n",
      "정상\n"
     ]
    },
    {
     "name": "stderr",
     "output_type": "stream",
     "text": [
      "C:\\Users\\un747\\anaconda3\\envs\\fall\\lib\\site-packages\\google\\protobuf\\symbol_database.py:55: UserWarning: SymbolDatabase.GetPrototype() is deprecated. Please use message_factory.GetMessageClass() instead. SymbolDatabase.GetPrototype() will be removed soon.\n",
      "  warnings.warn('SymbolDatabase.GetPrototype() is deprecated. Please '\n",
      "C:\\Users\\un747\\anaconda3\\envs\\fall\\lib\\site-packages\\google\\protobuf\\symbol_database.py:55: UserWarning: SymbolDatabase.GetPrototype() is deprecated. Please use message_factory.GetMessageClass() instead. SymbolDatabase.GetPrototype() will be removed soon.\n",
      "  warnings.warn('SymbolDatabase.GetPrototype() is deprecated. Please '\n"
     ]
    },
    {
     "name": "stdout",
     "output_type": "stream",
     "text": [
      "정상\n",
      "정상\n"
     ]
    },
    {
     "name": "stderr",
     "output_type": "stream",
     "text": [
      "C:\\Users\\un747\\anaconda3\\envs\\fall\\lib\\site-packages\\google\\protobuf\\symbol_database.py:55: UserWarning: SymbolDatabase.GetPrototype() is deprecated. Please use message_factory.GetMessageClass() instead. SymbolDatabase.GetPrototype() will be removed soon.\n",
      "  warnings.warn('SymbolDatabase.GetPrototype() is deprecated. Please '\n",
      "C:\\Users\\un747\\anaconda3\\envs\\fall\\lib\\site-packages\\google\\protobuf\\symbol_database.py:55: UserWarning: SymbolDatabase.GetPrototype() is deprecated. Please use message_factory.GetMessageClass() instead. SymbolDatabase.GetPrototype() will be removed soon.\n",
      "  warnings.warn('SymbolDatabase.GetPrototype() is deprecated. Please '\n"
     ]
    },
    {
     "name": "stdout",
     "output_type": "stream",
     "text": [
      "정상\n",
      "정상\n"
     ]
    },
    {
     "name": "stderr",
     "output_type": "stream",
     "text": [
      "C:\\Users\\un747\\anaconda3\\envs\\fall\\lib\\site-packages\\google\\protobuf\\symbol_database.py:55: UserWarning: SymbolDatabase.GetPrototype() is deprecated. Please use message_factory.GetMessageClass() instead. SymbolDatabase.GetPrototype() will be removed soon.\n",
      "  warnings.warn('SymbolDatabase.GetPrototype() is deprecated. Please '\n",
      "C:\\Users\\un747\\anaconda3\\envs\\fall\\lib\\site-packages\\google\\protobuf\\symbol_database.py:55: UserWarning: SymbolDatabase.GetPrototype() is deprecated. Please use message_factory.GetMessageClass() instead. SymbolDatabase.GetPrototype() will be removed soon.\n",
      "  warnings.warn('SymbolDatabase.GetPrototype() is deprecated. Please '\n"
     ]
    },
    {
     "name": "stdout",
     "output_type": "stream",
     "text": [
      "정상\n",
      "정상\n"
     ]
    },
    {
     "name": "stderr",
     "output_type": "stream",
     "text": [
      "C:\\Users\\un747\\anaconda3\\envs\\fall\\lib\\site-packages\\google\\protobuf\\symbol_database.py:55: UserWarning: SymbolDatabase.GetPrototype() is deprecated. Please use message_factory.GetMessageClass() instead. SymbolDatabase.GetPrototype() will be removed soon.\n",
      "  warnings.warn('SymbolDatabase.GetPrototype() is deprecated. Please '\n",
      "C:\\Users\\un747\\anaconda3\\envs\\fall\\lib\\site-packages\\google\\protobuf\\symbol_database.py:55: UserWarning: SymbolDatabase.GetPrototype() is deprecated. Please use message_factory.GetMessageClass() instead. SymbolDatabase.GetPrototype() will be removed soon.\n",
      "  warnings.warn('SymbolDatabase.GetPrototype() is deprecated. Please '\n"
     ]
    },
    {
     "name": "stdout",
     "output_type": "stream",
     "text": [
      "정상\n",
      "정상\n"
     ]
    },
    {
     "name": "stderr",
     "output_type": "stream",
     "text": [
      "C:\\Users\\un747\\anaconda3\\envs\\fall\\lib\\site-packages\\google\\protobuf\\symbol_database.py:55: UserWarning: SymbolDatabase.GetPrototype() is deprecated. Please use message_factory.GetMessageClass() instead. SymbolDatabase.GetPrototype() will be removed soon.\n",
      "  warnings.warn('SymbolDatabase.GetPrototype() is deprecated. Please '\n",
      "C:\\Users\\un747\\anaconda3\\envs\\fall\\lib\\site-packages\\google\\protobuf\\symbol_database.py:55: UserWarning: SymbolDatabase.GetPrototype() is deprecated. Please use message_factory.GetMessageClass() instead. SymbolDatabase.GetPrototype() will be removed soon.\n",
      "  warnings.warn('SymbolDatabase.GetPrototype() is deprecated. Please '\n",
      "C:\\Users\\un747\\anaconda3\\envs\\fall\\lib\\site-packages\\google\\protobuf\\symbol_database.py:55: UserWarning: SymbolDatabase.GetPrototype() is deprecated. Please use message_factory.GetMessageClass() instead. SymbolDatabase.GetPrototype() will be removed soon.\n",
      "  warnings.warn('SymbolDatabase.GetPrototype() is deprecated. Please '\n"
     ]
    },
    {
     "name": "stdout",
     "output_type": "stream",
     "text": [
      "정상\n",
      "정상\n",
      "정상\n"
     ]
    },
    {
     "name": "stderr",
     "output_type": "stream",
     "text": [
      "C:\\Users\\un747\\anaconda3\\envs\\fall\\lib\\site-packages\\google\\protobuf\\symbol_database.py:55: UserWarning: SymbolDatabase.GetPrototype() is deprecated. Please use message_factory.GetMessageClass() instead. SymbolDatabase.GetPrototype() will be removed soon.\n",
      "  warnings.warn('SymbolDatabase.GetPrototype() is deprecated. Please '\n",
      "C:\\Users\\un747\\anaconda3\\envs\\fall\\lib\\site-packages\\google\\protobuf\\symbol_database.py:55: UserWarning: SymbolDatabase.GetPrototype() is deprecated. Please use message_factory.GetMessageClass() instead. SymbolDatabase.GetPrototype() will be removed soon.\n",
      "  warnings.warn('SymbolDatabase.GetPrototype() is deprecated. Please '\n"
     ]
    },
    {
     "name": "stdout",
     "output_type": "stream",
     "text": [
      "정상\n",
      "정상\n"
     ]
    },
    {
     "name": "stderr",
     "output_type": "stream",
     "text": [
      "C:\\Users\\un747\\anaconda3\\envs\\fall\\lib\\site-packages\\google\\protobuf\\symbol_database.py:55: UserWarning: SymbolDatabase.GetPrototype() is deprecated. Please use message_factory.GetMessageClass() instead. SymbolDatabase.GetPrototype() will be removed soon.\n",
      "  warnings.warn('SymbolDatabase.GetPrototype() is deprecated. Please '\n",
      "C:\\Users\\un747\\anaconda3\\envs\\fall\\lib\\site-packages\\google\\protobuf\\symbol_database.py:55: UserWarning: SymbolDatabase.GetPrototype() is deprecated. Please use message_factory.GetMessageClass() instead. SymbolDatabase.GetPrototype() will be removed soon.\n",
      "  warnings.warn('SymbolDatabase.GetPrototype() is deprecated. Please '\n",
      "C:\\Users\\un747\\anaconda3\\envs\\fall\\lib\\site-packages\\google\\protobuf\\symbol_database.py:55: UserWarning: SymbolDatabase.GetPrototype() is deprecated. Please use message_factory.GetMessageClass() instead. SymbolDatabase.GetPrototype() will be removed soon.\n",
      "  warnings.warn('SymbolDatabase.GetPrototype() is deprecated. Please '\n"
     ]
    },
    {
     "name": "stdout",
     "output_type": "stream",
     "text": [
      "정상\n",
      "정상\n"
     ]
    },
    {
     "name": "stderr",
     "output_type": "stream",
     "text": [
      "C:\\Users\\un747\\anaconda3\\envs\\fall\\lib\\site-packages\\google\\protobuf\\symbol_database.py:55: UserWarning: SymbolDatabase.GetPrototype() is deprecated. Please use message_factory.GetMessageClass() instead. SymbolDatabase.GetPrototype() will be removed soon.\n",
      "  warnings.warn('SymbolDatabase.GetPrototype() is deprecated. Please '\n",
      "C:\\Users\\un747\\anaconda3\\envs\\fall\\lib\\site-packages\\google\\protobuf\\symbol_database.py:55: UserWarning: SymbolDatabase.GetPrototype() is deprecated. Please use message_factory.GetMessageClass() instead. SymbolDatabase.GetPrototype() will be removed soon.\n",
      "  warnings.warn('SymbolDatabase.GetPrototype() is deprecated. Please '\n"
     ]
    },
    {
     "name": "stdout",
     "output_type": "stream",
     "text": [
      "정상\n",
      "정상\n"
     ]
    },
    {
     "name": "stderr",
     "output_type": "stream",
     "text": [
      "C:\\Users\\un747\\anaconda3\\envs\\fall\\lib\\site-packages\\google\\protobuf\\symbol_database.py:55: UserWarning: SymbolDatabase.GetPrototype() is deprecated. Please use message_factory.GetMessageClass() instead. SymbolDatabase.GetPrototype() will be removed soon.\n",
      "  warnings.warn('SymbolDatabase.GetPrototype() is deprecated. Please '\n",
      "C:\\Users\\un747\\anaconda3\\envs\\fall\\lib\\site-packages\\google\\protobuf\\symbol_database.py:55: UserWarning: SymbolDatabase.GetPrototype() is deprecated. Please use message_factory.GetMessageClass() instead. SymbolDatabase.GetPrototype() will be removed soon.\n",
      "  warnings.warn('SymbolDatabase.GetPrototype() is deprecated. Please '\n"
     ]
    },
    {
     "name": "stdout",
     "output_type": "stream",
     "text": [
      "정상\n",
      "정상\n"
     ]
    },
    {
     "name": "stderr",
     "output_type": "stream",
     "text": [
      "C:\\Users\\un747\\anaconda3\\envs\\fall\\lib\\site-packages\\google\\protobuf\\symbol_database.py:55: UserWarning: SymbolDatabase.GetPrototype() is deprecated. Please use message_factory.GetMessageClass() instead. SymbolDatabase.GetPrototype() will be removed soon.\n",
      "  warnings.warn('SymbolDatabase.GetPrototype() is deprecated. Please '\n",
      "C:\\Users\\un747\\anaconda3\\envs\\fall\\lib\\site-packages\\google\\protobuf\\symbol_database.py:55: UserWarning: SymbolDatabase.GetPrototype() is deprecated. Please use message_factory.GetMessageClass() instead. SymbolDatabase.GetPrototype() will be removed soon.\n",
      "  warnings.warn('SymbolDatabase.GetPrototype() is deprecated. Please '\n",
      "C:\\Users\\un747\\anaconda3\\envs\\fall\\lib\\site-packages\\google\\protobuf\\symbol_database.py:55: UserWarning: SymbolDatabase.GetPrototype() is deprecated. Please use message_factory.GetMessageClass() instead. SymbolDatabase.GetPrototype() will be removed soon.\n",
      "  warnings.warn('SymbolDatabase.GetPrototype() is deprecated. Please '\n"
     ]
    },
    {
     "name": "stdout",
     "output_type": "stream",
     "text": [
      "정상\n",
      "정상\n",
      "정상\n",
      "정상\n",
      "정상\n"
     ]
    },
    {
     "name": "stderr",
     "output_type": "stream",
     "text": [
      "C:\\Users\\un747\\anaconda3\\envs\\fall\\lib\\site-packages\\google\\protobuf\\symbol_database.py:55: UserWarning: SymbolDatabase.GetPrototype() is deprecated. Please use message_factory.GetMessageClass() instead. SymbolDatabase.GetPrototype() will be removed soon.\n",
      "  warnings.warn('SymbolDatabase.GetPrototype() is deprecated. Please '\n",
      "C:\\Users\\un747\\anaconda3\\envs\\fall\\lib\\site-packages\\google\\protobuf\\symbol_database.py:55: UserWarning: SymbolDatabase.GetPrototype() is deprecated. Please use message_factory.GetMessageClass() instead. SymbolDatabase.GetPrototype() will be removed soon.\n",
      "  warnings.warn('SymbolDatabase.GetPrototype() is deprecated. Please '\n",
      "C:\\Users\\un747\\anaconda3\\envs\\fall\\lib\\site-packages\\google\\protobuf\\symbol_database.py:55: UserWarning: SymbolDatabase.GetPrototype() is deprecated. Please use message_factory.GetMessageClass() instead. SymbolDatabase.GetPrototype() will be removed soon.\n",
      "  warnings.warn('SymbolDatabase.GetPrototype() is deprecated. Please '\n"
     ]
    },
    {
     "name": "stdout",
     "output_type": "stream",
     "text": [
      "정상\n",
      "정상\n",
      "정상\n"
     ]
    },
    {
     "name": "stderr",
     "output_type": "stream",
     "text": [
      "C:\\Users\\un747\\anaconda3\\envs\\fall\\lib\\site-packages\\google\\protobuf\\symbol_database.py:55: UserWarning: SymbolDatabase.GetPrototype() is deprecated. Please use message_factory.GetMessageClass() instead. SymbolDatabase.GetPrototype() will be removed soon.\n",
      "  warnings.warn('SymbolDatabase.GetPrototype() is deprecated. Please '\n",
      "C:\\Users\\un747\\anaconda3\\envs\\fall\\lib\\site-packages\\google\\protobuf\\symbol_database.py:55: UserWarning: SymbolDatabase.GetPrototype() is deprecated. Please use message_factory.GetMessageClass() instead. SymbolDatabase.GetPrototype() will be removed soon.\n",
      "  warnings.warn('SymbolDatabase.GetPrototype() is deprecated. Please '\n",
      "C:\\Users\\un747\\anaconda3\\envs\\fall\\lib\\site-packages\\google\\protobuf\\symbol_database.py:55: UserWarning: SymbolDatabase.GetPrototype() is deprecated. Please use message_factory.GetMessageClass() instead. SymbolDatabase.GetPrototype() will be removed soon.\n",
      "  warnings.warn('SymbolDatabase.GetPrototype() is deprecated. Please '\n"
     ]
    },
    {
     "name": "stdout",
     "output_type": "stream",
     "text": [
      "정상\n",
      "정상\n"
     ]
    },
    {
     "name": "stderr",
     "output_type": "stream",
     "text": [
      "C:\\Users\\un747\\anaconda3\\envs\\fall\\lib\\site-packages\\google\\protobuf\\symbol_database.py:55: UserWarning: SymbolDatabase.GetPrototype() is deprecated. Please use message_factory.GetMessageClass() instead. SymbolDatabase.GetPrototype() will be removed soon.\n",
      "  warnings.warn('SymbolDatabase.GetPrototype() is deprecated. Please '\n",
      "C:\\Users\\un747\\anaconda3\\envs\\fall\\lib\\site-packages\\google\\protobuf\\symbol_database.py:55: UserWarning: SymbolDatabase.GetPrototype() is deprecated. Please use message_factory.GetMessageClass() instead. SymbolDatabase.GetPrototype() will be removed soon.\n",
      "  warnings.warn('SymbolDatabase.GetPrototype() is deprecated. Please '\n"
     ]
    },
    {
     "name": "stdout",
     "output_type": "stream",
     "text": [
      "정상\n",
      "정상\n"
     ]
    },
    {
     "name": "stderr",
     "output_type": "stream",
     "text": [
      "C:\\Users\\un747\\anaconda3\\envs\\fall\\lib\\site-packages\\google\\protobuf\\symbol_database.py:55: UserWarning: SymbolDatabase.GetPrototype() is deprecated. Please use message_factory.GetMessageClass() instead. SymbolDatabase.GetPrototype() will be removed soon.\n",
      "  warnings.warn('SymbolDatabase.GetPrototype() is deprecated. Please '\n",
      "C:\\Users\\un747\\anaconda3\\envs\\fall\\lib\\site-packages\\google\\protobuf\\symbol_database.py:55: UserWarning: SymbolDatabase.GetPrototype() is deprecated. Please use message_factory.GetMessageClass() instead. SymbolDatabase.GetPrototype() will be removed soon.\n",
      "  warnings.warn('SymbolDatabase.GetPrototype() is deprecated. Please '\n",
      "C:\\Users\\un747\\anaconda3\\envs\\fall\\lib\\site-packages\\google\\protobuf\\symbol_database.py:55: UserWarning: SymbolDatabase.GetPrototype() is deprecated. Please use message_factory.GetMessageClass() instead. SymbolDatabase.GetPrototype() will be removed soon.\n",
      "  warnings.warn('SymbolDatabase.GetPrototype() is deprecated. Please '\n"
     ]
    },
    {
     "name": "stdout",
     "output_type": "stream",
     "text": [
      "정상\n",
      "정상\n"
     ]
    },
    {
     "name": "stderr",
     "output_type": "stream",
     "text": [
      "C:\\Users\\un747\\anaconda3\\envs\\fall\\lib\\site-packages\\google\\protobuf\\symbol_database.py:55: UserWarning: SymbolDatabase.GetPrototype() is deprecated. Please use message_factory.GetMessageClass() instead. SymbolDatabase.GetPrototype() will be removed soon.\n",
      "  warnings.warn('SymbolDatabase.GetPrototype() is deprecated. Please '\n",
      "C:\\Users\\un747\\anaconda3\\envs\\fall\\lib\\site-packages\\google\\protobuf\\symbol_database.py:55: UserWarning: SymbolDatabase.GetPrototype() is deprecated. Please use message_factory.GetMessageClass() instead. SymbolDatabase.GetPrototype() will be removed soon.\n",
      "  warnings.warn('SymbolDatabase.GetPrototype() is deprecated. Please '\n"
     ]
    },
    {
     "name": "stdout",
     "output_type": "stream",
     "text": [
      "정상\n",
      "정상\n"
     ]
    },
    {
     "name": "stderr",
     "output_type": "stream",
     "text": [
      "C:\\Users\\un747\\anaconda3\\envs\\fall\\lib\\site-packages\\google\\protobuf\\symbol_database.py:55: UserWarning: SymbolDatabase.GetPrototype() is deprecated. Please use message_factory.GetMessageClass() instead. SymbolDatabase.GetPrototype() will be removed soon.\n",
      "  warnings.warn('SymbolDatabase.GetPrototype() is deprecated. Please '\n",
      "C:\\Users\\un747\\anaconda3\\envs\\fall\\lib\\site-packages\\google\\protobuf\\symbol_database.py:55: UserWarning: SymbolDatabase.GetPrototype() is deprecated. Please use message_factory.GetMessageClass() instead. SymbolDatabase.GetPrototype() will be removed soon.\n",
      "  warnings.warn('SymbolDatabase.GetPrototype() is deprecated. Please '\n"
     ]
    },
    {
     "name": "stdout",
     "output_type": "stream",
     "text": [
      "정상\n",
      "정상\n"
     ]
    },
    {
     "name": "stderr",
     "output_type": "stream",
     "text": [
      "C:\\Users\\un747\\anaconda3\\envs\\fall\\lib\\site-packages\\google\\protobuf\\symbol_database.py:55: UserWarning: SymbolDatabase.GetPrototype() is deprecated. Please use message_factory.GetMessageClass() instead. SymbolDatabase.GetPrototype() will be removed soon.\n",
      "  warnings.warn('SymbolDatabase.GetPrototype() is deprecated. Please '\n",
      "C:\\Users\\un747\\anaconda3\\envs\\fall\\lib\\site-packages\\google\\protobuf\\symbol_database.py:55: UserWarning: SymbolDatabase.GetPrototype() is deprecated. Please use message_factory.GetMessageClass() instead. SymbolDatabase.GetPrototype() will be removed soon.\n",
      "  warnings.warn('SymbolDatabase.GetPrototype() is deprecated. Please '\n"
     ]
    },
    {
     "name": "stdout",
     "output_type": "stream",
     "text": [
      "정상\n",
      "정상\n"
     ]
    },
    {
     "name": "stderr",
     "output_type": "stream",
     "text": [
      "C:\\Users\\un747\\anaconda3\\envs\\fall\\lib\\site-packages\\google\\protobuf\\symbol_database.py:55: UserWarning: SymbolDatabase.GetPrototype() is deprecated. Please use message_factory.GetMessageClass() instead. SymbolDatabase.GetPrototype() will be removed soon.\n",
      "  warnings.warn('SymbolDatabase.GetPrototype() is deprecated. Please '\n",
      "C:\\Users\\un747\\anaconda3\\envs\\fall\\lib\\site-packages\\google\\protobuf\\symbol_database.py:55: UserWarning: SymbolDatabase.GetPrototype() is deprecated. Please use message_factory.GetMessageClass() instead. SymbolDatabase.GetPrototype() will be removed soon.\n",
      "  warnings.warn('SymbolDatabase.GetPrototype() is deprecated. Please '\n"
     ]
    },
    {
     "name": "stdout",
     "output_type": "stream",
     "text": [
      "정상\n",
      "정상\n"
     ]
    },
    {
     "name": "stderr",
     "output_type": "stream",
     "text": [
      "C:\\Users\\un747\\anaconda3\\envs\\fall\\lib\\site-packages\\google\\protobuf\\symbol_database.py:55: UserWarning: SymbolDatabase.GetPrototype() is deprecated. Please use message_factory.GetMessageClass() instead. SymbolDatabase.GetPrototype() will be removed soon.\n",
      "  warnings.warn('SymbolDatabase.GetPrototype() is deprecated. Please '\n",
      "C:\\Users\\un747\\anaconda3\\envs\\fall\\lib\\site-packages\\google\\protobuf\\symbol_database.py:55: UserWarning: SymbolDatabase.GetPrototype() is deprecated. Please use message_factory.GetMessageClass() instead. SymbolDatabase.GetPrototype() will be removed soon.\n",
      "  warnings.warn('SymbolDatabase.GetPrototype() is deprecated. Please '\n"
     ]
    },
    {
     "name": "stdout",
     "output_type": "stream",
     "text": [
      "정상\n",
      "정상\n"
     ]
    },
    {
     "name": "stderr",
     "output_type": "stream",
     "text": [
      "C:\\Users\\un747\\anaconda3\\envs\\fall\\lib\\site-packages\\google\\protobuf\\symbol_database.py:55: UserWarning: SymbolDatabase.GetPrototype() is deprecated. Please use message_factory.GetMessageClass() instead. SymbolDatabase.GetPrototype() will be removed soon.\n",
      "  warnings.warn('SymbolDatabase.GetPrototype() is deprecated. Please '\n",
      "C:\\Users\\un747\\anaconda3\\envs\\fall\\lib\\site-packages\\google\\protobuf\\symbol_database.py:55: UserWarning: SymbolDatabase.GetPrototype() is deprecated. Please use message_factory.GetMessageClass() instead. SymbolDatabase.GetPrototype() will be removed soon.\n",
      "  warnings.warn('SymbolDatabase.GetPrototype() is deprecated. Please '\n"
     ]
    },
    {
     "name": "stdout",
     "output_type": "stream",
     "text": [
      "정상\n",
      "정상\n"
     ]
    },
    {
     "name": "stderr",
     "output_type": "stream",
     "text": [
      "C:\\Users\\un747\\anaconda3\\envs\\fall\\lib\\site-packages\\google\\protobuf\\symbol_database.py:55: UserWarning: SymbolDatabase.GetPrototype() is deprecated. Please use message_factory.GetMessageClass() instead. SymbolDatabase.GetPrototype() will be removed soon.\n",
      "  warnings.warn('SymbolDatabase.GetPrototype() is deprecated. Please '\n",
      "C:\\Users\\un747\\anaconda3\\envs\\fall\\lib\\site-packages\\google\\protobuf\\symbol_database.py:55: UserWarning: SymbolDatabase.GetPrototype() is deprecated. Please use message_factory.GetMessageClass() instead. SymbolDatabase.GetPrototype() will be removed soon.\n",
      "  warnings.warn('SymbolDatabase.GetPrototype() is deprecated. Please '\n",
      "C:\\Users\\un747\\anaconda3\\envs\\fall\\lib\\site-packages\\google\\protobuf\\symbol_database.py:55: UserWarning: SymbolDatabase.GetPrototype() is deprecated. Please use message_factory.GetMessageClass() instead. SymbolDatabase.GetPrototype() will be removed soon.\n",
      "  warnings.warn('SymbolDatabase.GetPrototype() is deprecated. Please '\n"
     ]
    },
    {
     "name": "stdout",
     "output_type": "stream",
     "text": [
      "정상\n",
      "정상\n",
      "정상\n"
     ]
    },
    {
     "name": "stderr",
     "output_type": "stream",
     "text": [
      "C:\\Users\\un747\\anaconda3\\envs\\fall\\lib\\site-packages\\google\\protobuf\\symbol_database.py:55: UserWarning: SymbolDatabase.GetPrototype() is deprecated. Please use message_factory.GetMessageClass() instead. SymbolDatabase.GetPrototype() will be removed soon.\n",
      "  warnings.warn('SymbolDatabase.GetPrototype() is deprecated. Please '\n",
      "C:\\Users\\un747\\anaconda3\\envs\\fall\\lib\\site-packages\\google\\protobuf\\symbol_database.py:55: UserWarning: SymbolDatabase.GetPrototype() is deprecated. Please use message_factory.GetMessageClass() instead. SymbolDatabase.GetPrototype() will be removed soon.\n",
      "  warnings.warn('SymbolDatabase.GetPrototype() is deprecated. Please '\n"
     ]
    },
    {
     "name": "stdout",
     "output_type": "stream",
     "text": [
      "정상\n",
      "정상\n"
     ]
    },
    {
     "name": "stderr",
     "output_type": "stream",
     "text": [
      "C:\\Users\\un747\\anaconda3\\envs\\fall\\lib\\site-packages\\google\\protobuf\\symbol_database.py:55: UserWarning: SymbolDatabase.GetPrototype() is deprecated. Please use message_factory.GetMessageClass() instead. SymbolDatabase.GetPrototype() will be removed soon.\n",
      "  warnings.warn('SymbolDatabase.GetPrototype() is deprecated. Please '\n",
      "C:\\Users\\un747\\anaconda3\\envs\\fall\\lib\\site-packages\\google\\protobuf\\symbol_database.py:55: UserWarning: SymbolDatabase.GetPrototype() is deprecated. Please use message_factory.GetMessageClass() instead. SymbolDatabase.GetPrototype() will be removed soon.\n",
      "  warnings.warn('SymbolDatabase.GetPrototype() is deprecated. Please '\n"
     ]
    },
    {
     "name": "stdout",
     "output_type": "stream",
     "text": [
      "정상\n",
      "정상\n"
     ]
    },
    {
     "name": "stderr",
     "output_type": "stream",
     "text": [
      "C:\\Users\\un747\\anaconda3\\envs\\fall\\lib\\site-packages\\google\\protobuf\\symbol_database.py:55: UserWarning: SymbolDatabase.GetPrototype() is deprecated. Please use message_factory.GetMessageClass() instead. SymbolDatabase.GetPrototype() will be removed soon.\n",
      "  warnings.warn('SymbolDatabase.GetPrototype() is deprecated. Please '\n",
      "C:\\Users\\un747\\anaconda3\\envs\\fall\\lib\\site-packages\\google\\protobuf\\symbol_database.py:55: UserWarning: SymbolDatabase.GetPrototype() is deprecated. Please use message_factory.GetMessageClass() instead. SymbolDatabase.GetPrototype() will be removed soon.\n",
      "  warnings.warn('SymbolDatabase.GetPrototype() is deprecated. Please '\n",
      "C:\\Users\\un747\\anaconda3\\envs\\fall\\lib\\site-packages\\google\\protobuf\\symbol_database.py:55: UserWarning: SymbolDatabase.GetPrototype() is deprecated. Please use message_factory.GetMessageClass() instead. SymbolDatabase.GetPrototype() will be removed soon.\n",
      "  warnings.warn('SymbolDatabase.GetPrototype() is deprecated. Please '\n"
     ]
    },
    {
     "name": "stdout",
     "output_type": "stream",
     "text": [
      "정상\n",
      "정상\n",
      "정상\n",
      "정상\n",
      "정상\n"
     ]
    },
    {
     "name": "stderr",
     "output_type": "stream",
     "text": [
      "C:\\Users\\un747\\anaconda3\\envs\\fall\\lib\\site-packages\\google\\protobuf\\symbol_database.py:55: UserWarning: SymbolDatabase.GetPrototype() is deprecated. Please use message_factory.GetMessageClass() instead. SymbolDatabase.GetPrototype() will be removed soon.\n",
      "  warnings.warn('SymbolDatabase.GetPrototype() is deprecated. Please '\n",
      "C:\\Users\\un747\\anaconda3\\envs\\fall\\lib\\site-packages\\google\\protobuf\\symbol_database.py:55: UserWarning: SymbolDatabase.GetPrototype() is deprecated. Please use message_factory.GetMessageClass() instead. SymbolDatabase.GetPrototype() will be removed soon.\n",
      "  warnings.warn('SymbolDatabase.GetPrototype() is deprecated. Please '\n",
      "C:\\Users\\un747\\anaconda3\\envs\\fall\\lib\\site-packages\\google\\protobuf\\symbol_database.py:55: UserWarning: SymbolDatabase.GetPrototype() is deprecated. Please use message_factory.GetMessageClass() instead. SymbolDatabase.GetPrototype() will be removed soon.\n",
      "  warnings.warn('SymbolDatabase.GetPrototype() is deprecated. Please '\n"
     ]
    },
    {
     "name": "stdout",
     "output_type": "stream",
     "text": [
      "정상\n",
      "정상\n"
     ]
    },
    {
     "name": "stderr",
     "output_type": "stream",
     "text": [
      "C:\\Users\\un747\\anaconda3\\envs\\fall\\lib\\site-packages\\google\\protobuf\\symbol_database.py:55: UserWarning: SymbolDatabase.GetPrototype() is deprecated. Please use message_factory.GetMessageClass() instead. SymbolDatabase.GetPrototype() will be removed soon.\n",
      "  warnings.warn('SymbolDatabase.GetPrototype() is deprecated. Please '\n",
      "C:\\Users\\un747\\anaconda3\\envs\\fall\\lib\\site-packages\\google\\protobuf\\symbol_database.py:55: UserWarning: SymbolDatabase.GetPrototype() is deprecated. Please use message_factory.GetMessageClass() instead. SymbolDatabase.GetPrototype() will be removed soon.\n",
      "  warnings.warn('SymbolDatabase.GetPrototype() is deprecated. Please '\n",
      "C:\\Users\\un747\\anaconda3\\envs\\fall\\lib\\site-packages\\google\\protobuf\\symbol_database.py:55: UserWarning: SymbolDatabase.GetPrototype() is deprecated. Please use message_factory.GetMessageClass() instead. SymbolDatabase.GetPrototype() will be removed soon.\n",
      "  warnings.warn('SymbolDatabase.GetPrototype() is deprecated. Please '\n"
     ]
    },
    {
     "name": "stdout",
     "output_type": "stream",
     "text": [
      "정상\n",
      "정상\n",
      "정상\n"
     ]
    },
    {
     "name": "stderr",
     "output_type": "stream",
     "text": [
      "C:\\Users\\un747\\anaconda3\\envs\\fall\\lib\\site-packages\\google\\protobuf\\symbol_database.py:55: UserWarning: SymbolDatabase.GetPrototype() is deprecated. Please use message_factory.GetMessageClass() instead. SymbolDatabase.GetPrototype() will be removed soon.\n",
      "  warnings.warn('SymbolDatabase.GetPrototype() is deprecated. Please '\n",
      "C:\\Users\\un747\\anaconda3\\envs\\fall\\lib\\site-packages\\google\\protobuf\\symbol_database.py:55: UserWarning: SymbolDatabase.GetPrototype() is deprecated. Please use message_factory.GetMessageClass() instead. SymbolDatabase.GetPrototype() will be removed soon.\n",
      "  warnings.warn('SymbolDatabase.GetPrototype() is deprecated. Please '\n",
      "C:\\Users\\un747\\anaconda3\\envs\\fall\\lib\\site-packages\\google\\protobuf\\symbol_database.py:55: UserWarning: SymbolDatabase.GetPrototype() is deprecated. Please use message_factory.GetMessageClass() instead. SymbolDatabase.GetPrototype() will be removed soon.\n",
      "  warnings.warn('SymbolDatabase.GetPrototype() is deprecated. Please '\n"
     ]
    },
    {
     "name": "stdout",
     "output_type": "stream",
     "text": [
      "정상\n",
      "정상\n",
      "정상\n"
     ]
    },
    {
     "name": "stderr",
     "output_type": "stream",
     "text": [
      "C:\\Users\\un747\\anaconda3\\envs\\fall\\lib\\site-packages\\google\\protobuf\\symbol_database.py:55: UserWarning: SymbolDatabase.GetPrototype() is deprecated. Please use message_factory.GetMessageClass() instead. SymbolDatabase.GetPrototype() will be removed soon.\n",
      "  warnings.warn('SymbolDatabase.GetPrototype() is deprecated. Please '\n",
      "C:\\Users\\un747\\anaconda3\\envs\\fall\\lib\\site-packages\\google\\protobuf\\symbol_database.py:55: UserWarning: SymbolDatabase.GetPrototype() is deprecated. Please use message_factory.GetMessageClass() instead. SymbolDatabase.GetPrototype() will be removed soon.\n",
      "  warnings.warn('SymbolDatabase.GetPrototype() is deprecated. Please '\n",
      "C:\\Users\\un747\\anaconda3\\envs\\fall\\lib\\site-packages\\google\\protobuf\\symbol_database.py:55: UserWarning: SymbolDatabase.GetPrototype() is deprecated. Please use message_factory.GetMessageClass() instead. SymbolDatabase.GetPrototype() will be removed soon.\n",
      "  warnings.warn('SymbolDatabase.GetPrototype() is deprecated. Please '\n"
     ]
    },
    {
     "name": "stdout",
     "output_type": "stream",
     "text": [
      "정상\n",
      "정상\n",
      "정상\n"
     ]
    },
    {
     "name": "stderr",
     "output_type": "stream",
     "text": [
      "C:\\Users\\un747\\anaconda3\\envs\\fall\\lib\\site-packages\\google\\protobuf\\symbol_database.py:55: UserWarning: SymbolDatabase.GetPrototype() is deprecated. Please use message_factory.GetMessageClass() instead. SymbolDatabase.GetPrototype() will be removed soon.\n",
      "  warnings.warn('SymbolDatabase.GetPrototype() is deprecated. Please '\n",
      "C:\\Users\\un747\\anaconda3\\envs\\fall\\lib\\site-packages\\google\\protobuf\\symbol_database.py:55: UserWarning: SymbolDatabase.GetPrototype() is deprecated. Please use message_factory.GetMessageClass() instead. SymbolDatabase.GetPrototype() will be removed soon.\n",
      "  warnings.warn('SymbolDatabase.GetPrototype() is deprecated. Please '\n",
      "C:\\Users\\un747\\anaconda3\\envs\\fall\\lib\\site-packages\\google\\protobuf\\symbol_database.py:55: UserWarning: SymbolDatabase.GetPrototype() is deprecated. Please use message_factory.GetMessageClass() instead. SymbolDatabase.GetPrototype() will be removed soon.\n",
      "  warnings.warn('SymbolDatabase.GetPrototype() is deprecated. Please '\n"
     ]
    },
    {
     "name": "stdout",
     "output_type": "stream",
     "text": [
      "정상\n",
      "정상\n"
     ]
    },
    {
     "name": "stderr",
     "output_type": "stream",
     "text": [
      "C:\\Users\\un747\\anaconda3\\envs\\fall\\lib\\site-packages\\google\\protobuf\\symbol_database.py:55: UserWarning: SymbolDatabase.GetPrototype() is deprecated. Please use message_factory.GetMessageClass() instead. SymbolDatabase.GetPrototype() will be removed soon.\n",
      "  warnings.warn('SymbolDatabase.GetPrototype() is deprecated. Please '\n",
      "C:\\Users\\un747\\anaconda3\\envs\\fall\\lib\\site-packages\\google\\protobuf\\symbol_database.py:55: UserWarning: SymbolDatabase.GetPrototype() is deprecated. Please use message_factory.GetMessageClass() instead. SymbolDatabase.GetPrototype() will be removed soon.\n",
      "  warnings.warn('SymbolDatabase.GetPrototype() is deprecated. Please '\n",
      "C:\\Users\\un747\\anaconda3\\envs\\fall\\lib\\site-packages\\google\\protobuf\\symbol_database.py:55: UserWarning: SymbolDatabase.GetPrototype() is deprecated. Please use message_factory.GetMessageClass() instead. SymbolDatabase.GetPrototype() will be removed soon.\n",
      "  warnings.warn('SymbolDatabase.GetPrototype() is deprecated. Please '\n"
     ]
    },
    {
     "name": "stdout",
     "output_type": "stream",
     "text": [
      "정상\n",
      "정상\n",
      "정상\n"
     ]
    },
    {
     "name": "stderr",
     "output_type": "stream",
     "text": [
      "C:\\Users\\un747\\anaconda3\\envs\\fall\\lib\\site-packages\\google\\protobuf\\symbol_database.py:55: UserWarning: SymbolDatabase.GetPrototype() is deprecated. Please use message_factory.GetMessageClass() instead. SymbolDatabase.GetPrototype() will be removed soon.\n",
      "  warnings.warn('SymbolDatabase.GetPrototype() is deprecated. Please '\n",
      "C:\\Users\\un747\\anaconda3\\envs\\fall\\lib\\site-packages\\google\\protobuf\\symbol_database.py:55: UserWarning: SymbolDatabase.GetPrototype() is deprecated. Please use message_factory.GetMessageClass() instead. SymbolDatabase.GetPrototype() will be removed soon.\n",
      "  warnings.warn('SymbolDatabase.GetPrototype() is deprecated. Please '\n",
      "C:\\Users\\un747\\anaconda3\\envs\\fall\\lib\\site-packages\\google\\protobuf\\symbol_database.py:55: UserWarning: SymbolDatabase.GetPrototype() is deprecated. Please use message_factory.GetMessageClass() instead. SymbolDatabase.GetPrototype() will be removed soon.\n",
      "  warnings.warn('SymbolDatabase.GetPrototype() is deprecated. Please '\n",
      "C:\\Users\\un747\\anaconda3\\envs\\fall\\lib\\site-packages\\google\\protobuf\\symbol_database.py:55: UserWarning: SymbolDatabase.GetPrototype() is deprecated. Please use message_factory.GetMessageClass() instead. SymbolDatabase.GetPrototype() will be removed soon.\n",
      "  warnings.warn('SymbolDatabase.GetPrototype() is deprecated. Please '\n"
     ]
    },
    {
     "name": "stdout",
     "output_type": "stream",
     "text": [
      "정상\n",
      "정상\n",
      "정상\n",
      "정상\n"
     ]
    },
    {
     "name": "stderr",
     "output_type": "stream",
     "text": [
      "C:\\Users\\un747\\anaconda3\\envs\\fall\\lib\\site-packages\\google\\protobuf\\symbol_database.py:55: UserWarning: SymbolDatabase.GetPrototype() is deprecated. Please use message_factory.GetMessageClass() instead. SymbolDatabase.GetPrototype() will be removed soon.\n",
      "  warnings.warn('SymbolDatabase.GetPrototype() is deprecated. Please '\n",
      "C:\\Users\\un747\\anaconda3\\envs\\fall\\lib\\site-packages\\google\\protobuf\\symbol_database.py:55: UserWarning: SymbolDatabase.GetPrototype() is deprecated. Please use message_factory.GetMessageClass() instead. SymbolDatabase.GetPrototype() will be removed soon.\n",
      "  warnings.warn('SymbolDatabase.GetPrototype() is deprecated. Please '\n"
     ]
    },
    {
     "name": "stdout",
     "output_type": "stream",
     "text": [
      "정상\n",
      "정상\n"
     ]
    },
    {
     "name": "stderr",
     "output_type": "stream",
     "text": [
      "C:\\Users\\un747\\anaconda3\\envs\\fall\\lib\\site-packages\\google\\protobuf\\symbol_database.py:55: UserWarning: SymbolDatabase.GetPrototype() is deprecated. Please use message_factory.GetMessageClass() instead. SymbolDatabase.GetPrototype() will be removed soon.\n",
      "  warnings.warn('SymbolDatabase.GetPrototype() is deprecated. Please '\n",
      "C:\\Users\\un747\\anaconda3\\envs\\fall\\lib\\site-packages\\google\\protobuf\\symbol_database.py:55: UserWarning: SymbolDatabase.GetPrototype() is deprecated. Please use message_factory.GetMessageClass() instead. SymbolDatabase.GetPrototype() will be removed soon.\n",
      "  warnings.warn('SymbolDatabase.GetPrototype() is deprecated. Please '\n",
      "C:\\Users\\un747\\anaconda3\\envs\\fall\\lib\\site-packages\\google\\protobuf\\symbol_database.py:55: UserWarning: SymbolDatabase.GetPrototype() is deprecated. Please use message_factory.GetMessageClass() instead. SymbolDatabase.GetPrototype() will be removed soon.\n",
      "  warnings.warn('SymbolDatabase.GetPrototype() is deprecated. Please '\n"
     ]
    },
    {
     "name": "stdout",
     "output_type": "stream",
     "text": [
      "정상\n",
      "정상\n",
      "정상\n",
      "정상\n",
      "정상\n"
     ]
    },
    {
     "name": "stderr",
     "output_type": "stream",
     "text": [
      "C:\\Users\\un747\\anaconda3\\envs\\fall\\lib\\site-packages\\google\\protobuf\\symbol_database.py:55: UserWarning: SymbolDatabase.GetPrototype() is deprecated. Please use message_factory.GetMessageClass() instead. SymbolDatabase.GetPrototype() will be removed soon.\n",
      "  warnings.warn('SymbolDatabase.GetPrototype() is deprecated. Please '\n",
      "C:\\Users\\un747\\anaconda3\\envs\\fall\\lib\\site-packages\\google\\protobuf\\symbol_database.py:55: UserWarning: SymbolDatabase.GetPrototype() is deprecated. Please use message_factory.GetMessageClass() instead. SymbolDatabase.GetPrototype() will be removed soon.\n",
      "  warnings.warn('SymbolDatabase.GetPrototype() is deprecated. Please '\n",
      "C:\\Users\\un747\\anaconda3\\envs\\fall\\lib\\site-packages\\google\\protobuf\\symbol_database.py:55: UserWarning: SymbolDatabase.GetPrototype() is deprecated. Please use message_factory.GetMessageClass() instead. SymbolDatabase.GetPrototype() will be removed soon.\n",
      "  warnings.warn('SymbolDatabase.GetPrototype() is deprecated. Please '\n"
     ]
    },
    {
     "name": "stdout",
     "output_type": "stream",
     "text": [
      "정상\n",
      "정상\n",
      "정상\n"
     ]
    },
    {
     "name": "stderr",
     "output_type": "stream",
     "text": [
      "C:\\Users\\un747\\anaconda3\\envs\\fall\\lib\\site-packages\\google\\protobuf\\symbol_database.py:55: UserWarning: SymbolDatabase.GetPrototype() is deprecated. Please use message_factory.GetMessageClass() instead. SymbolDatabase.GetPrototype() will be removed soon.\n",
      "  warnings.warn('SymbolDatabase.GetPrototype() is deprecated. Please '\n",
      "C:\\Users\\un747\\anaconda3\\envs\\fall\\lib\\site-packages\\google\\protobuf\\symbol_database.py:55: UserWarning: SymbolDatabase.GetPrototype() is deprecated. Please use message_factory.GetMessageClass() instead. SymbolDatabase.GetPrototype() will be removed soon.\n",
      "  warnings.warn('SymbolDatabase.GetPrototype() is deprecated. Please '\n",
      "C:\\Users\\un747\\anaconda3\\envs\\fall\\lib\\site-packages\\google\\protobuf\\symbol_database.py:55: UserWarning: SymbolDatabase.GetPrototype() is deprecated. Please use message_factory.GetMessageClass() instead. SymbolDatabase.GetPrototype() will be removed soon.\n",
      "  warnings.warn('SymbolDatabase.GetPrototype() is deprecated. Please '\n"
     ]
    },
    {
     "name": "stdout",
     "output_type": "stream",
     "text": [
      "정상\n",
      "정상\n",
      "정상\n"
     ]
    },
    {
     "name": "stderr",
     "output_type": "stream",
     "text": [
      "C:\\Users\\un747\\anaconda3\\envs\\fall\\lib\\site-packages\\google\\protobuf\\symbol_database.py:55: UserWarning: SymbolDatabase.GetPrototype() is deprecated. Please use message_factory.GetMessageClass() instead. SymbolDatabase.GetPrototype() will be removed soon.\n",
      "  warnings.warn('SymbolDatabase.GetPrototype() is deprecated. Please '\n",
      "C:\\Users\\un747\\anaconda3\\envs\\fall\\lib\\site-packages\\google\\protobuf\\symbol_database.py:55: UserWarning: SymbolDatabase.GetPrototype() is deprecated. Please use message_factory.GetMessageClass() instead. SymbolDatabase.GetPrototype() will be removed soon.\n",
      "  warnings.warn('SymbolDatabase.GetPrototype() is deprecated. Please '\n",
      "C:\\Users\\un747\\anaconda3\\envs\\fall\\lib\\site-packages\\google\\protobuf\\symbol_database.py:55: UserWarning: SymbolDatabase.GetPrototype() is deprecated. Please use message_factory.GetMessageClass() instead. SymbolDatabase.GetPrototype() will be removed soon.\n",
      "  warnings.warn('SymbolDatabase.GetPrototype() is deprecated. Please '\n"
     ]
    },
    {
     "name": "stdout",
     "output_type": "stream",
     "text": [
      "정상\n",
      "정상\n"
     ]
    },
    {
     "name": "stderr",
     "output_type": "stream",
     "text": [
      "C:\\Users\\un747\\anaconda3\\envs\\fall\\lib\\site-packages\\google\\protobuf\\symbol_database.py:55: UserWarning: SymbolDatabase.GetPrototype() is deprecated. Please use message_factory.GetMessageClass() instead. SymbolDatabase.GetPrototype() will be removed soon.\n",
      "  warnings.warn('SymbolDatabase.GetPrototype() is deprecated. Please '\n",
      "C:\\Users\\un747\\anaconda3\\envs\\fall\\lib\\site-packages\\google\\protobuf\\symbol_database.py:55: UserWarning: SymbolDatabase.GetPrototype() is deprecated. Please use message_factory.GetMessageClass() instead. SymbolDatabase.GetPrototype() will be removed soon.\n",
      "  warnings.warn('SymbolDatabase.GetPrototype() is deprecated. Please '\n",
      "C:\\Users\\un747\\anaconda3\\envs\\fall\\lib\\site-packages\\google\\protobuf\\symbol_database.py:55: UserWarning: SymbolDatabase.GetPrototype() is deprecated. Please use message_factory.GetMessageClass() instead. SymbolDatabase.GetPrototype() will be removed soon.\n",
      "  warnings.warn('SymbolDatabase.GetPrototype() is deprecated. Please '\n"
     ]
    },
    {
     "name": "stdout",
     "output_type": "stream",
     "text": [
      "정상\n",
      "낙상 167\n"
     ]
    },
    {
     "name": "stderr",
     "output_type": "stream",
     "text": [
      "C:\\Users\\un747\\anaconda3\\envs\\fall\\lib\\site-packages\\google\\protobuf\\symbol_database.py:55: UserWarning: SymbolDatabase.GetPrototype() is deprecated. Please use message_factory.GetMessageClass() instead. SymbolDatabase.GetPrototype() will be removed soon.\n",
      "  warnings.warn('SymbolDatabase.GetPrototype() is deprecated. Please '\n",
      "C:\\Users\\un747\\anaconda3\\envs\\fall\\lib\\site-packages\\google\\protobuf\\symbol_database.py:55: UserWarning: SymbolDatabase.GetPrototype() is deprecated. Please use message_factory.GetMessageClass() instead. SymbolDatabase.GetPrototype() will be removed soon.\n",
      "  warnings.warn('SymbolDatabase.GetPrototype() is deprecated. Please '\n",
      "C:\\Users\\un747\\anaconda3\\envs\\fall\\lib\\site-packages\\google\\protobuf\\symbol_database.py:55: UserWarning: SymbolDatabase.GetPrototype() is deprecated. Please use message_factory.GetMessageClass() instead. SymbolDatabase.GetPrototype() will be removed soon.\n",
      "  warnings.warn('SymbolDatabase.GetPrototype() is deprecated. Please '\n"
     ]
    },
    {
     "name": "stdout",
     "output_type": "stream",
     "text": [
      "낙상 168\n",
      "낙상 169\n",
      "낙상 170\n"
     ]
    },
    {
     "name": "stderr",
     "output_type": "stream",
     "text": [
      "C:\\Users\\un747\\anaconda3\\envs\\fall\\lib\\site-packages\\google\\protobuf\\symbol_database.py:55: UserWarning: SymbolDatabase.GetPrototype() is deprecated. Please use message_factory.GetMessageClass() instead. SymbolDatabase.GetPrototype() will be removed soon.\n",
      "  warnings.warn('SymbolDatabase.GetPrototype() is deprecated. Please '\n",
      "C:\\Users\\un747\\anaconda3\\envs\\fall\\lib\\site-packages\\google\\protobuf\\symbol_database.py:55: UserWarning: SymbolDatabase.GetPrototype() is deprecated. Please use message_factory.GetMessageClass() instead. SymbolDatabase.GetPrototype() will be removed soon.\n",
      "  warnings.warn('SymbolDatabase.GetPrototype() is deprecated. Please '\n"
     ]
    },
    {
     "name": "stdout",
     "output_type": "stream",
     "text": [
      "낙상 171\n",
      "낙상 172\n"
     ]
    },
    {
     "name": "stderr",
     "output_type": "stream",
     "text": [
      "C:\\Users\\un747\\anaconda3\\envs\\fall\\lib\\site-packages\\google\\protobuf\\symbol_database.py:55: UserWarning: SymbolDatabase.GetPrototype() is deprecated. Please use message_factory.GetMessageClass() instead. SymbolDatabase.GetPrototype() will be removed soon.\n",
      "  warnings.warn('SymbolDatabase.GetPrototype() is deprecated. Please '\n",
      "C:\\Users\\un747\\anaconda3\\envs\\fall\\lib\\site-packages\\google\\protobuf\\symbol_database.py:55: UserWarning: SymbolDatabase.GetPrototype() is deprecated. Please use message_factory.GetMessageClass() instead. SymbolDatabase.GetPrototype() will be removed soon.\n",
      "  warnings.warn('SymbolDatabase.GetPrototype() is deprecated. Please '\n",
      "C:\\Users\\un747\\anaconda3\\envs\\fall\\lib\\site-packages\\google\\protobuf\\symbol_database.py:55: UserWarning: SymbolDatabase.GetPrototype() is deprecated. Please use message_factory.GetMessageClass() instead. SymbolDatabase.GetPrototype() will be removed soon.\n",
      "  warnings.warn('SymbolDatabase.GetPrototype() is deprecated. Please '\n"
     ]
    },
    {
     "name": "stdout",
     "output_type": "stream",
     "text": [
      "낙상 173\n",
      "낙상 174\n",
      "낙상 175\n"
     ]
    },
    {
     "name": "stderr",
     "output_type": "stream",
     "text": [
      "C:\\Users\\un747\\anaconda3\\envs\\fall\\lib\\site-packages\\google\\protobuf\\symbol_database.py:55: UserWarning: SymbolDatabase.GetPrototype() is deprecated. Please use message_factory.GetMessageClass() instead. SymbolDatabase.GetPrototype() will be removed soon.\n",
      "  warnings.warn('SymbolDatabase.GetPrototype() is deprecated. Please '\n",
      "C:\\Users\\un747\\anaconda3\\envs\\fall\\lib\\site-packages\\google\\protobuf\\symbol_database.py:55: UserWarning: SymbolDatabase.GetPrototype() is deprecated. Please use message_factory.GetMessageClass() instead. SymbolDatabase.GetPrototype() will be removed soon.\n",
      "  warnings.warn('SymbolDatabase.GetPrototype() is deprecated. Please '\n",
      "C:\\Users\\un747\\anaconda3\\envs\\fall\\lib\\site-packages\\google\\protobuf\\symbol_database.py:55: UserWarning: SymbolDatabase.GetPrototype() is deprecated. Please use message_factory.GetMessageClass() instead. SymbolDatabase.GetPrototype() will be removed soon.\n",
      "  warnings.warn('SymbolDatabase.GetPrototype() is deprecated. Please '\n"
     ]
    },
    {
     "name": "stdout",
     "output_type": "stream",
     "text": [
      "낙상 176\n",
      "낙상 177\n",
      "낙상 178\n",
      "낙상 179\n",
      "낙상 180\n"
     ]
    },
    {
     "name": "stderr",
     "output_type": "stream",
     "text": [
      "C:\\Users\\un747\\anaconda3\\envs\\fall\\lib\\site-packages\\google\\protobuf\\symbol_database.py:55: UserWarning: SymbolDatabase.GetPrototype() is deprecated. Please use message_factory.GetMessageClass() instead. SymbolDatabase.GetPrototype() will be removed soon.\n",
      "  warnings.warn('SymbolDatabase.GetPrototype() is deprecated. Please '\n",
      "C:\\Users\\un747\\anaconda3\\envs\\fall\\lib\\site-packages\\google\\protobuf\\symbol_database.py:55: UserWarning: SymbolDatabase.GetPrototype() is deprecated. Please use message_factory.GetMessageClass() instead. SymbolDatabase.GetPrototype() will be removed soon.\n",
      "  warnings.warn('SymbolDatabase.GetPrototype() is deprecated. Please '\n",
      "C:\\Users\\un747\\anaconda3\\envs\\fall\\lib\\site-packages\\google\\protobuf\\symbol_database.py:55: UserWarning: SymbolDatabase.GetPrototype() is deprecated. Please use message_factory.GetMessageClass() instead. SymbolDatabase.GetPrototype() will be removed soon.\n",
      "  warnings.warn('SymbolDatabase.GetPrototype() is deprecated. Please '\n"
     ]
    },
    {
     "name": "stdout",
     "output_type": "stream",
     "text": [
      "낙상 181\n",
      "낙상 182\n",
      "낙상 183\n"
     ]
    },
    {
     "name": "stderr",
     "output_type": "stream",
     "text": [
      "C:\\Users\\un747\\anaconda3\\envs\\fall\\lib\\site-packages\\google\\protobuf\\symbol_database.py:55: UserWarning: SymbolDatabase.GetPrototype() is deprecated. Please use message_factory.GetMessageClass() instead. SymbolDatabase.GetPrototype() will be removed soon.\n",
      "  warnings.warn('SymbolDatabase.GetPrototype() is deprecated. Please '\n",
      "C:\\Users\\un747\\anaconda3\\envs\\fall\\lib\\site-packages\\google\\protobuf\\symbol_database.py:55: UserWarning: SymbolDatabase.GetPrototype() is deprecated. Please use message_factory.GetMessageClass() instead. SymbolDatabase.GetPrototype() will be removed soon.\n",
      "  warnings.warn('SymbolDatabase.GetPrototype() is deprecated. Please '\n",
      "C:\\Users\\un747\\anaconda3\\envs\\fall\\lib\\site-packages\\google\\protobuf\\symbol_database.py:55: UserWarning: SymbolDatabase.GetPrototype() is deprecated. Please use message_factory.GetMessageClass() instead. SymbolDatabase.GetPrototype() will be removed soon.\n",
      "  warnings.warn('SymbolDatabase.GetPrototype() is deprecated. Please '\n",
      "C:\\Users\\un747\\anaconda3\\envs\\fall\\lib\\site-packages\\google\\protobuf\\symbol_database.py:55: UserWarning: SymbolDatabase.GetPrototype() is deprecated. Please use message_factory.GetMessageClass() instead. SymbolDatabase.GetPrototype() will be removed soon.\n",
      "  warnings.warn('SymbolDatabase.GetPrototype() is deprecated. Please '\n"
     ]
    },
    {
     "name": "stdout",
     "output_type": "stream",
     "text": [
      "낙상 184\n",
      "낙상 185\n"
     ]
    },
    {
     "name": "stderr",
     "output_type": "stream",
     "text": [
      "C:\\Users\\un747\\anaconda3\\envs\\fall\\lib\\site-packages\\google\\protobuf\\symbol_database.py:55: UserWarning: SymbolDatabase.GetPrototype() is deprecated. Please use message_factory.GetMessageClass() instead. SymbolDatabase.GetPrototype() will be removed soon.\n",
      "  warnings.warn('SymbolDatabase.GetPrototype() is deprecated. Please '\n",
      "C:\\Users\\un747\\anaconda3\\envs\\fall\\lib\\site-packages\\google\\protobuf\\symbol_database.py:55: UserWarning: SymbolDatabase.GetPrototype() is deprecated. Please use message_factory.GetMessageClass() instead. SymbolDatabase.GetPrototype() will be removed soon.\n",
      "  warnings.warn('SymbolDatabase.GetPrototype() is deprecated. Please '\n"
     ]
    },
    {
     "name": "stdout",
     "output_type": "stream",
     "text": [
      "낙상 186\n",
      "낙상 187\n"
     ]
    },
    {
     "name": "stderr",
     "output_type": "stream",
     "text": [
      "C:\\Users\\un747\\anaconda3\\envs\\fall\\lib\\site-packages\\google\\protobuf\\symbol_database.py:55: UserWarning: SymbolDatabase.GetPrototype() is deprecated. Please use message_factory.GetMessageClass() instead. SymbolDatabase.GetPrototype() will be removed soon.\n",
      "  warnings.warn('SymbolDatabase.GetPrototype() is deprecated. Please '\n",
      "C:\\Users\\un747\\anaconda3\\envs\\fall\\lib\\site-packages\\google\\protobuf\\symbol_database.py:55: UserWarning: SymbolDatabase.GetPrototype() is deprecated. Please use message_factory.GetMessageClass() instead. SymbolDatabase.GetPrototype() will be removed soon.\n",
      "  warnings.warn('SymbolDatabase.GetPrototype() is deprecated. Please '\n"
     ]
    },
    {
     "name": "stdout",
     "output_type": "stream",
     "text": [
      "낙상 188\n",
      "낙상 189\n"
     ]
    },
    {
     "name": "stderr",
     "output_type": "stream",
     "text": [
      "C:\\Users\\un747\\anaconda3\\envs\\fall\\lib\\site-packages\\google\\protobuf\\symbol_database.py:55: UserWarning: SymbolDatabase.GetPrototype() is deprecated. Please use message_factory.GetMessageClass() instead. SymbolDatabase.GetPrototype() will be removed soon.\n",
      "  warnings.warn('SymbolDatabase.GetPrototype() is deprecated. Please '\n",
      "C:\\Users\\un747\\anaconda3\\envs\\fall\\lib\\site-packages\\google\\protobuf\\symbol_database.py:55: UserWarning: SymbolDatabase.GetPrototype() is deprecated. Please use message_factory.GetMessageClass() instead. SymbolDatabase.GetPrototype() will be removed soon.\n",
      "  warnings.warn('SymbolDatabase.GetPrototype() is deprecated. Please '\n"
     ]
    },
    {
     "name": "stdout",
     "output_type": "stream",
     "text": [
      "낙상 190\n",
      "낙상 191\n"
     ]
    },
    {
     "name": "stderr",
     "output_type": "stream",
     "text": [
      "C:\\Users\\un747\\anaconda3\\envs\\fall\\lib\\site-packages\\google\\protobuf\\symbol_database.py:55: UserWarning: SymbolDatabase.GetPrototype() is deprecated. Please use message_factory.GetMessageClass() instead. SymbolDatabase.GetPrototype() will be removed soon.\n",
      "  warnings.warn('SymbolDatabase.GetPrototype() is deprecated. Please '\n",
      "C:\\Users\\un747\\anaconda3\\envs\\fall\\lib\\site-packages\\google\\protobuf\\symbol_database.py:55: UserWarning: SymbolDatabase.GetPrototype() is deprecated. Please use message_factory.GetMessageClass() instead. SymbolDatabase.GetPrototype() will be removed soon.\n",
      "  warnings.warn('SymbolDatabase.GetPrototype() is deprecated. Please '\n",
      "C:\\Users\\un747\\anaconda3\\envs\\fall\\lib\\site-packages\\google\\protobuf\\symbol_database.py:55: UserWarning: SymbolDatabase.GetPrototype() is deprecated. Please use message_factory.GetMessageClass() instead. SymbolDatabase.GetPrototype() will be removed soon.\n",
      "  warnings.warn('SymbolDatabase.GetPrototype() is deprecated. Please '\n"
     ]
    },
    {
     "name": "stdout",
     "output_type": "stream",
     "text": [
      "낙상 192\n",
      "낙상 193\n",
      "낙상 194\n"
     ]
    },
    {
     "name": "stderr",
     "output_type": "stream",
     "text": [
      "C:\\Users\\un747\\anaconda3\\envs\\fall\\lib\\site-packages\\google\\protobuf\\symbol_database.py:55: UserWarning: SymbolDatabase.GetPrototype() is deprecated. Please use message_factory.GetMessageClass() instead. SymbolDatabase.GetPrototype() will be removed soon.\n",
      "  warnings.warn('SymbolDatabase.GetPrototype() is deprecated. Please '\n",
      "C:\\Users\\un747\\anaconda3\\envs\\fall\\lib\\site-packages\\google\\protobuf\\symbol_database.py:55: UserWarning: SymbolDatabase.GetPrototype() is deprecated. Please use message_factory.GetMessageClass() instead. SymbolDatabase.GetPrototype() will be removed soon.\n",
      "  warnings.warn('SymbolDatabase.GetPrototype() is deprecated. Please '\n"
     ]
    },
    {
     "name": "stdout",
     "output_type": "stream",
     "text": [
      "낙상 195\n",
      "낙상 196\n"
     ]
    },
    {
     "name": "stderr",
     "output_type": "stream",
     "text": [
      "C:\\Users\\un747\\anaconda3\\envs\\fall\\lib\\site-packages\\google\\protobuf\\symbol_database.py:55: UserWarning: SymbolDatabase.GetPrototype() is deprecated. Please use message_factory.GetMessageClass() instead. SymbolDatabase.GetPrototype() will be removed soon.\n",
      "  warnings.warn('SymbolDatabase.GetPrototype() is deprecated. Please '\n",
      "C:\\Users\\un747\\anaconda3\\envs\\fall\\lib\\site-packages\\google\\protobuf\\symbol_database.py:55: UserWarning: SymbolDatabase.GetPrototype() is deprecated. Please use message_factory.GetMessageClass() instead. SymbolDatabase.GetPrototype() will be removed soon.\n",
      "  warnings.warn('SymbolDatabase.GetPrototype() is deprecated. Please '\n"
     ]
    },
    {
     "name": "stdout",
     "output_type": "stream",
     "text": [
      "낙상 197\n",
      "낙상 198\n"
     ]
    },
    {
     "name": "stderr",
     "output_type": "stream",
     "text": [
      "C:\\Users\\un747\\anaconda3\\envs\\fall\\lib\\site-packages\\google\\protobuf\\symbol_database.py:55: UserWarning: SymbolDatabase.GetPrototype() is deprecated. Please use message_factory.GetMessageClass() instead. SymbolDatabase.GetPrototype() will be removed soon.\n",
      "  warnings.warn('SymbolDatabase.GetPrototype() is deprecated. Please '\n",
      "C:\\Users\\un747\\anaconda3\\envs\\fall\\lib\\site-packages\\google\\protobuf\\symbol_database.py:55: UserWarning: SymbolDatabase.GetPrototype() is deprecated. Please use message_factory.GetMessageClass() instead. SymbolDatabase.GetPrototype() will be removed soon.\n",
      "  warnings.warn('SymbolDatabase.GetPrototype() is deprecated. Please '\n"
     ]
    },
    {
     "name": "stdout",
     "output_type": "stream",
     "text": [
      "낙상 199\n",
      "낙상 200\n"
     ]
    },
    {
     "name": "stderr",
     "output_type": "stream",
     "text": [
      "C:\\Users\\un747\\anaconda3\\envs\\fall\\lib\\site-packages\\google\\protobuf\\symbol_database.py:55: UserWarning: SymbolDatabase.GetPrototype() is deprecated. Please use message_factory.GetMessageClass() instead. SymbolDatabase.GetPrototype() will be removed soon.\n",
      "  warnings.warn('SymbolDatabase.GetPrototype() is deprecated. Please '\n",
      "C:\\Users\\un747\\anaconda3\\envs\\fall\\lib\\site-packages\\google\\protobuf\\symbol_database.py:55: UserWarning: SymbolDatabase.GetPrototype() is deprecated. Please use message_factory.GetMessageClass() instead. SymbolDatabase.GetPrototype() will be removed soon.\n",
      "  warnings.warn('SymbolDatabase.GetPrototype() is deprecated. Please '\n",
      "C:\\Users\\un747\\anaconda3\\envs\\fall\\lib\\site-packages\\google\\protobuf\\symbol_database.py:55: UserWarning: SymbolDatabase.GetPrototype() is deprecated. Please use message_factory.GetMessageClass() instead. SymbolDatabase.GetPrototype() will be removed soon.\n",
      "  warnings.warn('SymbolDatabase.GetPrototype() is deprecated. Please '\n"
     ]
    },
    {
     "name": "stdout",
     "output_type": "stream",
     "text": [
      "낙상 201\n",
      "낙상 202\n",
      "낙상 203\n",
      "낙상 204\n"
     ]
    },
    {
     "name": "stderr",
     "output_type": "stream",
     "text": [
      "C:\\Users\\un747\\anaconda3\\envs\\fall\\lib\\site-packages\\google\\protobuf\\symbol_database.py:55: UserWarning: SymbolDatabase.GetPrototype() is deprecated. Please use message_factory.GetMessageClass() instead. SymbolDatabase.GetPrototype() will be removed soon.\n",
      "  warnings.warn('SymbolDatabase.GetPrototype() is deprecated. Please '\n",
      "C:\\Users\\un747\\anaconda3\\envs\\fall\\lib\\site-packages\\google\\protobuf\\symbol_database.py:55: UserWarning: SymbolDatabase.GetPrototype() is deprecated. Please use message_factory.GetMessageClass() instead. SymbolDatabase.GetPrototype() will be removed soon.\n",
      "  warnings.warn('SymbolDatabase.GetPrototype() is deprecated. Please '\n"
     ]
    },
    {
     "name": "stdout",
     "output_type": "stream",
     "text": [
      "낙상 205\n",
      "낙상 206\n"
     ]
    },
    {
     "name": "stderr",
     "output_type": "stream",
     "text": [
      "C:\\Users\\un747\\anaconda3\\envs\\fall\\lib\\site-packages\\google\\protobuf\\symbol_database.py:55: UserWarning: SymbolDatabase.GetPrototype() is deprecated. Please use message_factory.GetMessageClass() instead. SymbolDatabase.GetPrototype() will be removed soon.\n",
      "  warnings.warn('SymbolDatabase.GetPrototype() is deprecated. Please '\n",
      "C:\\Users\\un747\\anaconda3\\envs\\fall\\lib\\site-packages\\google\\protobuf\\symbol_database.py:55: UserWarning: SymbolDatabase.GetPrototype() is deprecated. Please use message_factory.GetMessageClass() instead. SymbolDatabase.GetPrototype() will be removed soon.\n",
      "  warnings.warn('SymbolDatabase.GetPrototype() is deprecated. Please '\n"
     ]
    },
    {
     "name": "stdout",
     "output_type": "stream",
     "text": [
      "낙상 207\n",
      "낙상 208\n"
     ]
    },
    {
     "name": "stderr",
     "output_type": "stream",
     "text": [
      "C:\\Users\\un747\\anaconda3\\envs\\fall\\lib\\site-packages\\google\\protobuf\\symbol_database.py:55: UserWarning: SymbolDatabase.GetPrototype() is deprecated. Please use message_factory.GetMessageClass() instead. SymbolDatabase.GetPrototype() will be removed soon.\n",
      "  warnings.warn('SymbolDatabase.GetPrototype() is deprecated. Please '\n",
      "C:\\Users\\un747\\anaconda3\\envs\\fall\\lib\\site-packages\\google\\protobuf\\symbol_database.py:55: UserWarning: SymbolDatabase.GetPrototype() is deprecated. Please use message_factory.GetMessageClass() instead. SymbolDatabase.GetPrototype() will be removed soon.\n",
      "  warnings.warn('SymbolDatabase.GetPrototype() is deprecated. Please '\n"
     ]
    },
    {
     "name": "stdout",
     "output_type": "stream",
     "text": [
      "낙상 209\n",
      "낙상 210\n"
     ]
    },
    {
     "name": "stderr",
     "output_type": "stream",
     "text": [
      "C:\\Users\\un747\\anaconda3\\envs\\fall\\lib\\site-packages\\google\\protobuf\\symbol_database.py:55: UserWarning: SymbolDatabase.GetPrototype() is deprecated. Please use message_factory.GetMessageClass() instead. SymbolDatabase.GetPrototype() will be removed soon.\n",
      "  warnings.warn('SymbolDatabase.GetPrototype() is deprecated. Please '\n",
      "C:\\Users\\un747\\anaconda3\\envs\\fall\\lib\\site-packages\\google\\protobuf\\symbol_database.py:55: UserWarning: SymbolDatabase.GetPrototype() is deprecated. Please use message_factory.GetMessageClass() instead. SymbolDatabase.GetPrototype() will be removed soon.\n",
      "  warnings.warn('SymbolDatabase.GetPrototype() is deprecated. Please '\n"
     ]
    },
    {
     "name": "stdout",
     "output_type": "stream",
     "text": [
      "낙상 211\n",
      "낙상 212\n",
      "낙상 213\n"
     ]
    },
    {
     "name": "stderr",
     "output_type": "stream",
     "text": [
      "C:\\Users\\un747\\anaconda3\\envs\\fall\\lib\\site-packages\\google\\protobuf\\symbol_database.py:55: UserWarning: SymbolDatabase.GetPrototype() is deprecated. Please use message_factory.GetMessageClass() instead. SymbolDatabase.GetPrototype() will be removed soon.\n",
      "  warnings.warn('SymbolDatabase.GetPrototype() is deprecated. Please '\n",
      "C:\\Users\\un747\\anaconda3\\envs\\fall\\lib\\site-packages\\google\\protobuf\\symbol_database.py:55: UserWarning: SymbolDatabase.GetPrototype() is deprecated. Please use message_factory.GetMessageClass() instead. SymbolDatabase.GetPrototype() will be removed soon.\n",
      "  warnings.warn('SymbolDatabase.GetPrototype() is deprecated. Please '\n",
      "C:\\Users\\un747\\anaconda3\\envs\\fall\\lib\\site-packages\\google\\protobuf\\symbol_database.py:55: UserWarning: SymbolDatabase.GetPrototype() is deprecated. Please use message_factory.GetMessageClass() instead. SymbolDatabase.GetPrototype() will be removed soon.\n",
      "  warnings.warn('SymbolDatabase.GetPrototype() is deprecated. Please '\n"
     ]
    },
    {
     "name": "stdout",
     "output_type": "stream",
     "text": [
      "낙상 214\n",
      "낙상 215\n",
      "낙상 216\n"
     ]
    },
    {
     "name": "stderr",
     "output_type": "stream",
     "text": [
      "C:\\Users\\un747\\anaconda3\\envs\\fall\\lib\\site-packages\\google\\protobuf\\symbol_database.py:55: UserWarning: SymbolDatabase.GetPrototype() is deprecated. Please use message_factory.GetMessageClass() instead. SymbolDatabase.GetPrototype() will be removed soon.\n",
      "  warnings.warn('SymbolDatabase.GetPrototype() is deprecated. Please '\n",
      "C:\\Users\\un747\\anaconda3\\envs\\fall\\lib\\site-packages\\google\\protobuf\\symbol_database.py:55: UserWarning: SymbolDatabase.GetPrototype() is deprecated. Please use message_factory.GetMessageClass() instead. SymbolDatabase.GetPrototype() will be removed soon.\n",
      "  warnings.warn('SymbolDatabase.GetPrototype() is deprecated. Please '\n",
      "C:\\Users\\un747\\anaconda3\\envs\\fall\\lib\\site-packages\\google\\protobuf\\symbol_database.py:55: UserWarning: SymbolDatabase.GetPrototype() is deprecated. Please use message_factory.GetMessageClass() instead. SymbolDatabase.GetPrototype() will be removed soon.\n",
      "  warnings.warn('SymbolDatabase.GetPrototype() is deprecated. Please '\n"
     ]
    },
    {
     "name": "stdout",
     "output_type": "stream",
     "text": [
      "낙상 217\n",
      "낙상 218\n",
      "낙상 219\n"
     ]
    },
    {
     "name": "stderr",
     "output_type": "stream",
     "text": [
      "C:\\Users\\un747\\anaconda3\\envs\\fall\\lib\\site-packages\\google\\protobuf\\symbol_database.py:55: UserWarning: SymbolDatabase.GetPrototype() is deprecated. Please use message_factory.GetMessageClass() instead. SymbolDatabase.GetPrototype() will be removed soon.\n",
      "  warnings.warn('SymbolDatabase.GetPrototype() is deprecated. Please '\n",
      "C:\\Users\\un747\\anaconda3\\envs\\fall\\lib\\site-packages\\google\\protobuf\\symbol_database.py:55: UserWarning: SymbolDatabase.GetPrototype() is deprecated. Please use message_factory.GetMessageClass() instead. SymbolDatabase.GetPrototype() will be removed soon.\n",
      "  warnings.warn('SymbolDatabase.GetPrototype() is deprecated. Please '\n",
      "C:\\Users\\un747\\anaconda3\\envs\\fall\\lib\\site-packages\\google\\protobuf\\symbol_database.py:55: UserWarning: SymbolDatabase.GetPrototype() is deprecated. Please use message_factory.GetMessageClass() instead. SymbolDatabase.GetPrototype() will be removed soon.\n",
      "  warnings.warn('SymbolDatabase.GetPrototype() is deprecated. Please '\n",
      "C:\\Users\\un747\\anaconda3\\envs\\fall\\lib\\site-packages\\google\\protobuf\\symbol_database.py:55: UserWarning: SymbolDatabase.GetPrototype() is deprecated. Please use message_factory.GetMessageClass() instead. SymbolDatabase.GetPrototype() will be removed soon.\n",
      "  warnings.warn('SymbolDatabase.GetPrototype() is deprecated. Please '\n"
     ]
    },
    {
     "name": "stdout",
     "output_type": "stream",
     "text": [
      "낙상 220\n",
      "낙상 221\n"
     ]
    },
    {
     "name": "stderr",
     "output_type": "stream",
     "text": [
      "C:\\Users\\un747\\anaconda3\\envs\\fall\\lib\\site-packages\\google\\protobuf\\symbol_database.py:55: UserWarning: SymbolDatabase.GetPrototype() is deprecated. Please use message_factory.GetMessageClass() instead. SymbolDatabase.GetPrototype() will be removed soon.\n",
      "  warnings.warn('SymbolDatabase.GetPrototype() is deprecated. Please '\n",
      "C:\\Users\\un747\\anaconda3\\envs\\fall\\lib\\site-packages\\google\\protobuf\\symbol_database.py:55: UserWarning: SymbolDatabase.GetPrototype() is deprecated. Please use message_factory.GetMessageClass() instead. SymbolDatabase.GetPrototype() will be removed soon.\n",
      "  warnings.warn('SymbolDatabase.GetPrototype() is deprecated. Please '\n",
      "C:\\Users\\un747\\anaconda3\\envs\\fall\\lib\\site-packages\\google\\protobuf\\symbol_database.py:55: UserWarning: SymbolDatabase.GetPrototype() is deprecated. Please use message_factory.GetMessageClass() instead. SymbolDatabase.GetPrototype() will be removed soon.\n",
      "  warnings.warn('SymbolDatabase.GetPrototype() is deprecated. Please '\n"
     ]
    },
    {
     "name": "stdout",
     "output_type": "stream",
     "text": [
      "낙상 222\n",
      "낙상 223\n",
      "낙상 224\n"
     ]
    },
    {
     "name": "stderr",
     "output_type": "stream",
     "text": [
      "C:\\Users\\un747\\anaconda3\\envs\\fall\\lib\\site-packages\\google\\protobuf\\symbol_database.py:55: UserWarning: SymbolDatabase.GetPrototype() is deprecated. Please use message_factory.GetMessageClass() instead. SymbolDatabase.GetPrototype() will be removed soon.\n",
      "  warnings.warn('SymbolDatabase.GetPrototype() is deprecated. Please '\n",
      "C:\\Users\\un747\\anaconda3\\envs\\fall\\lib\\site-packages\\google\\protobuf\\symbol_database.py:55: UserWarning: SymbolDatabase.GetPrototype() is deprecated. Please use message_factory.GetMessageClass() instead. SymbolDatabase.GetPrototype() will be removed soon.\n",
      "  warnings.warn('SymbolDatabase.GetPrototype() is deprecated. Please '\n",
      "C:\\Users\\un747\\anaconda3\\envs\\fall\\lib\\site-packages\\google\\protobuf\\symbol_database.py:55: UserWarning: SymbolDatabase.GetPrototype() is deprecated. Please use message_factory.GetMessageClass() instead. SymbolDatabase.GetPrototype() will be removed soon.\n",
      "  warnings.warn('SymbolDatabase.GetPrototype() is deprecated. Please '\n"
     ]
    },
    {
     "name": "stdout",
     "output_type": "stream",
     "text": [
      "낙상 225\n",
      "낙상 226\n",
      "낙상 227\n"
     ]
    },
    {
     "name": "stderr",
     "output_type": "stream",
     "text": [
      "C:\\Users\\un747\\anaconda3\\envs\\fall\\lib\\site-packages\\google\\protobuf\\symbol_database.py:55: UserWarning: SymbolDatabase.GetPrototype() is deprecated. Please use message_factory.GetMessageClass() instead. SymbolDatabase.GetPrototype() will be removed soon.\n",
      "  warnings.warn('SymbolDatabase.GetPrototype() is deprecated. Please '\n",
      "C:\\Users\\un747\\anaconda3\\envs\\fall\\lib\\site-packages\\google\\protobuf\\symbol_database.py:55: UserWarning: SymbolDatabase.GetPrototype() is deprecated. Please use message_factory.GetMessageClass() instead. SymbolDatabase.GetPrototype() will be removed soon.\n",
      "  warnings.warn('SymbolDatabase.GetPrototype() is deprecated. Please '\n",
      "C:\\Users\\un747\\anaconda3\\envs\\fall\\lib\\site-packages\\google\\protobuf\\symbol_database.py:55: UserWarning: SymbolDatabase.GetPrototype() is deprecated. Please use message_factory.GetMessageClass() instead. SymbolDatabase.GetPrototype() will be removed soon.\n",
      "  warnings.warn('SymbolDatabase.GetPrototype() is deprecated. Please '\n"
     ]
    },
    {
     "name": "stdout",
     "output_type": "stream",
     "text": [
      "낙상 228\n",
      "낙상 229\n",
      "낙상 230\n"
     ]
    },
    {
     "name": "stderr",
     "output_type": "stream",
     "text": [
      "C:\\Users\\un747\\anaconda3\\envs\\fall\\lib\\site-packages\\google\\protobuf\\symbol_database.py:55: UserWarning: SymbolDatabase.GetPrototype() is deprecated. Please use message_factory.GetMessageClass() instead. SymbolDatabase.GetPrototype() will be removed soon.\n",
      "  warnings.warn('SymbolDatabase.GetPrototype() is deprecated. Please '\n",
      "C:\\Users\\un747\\anaconda3\\envs\\fall\\lib\\site-packages\\google\\protobuf\\symbol_database.py:55: UserWarning: SymbolDatabase.GetPrototype() is deprecated. Please use message_factory.GetMessageClass() instead. SymbolDatabase.GetPrototype() will be removed soon.\n",
      "  warnings.warn('SymbolDatabase.GetPrototype() is deprecated. Please '\n",
      "C:\\Users\\un747\\anaconda3\\envs\\fall\\lib\\site-packages\\google\\protobuf\\symbol_database.py:55: UserWarning: SymbolDatabase.GetPrototype() is deprecated. Please use message_factory.GetMessageClass() instead. SymbolDatabase.GetPrototype() will be removed soon.\n",
      "  warnings.warn('SymbolDatabase.GetPrototype() is deprecated. Please '\n"
     ]
    },
    {
     "name": "stdout",
     "output_type": "stream",
     "text": [
      "낙상 231\n",
      "낙상 232\n",
      "낙상 233\n"
     ]
    },
    {
     "name": "stderr",
     "output_type": "stream",
     "text": [
      "C:\\Users\\un747\\anaconda3\\envs\\fall\\lib\\site-packages\\google\\protobuf\\symbol_database.py:55: UserWarning: SymbolDatabase.GetPrototype() is deprecated. Please use message_factory.GetMessageClass() instead. SymbolDatabase.GetPrototype() will be removed soon.\n",
      "  warnings.warn('SymbolDatabase.GetPrototype() is deprecated. Please '\n",
      "C:\\Users\\un747\\anaconda3\\envs\\fall\\lib\\site-packages\\google\\protobuf\\symbol_database.py:55: UserWarning: SymbolDatabase.GetPrototype() is deprecated. Please use message_factory.GetMessageClass() instead. SymbolDatabase.GetPrototype() will be removed soon.\n",
      "  warnings.warn('SymbolDatabase.GetPrototype() is deprecated. Please '\n",
      "C:\\Users\\un747\\anaconda3\\envs\\fall\\lib\\site-packages\\google\\protobuf\\symbol_database.py:55: UserWarning: SymbolDatabase.GetPrototype() is deprecated. Please use message_factory.GetMessageClass() instead. SymbolDatabase.GetPrototype() will be removed soon.\n",
      "  warnings.warn('SymbolDatabase.GetPrototype() is deprecated. Please '\n"
     ]
    },
    {
     "name": "stdout",
     "output_type": "stream",
     "text": [
      "낙상 234\n",
      "낙상 235\n",
      "낙상 236\n",
      "낙상 237\n",
      "낙상 238\n"
     ]
    },
    {
     "name": "stderr",
     "output_type": "stream",
     "text": [
      "C:\\Users\\un747\\anaconda3\\envs\\fall\\lib\\site-packages\\google\\protobuf\\symbol_database.py:55: UserWarning: SymbolDatabase.GetPrototype() is deprecated. Please use message_factory.GetMessageClass() instead. SymbolDatabase.GetPrototype() will be removed soon.\n",
      "  warnings.warn('SymbolDatabase.GetPrototype() is deprecated. Please '\n",
      "C:\\Users\\un747\\anaconda3\\envs\\fall\\lib\\site-packages\\google\\protobuf\\symbol_database.py:55: UserWarning: SymbolDatabase.GetPrototype() is deprecated. Please use message_factory.GetMessageClass() instead. SymbolDatabase.GetPrototype() will be removed soon.\n",
      "  warnings.warn('SymbolDatabase.GetPrototype() is deprecated. Please '\n",
      "C:\\Users\\un747\\anaconda3\\envs\\fall\\lib\\site-packages\\google\\protobuf\\symbol_database.py:55: UserWarning: SymbolDatabase.GetPrototype() is deprecated. Please use message_factory.GetMessageClass() instead. SymbolDatabase.GetPrototype() will be removed soon.\n",
      "  warnings.warn('SymbolDatabase.GetPrototype() is deprecated. Please '\n",
      "C:\\Users\\un747\\anaconda3\\envs\\fall\\lib\\site-packages\\google\\protobuf\\symbol_database.py:55: UserWarning: SymbolDatabase.GetPrototype() is deprecated. Please use message_factory.GetMessageClass() instead. SymbolDatabase.GetPrototype() will be removed soon.\n",
      "  warnings.warn('SymbolDatabase.GetPrototype() is deprecated. Please '\n",
      "C:\\Users\\un747\\anaconda3\\envs\\fall\\lib\\site-packages\\google\\protobuf\\symbol_database.py:55: UserWarning: SymbolDatabase.GetPrototype() is deprecated. Please use message_factory.GetMessageClass() instead. SymbolDatabase.GetPrototype() will be removed soon.\n",
      "  warnings.warn('SymbolDatabase.GetPrototype() is deprecated. Please '\n"
     ]
    },
    {
     "name": "stdout",
     "output_type": "stream",
     "text": [
      "낙상 239\n",
      "낙상 240\n",
      "낙상 241\n"
     ]
    },
    {
     "name": "stderr",
     "output_type": "stream",
     "text": [
      "C:\\Users\\un747\\anaconda3\\envs\\fall\\lib\\site-packages\\google\\protobuf\\symbol_database.py:55: UserWarning: SymbolDatabase.GetPrototype() is deprecated. Please use message_factory.GetMessageClass() instead. SymbolDatabase.GetPrototype() will be removed soon.\n",
      "  warnings.warn('SymbolDatabase.GetPrototype() is deprecated. Please '\n",
      "C:\\Users\\un747\\anaconda3\\envs\\fall\\lib\\site-packages\\google\\protobuf\\symbol_database.py:55: UserWarning: SymbolDatabase.GetPrototype() is deprecated. Please use message_factory.GetMessageClass() instead. SymbolDatabase.GetPrototype() will be removed soon.\n",
      "  warnings.warn('SymbolDatabase.GetPrototype() is deprecated. Please '\n"
     ]
    },
    {
     "name": "stdout",
     "output_type": "stream",
     "text": [
      "낙상 242\n",
      "낙상 243\n"
     ]
    },
    {
     "name": "stderr",
     "output_type": "stream",
     "text": [
      "C:\\Users\\un747\\anaconda3\\envs\\fall\\lib\\site-packages\\google\\protobuf\\symbol_database.py:55: UserWarning: SymbolDatabase.GetPrototype() is deprecated. Please use message_factory.GetMessageClass() instead. SymbolDatabase.GetPrototype() will be removed soon.\n",
      "  warnings.warn('SymbolDatabase.GetPrototype() is deprecated. Please '\n",
      "C:\\Users\\un747\\anaconda3\\envs\\fall\\lib\\site-packages\\google\\protobuf\\symbol_database.py:55: UserWarning: SymbolDatabase.GetPrototype() is deprecated. Please use message_factory.GetMessageClass() instead. SymbolDatabase.GetPrototype() will be removed soon.\n",
      "  warnings.warn('SymbolDatabase.GetPrototype() is deprecated. Please '\n",
      "C:\\Users\\un747\\anaconda3\\envs\\fall\\lib\\site-packages\\google\\protobuf\\symbol_database.py:55: UserWarning: SymbolDatabase.GetPrototype() is deprecated. Please use message_factory.GetMessageClass() instead. SymbolDatabase.GetPrototype() will be removed soon.\n",
      "  warnings.warn('SymbolDatabase.GetPrototype() is deprecated. Please '\n"
     ]
    },
    {
     "name": "stdout",
     "output_type": "stream",
     "text": [
      "낙상 244\n",
      "낙상 245\n",
      "낙상 246\n"
     ]
    },
    {
     "name": "stderr",
     "output_type": "stream",
     "text": [
      "C:\\Users\\un747\\anaconda3\\envs\\fall\\lib\\site-packages\\google\\protobuf\\symbol_database.py:55: UserWarning: SymbolDatabase.GetPrototype() is deprecated. Please use message_factory.GetMessageClass() instead. SymbolDatabase.GetPrototype() will be removed soon.\n",
      "  warnings.warn('SymbolDatabase.GetPrototype() is deprecated. Please '\n",
      "C:\\Users\\un747\\anaconda3\\envs\\fall\\lib\\site-packages\\google\\protobuf\\symbol_database.py:55: UserWarning: SymbolDatabase.GetPrototype() is deprecated. Please use message_factory.GetMessageClass() instead. SymbolDatabase.GetPrototype() will be removed soon.\n",
      "  warnings.warn('SymbolDatabase.GetPrototype() is deprecated. Please '\n"
     ]
    },
    {
     "name": "stdout",
     "output_type": "stream",
     "text": [
      "낙상 247\n",
      "낙상 248\n"
     ]
    },
    {
     "name": "stderr",
     "output_type": "stream",
     "text": [
      "C:\\Users\\un747\\anaconda3\\envs\\fall\\lib\\site-packages\\google\\protobuf\\symbol_database.py:55: UserWarning: SymbolDatabase.GetPrototype() is deprecated. Please use message_factory.GetMessageClass() instead. SymbolDatabase.GetPrototype() will be removed soon.\n",
      "  warnings.warn('SymbolDatabase.GetPrototype() is deprecated. Please '\n",
      "C:\\Users\\un747\\anaconda3\\envs\\fall\\lib\\site-packages\\google\\protobuf\\symbol_database.py:55: UserWarning: SymbolDatabase.GetPrototype() is deprecated. Please use message_factory.GetMessageClass() instead. SymbolDatabase.GetPrototype() will be removed soon.\n",
      "  warnings.warn('SymbolDatabase.GetPrototype() is deprecated. Please '\n",
      "C:\\Users\\un747\\anaconda3\\envs\\fall\\lib\\site-packages\\google\\protobuf\\symbol_database.py:55: UserWarning: SymbolDatabase.GetPrototype() is deprecated. Please use message_factory.GetMessageClass() instead. SymbolDatabase.GetPrototype() will be removed soon.\n",
      "  warnings.warn('SymbolDatabase.GetPrototype() is deprecated. Please '\n"
     ]
    },
    {
     "name": "stdout",
     "output_type": "stream",
     "text": [
      "낙상 249\n",
      "낙상 250\n",
      "낙상 251\n"
     ]
    },
    {
     "name": "stderr",
     "output_type": "stream",
     "text": [
      "C:\\Users\\un747\\anaconda3\\envs\\fall\\lib\\site-packages\\google\\protobuf\\symbol_database.py:55: UserWarning: SymbolDatabase.GetPrototype() is deprecated. Please use message_factory.GetMessageClass() instead. SymbolDatabase.GetPrototype() will be removed soon.\n",
      "  warnings.warn('SymbolDatabase.GetPrototype() is deprecated. Please '\n",
      "C:\\Users\\un747\\anaconda3\\envs\\fall\\lib\\site-packages\\google\\protobuf\\symbol_database.py:55: UserWarning: SymbolDatabase.GetPrototype() is deprecated. Please use message_factory.GetMessageClass() instead. SymbolDatabase.GetPrototype() will be removed soon.\n",
      "  warnings.warn('SymbolDatabase.GetPrototype() is deprecated. Please '\n"
     ]
    },
    {
     "name": "stdout",
     "output_type": "stream",
     "text": [
      "낙상 252\n",
      "낙상 253\n"
     ]
    },
    {
     "name": "stderr",
     "output_type": "stream",
     "text": [
      "C:\\Users\\un747\\anaconda3\\envs\\fall\\lib\\site-packages\\google\\protobuf\\symbol_database.py:55: UserWarning: SymbolDatabase.GetPrototype() is deprecated. Please use message_factory.GetMessageClass() instead. SymbolDatabase.GetPrototype() will be removed soon.\n",
      "  warnings.warn('SymbolDatabase.GetPrototype() is deprecated. Please '\n",
      "C:\\Users\\un747\\anaconda3\\envs\\fall\\lib\\site-packages\\google\\protobuf\\symbol_database.py:55: UserWarning: SymbolDatabase.GetPrototype() is deprecated. Please use message_factory.GetMessageClass() instead. SymbolDatabase.GetPrototype() will be removed soon.\n",
      "  warnings.warn('SymbolDatabase.GetPrototype() is deprecated. Please '\n",
      "C:\\Users\\un747\\anaconda3\\envs\\fall\\lib\\site-packages\\google\\protobuf\\symbol_database.py:55: UserWarning: SymbolDatabase.GetPrototype() is deprecated. Please use message_factory.GetMessageClass() instead. SymbolDatabase.GetPrototype() will be removed soon.\n",
      "  warnings.warn('SymbolDatabase.GetPrototype() is deprecated. Please '\n"
     ]
    },
    {
     "name": "stdout",
     "output_type": "stream",
     "text": [
      "낙상 254\n",
      "낙상 255\n",
      "낙상 256\n",
      "낙상 257\n"
     ]
    },
    {
     "name": "stderr",
     "output_type": "stream",
     "text": [
      "C:\\Users\\un747\\anaconda3\\envs\\fall\\lib\\site-packages\\google\\protobuf\\symbol_database.py:55: UserWarning: SymbolDatabase.GetPrototype() is deprecated. Please use message_factory.GetMessageClass() instead. SymbolDatabase.GetPrototype() will be removed soon.\n",
      "  warnings.warn('SymbolDatabase.GetPrototype() is deprecated. Please '\n",
      "C:\\Users\\un747\\anaconda3\\envs\\fall\\lib\\site-packages\\google\\protobuf\\symbol_database.py:55: UserWarning: SymbolDatabase.GetPrototype() is deprecated. Please use message_factory.GetMessageClass() instead. SymbolDatabase.GetPrototype() will be removed soon.\n",
      "  warnings.warn('SymbolDatabase.GetPrototype() is deprecated. Please '\n"
     ]
    },
    {
     "name": "stdout",
     "output_type": "stream",
     "text": [
      "낙상 258\n",
      "낙상 259\n"
     ]
    },
    {
     "name": "stderr",
     "output_type": "stream",
     "text": [
      "C:\\Users\\un747\\anaconda3\\envs\\fall\\lib\\site-packages\\google\\protobuf\\symbol_database.py:55: UserWarning: SymbolDatabase.GetPrototype() is deprecated. Please use message_factory.GetMessageClass() instead. SymbolDatabase.GetPrototype() will be removed soon.\n",
      "  warnings.warn('SymbolDatabase.GetPrototype() is deprecated. Please '\n",
      "C:\\Users\\un747\\anaconda3\\envs\\fall\\lib\\site-packages\\google\\protobuf\\symbol_database.py:55: UserWarning: SymbolDatabase.GetPrototype() is deprecated. Please use message_factory.GetMessageClass() instead. SymbolDatabase.GetPrototype() will be removed soon.\n",
      "  warnings.warn('SymbolDatabase.GetPrototype() is deprecated. Please '\n",
      "C:\\Users\\un747\\anaconda3\\envs\\fall\\lib\\site-packages\\google\\protobuf\\symbol_database.py:55: UserWarning: SymbolDatabase.GetPrototype() is deprecated. Please use message_factory.GetMessageClass() instead. SymbolDatabase.GetPrototype() will be removed soon.\n",
      "  warnings.warn('SymbolDatabase.GetPrototype() is deprecated. Please '\n"
     ]
    },
    {
     "name": "stdout",
     "output_type": "stream",
     "text": [
      "낙상 260\n",
      "낙상 261\n",
      "낙상 262\n",
      "낙상 263\n",
      "✅ 영상 처리 완료! → output_result.mp4 저장됨\n"
     ]
    },
    {
     "name": "stderr",
     "output_type": "stream",
     "text": [
      "C:\\Users\\un747\\anaconda3\\envs\\fall\\lib\\site-packages\\google\\protobuf\\symbol_database.py:55: UserWarning: SymbolDatabase.GetPrototype() is deprecated. Please use message_factory.GetMessageClass() instead. SymbolDatabase.GetPrototype() will be removed soon.\n",
      "  warnings.warn('SymbolDatabase.GetPrototype() is deprecated. Please '\n",
      "C:\\Users\\un747\\anaconda3\\envs\\fall\\lib\\site-packages\\google\\protobuf\\symbol_database.py:55: UserWarning: SymbolDatabase.GetPrototype() is deprecated. Please use message_factory.GetMessageClass() instead. SymbolDatabase.GetPrototype() will be removed soon.\n",
      "  warnings.warn('SymbolDatabase.GetPrototype() is deprecated. Please '\n"
     ]
    }
   ],
   "source": [
    "mp_pose = mp.solutions.pose\n",
    "pose = mp_pose.Pose(static_image_mode=False, min_detection_confidence=0.5)\n",
    "WINDOW_SIZE = 30\n",
    "\n",
    "cap = cv2.VideoCapture(VIDEO_PATH)\n",
    "if not cap.isOpened():\n",
    "    raise RuntimeError(f\"❌ 영상 파일을 열 수 없습니다: {VIDEO_PATH}\")\n",
    "\n",
    "keypoints_buffer = []\n",
    "\n",
    "# ==============================\n",
    "# 5️⃣ 프레임 루프\n",
    "# ==============================\n",
    "frameN = 0\n",
    "while True:\n",
    "    ret, frame = cap.read()\n",
    "    if not ret:\n",
    "        break\n",
    "\n",
    "    image = cv2.cvtColor(frame, cv2.COLOR_BGR2RGB)\n",
    "    results = pose.process(image)\n",
    "\n",
    "    if results.pose_landmarks:\n",
    "        # 33개 포인트 * (x,y,z)\n",
    "        landmarks = results.pose_landmarks.landmark\n",
    "        keypoints = np.array([[lm.x, lm.y, lm.z, lm.visibility] for lm in landmarks]).flatten()\n",
    "        keypoints_buffer.append(keypoints)\n",
    "\n",
    "        if len(keypoints_buffer) >= WINDOW_SIZE:\n",
    "            # 최근 WINDOW_SIZE 프레임 사용\n",
    "            seq = np.stack(keypoints_buffer[-WINDOW_SIZE:], axis=0)  # (T, D)\n",
    "            seq_scaled = scaler.transform(seq) if scaler else seq\n",
    "            seq_scaled = np.expand_dims(seq_scaled, axis=0)  # (1, T, D)\n",
    "\n",
    "            # 추론\n",
    "            with torch.no_grad():\n",
    "                x = torch.tensor(seq_scaled, dtype=torch.float32).to(device)\n",
    "                logits = model(x)\n",
    "                probs = torch.softmax(logits, dim=1)[0]\n",
    "                pred = torch.argmax(probs).item()\n",
    "\n",
    "            # 예측 결과 표시\n",
    "            label_names = [\"walk\", \"run\", \"jump\", \"sit\", \"stand\"]  # 예시\n",
    "            action = label_names[pred]\n",
    "            cv2.putText(frame, f\"Action: {action}\", (20, 50),\n",
    "                        cv2.FONT_HERSHEY_SIMPLEX, 1.2, (0, 255, 0), 3, cv2.LINE_AA)\n",
    "            if pred == 1:\n",
    "                print(f\"낙상 {frameN}\")\n",
    "            else:\n",
    "                print(\"정상\")\n",
    "\n",
    "    #out.write(frame)\n",
    "    cv2.imshow(\"Action Recognition\", frame)\n",
    "\n",
    "    if cv2.waitKey(1) & 0xFF == ord('q'):\n",
    "        break\n",
    "\n",
    "    frameN += 1\n",
    "# ==============================\n",
    "# 6️⃣ 종료 및 저장\n",
    "# ==============================\n",
    "cap.release()\n",
    "#out.release()\n",
    "cv2.destroyAllWindows()\n",
    "print(\"✅ 영상 처리 완료! → output_result.mp4 저장됨\")"
   ]
  },
  {
   "cell_type": "code",
   "execution_count": null,
   "id": "c949fdd2-9f41-4428-8e64-88f2c5d6c746",
   "metadata": {},
   "outputs": [],
   "source": []
  }
 ],
 "metadata": {
  "kernelspec": {
   "display_name": "Python (fall)",
   "language": "python",
   "name": "fall"
  },
  "language_info": {
   "codemirror_mode": {
    "name": "ipython",
    "version": 3
   },
   "file_extension": ".py",
   "mimetype": "text/x-python",
   "name": "python",
   "nbconvert_exporter": "python",
   "pygments_lexer": "ipython3",
   "version": "3.10.18"
  }
 },
 "nbformat": 4,
 "nbformat_minor": 5
}
